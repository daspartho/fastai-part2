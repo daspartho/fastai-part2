{
  "nbformat": 4,
  "nbformat_minor": 0,
  "metadata": {
    "colab": {
      "provenance": [],
      "authorship_tag": "ABX9TyMbuBYxxzFuQDr5N1D2JLif",
      "include_colab_link": true
    },
    "kernelspec": {
      "name": "python3",
      "display_name": "Python 3"
    },
    "language_info": {
      "name": "python"
    }
  },
  "cells": [
    {
      "cell_type": "markdown",
      "metadata": {
        "id": "view-in-github",
        "colab_type": "text"
      },
      "source": [
        "<a href=\"https://colab.research.google.com/github/daspartho/fastai-part2/blob/main/meanshift.ipynb\" target=\"_parent\"><img src=\"https://colab.research.google.com/assets/colab-badge.svg\" alt=\"Open In Colab\"/></a>"
      ]
    },
    {
      "cell_type": "markdown",
      "source": [
        "### Create data"
      ],
      "metadata": {
        "id": "4Iadukcb_Ew4"
      }
    },
    {
      "cell_type": "code",
      "execution_count": 33,
      "metadata": {
        "id": "PF94H83YsnAd"
      },
      "outputs": [],
      "source": [
        "n_clusters = 5\n",
        "n_samples = 200"
      ]
    },
    {
      "cell_type": "code",
      "source": [
        "import torch\n",
        "torch.set_printoptions(precision=3, linewidth=140, sci_mode=False)"
      ],
      "metadata": {
        "id": "T3-VlcyaFvl1"
      },
      "execution_count": 34,
      "outputs": []
    },
    {
      "cell_type": "code",
      "source": [
        "torch.manual_seed(32)\n",
        "centroids = (torch.rand(n_clusters, 2)*50)-25 # between -25 and 25\n",
        "centroids"
      ],
      "metadata": {
        "colab": {
          "base_uri": "https://localhost:8080/"
        },
        "id": "9_97ULb-_V1E",
        "outputId": "a7fc46f9-b72f-4f01-d1fb-a3e4423f1753"
      },
      "execution_count": 35,
      "outputs": [
        {
          "output_type": "execute_result",
          "data": {
            "text/plain": [
              "tensor([[ 18.783, -11.397],\n",
              "        [ -4.297,  14.286],\n",
              "        [-19.352,   3.967],\n",
              "        [  7.404, -23.854],\n",
              "        [  4.371,  -8.731]])"
            ]
          },
          "metadata": {},
          "execution_count": 35
        }
      ]
    },
    {
      "cell_type": "code",
      "source": [
        "from torch.distributions.multivariate_normal import MultivariateNormal\n",
        "from torch import tensor"
      ],
      "metadata": {
        "id": "r0q-X7s8_ktC"
      },
      "execution_count": 36,
      "outputs": []
    },
    {
      "cell_type": "code",
      "source": [
        "covariance_matrix = torch.diag(tensor([5.,5.]))\n",
        "def sample(m):\n",
        "    return MultivariateNormal(m, covariance_matrix).sample((n_samples,))"
      ],
      "metadata": {
        "id": "X6b-5Cs2AEEG"
      },
      "execution_count": 37,
      "outputs": []
    },
    {
      "cell_type": "code",
      "source": [
        "slices = [sample(c) for c in centroids]\n",
        "data = torch.cat(slices)\n",
        "data, data.shape"
      ],
      "metadata": {
        "colab": {
          "base_uri": "https://localhost:8080/"
        },
        "id": "WPFiw74ZAmfR",
        "outputId": "26198259-b866-45cf-a0d5-604ae2f66fd5"
      },
      "execution_count": 38,
      "outputs": [
        {
          "output_type": "execute_result",
          "data": {
            "text/plain": [
              "(tensor([[ 17.684, -11.786],\n",
              "         [ 14.196,  -8.137],\n",
              "         [ 16.467, -11.253],\n",
              "         ...,\n",
              "         [  2.325,  -2.160],\n",
              "         [  4.205,  -7.543],\n",
              "         [  4.048,  -8.486]]), torch.Size([1000, 2]))"
            ]
          },
          "metadata": {},
          "execution_count": 38
        }
      ]
    },
    {
      "cell_type": "code",
      "source": [
        "import matplotlib.pyplot as plt"
      ],
      "metadata": {
        "id": "9YGJI6hCBrDI"
      },
      "execution_count": 39,
      "outputs": []
    },
    {
      "cell_type": "code",
      "source": [
        "def plot_data(centroids, data, n_samples, ax=None):\n",
        "    if ax is None:\n",
        "        _,ax = plt.subplots()\n",
        "    for i, centroid in enumerate(centroids):\n",
        "        samples = data[i*n_samples: (i+1)*n_samples]\n",
        "        ax.scatter(samples[:,0], samples[:,1],s=1)\n",
        "        ax.plot(*centroid, markersize=10, marker='x', color='k', mew=5)"
      ],
      "metadata": {
        "id": "1Zm4jEWRAyXB"
      },
      "execution_count": 40,
      "outputs": []
    },
    {
      "cell_type": "code",
      "source": [
        "plot_data(centroids, data, n_samples)"
      ],
      "metadata": {
        "colab": {
          "base_uri": "https://localhost:8080/",
          "height": 265
        },
        "id": "PGfSpw8nDX5q",
        "outputId": "e5eea2b0-e0f5-442b-eb22-6546ddf85203"
      },
      "execution_count": 41,
      "outputs": [
        {
          "output_type": "display_data",
          "data": {
            "text/plain": [
              "<Figure size 432x288 with 1 Axes>"
            ],
            "image/png": "[encoded data removed]"
          },
          "metadata": {
            "needs_background": "light"
          }
        }
      ]
    },
    {
      "cell_type": "markdown",
      "source": [
        "### Mean Shift"
      ],
      "metadata": {
        "id": "28qAnz4GIH88"
      }
    },
    {
      "cell_type": "code",
      "source": [
        "import math"
      ],
      "metadata": {
        "id": "CjPcq2iWRl2E"
      },
      "execution_count": 42,
      "outputs": []
    },
    {
      "cell_type": "code",
      "source": [
        "def gaussian(d, bw): \n",
        "    return torch.exp(-0.5*((d/bw))**2) / (bw*math.sqrt(2*math.pi))"
      ],
      "metadata": {
        "id": "TIkjneJ_RSdZ"
      },
      "execution_count": 43,
      "outputs": []
    },
    {
      "cell_type": "code",
      "source": [
        "def plot_func(f):\n",
        "    x = torch.linspace(0, 10, 100)\n",
        "    plt.plot(x, f(x))"
      ],
      "metadata": {
        "id": "t-NuRyhmRm_Y"
      },
      "execution_count": 44,
      "outputs": []
    },
    {
      "cell_type": "code",
      "source": [
        "from functools import partial"
      ],
      "metadata": {
        "id": "KSkpnyJdRvM3"
      },
      "execution_count": 45,
      "outputs": []
    },
    {
      "cell_type": "code",
      "source": [
        "plot_func(partial(gaussian, bw=2.5))"
      ],
      "metadata": {
        "colab": {
          "base_uri": "https://localhost:8080/",
          "height": 265
        },
        "id": "mMWbk0ivRy27",
        "outputId": "d2276f9d-ced5-4ec1-9009-aecf9154028e"
      },
      "execution_count": 46,
      "outputs": [
        {
          "output_type": "display_data",
          "data": {
            "text/plain": [
              "<Figure size 432x288 with 1 Axes>"
            ],
            "image/png": "[encoded data removed]"
          },
          "metadata": {
            "needs_background": "light"
          }
        }
      ]
    },
    {
      "cell_type": "code",
      "source": [
        "X= data.clone()\n",
        "x = X[0]\n",
        "x"
      ],
      "metadata": {
        "colab": {
          "base_uri": "https://localhost:8080/"
        },
        "id": "3Iq8w4nVR3A3",
        "outputId": "babe8820-a3b0-4b40-d804-46b45ecbbb78"
      },
      "execution_count": 47,
      "outputs": [
        {
          "output_type": "execute_result",
          "data": {
            "text/plain": [
              "tensor([ 17.684, -11.786])"
            ]
          },
          "metadata": {},
          "execution_count": 47
        }
      ]
    },
    {
      "cell_type": "code",
      "source": [
        "x-X"
      ],
      "metadata": {
        "colab": {
          "base_uri": "https://localhost:8080/"
        },
        "id": "KeeREqCLR96X",
        "outputId": "0178cc4a-24d5-453a-8d2b-791e8ebadfd2"
      },
      "execution_count": 48,
      "outputs": [
        {
          "output_type": "execute_result",
          "data": {
            "text/plain": [
              "tensor([[ 0.000,  0.000],\n",
              "        [ 3.489, -3.649],\n",
              "        [ 1.217, -0.532],\n",
              "        ...,\n",
              "        [15.359, -9.626],\n",
              "        [13.479, -4.243],\n",
              "        [13.636, -3.300]])"
            ]
          },
          "metadata": {},
          "execution_count": 48
        }
      ]
    },
    {
      "cell_type": "code",
      "source": [
        "dist = (((x-X)**2).sum(1))**0.5\n",
        "dist[:5], dist[-5:]"
      ],
      "metadata": {
        "colab": {
          "base_uri": "https://localhost:8080/"
        },
        "id": "fxMDhYsZSSgH",
        "outputId": "128c626c-4887-4fc2-ac71-06259a7dc7df"
      },
      "execution_count": 49,
      "outputs": [
        {
          "output_type": "execute_result",
          "data": {
            "text/plain": [
              "(tensor([0.000, 5.048, 1.328, 1.591, 4.820]),\n",
              " tensor([13.533,  9.440, 18.126, 14.131, 14.029]))"
            ]
          },
          "metadata": {},
          "execution_count": 49
        }
      ]
    },
    {
      "cell_type": "code",
      "source": [
        "weight = gaussian(dist, 2.5)\n",
        "weight[:5], weight[-5:]"
      ],
      "metadata": {
        "colab": {
          "base_uri": "https://localhost:8080/"
        },
        "id": "t7Mzg48VWJSI",
        "outputId": "9cdc4507-e5a8-4ea6-be66-3b2cc55cb216"
      },
      "execution_count": 50,
      "outputs": [
        {
          "output_type": "execute_result",
          "data": {
            "text/plain": [
              "(tensor([0.160, 0.021, 0.139, 0.130, 0.025]),\n",
              " tensor([    0.000,     0.000,     0.000,     0.000,     0.000]))"
            ]
          },
          "metadata": {},
          "execution_count": 50
        }
      ]
    },
    {
      "cell_type": "code",
      "source": [
        "weight.shape, X.shape, weight[:,None].shape"
      ],
      "metadata": {
        "colab": {
          "base_uri": "https://localhost:8080/"
        },
        "id": "xOFZHx2DWvAi",
        "outputId": "e10ca7d4-947e-4300-91e7-14f3da815fe9"
      },
      "execution_count": 51,
      "outputs": [
        {
          "output_type": "execute_result",
          "data": {
            "text/plain": [
              "(torch.Size([1000]), torch.Size([1000, 2]), torch.Size([1000, 1]))"
            ]
          },
          "metadata": {},
          "execution_count": 51
        }
      ]
    },
    {
      "cell_type": "code",
      "source": [
        "weight[:,None]*X"
      ],
      "metadata": {
        "colab": {
          "base_uri": "https://localhost:8080/"
        },
        "id": "BOS-OFF1XfTk",
        "outputId": "8da76b22-8b22-42e5-eb91-74d361d13cff"
      },
      "execution_count": 52,
      "outputs": [
        {
          "output_type": "execute_result",
          "data": {
            "text/plain": [
              "tensor([[     2.822,     -1.881],\n",
              "        [     0.295,     -0.169],\n",
              "        [     2.282,     -1.559],\n",
              "        ...,\n",
              "        [     0.000,     -0.000],\n",
              "        [     0.000,     -0.000],\n",
              "        [     0.000,     -0.000]])"
            ]
          },
          "metadata": {},
          "execution_count": 52
        }
      ]
    },
    {
      "cell_type": "code",
      "source": [
        "def one_update(X):\n",
        "    for i, x in enumerate(X):\n",
        "        dist = (((x-X)**2).sum(1))**0.5\n",
        "        weight = gaussian(dist, 2.5)\n",
        "        X[i] = (weight[:,None]*X).sum(0)/weight.sum()"
      ],
      "metadata": {
        "id": "yKo8b6c_XjXM"
      },
      "execution_count": 53,
      "outputs": []
    },
    {
      "cell_type": "code",
      "source": [
        "def meanshift(data):\n",
        "    X = data.clone()\n",
        "    for i in range(5):\n",
        "        one_update(X)\n",
        "    return X"
      ],
      "metadata": {
        "id": "3c9N18zhYTV5"
      },
      "execution_count": 54,
      "outputs": []
    },
    {
      "cell_type": "code",
      "source": [
        "%time X=meanshift(data)"
      ],
      "metadata": {
        "colab": {
          "base_uri": "https://localhost:8080/"
        },
        "id": "2EpXrV9zYtLu",
        "outputId": "52c3b87e-be53-4196-b699-9a3d6ceca4b6"
      },
      "execution_count": 55,
      "outputs": [
        {
          "output_type": "stream",
          "name": "stdout",
          "text": [
            "CPU times: user 734 ms, sys: 1.45 ms, total: 735 ms\n",
            "Wall time: 743 ms\n"
          ]
        }
      ]
    },
    {
      "cell_type": "code",
      "source": [
        "plot_data(centroids+2, X, n_samples)"
      ],
      "metadata": {
        "colab": {
          "base_uri": "https://localhost:8080/",
          "height": 265
        },
        "id": "UAAAZuabYuQV",
        "outputId": "e1bb5f88-bd92-42c9-baf9-30ed0e8f5a32"
      },
      "execution_count": 56,
      "outputs": [
        {
          "output_type": "display_data",
          "data": {
            "text/plain": [
              "<Figure size 432x288 with 1 Axes>"
            ],
            "image/png": "[encoded data removed]"
          },
          "metadata": {
            "needs_background": "light"
          }
        }
      ]
    },
    {
      "cell_type": "markdown",
      "source": [
        "### Animation"
      ],
      "metadata": {
        "id": "ePojI-h63oLH"
      }
    },
    {
      "cell_type": "code",
      "source": [
        "from matplotlib.animation import FuncAnimation\n",
        "from IPython.display import HTML"
      ],
      "metadata": {
        "id": "KvnqxXjc3rhs"
      },
      "execution_count": 57,
      "outputs": []
    },
    {
      "cell_type": "code",
      "source": [
        "def do_one(d):\n",
        "    if d:\n",
        "        one_update(X)\n",
        "    ax.clear()\n",
        "    plot_data(centroids,X, n_samples, ax=ax)"
      ],
      "metadata": {
        "id": "1DOKwGsR33Gy"
      },
      "execution_count": 58,
      "outputs": []
    },
    {
      "cell_type": "code",
      "source": [
        "X = data.clone()\n",
        "fig, ax = plt.subplots()\n",
        "ani = FuncAnimation(fig, do_one, frames=5, interval=1000, repeat=False)\n",
        "plt.close()\n",
        "HTML(ani.to_jshtml())"
      ],
      "metadata": {
        "id": "vz6pOTyk4ZZI",
        "outputId": "6875334a-7667-4451-b3fc-5809c64a318e",
        "colab": {
          "base_uri": "https://localhost:8080/",
          "height": 387
        }
      },
      "execution_count": 59,
      "outputs": [
        {
          "output_type": "execute_result",
          "data": {
            "text/plain": [
              "<IPython.core.display.HTML object>"
            ],
            "text/html": [
              "\n",
              "<link rel=\"stylesheet\"\n",
              "href=\"https://maxcdn.bootstrapcdn.com/font-awesome/4.4.0/\n",
              "css/font-awesome.min.css\">\n",
              "<script language=\"javascript\">\n",
              "  function isInternetExplorer() {\n",
              "    ua = navigator.userAgent;\n",
              "    /* MSIE used to detect old browsers and Trident used to newer ones*/\n",
              "    return ua.indexOf(\"MSIE \") > -1 || ua.indexOf(\"Trident/\") > -1;\n",
              "  }\n",
              "\n",
              "  /* Define the Animation class */\n",
              "  function Animation(frames, img_id, slider_id, interval, loop_select_id){\n",
              "    this.img_id = img_id;\n",
              "    this.slider_id = slider_id;\n",
              "    this.loop_select_id = loop_select_id;\n",
              "    this.interval = interval;\n",
              "    this.current_frame = 0;\n",
              "    this.direction = 0;\n",
              "    this.timer = null;\n",
              "    this.frames = new Array(frames.length);\n",
              "\n",
              "    for (var i=0; i<frames.length; i++)\n",
              "    {\n",
              "     this.frames[i] = new Image();\n",
              "     this.frames[i].src = frames[i];\n",
              "    }\n",
              "    var slider = document.getElementById(this.slider_id);\n",
              "    slider.max = this.frames.length - 1;\n",
              "    if (isInternetExplorer()) {\n",
              "        // switch from oninput to onchange because IE <= 11 does not conform\n",
              "        // with W3C specification. It ignores oninput and onchange behaves\n",
              "        // like oninput. In contrast, Mircosoft Edge behaves correctly.\n",
              "        slider.setAttribute('onchange', slider.getAttribute('oninput'));\n",
              "        slider.setAttribute('oninput', null);\n",
              "    }\n",
              "    this.set_frame(this.current_frame);\n",
              "  }\n",
              "\n",
              "  Animation.prototype.get_loop_state = function(){\n",
              "    var button_group = document[this.loop_select_id].state;\n",
              "    for (var i = 0; i < button_group.length; i++) {\n",
              "        var button = button_group[i];\n",
              "        if (button.checked) {\n",
              "            return button.value;\n",
              "        }\n",
              "    }\n",
              "    return undefined;\n",
              "  }\n",
              "\n",
              "  Animation.prototype.set_frame = function(frame){\n",
              "    this.current_frame = frame;\n",
              "    document.getElementById(this.img_id).src =\n",
              "            this.frames[this.current_frame].src;\n",
              "    document.getElementById(this.slider_id).value = this.current_frame;\n",
              "  }\n",
              "\n",
              "  Animation.prototype.next_frame = function()\n",
              "  {\n",
              "    this.set_frame(Math.min(this.frames.length - 1, this.current_frame + 1));\n",
              "  }\n",
              "\n",
              "  Animation.prototype.previous_frame = function()\n",
              "  {\n",
              "    this.set_frame(Math.max(0, this.current_frame - 1));\n",
              "  }\n",
              "\n",
              "  Animation.prototype.first_frame = function()\n",
              "  {\n",
              "    this.set_frame(0);\n",
              "  }\n",
              "\n",
              "  Animation.prototype.last_frame = function()\n",
              "  {\n",
              "    this.set_frame(this.frames.length - 1);\n",
              "  }\n",
              "\n",
              "  Animation.prototype.slower = function()\n",
              "  {\n",
              "    this.interval /= 0.7;\n",
              "    if(this.direction > 0){this.play_animation();}\n",
              "    else if(this.direction < 0){this.reverse_animation();}\n",
              "  }\n",
              "\n",
              "  Animation.prototype.faster = function()\n",
              "  {\n",
              "    this.interval *= 0.7;\n",
              "    if(this.direction > 0){this.play_animation();}\n",
              "    else if(this.direction < 0){this.reverse_animation();}\n",
              "  }\n",
              "\n",
              "  Animation.prototype.anim_step_forward = function()\n",
              "  {\n",
              "    this.current_frame += 1;\n",
              "    if(this.current_frame < this.frames.length){\n",
              "      this.set_frame(this.current_frame);\n",
              "    }else{\n",
              "      var loop_state = this.get_loop_state();\n",
              "      if(loop_state == \"loop\"){\n",
              "        this.first_frame();\n",
              "      }else if(loop_state == \"reflect\"){\n",
              "        this.last_frame();\n",
              "        this.reverse_animation();\n",
              "      }else{\n",
              "        this.pause_animation();\n",
              "        this.last_frame();\n",
              "      }\n",
              "    }\n",
              "  }\n",
              "\n",
              "  Animation.prototype.anim_step_reverse = function()\n",
              "  {\n",
              "    this.current_frame -= 1;\n",
              "    if(this.current_frame >= 0){\n",
              "      this.set_frame(this.current_frame);\n",
              "    }else{\n",
              "      var loop_state = this.get_loop_state();\n",
              "      if(loop_state == \"loop\"){\n",
              "        this.last_frame();\n",
              "      }else if(loop_state == \"reflect\"){\n",
              "        this.first_frame();\n",
              "        this.play_animation();\n",
              "      }else{\n",
              "        this.pause_animation();\n",
              "        this.first_frame();\n",
              "      }\n",
              "    }\n",
              "  }\n",
              "\n",
              "  Animation.prototype.pause_animation = function()\n",
              "  {\n",
              "    this.direction = 0;\n",
              "    if (this.timer){\n",
              "      clearInterval(this.timer);\n",
              "      this.timer = null;\n",
              "    }\n",
              "  }\n",
              "\n",
              "  Animation.prototype.play_animation = function()\n",
              "  {\n",
              "    this.pause_animation();\n",
              "    this.direction = 1;\n",
              "    var t = this;\n",
              "    if (!this.timer) this.timer = setInterval(function() {\n",
              "        t.anim_step_forward();\n",
              "    }, this.interval);\n",
              "  }\n",
              "\n",
              "  Animation.prototype.reverse_animation = function()\n",
              "  {\n",
              "    this.pause_animation();\n",
              "    this.direction = -1;\n",
              "    var t = this;\n",
              "    if (!this.timer) this.timer = setInterval(function() {\n",
              "        t.anim_step_reverse();\n",
              "    }, this.interval);\n",
              "  }\n",
              "</script>\n",
              "\n",
              "<style>\n",
              ".animation {\n",
              "    display: inline-block;\n",
              "    text-align: center;\n",
              "}\n",
              "input[type=range].anim-slider {\n",
              "    width: 374px;\n",
              "    margin-left: auto;\n",
              "    margin-right: auto;\n",
              "}\n",
              ".anim-buttons {\n",
              "    margin: 8px 0px;\n",
              "}\n",
              ".anim-buttons button {\n",
              "    padding: 0;\n",
              "    width: 36px;\n",
              "}\n",
              ".anim-state label {\n",
              "    margin-right: 8px;\n",
              "}\n",
              ".anim-state input {\n",
              "    margin: 0;\n",
              "    vertical-align: middle;\n",
              "}\n",
              "</style>\n",
              "\n",
              "<div class=\"animation\">\n",
              "  <img id=\"_anim_imge3ade01feedf434c824fcb06ef81312f\">\n",
              "  <div class=\"anim-controls\">\n",
              "    <input id=\"_anim_slidere3ade01feedf434c824fcb06ef81312f\" type=\"range\" class=\"anim-slider\"\n",
              "           name=\"points\" min=\"0\" max=\"1\" step=\"1\" value=\"0\"\n",
              "           oninput=\"anime3ade01feedf434c824fcb06ef81312f.set_frame(parseInt(this.value));\"></input>\n",
              "    <div class=\"anim-buttons\">\n",
              "      <button onclick=\"anime3ade01feedf434c824fcb06ef81312f.slower()\"><i class=\"fa fa-minus\"></i></button>\n",
              "      <button onclick=\"anime3ade01feedf434c824fcb06ef81312f.first_frame()\"><i class=\"fa fa-fast-backward\">\n",
              "          </i></button>\n",
              "      <button onclick=\"anime3ade01feedf434c824fcb06ef81312f.previous_frame()\">\n",
              "          <i class=\"fa fa-step-backward\"></i></button>\n",
              "      <button onclick=\"anime3ade01feedf434c824fcb06ef81312f.reverse_animation()\">\n",
              "          <i class=\"fa fa-play fa-flip-horizontal\"></i></button>\n",
              "      <button onclick=\"anime3ade01feedf434c824fcb06ef81312f.pause_animation()\"><i class=\"fa fa-pause\">\n",
              "          </i></button>\n",
              "      <button onclick=\"anime3ade01feedf434c824fcb06ef81312f.play_animation()\"><i class=\"fa fa-play\"></i>\n",
              "          </button>\n",
              "      <button onclick=\"anime3ade01feedf434c824fcb06ef81312f.next_frame()\"><i class=\"fa fa-step-forward\">\n",
              "          </i></button>\n",
              "      <button onclick=\"anime3ade01feedf434c824fcb06ef81312f.last_frame()\"><i class=\"fa fa-fast-forward\">\n",
              "          </i></button>\n",
              "      <button onclick=\"anime3ade01feedf434c824fcb06ef81312f.faster()\"><i class=\"fa fa-plus\"></i></button>\n",
              "    </div>\n",
              "    <form action=\"#n\" name=\"_anim_loop_selecte3ade01feedf434c824fcb06ef81312f\" class=\"anim-state\">\n",
              "      <input type=\"radio\" name=\"state\" value=\"once\" id=\"_anim_radio1_e3ade01feedf434c824fcb06ef81312f\"\n",
              "             checked>\n",
              "      <label for=\"_anim_radio1_e3ade01feedf434c824fcb06ef81312f\">Once</label>\n",
              "      <input type=\"radio\" name=\"state\" value=\"loop\" id=\"_anim_radio2_e3ade01feedf434c824fcb06ef81312f\"\n",
              "             >\n",
              "      <label for=\"_anim_radio2_e3ade01feedf434c824fcb06ef81312f\">Loop</label>\n",
              "      <input type=\"radio\" name=\"state\" value=\"reflect\" id=\"_anim_radio3_e3ade01feedf434c824fcb06ef81312f\"\n",
              "             >\n",
              "      <label for=\"_anim_radio3_e3ade01feedf434c824fcb06ef81312f\">Reflect</label>\n",
              "    </form>\n",
              "  </div>\n",
              "</div>\n",
              "\n",
              "\n",
              "<script language=\"javascript\">\n",
              "  /* Instantiate the Animation class. */\n",
              "  /* The IDs given should match those used in the template above. */\n",
              "  (function() {\n",
              "    var img_id = \"_anim_imge3ade01feedf434c824fcb06ef81312f\";\n",
              "    var slider_id = \"_anim_slidere3ade01feedf434c824fcb06ef81312f\";\n",
              "    var loop_select_id = \"_anim_loop_selecte3ade01feedf434c824fcb06ef81312f\";\n",
              "    var frames = new Array(5);\n",
              "    \n",
              "  frames[0] = \"data:image/png;base64,iVBORw0KGgoAAAANSUhEUgAAAbAAAAEgCAYAAADVKCZpAAAABHNCSVQICAgIfAhkiAAAAAlwSFlz\\\n",
              "AAALEgAACxIB0t1+/AAAADh0RVh0U29mdHdhcmUAbWF0cGxvdGxpYiB2ZXJzaW9uMy4yLjIsIGh0\\\n",
              "dHA6Ly9tYXRwbG90bGliLm9yZy+WH4yJAAAgAElEQVR4nO3de1xVVf4//heCKGAgdxFUQEBURFMk\\\n",
              "ZTTvztdLaPax0dHPWFqYOeZnKhvKLliZVpONM5mGldpl9JczpKaO5gXNa4hphqSiQiIgcjmAcNAj\\\n",
              "eH5/bPZmnysHBM7Zh9fz8ZgHeM4+e68zj8+H16y13mstB61WqwUREZHCtLN2A4iIiJqCAUZERIrE\\\n",
              "ACMiIkVigBERkSIxwIiISJEYYEREpEgMMCIiUiQGGBERKRIDjIiIFIkBRkREisQAIyIiRWKAERGR\\\n",
              "IjHAiIhIkRhgRESkSAwwIiJSJAYYEREpEgOMiIgUiQFGRESKxAAjIiJFYoAREZEiMcCIiEiRGGBE\\\n",
              "RKRIDDAiIlIkBhgRESkSA4yIiBSJAUZERIrEACMiIkVigBERkSIxwIiISJEYYEREpEgMMCIiUiQG\\\n",
              "GBERKRIDjIiIFIkBRkREiuRk7Qa0FB8fHwQHB1u7GUREipKTk4Pi4mJrN8MidhtgwcHBSE9Pt3Yz\\\n",
              "iIgUJSYmxtpNsBiHEImISJFsKsByc3MxatQo9OnTB3379sXq1asBAKWlpRg3bhzCw8Mxbtw4qFQq\\\n",
              "K7eUiIiszaYCzMnJCR988AEyMzNx8uRJrFmzBpmZmVi5ciXGjBmDrKwsjBkzBitXrrR2U4mIyMps\\\n",
              "KsACAgIwcOBAAMADDzyA3r17Iy8vD9u3b8ecOXMAAHPmzMG2bdus2UwiIrIBNhVgcjk5OThz5gwe\\\n",
              "eughFBYWIiAgAADQpUsXFBYWWrl1RERkbTZZhVhZWYnHHnsMf//73+Hu7q7znoODAxwcHIx+Ljk5\\\n",
              "GcnJyQCAoqKiFm8nERFZj831wO7evYvHHnsMs2bNwrRp0wAA/v7+KCgoAAAUFBTAz8/P6GcTEhKQ\\\n",
              "np6O9PR0+Pr6tlqbyQ5VlQDHVgs/icgm2VSAabVazJs3D71798bzzz8vvR4fH49NmzYBADZt2oQp\\\n",
              "U6ZYq4nUVpz9Ctj3uvCTiGySTQ0hHjt2DF9++SX69euHAQMGAADeeecdJCYm4vHHH8dnn32GHj16\\\n",
              "4JtvvrFyS8nuDZit+5OIbI5NBdiwYcOg1WqNvnfgwIFWbg21aW7ewO8WW7sVRGSGTQ0hEjWZpXNW\\\n",
              "nNsishsMMLIPls5ZKXVui8FLZMCmhhCJmszSOSulzm2JwQtwaJOoDgOM2pbGzG1VlQjBMWC28Lnm\\\n",
              "vr4xlBq8RC2IAUb2wVQPRR4q4nWWBox4T01V3QsOQGyC4WfFZ2iqgMPvGrahObCohMgAA4zsg6ke\\\n",
              "ijzYNGrg8Erh56iXDe+h34MS7yV+DgCcXYXX5deJzxiRCIx7k70kolbCACP7YKqHIg+2tE/qXjSy\\\n",
              "VKOqBNj2DJD1vfDv3y2uD7G0ZCBuEdDerT685L09+TNM9c5aYliRqI1jgJF9kwdb7HzA2c14D+ns\\\n",
              "V0J4hY4UelxVJfW9q8MrgfDxwNR19aGmqdK9ztTwnrniC2PhxsAjshgDjOyPfgjI/20qRCImCv/W\\\n",
              "VAmBlfsj0C0WiJoO5BwVwu3sV/U9M2e3+mAShxWN9b40VcLQ4oDZhu0yFm6sNiSyGAOM7I9+CJgL\\\n",
              "Bf33qkqE8LqaKvzH2Q0YPB/I+wnw7Vv/uQGzhR5Y7kng6iHj9077RCjqGPFXIbCOrTY99Kh/X01V\\\n",
              "fe+OiIxigJH90Q8GcyXoEROFHla3OCFgBswGug0RQil0pPDvDb8H1MXA94lARHr9Z/N/Eq4LHy/c\\\n",
              "R/y8FDoOuj/122Fs6NHNW+jR7XsdyD9TP2xJRAYYYGR/9IPB3BzVpd31hRtZ3wthNv4dlFRr4T1i\\\n",
              "vvDZ+LXAjgXA+JUo2f0OvAdPB75/RbjeJxwY/45wH/1eXtT/CCEX9T8Nt0NuwOz6YcttzzDEiEzg\\\n",
              "VlJkH8xttWTsvaoSIPUdoKpYmKMa/pIQRlnfI+mvixD91D9xaccqoCgLyD0OPLkXl06nInrGq0ia\\\n",
              "P6U+vIqzgIytwrBf3HP1Q39VJfUhl/Hvxm0D5eYthGJdexS37RVRK2EPjOyDfC7L1DotQLdYQlx0\\\n",
              "HLdICKniLCSdC8Syb/cCAEbNX4HUV08iQp2OS9duYtQLnyP/lhbLvv0V6Px7JM19CzjyHqCpBk78\\\n",
              "QxhKzPpemDcDhN/DxwPQNr4w49JuIRzDx3NdGZEJDDCyfZaUlsvnl/QDS5znipgo3CvtE0BdCnRw\\\n",
              "B+5UANd+BHqOQlJ2DJZ9e1C6Zf4tLUa9dwrJL0xFwqKPkF9SIb23bMNe4K4aST1/Bnx7CQuYu8UJ\\\n",
              "b3aLA67sE3p2sQnCa6bK900xt7aMiAAwwEgJGiotN7WDhvhTnOfq+qBQGCHOeYkc26Pkvyuwfrej\\\n",
              "wa3zS25h8itfGm3W+p2nsOhpJ3i3dxPadWy17nzauDfrw8fU9lamwolbRxE1iAFGtk8MIqOVfqgP\\\n",
              "uJyjuouNxZAQFx7npgml8aEjAf9owEEr7K4R9T/wjtiN1D8OwahJ05Cfn99gk7r6eCD1u2/gXfur\\\n",
              "YWBGTASCh5nucXGtF1GzYICR7RN7I/rrqETyqr20T4ThOnFjXU1V/ZzU1VTdHTWKsoRCi55jAQAR\\\n",
              "4WFITU3FqJEjkF9ww2RzugZ0QerubYioOlkfUmKwiu3yNRNM3FmeqFkwwEg5TP3hF6v2ajVCkP12\\\n",
              "DBj6nBBWmmohyEJH1s9Jibtz/H8zhUIJVbbw80oqIrr0Q/KMHpj8oekAS/7LI0J4SZsEy8Jy1CvC\\\n",
              "a+Z2wdcfHuT2UURNwgAj29DUeSHpKBN1/Y4Y4eMBZ5f6eS+xOtDRWSjeOPsVUHZNCK0O7kD7TkBg\\\n",
              "LHA1FZdO7UfCJrXZpias2o7UcfMQIe48n5Zc945D/UXyYULA/JAhhxSJmoQBRrbB2DxWYz434q9C\\\n",
              "DwtaYdNeoL7yT10q9LLkBRadg4Xf71QABWeADh64VFKLUZvUyL9lZLd6mfwbNzFq0jSkpqYiws1b\\\n",
              "6NWJ+yHq762ov02UMRxSJGoSBhjZBvk8lrhprqWfE3/qh55YyKFR16+pGv+OUGBRlgucWg90HQjc\\\n",
              "LkPJ9csWhZcoPz8fo34Xi3OnT8G7e3h9e/Xn6cz1LM1tMkxEDeJOHGQb3LyFnldjD4SUVxzq73SR\\\n",
              "9okQJnerhPtOXQf41oXNyJeF1x5NBvo9Du+H5+PpUaEGt+/q44GdX3+Crj4eBu893bca3rm7dV8c\\\n",
              "MFv3O4g9RPluGuLOIGnJhu8RkcUYYGQ7xDmuxhYyiCGx7Rm9EKubkxLXaRk7c+vSbuH4FM9uSNp+\\\n",
              "GW+88Yb06a7eDyB1Rg0mafch9btvdELsjT+NRtIbb9SX9ovP1f8O8kCTgqsuWKEV3pPfw9yWWESk\\\n",
              "g0OIpFzy+SZjw4/yuSn59Rq1EFqAwfxTUlISoFFj/fpkpH73DSKurAeyvkdEyWWkzqjBqM3ueHpS\\\n",
              "DJJC0gGMqd/EV6MWnhUxUXjNWMWhOLw4IrE+1PSPWQFY0EFkIQYYKZe8em/qOt2ydaA+PKpKgNQV\\\n",
              "9Wd3jfirboDoBUXSpEAsqqkVFilPXQf8Zy5w9RAivB1x7tNF8PZwAw6nA3Cof56mqr4IRdzVXixG\\\n",
              "MVbYIe9lmjoXjIjMYoCRcjS0ZZQpZ7+q73GFjxeqFI0NJ8qG/bzF+7p5y84HGwXvcX8RrpGfwiyG\\\n",
              "pLNbfUjJe4MNlcnrhyh7XkQWYYCRcugHgbHhOfE9OfGUY3mJvbhzhrFw0Q8U+VCk2KPSJ//M1HXC\\\n",
              "PJdGLVzLMnmiFsEAI9sm7yGZCwL99/R7VqNerr9WDLu6wytN3lOkH2j6oaf/LDdvoTe273Uh+H63\\\n",
              "mDtvELUAViGSbZOXoZurUtR/z1j5umjA7PrdOcSCC7EM31QVoPz1bnHCYZO+fXWrCuXP0i+nN/Wd\\\n",
              "TGE1IlGD2AMj29bU4Tf554z1kORFH5Zs+yS/JueosDD6+0Thp7yqUGTuOBRLvhO3lyJqEAOMbFtT\\\n",
              "z8VqaH5M/r4lVYDya8RCjeEvCSc5N3Yo0JLvxHkzogY5aLVay/bOaSVz587Fzp074efnh4yMDABA\\\n",
              "aWkp/vCHPyAnJwfBwcH45ptv4OnpafY+MTExSE9Pb40mky2rKqnbbFerW33Y2m3gnBcphJL+dtrc\\\n",
              "HNgTTzyBPXv26Ly2cuVKjBkzBllZWRgzZgxWrlxppdaR4ogl9M5u5sOjJeecLJnzIqJGs7kAe/jh\\\n",
              "h+Hl5aXz2vbt2zFnzhwAwJw5c7Bt2zZrNI1slbnwMVdMIScPmeYOM0vbQESNYnMBZkxhYSECAgIA\\\n",
              "AF26dEFhYaGVW0Q2xVwPx1TlojykqkqEnTRGJOoWdTRXlWBT93gkIrMUV8Th4OAABwcHo+8lJycj\\\n",
              "OVk4XLCoqKg1m9UsVLdV2HZ5G6aGTYVnR/NzfG2epevDTNGvPDz8rtBLMrbDh7E5LFYJElmdIgLM\\\n",
              "398fBQUFCAgIQEFBAfz8/Ixel5CQgISEBADCRKTSbLu8DatOrwIAPBn1pJVbY+P0A6SxISKGU8RE\\\n",
              "IOPfwv6I4mtiiInFH3Co34rKXOUiEbUqRQwhxsfHY9OmTQCATZs2YcqUKVZuUcuYGjYVzw96HlPD\\\n",
              "plq7KbbvfueVxGE98TgV/SIPsfjj8LuQjj0xts6Lw4JEVmNzZfQzZ87EoUOHUFxcDH9/fyxbtgxT\\\n",
              "p07F448/jmvXrqFHjx745ptvDAo99Nl6Kag9Dhcq5jvJhwQB4yXupsrvWRJPds7W/3bK2dwQ4ubN\\\n",
              "m42+fuDAgVZuScuyx+FCxXwnS4Yf9fdPNPVZIrIamwuwtkIcJrSn4ULFfKf7mb/i3BeRzbC5IcTm\\\n",
              "oqRuMBGRrVDS305FFHG0JtVtFTZkbIDqtsraTbkv9vI9iIhMYYDpEedxtl22zm4fzRU8+t+DgUZE\\\n",
              "9oZzYHpaah7H0gq95iqE0P8ejbmvYqoJiahNY4Dp8ezo2SIVdJYGiCUBKgbMyG4jcSj3kNGg0f8e\\\n",
              "U8OmorqmGtU11VDdVrVKiBIRtSQGWCuxNEAsCVAxYL7N+hbZFdkAhKAx13Py7OgJFycXrDq9Ci5O\\\n",
              "LvcdokRE1sY5sBYmzj0BgIuTC9b+vPa+59emhk3F8MDhyK7IRoh7CEZ2GwnA/Pyd6rYK1TXVWNB/\\\n",
              "QYPBJIYohw/NaMnjV4jIIgywFiaGyuYLm00GiOq2Ch+f/Rgfn/3YoiILz46eWD5suRRih3IPNRhQ\\\n",
              "2y5vw9qf18LFyQWeHT1Z1HG/eMYXkdVxCLGFiWFSXVONtT+vxfODnjfo2Wy+sBlrf14LAA0O74nE\\\n",
              "EBOHDMWAMnZ/eTv0izpO3TiF5cOWs7fVWFzQTGR1DLAWJg7HZZdnI6M4QxruM2ZIwJAGh/f057nE\\\n",
              "sNMPKNVtFTZfELblmhAyQafYQ+ytDekyBEfyjmDb5W0s1mgscTNfIrIaBlgrOZR7CEfyjmBwl8EI\\\n",
              "8QjReW9m5Ey4OLnoBIwYPjMjZ+r0jsSe0/G843jQ/0HMjJwpvS6G14aMDVKPDwDO3DyDkwUnUV1T\\\n",
              "jWcHPCv11hb0X4C4wDgWaxCRIjHAWpi85B0wXtmnX3koBgygO6Souq1CUXERhgQMwcmCkzh54yQy\\\n",
              "ijMQ5ROFfx77p/T5VadXYUjAEDzR9wkAwC/Fv+g8T95b49AhESkVA6yFifNbYu9Hn7HSd7HkXvxd\\\n",
              "vG58wnic/e4sXtn4Chb0X4AzN8/gSN4R+Fb54sabN3Dh6QtIfDURp26cwpG8I4jrGgcAOF14GsMD\\\n",
              "h0u9NXlgctEyESkVA8zK9ANODBRx6FCsFvz3R/9G+pfCBpvrF6zH9r3bAT+ga3VXrF+wHmU3y/De\\\n",
              "8vfg4uSC5YnLsfnCZpTeLgUALOi/wGAoUtTYRcsMPCKyFQywFiaf37Lkj79+oHye8TnefftdFG0v\\\n",
              "kq4pKCjA+LHj4fFHD5T/qxxlN8uk95YtW4bqmmrcGnkLR/KOAIDJykRAd4F1dnm2yZ09ACG8lh5d\\\n",
              "Kt2XhR9EZE0MsBYmH67bkLHBoLcjDusBQHZ5tsFarrM5Z6E6bLhWq+xmGcr+XmbwOgB8kvwJAgIC\\\n",
              "8FDoQ+jn209n9w9j21ABwNqf10rFHvL2yW27vA1H8o5geOBwFn4QkdUxwFqYPDCMLTQWezryAJH3\\\n",
              "mN4c9yZqP6zF/pf3o+hGkdFnyAUEBODptU8jpSwF7R3bS/cGIFUgiuu/juQdwakbp9Czc08AwN17\\\n",
              "d83u1MHiDyKyJQywFpJdno13fnwHd+/dxenC01JgiOEkL5UXCzYCXAMQ4h6C8M7h2JCxAQP9BuKT\\\n",
              "c59g+aPLkRSXhIeGP6QzXKjPw9cDX373JS46XsSQjkKl4oWSCzrXiCEkVkUeyTuCKJ8oDA8cjiN5\\\n",
              "RzAiaMR97dNIRNRaeCJzM5LPccnnioYHDseSwUt05pc+Pvux1DNa0H8BXJxccDz/OE4WnESIewiy\\\n",
              "K7LR/YHuuHbrGmL8Y/Bw0MO4l3kPT/3hKZPP7/F/PTBx0kQcyTuCBf0XYE/2Hmm/xE0TNhkEk7y9\\\n",
              "AAzm51iwQdT2KOlEZvbAmpG8AGPJ4CW4e+8uIr0iMTdqLjw7ehosYAaA7p26Y0LIBIR4hGCg30AU\\\n",
              "VhXipcEvIassC9ll2bh26xru1t7Fil0rcPODm2afr/pahcdmP4bBXQZjathUTAiZgPdPvY/50fON\\\n",
              "BhUg9P42X9iMmZEzpR3tN2RskLanaux2Uww9ImotDLBmpD9HtH78epPXzoyciYziDBzJO4JDuYcQ\\\n",
              "4hGCn27+hOyKbGSVZeHJqCfx8dmPAQBBt4Owa9UulBeVm31+RVEFZj0yC4uTFwNhQIhHCJYPWy71\\\n",
              "Bk/dOIUonyip5wfAYMG0vKx/ZuRMaejT0u2meJYYEbUWBlgz8uzoKfVcGuqB6G/GCxjuZzgzciZq\\\n",
              "K2ux4vEVZue+5AoLCvH6/76OTt91wqJhi6TKQc8OnjiSdwR3a+sLNcrulOF4/nEEuwdLlYr6bVwy\\\n",
              "eAkAmN3DUY5niRFRa+FxKk1k6jgS+ZlcDR1ZIj93y9jQm2dHTywatggJCQkGn3X3dcfEtyfCqbPh\\\n",
              "/waZOHMiZscIu6SLZ4ep7qgQ6BaIkzdOSs9KyUrByYKTyCnPkc4pmxk5E88Pel4q7xf3cDyUe8ii\\\n",
              "/154lhgRtRb2wJpIDKrqmmqdjXjlPZDGDKeZu3Zx4mKcuXkGO9buAAA4dXbCgrUL4NvDFx38O2BP\\\n",
              "4h5UlwiVjC8tfQmRMyKlz8p7URWaCuRV5eF4/nFcu3UNQwKGAAAivSOlTX31Kw0tPUmaiKi1McCa\\\n",
              "SF4EIQ8eMQAacwKy/NqR3UZKRRRiz2zp0aW4+tBVxCMep7adwtNrn0a+Sz52nd+F4cHDEbQkCNfe\\\n",
              "vYbIiZHwm+qHVadXYUPGBvxz9D/R36+/1It6ou8TcHd2x/zo+fjp5k86i5nNlc4DumvJiIhsAQOs\\\n",
              "ieRBJfbA5Bo6YNLUtYdyD+lU/olzWEMChuDBhAexaukq/KD6ASmnUzAkYAh6du4JdX81HN9yRG2n\\\n",
              "WmQUZ8DF0QWqOyq8duw17Hh0h87ar0O5h9DdvTv6+/UHAKOVkfeDVYhE1FoYYPfJ1OLexgy9jew2\\\n",
              "EqdunMLIbiPRuUNnnco//ROdXQa5GLw2JGAInDo5ofsD3RHlE4X0wnR4dvDEW797S6eNH6R/gI3n\\\n",
              "N6L0dileiHnB4u8o38+xIaxCJKLWwgBrIZ4dPeHi5IJVp1fpnOlljPywyyejntSpTjTW0xPn2jZf\\\n",
              "2IwF/RdIJy4P9BuID3/6EDH+MXh96OsGvasLpRd0fjbmu1gaRqxCJKLWwgBrQZb+Mde/ztR5XfKF\\\n",
              "xmLvSzzn68moJ/Hs/mdxuvA0AEhry+ReeegVvH/qfamooyVwuykiai0so29BlpaUy9ePmSvLl/8b\\\n",
              "gLR/ofjeksFLpJOYxWIQ8X6q2yocyj2E5cOWN/u8FxGRNbAHZgOMnbMl38UegHSeWOntUsT4x0B1\\\n",
              "W4WenXsiyidK6rmFeIRIu3+Iey2KB2U2ZW6KBRlEZMsUE2B79uzB4sWLUVtbi6eeegqJiYnWblKz\\\n",
              "kIeX/JwtY4GzIWMDNp7fCABILxQ222yoyvFM4RmobquaNDfFggwismWKCLDa2losXLgQ+/btQ1BQ\\\n",
              "EAYPHoz4+Hj06dPH2k27b/JDIuUb5hoLHHll4+2a28ipyMHIbiON9pTkey2K+xg2NoRYkEFEtkwR\\\n",
              "AZaWloawsDCEhoYCAGbMmIHt27fbRYCZOiTSWDGEZ0dPaSHxhowN2HJxi7TFk35Pydhei43Fggwi\\\n",
              "smWKCLC8vDx069ZN+ndQUBB+/PFHK7ao+TQ1JEz10Ezdm/NZRGRvFBFglkpOTkZycjIAoKioyMqt\\\n",
              "ETRncMhPcRZL50X3s9ciEZESKSLAAgMDkZubK/37+vXrCAwMNLguISFB2rk9Jiam1dpnTnMGh7jl\\\n",
              "FIAGF0fr43wWEdkbRQTY4MGDkZWVhezsbAQGBmLLli3417/+Ze1mWcRccDS2dyYWcZi6nzmczyIi\\\n",
              "e6OIAHNycsJHH32E3//+96itrcXcuXPRt29fazfLIuaCo7G9M3kRBxFRW6eIAAOAiRMnYuLEidZu\\\n",
              "RrPisB4RUdMpJsDsEYf1iIiajnsh2iFxw1/9fRWJiOwJA8wO6W8ATParulKDn77/DdWVGms3hajV\\\n",
              "cQjRDnFure349XgBTqRcAQAMHN/Dyq0hal0MMDvEubW2o3dcgM5PoraEAUakYC6dnNnzojaLc2BE\\\n",
              "ZDHOuZEtYYARkcXEObdfjxdYuylEHEIkIstxzo1sCQOMiCzGOTeyJRxCJCIiRWKAEVkZCyOImoYB\\\n",
              "RmRlzV0Y0ZKByLAlW8I5MCIra+7CiJbcnaOx966u1ODX4wXoHRcAl07OzdoWIgYYkZVZUhjRmCBo\\\n",
              "yUrBxt7bnre6Kq3SYGt6LqbHdIOXG8PZGjiESKQAYhDs35jZ4PCdGIhi0DXnsJ/83pbct3dcAIZO\\\n",
              "64mQ/j6KH3osrdLgk8NXUFolfIet6blY8d8L2Jqea+WWtV3sgREpQO+4AORdUuFaRil+PV7QqOG7\\\n",
              "u3dqkb4rB4D5XlB1pQbnUq/DAUC/UUE6PT1jPUBLeldi4P30/W+K74mJgQUA80f0xPSYbgAg/aTW\\\n",
              "xwAjskH6geHSyRljn+gjvWYJMWAGTwrG0Gk9pc+ZGo789XiBFHROHRx1gsZYWDVmONEeFkDrB5aX\\\n",
              "mzPmj+hpzSa1eQwwIhtkLDDE3ow4dCeGwa/HCxDS3wfZPxfrhJI8NMQhv7TvrqLgSjmuX1BJ74lh\\\n",
              "1jsuAHfv1MIBkIb8xM8aC6DGLGq2hwXQDCzbwwAjskHmeizycAOAEylXpOFFwDDw5J87VdfD6h7l\\\n",
              "hd5xAfgl9TpO7cpBbmYpHp4ZgfYdHKVQkweoPQQQ2R8GGJENMhcYIf19kHdJhZD+Pujo1l56LTui\\\n",
              "2GjgiUOGAWEeCIr0hHe3Thj0eyGUtHXXXL+gwuHNF5F3oczgGUS2ilWIRAqT/XMxrmWU4ujWLABC\\\n",
              "D8nT302n8lBO7E2l787B9QsquD7gLF0XPSoIQZGeAADfbg9Ic2XiM7J/LjbZDnEoU1VYpfgKQ1Im\\\n",
              "9sCIFMZcRaKxAg2xVybvpcmvG/9UX5OfMVd0IQajseFL4jqx1sAAI7IyMUyMFWIY49LJGcOmh+Mo\\\n",
              "sgyG+MQ5rZo7tYh9JFS6vsegTvD0dkPHuPY6pfVlFSqM/p8BBsEjLxg59p8sFOXewoiZveDp7yZd\\\n",
              "YywYrcUWwkK/Dfpl99T8OIRIZGViT+bo1iydPRHNLRQWh/gupRXqXCPOaWll1yYlJaFfv2hsXXcA\\\n",
              "3396HidSrsABQNdYB8x+bhKSkpLMtu3svlzkXSiThizFdgEND1+2FmstKpYvbt50PBsr/nsBm45n\\\n",
              "AxDK7V+eEMl1Yi2IPTAiKzPVk5FXAsrL3eVl7TV3anEi5Qpq7tTCqYMjImL9pUpCQAivZcuWAQCe\\\n",
              "fuEPeO6RD9CrVwQ0rqWY/9JMFJUUYtmyZSi4UoaVf1tutBS/+pYGRbm3MGx6uE678i6pMPaJPgbB\\\n",
              "ZY39D1trUbG5XhbgoPOzMWX3ttCDVCIGGJGVySsOPccLQ3TVlRrcvVOLwZOCzZa1V1dq4NTBEXfr\\\n",
              "gkweKktfeQ3vrHhbek65ugRr9izB4+X/h0UffgjVrfoCjeSvVqOi5DaGdX8cNXdqoQWkHTl+91i4\\\n",
              "zi4d4bH+ZncFscb+h/e7RsvSAGloNw5XZ8cmhSiHG5uGAUZkQ/S3f+oe5YV+MF5UIe/pAEDBlTJc\\\n",
              "yyjFudTrCIvzwPpP1hvcv7S8COv2LDX67P0/fou5s56GFjDYkeNc6nXptcLfKjBserjJeS95Cb41\\\n",
              "d6NvTK/G0gBpaDcO+e+Neb54v7F9/PHJ4SvsiVmIc2BENkTsvThAWGws9nL0N+iVX7t/YyYAoQwe\\\n",
              "AGo0tfD29sbHy7+Gh6u3Rc/1fMAHC8a9B9eO7gCAAeO6IWpEIHLOFePof7JQo6kFAHj4ukjl9abm\\\n",
              "veRl/r+kXm/Ws84aw5J5MXEOa2wff4vmq8TAsiRcjD1ff0Ng/fvuOJtfN4+W0+D9iT0wolZnrupQ\\\n",
              "3tPqBxjsfWhuKK+9syMAoDi3EtWVGkyaPRwr8z9D4gfzUK4uMdmezp188OeJf4N/524oyr2FvAtl\\\n",
              "GDqtJ65llqDgcjkKLpeja7gHYiYFIyLWX2qzfg9QviWV2C6/Hu46+zC2JkvmxcSQOXm1BB88PsBs\\\n",
              "MOn3qBrqYRl7/qbjOVh9IAtqTS3+Mi7CyFOMleGQKQwwolZmbv2U/g4c4u9iWNTIdpYHAP8e7vDr\\\n",
              "4Y6Q/j64lFaIoEhPXL+gkuam5rw0AWW3l+Pl958x2Z533/wQvvd6455Wi4fiQ1HQpxy94wJwq+S2\\\n",
              "tDNHflY5/ILd4elfX4pfc6dW2poKgM68l3zjYWtVJ1oyLzY9phtOXi1B6sUibE3PNbheHlL6w4yb\\\n",
              "jmdj9YHLUGtq8JdxvYx+xvD55gNqTlwIXJ2djIYuCz0M2cwQ4tatW9G3b1+0a9cO6enpOu+tWLEC\\\n",
              "YWFh6NWrF/bu3WulFhI1D9B7olkAACAASURBVPGMrGHTwy3unYihpwUQMykYgycFQwvg1K4c3Pyt\\\n",
              "ApfSCpG+Kwddenro3DM3PwerPn/D7L1fXf4i4FmBG5crcO18qfR6x07CNlXOrvU9OwA4VzcsmHux\\\n",
              "VCoyEb+T+FxjQ562QhzGu1JUia3puXh1ch+Tw4fyYUDDsngHvZ+Gn5E/88N9F1F99x4WjwlD/IBA\\\n",
              "s0OJxgKK548ZspkeWFRUFFJSUjB//nyd1zMzM7FlyxacP38e+fn5GDt2LC5dugRHR0crtZTo/hir\\\n",
              "OmyIWBgREesvLSaurtTgxpVyXMsohVeAG4ZO64mAMA+k785BQJgHdn51BAuXzkJRaaHZexeVFGL+\\\n",
              "kplYs/xr1GiEHl7NnVpEjwpC+w6O0j2HTQ+XngkANy5XICTaVwop/d6iNXtf5siHDVMvFgEwXrhR\\\n",
              "WqWBWlOLxWPCjIbbnLhgqepQXAcGOGBEhC9G9fLF2D7+Os9cfeAyAODlCZHYcTbPaO/NHJ4/Zshm\\\n",
              "Aqx3795GX9++fTtmzJiBDh06ICQkBGFhYUhLS8PQoUNbuYVE1iPtTRhRrBN62rqhKCdnoVrwu4/O\\\n",
              "4lpGKfJ+u4HEj2ebnfuSKyotxMKls/DVP3bV3Vc3aB/58wBUV2qwf2Mmrl9QoWu4BxwcHYxu9muu\\\n",
              "jL61ws3ccJu84m9IaKHJQBBCJwsvT4iEl5szPjl8xaBSUa2plRYuiwF1+jcVjl4uxpDQQvQc0Ul6\\\n",
              "plpTA8AB02O6yYo0dHtvxtpufkiybbOZADMlLy8PQ4YMkf4dFBSEvLw8K7aIqPXpl9GLYZJ3oQzd\\\n",
              "o7wQPSoI1ZUaeAW4oeZOLTy7umHapJnYsPUjnfv4evtj3bp1+PNzC1FQkK/z3uQx0zF8Sj/4+Boe\\\n",
              "mik+71pGKbpHecGvhzvSd+Ug++dig16kpUfBtOQaMXNl8fK5MTFgRPKw0O/xjO3jj5NXS6Se1db0\\\n",
              "XKzaeRqOLu5YPCYcD4V44cfsUoT6uOFBP931YF5uzjo9LXnvTf+5+m3nGjHTWjXAxo4dixs3bhi8\\\n",
              "vnz5ckyZMuW+75+cnIzk5GQAQFFR0X3fj8hW/Xq8ANcySuHu2xHu3i5SZeLZfbnoHuWF84fz8een\\\n",
              "XkT3Pt7SThxeHr54Zuy7CHZ/EP94/Qs89cIfpB7ahEF/wvz//YvJY1x+Sb2OaxmlCIr0xNgn+gCA\\\n",
              "zo4fcuaOgrFkk+DmKFZo6nCbfliIgVFapcHbOzORerFI6lmd3/kZSr5Yj2fe/QJz4oJRranBj9ml\\\n",
              "qLx5DZ8texq3nn5aZ5su/e81f0RPXCmqxHObz0BTU4u0HJXRtnPo0LRWDbD9+/c3+jOBgYHIza2f\\\n",
              "tLx+/ToCAwONXpuQkICEhAQAQExMTNMaSWSD9Hsu8lL1jMPCiIRY3HFLVQ0PXxd4dXVDfNyTqH5B\\\n",
              "gw0bP8euHXvgWOkpnbz83CMfYN2+v+Lp+U/jsZFPmQ0VsWauS08PgzkvQOih/ZJ6HVoIR7SI1+gP\\\n",
              "GVpyMGZz9DgsqUA0FpT6vSzxGrWmBqkXizCqly+mx3TDX195Df/82woAwGevPIHOrl/DySsQd0vz\\\n",
              "8Nmnr6Gi5CaWLVuGak0t3n3nLaPfq7RKg4Qv0nGlqAoApHkz/TbxJGjTbH4IMT4+Hn/84x/x/PPP\\\n",
              "Iz8/H1lZWYiNjbV2s4halX7PxaWTM8Y+0QfnUq+jRlMLJ2dHRI8Kwq/HC3DhuFC0cWxrFsoKqxHt\\\n",
              "/whOHHkGXbt1kRYUCwUaI5Hw7hkE9Wi4ClIs6DAVcvLTntvX7d4hvt7YIcOW7nGIoVRSqUHykatQ\\\n",
              "a2oxJy64LqhqdXpZ4rqthIdDkTA8BJkFt5CUlCSFFwBUlNzEmwv+gD++8Daqvl2GipKb0nvvrXgb\\\n",
              "Ls6OSEpKwuBgLwR7uyJPpZbacKWoCsHerhjfxx/PjAyTQk6tqZHK6Vkyb5rNBNi3336LRYsWoaio\\\n",
              "CJMmTcKAAQOwd+9e9O3bF48//jj69OkDJycnrFmzhhWI1OYY67m4dHJG9KggafgQEAJOfUuDktxK\\\n",
              "xMaH4OCmX1FWWI3MA6Uoj9DqhIm4l+JP3/+msxhZXFMm7oVoSc+pd1yAtIeiPOTkwWtpAUdz9ThM\\\n",
              "DUWKITEsTNylRCu9tnhMmF6pfF3fU6vFgQs3celaAUq/+NTgWbWVpfhy2bNG27F+/XosWrQIq/Zd\\\n",
              "Rk6JGjkl19CxvSMyCyqQMDwUf4jthv2Zwv/oEJ+r1tRy3ssCNhNgjz76KB599FGj7y1duhRLlxrf\\\n",
              "v42oLfv1eIHOwubYR0Ix7DFh1/jqSg16RPugU24lhk0PR0c3YV2XPGDkPSQABgusnWS9KXNcOjlL\\\n",
              "54/pvy5+/qfvf2vVTX5NDUWKw4SLRodjeHipTk9PXvn34b5LqNYI67YAB1wpqkJE9wD8OWUXnpg+\\\n",
              "WaenZYpLZx98u2svvL290SegEEcvFyM22BOZBbdw9HIJ2ju2w/7MQoN5t9IqjcHGwFzIbMhmAoyI\\\n",
              "Gq93XACuZZYg70IZtNCdc/r1eAF+3peLodN6SmvH9HtdxooqQvr74FIPoQfWnFtAmSrgaKnSelND\\\n",
              "kfszC+uGCb2lqj+xRF1c5KzW1GL1AeH8s8VjwgFosXhMOObEBWPT8Rx0mvYWqja/jNrKUv3HSlw7\\\n",
              "+6Lz9LdxptwFsQCeGRkGF2dHiGvF2js64NXJfeDp6gy1pgZqTS1KqzTwcnM22gtlNaIhBhiRAsn/\\\n",
              "6P/+qSjpd/mJzP1GBQEwDAz987yMbV31kJHelCVBY+4aU8OQLVVab2ooUh5spkrWF48Jw+Ix4ajW\\\n",
              "1OLElWKk5aiweExYXc9Hi/ZegRj2xCs4/NGLJp//6ooPsb8qEIODvaT2AA5SMH7w+AApPF2dnbDi\\\n",
              "vxekXpewTkyLOXEhUm9LXEsmBh0ArDt0GZkFt7BsSl/09O1kpBX2jQFGpEDyoIp9JFT6w6+p2zVe\\\n",
              "o6nVOTMs7buruFtX7NG9rxc6+7uYPM/LVAhZEjRNCSNLSuubkzzY9KsO5eEmLl4Wy9tP/1aGK0XC\\\n",
              "dlozezlh49JVZp+T9NfF8PnDO1i1zwVfPfVQ3av1eyHKw1M/VMWQc3V2ktrq5easE3QAkHxEWET9\\\n",
              "9s5MbHiy7RW3McCIbERjhtJMbQnrXPeHTfwJ6FYIAsDN3ypQVliN7lFejVpsbEnQNCWMLCmtbyni\\\n",
              "cGK4fy6yCm/h1cl9dIYSx/bxh1pTg5NXS3H0cjHe2J6B1LRzqPr2dZQXm9+iS1NRgsLNL8Oj/0bp\\\n",
              "NXGz3rF9/LHjbL60TZU8VIWeVi2q9YYVxfcA1H0+D38a0gNXi6vw6uQ+LfNfkI1jgBHZiMb0XqLr\\\n",
              "hgcdIASfGHj9RgXBSa/cXawQFHtgEbH+0mGUxoJSuv5OrXRvS8PVmmHUFGIg/HCpCMeulAAQejLy\\\n",
              "3tFfxvXCh/suCouUy8tw6z+v4VZpwwUcgFCd+NUbT+Evj5zFgWy11NMT90IcFuYDIFtnqNDLzRlz\\\n",
              "4oLxwjdnkXqxCOeul0lHvYhB98nhK1h94DJenhCJN6dGNft/L0rBACOyEca2izI3n9S+gyNOpFzR\\\n",
              "qRSUDxuKhRrGKgQb2kS48LcKXMsoldZ0NRSutr6BryliIIzt44+3d2ZKPRn9ocU5cSE4d70cqReL\\\n",
              "4D1oAm7t26RzH1//APhPXIRft/7NoLDjmYQEHMhW62wgnDA8FD193XD0cjGOXi7G6d9UGNTDUwqy\\\n",
              "rem5SL1YhJ6+bjpHvYiViPpDnm0VA4zIRuj3XhoKDUv3HBQrEi0NF3GbKvkQY0NDg621x+H9kO8Y\\\n",
              "Hz+gK/ZnFkrDdz19O2HDk7E6VYjyBc0AEB3kgbu193AU09HH2RGZuz4HAHTt2hWpqan4d1Yt1jh5\\\n",
              "6/TQxs9eiHffeUsquhALOuAAXCmqquuBaXH0cgmOXi6R5rzkQ4ViOwFWIupjgBHZqIZCw9I9Bxsb\\\n",
              "LvLPioFnyUJmQCjBl/f8rMXYmin5kSbnrpcZPUrF1IJm8bPDwnyE87xeWI1nn3fFyf9+g2937UVE\\\n",
              "RASQlYn2XoF4asUGfPbKk3CIHAPfEf8rzWGJQ3+pF4sQHeQhlefHDwjEjrP5ALTS80xtOMx9EXUx\\\n",
              "wIhslCXzSaaG7uSfbWxhRVPmscTPtPZiZVOM9VTkR5rED+hq9CgV/SpE+evi8N+gHp54fVsGLgb+\\\n",
              "P7jPipPWebk4C39Ou4WE4fRPZ7H8QK7BSc/GSvhdnZ3wl3ERFi1U5r6IuhhgRApmrHfVlA10m0tr\\\n",
              "l8SbYqynon+kif5RKuI1xgLCy81ZWrel1tTUFXwAI/qFSM+QH5Hi5eaMVyc/ACBT52BL/WpD8Wdp\\\n",
              "lUYq2gA4PGgpBhiRghkLDGvOR9lKFWJTeioN9YDEe4rzWYAD5sQFm9w1XirR98tF1s1b0q4bYhGG\\\n",
              "fA5OHFoUd6T/5PAVbhllAQYYkYIZCwxb6QW1pubYJ7B+J/hanZ6UPv2enCliD+tIVhGOXhZK9IeE\\\n",
              "eutUIwLQKdowtjsImcYAI7IzttILak3G/ug3NtTEECmpvIPVB7Kg1tRYFFTGyJ+tX6J/8moJ5gwN\\\n",
              "BgBpeFHeu1NraqUFzmReO2s3gIgaT1znVV2pafjiNmB6TDe9Y1DqQ21req7OtWKpfP1QoEAMEbEY\\\n",
              "A9IhNaaZupf47Be+OQtPV2dseDIWPX07ScOKb+0STncWj1GRf271gSy4OjuZDF1Tz2yL2AMjUiAl\\\n",
              "rLtqTcbmvEyVnDc0RCcvxjDHXOGFvGpx0/Fs6XBK+evi6c7y+6k1NVg8JtzssznEWI8BRqRAbXGe\\\n",
              "q7Es2Y2+MZ/TJ+6WoR9E4j3qqxZ1D6eU70Kvf9CmuD2UuSFPrgWr56DVavX3A7ULMTExSE9Pt3Yz\\\n",
              "iEhBGjNvZum1Tb2uqYUp91vQoqS/nZwDIyKqY2rezBixp9ZQSDT1usa0Ra6pn1MiDiESEdWxpeG5\\\n",
              "prbFlr5DS+MQIhERSZT0t5NDiETU5rE0XZkYYETU5ilt3oiBK+AcGBG1ec05b9Qc21o1hGvBBAww\\\n",
              "ImrzmvOYktYIl7ZUqGEOA4yIqBm1RrjwXDABA4yIqBkxXFoPiziIiEiRGGBERKRIDDAiIlIkBhgR\\\n",
              "2YQalQoln32GGpXK2k0hhWCAEZHFWjJkylNScPP9v6E8JaXZ7032iVWIRG1QjUqF8pQUeEybBidP\\\n",
              "T4s/J4YMAHjPm9esbfKYNk3nJ1FDbKYHtmTJEkRGRiI6OhqPPvooysrKpPdWrFiBsLAw9OrVC3v3\\\n",
              "7rViK4nsQ1N7Ox7TpsFvyYstEjJOnp7wnjevUYFKbZvNBNi4ceOQkZGBc+fOISIiAitWrAAAZGZm\\\n",
              "YsuWLTh//jz27NmDZ599FrW1tVZuLZGyNTWIGDJkS2wmwMaPHw8nJ2FEc8iQIbh+/ToAYPv27Zgx\\\n",
              "YwY6dOiAkJAQhIWFIS0tzZpNJbJ5Dc1ViUEEgIUTpFg2E2Byn3/+OSZMmAAAyMvLQ7du9VuyBAUF\\\n",
              "IS8vz1pNI1IES4cIVV99jZvv/w2qr742eQ2rA8lWtWoRx9ixY3Hjxg2D15cvX44pU6ZIvzs5OWHW\\\n",
              "rFmNvn9ycjKSk5MBAEVFRffXWCIF0y+IMF20odX7achY4UZTi0CImlOrBtj+/fvNvr9x40bs3LkT\\\n",
              "Bw4cgIODAwAgMDAQubn1Z/Rcv34dgYGBRj+fkJCAhIQEAMKpokRtlXyIENANIY9p06Tw8Zw9G+1c\\\n",
              "Xc3OhRmrDmyJakT9UGRIUkNsZghxz549eO+997Bjxw64urpKr8fHx2PLli24c+cOsrOzkZWVhdjY\\\n",
              "WCu2lEh55EUb8uFFJ09P6TVL58vuZGfjnloNr3lzcU+tbrahRf1hT64Lo4bYzDqwP//5z7hz5w7G\\\n",
              "jRsHQCjkWLduHfr27YvHH38cffr0gZOTE9asWQNHR0crt5ZIWeQhpN+jEoOiKi0NXVeuNNnbkV9X\\\n",
              "dfgHuI14GFWHf0A7V1eTvTCxF9Vp9GhUHjxotjel3y6uC6OGOGi1WtOD3woWExOD9PR0azeDyObd\\\n",
              "yc5G7sKFuHs1G35LXjQ5z6UfRg2FUo1KhfzERJ2wk9+fbJOS/nbazBAiEbUeeWVh5cGDuHs1G24j\\\n",
              "Hkan0aOl1/WH8MRenGPnzmbvJypPSZHCyz8xET4Ln8U9dTWrGanZ2MwQIhG1Hv2iDvGn+HrlsWPo\\\n",
              "2Ls3fBY+K4Wa2NPSH0oEgHtqNYrXfIzKY8cQ+MEH0tyaeF+xh1a8Zg0ALXwXLbqv9rPAgwAGGFGb\\\n",
              "pB8u8vmxymPHoD5+AurjJ+Cz8FlU7NyF4jVrUHn0GAJXfSB9ttPo0aiMjYXLoEHIf+mvAAD18RMo\\\n",
              "T0mRduvQHS500Pl5PyHUknsyknIwwIjsSEOhIH/f5B9+2ay4+qcz6Ng7Uvj9xAmovvpKKrt38vRE\\\n",
              "h3nzcG3+fNy9dg3tu3eHxyOTdYou5M/znD0L7Vxd4DFtms78GGAYQg19DxZ4EMAAI7IrDfVMTK0H\\\n",
              "E0OiPCUF6hMn4Bo3FNAKoeU6cCB8Fi4EoMXN/Hy0+3YbbqUeQtA//wEnT0/4LFiAwitX0Pe9d+E6\\\n",
              "YIA0H9Zp9GgUrlypE1Le8+YZFHcYC6GGvodh747aIgYYkR1pqGdibL4LgM4Q4j11Ne5VqwEHB7gO\\\n",
              "fBDukyehYucuvLd7N748fBgbugQgOD1dGir8ZdcuxB8+jDmvv473duzQmUdTHxfCUD6PJi/u0C/b\\\n",
              "l1c6mvseRAADjMiuNNQzMbceTHy/natLXbEF4LfkRVQePIikZUn4uKQEAPBk4Q2kPLsQ4dOm4dKl\\\n",
              "S5i2Zg1u1tTg/e++A+Lj8dbq1QAATX4+1MdPoGNkb1QePCiFZafRo1GVlgb/xESD8DI3rEikj2X0\\\n",
              "RG2U/GgUcdjvTnY2akpK4BITA695c+ExbRpWX7okhRcAFKrVeOzT9dj9/fcYNWoU8gsKpPfe/+47\\\n",
              "vLZ4MbznzYP29m0AQFVaGlwGDZLK9CsPHkTV4R9QefCgTvm92DNzHTpUZ4cPbiZMprAHRmQnmlLV\\\n",
              "J37mnroaxWvW6JTGPzBqJMrv3cNnX35p8LkbZWWYMmOG0Xt+nZaGeSvfxb19+wAAdzIyULx2rRBa\\\n",
              "sbFSD6zT6NE6w5ji6x169kTxmo+lHT4srThkaX3bwwAjshNNKS0XP+MaNxQ+CxcK811RUQAcpCBI\\\n",
              "WbgQ8UlJuFlT0+D9ugYE4D/z5uHexo0AgHYeHnAODobPggVwi43VmQOrrPv3PbUa99TVqNi5C1WH\\\n",
              "f4BLVD+dwzYtrThkaX3bwwAjshPyMKhRqSzqhXhMmyb1ulwffBCVBw/CffJkVOzcCdVXX8Nz9iwM\\\n",
              "evZZbL99G4/+85+4UV5u8l5+Tk5IWbgQoe4eKAbgOnQoOvaOROnnG1B15Ii0eNnUAmevuU9KwSVv\\\n",
              "u6UVhyytb3sYYER2QijAcMXN9/+Gdq4uFv3Rd/L0hH9iIgoB3Ku+jeI1H+sMI4r3GfLWW/gkKsrk\\\n",
              "sCEArBw5EoOefRa1ZWWozvgF/omJqNi5q+5dB+k6Uwuc27mY3hTYEiytb3sYYER2xFgvxNiO8ACk\\\n",
              "+SJx6K59UBDcRjwMnwUL4FI3jCiWvxdGR2P+M8+Yffarv/yChy5fRqdPP5WGCPUXL4vPlD/fffIk\\\n",
              "VGf8AvfJk1rmvxSyWwwwIgXTL1ww1gsxtnchAGm+SNx643bGedz++Wd06NkTnadPR+HKlbhXXY2f\\\n",
              "1q3DXFUpbpSVmW1LfmEhxowfj889vdBn5AjcU1cDqJ+PKvnsM9kz659/T61G1eEfUBEVZdEeiSzW\\\n",
              "IBEDjEjBLClcEHs8LoMGARCq/cQd5cX32rm64tahwwCA279ekHbQKK24ZVF4iW6UlWEugEMRvaBe\\\n",
              "s0bqfZlanOwxbRpUX31d9y8Hwxs28TtT28AAI1IwSwoXxF5ZyWefSUN74rZOIu9584RNeV95Bb6L\\\n",
              "n4OjhwcKqtRwcXDAvD/9Ccv/8Q+de/q7uiLJ0wtJqlIUqtU6781fvBg95yeg3NdHZ8cP/QMzxefL\\\n",
              "hxmb6ztT28CFzEQKJl+MLDK18LfT6NHSYmL962pUKhSvXYu7V7NRvHYtHDt3hkP79qg+dQpPV9zC\\\n",
              "kkceke7TtWtXHDx0CBMnTcQG/y7o4uEhvffi/5uAVxcvBgDcU1dD9dVXcBk0CO1DQ1B1+AeUp6QY\\\n",
              "PLexw4HGvjO1TeyBEdkZU0Ns4g4YhQC6rlypcx0AoZBDFjQde0dCfeIEOvaOxFvTp+NuXh6+ycvD\\\n",
              "vm3b4H/uHDolJsItNhYHoqMxZvx4THN0xNzsbJR8+imcvLyk7aiqMzJ0DswUt4u6p65GdcYv3DqK\\\n",
              "mowBRmRnTA2xydd85Scmwj8x0eA6/UpFJ29vaRgwoUqNZ/7v/+Dy6ae4WRc6nUaPRtXKlUj79lvc\\\n",
              "XrECNb9dw+1ff0XgBx/UFXFo4TZ8OAAIu9bXza25jXgYgNbsjvTGsICD5BhgRHbG1HooJ09PdF25\\\n",
              "UuoBiXNhIvH3DrLXxPByGTQIrnFDce/nn1F15ixcYmJwT12NG2+9BfXxE3ADEPjuu8Ic2nPPwcnT\\\n",
              "E76L/gwA0twbIPTyXOOGwiWqH9wnT9I5W8wSLOAgOQYYURvjEhUFl6h+FvV6xMBwG/Ew1MdPSK87\\\n",
              "tG8v7J4xby4AoH1QEIpW/wN3r2aj+vRpuA4YIF0r7nEobicl7ruov9jakt4VCzhIjgFG1IaUp6Sg\\\n",
              "eM3H8FvyosVbTQFCCFVEReHe7dto17Ej3IYPR7FzezwwbhzuXL6Msq//BQBGhwPFuTe3uh6fUFyi\\\n",
              "NdjyypLeFXfbIDkGGFEb0tgejDwwxEXG+ud2iUeguA4cCM/ZswyCUf+Z8i2vqjN+kUrr2buixnLQ\\\n",
              "arVaazeiJcTExCA9Pd3azSBSDFNDeDUqVd1iYy3cJ0/WKcTwT0yUij7Ec8UsKbKQh6DfkhfZq7Ih\\\n",
              "SvrbyR4YEQEwPYQnDDvWl8SL4SX2nDroXWtJkYVYUCLfG5GosRhgRHaqsSXn5srvxZJ498mTpXO8\\\n",
              "9O9Zo1LhnloNn4ULLQolzmfR/eJOHER2SuwNlaekNHitueHD8pQUeM6eBd9Fi9AhJMTkLhhigUg7\\\n",
              "VxcAMLobCFFzYg+MyE41pijC3PCh/HX9oJP/W/48rtei1sAAI7JTjRmiMxV24houcf9E/WDS36hX\\\n",
              "fB4rCqk1cAiRqA0xtdGvqQ1yxTVclQcPAhACyW/JizoB5TbiYWn/xIbuR9Sc2AMjakMaO7RnbA2X\\\n",
              "/HOsJiRrYoARtRGNrRIELBuGZDUhWYvNDCG+9tpriI6OxoABAzB+/Hjk5+cDALRaLZ577jmEhYUh\\\n",
              "OjoaP/30k5VbSqRM8ipBDu2RPbCZAFuyZAnOnTuHs2fPYvLkyXjzzTcBAP/973+RlZWFrKwsJCcn\\\n",
              "Y8GCBVZuKZEy6c9fESmdzQSYu7u79HtVVRUcHBwAANu3b8ef/vQnODg4YMiQISgrK0NBQYG1mkmk\\\n",
              "WCysIHtjU3NgS5cuxRdffAEPDw+kpqYCAPLy8tCtWzfpmqCgIOTl5SEgIMBazSQiIhvQqj2wsWPH\\\n",
              "IioqyuA/27dvBwAsX74cubm5mDVrFj766KNG3z85ORkxMTGIiYlBUVFRczefiIhsSKv2wPbv32/R\\\n",
              "dbNmzcLEiROxbNkyBAYGIjc3V3rv+vXrCAwMNPq5hIQEJCQkABB2VCYiIvtlM3NgWVlZ0u/bt29H\\\n",
              "ZGQkACA+Ph5ffPEFtFotTp48CQ8PDw4fEhGR7cyBJSYm4uLFi2jXrh169OiBdevWAQAmTpyI3bt3\\\n",
              "IywsDK6urtiwYYOVW0pERLbAZgLsP//5j9HXHRwcsKbuLCIiIiKRzQwhEhERNYaDVqvVWrsRLcHH\\\n",
              "xwfBwcHWbkazKioqgq+vr7Wb0Wr4fe1bW/q+SvquOTk5KC4utnYzLGK3AWaPYmJikJ6ebu1mtBp+\\\n",
              "X/vWlr5vW/qurYlDiEREpEgMMCIiUiTHpKSkJGs3giw3aNAgazehVfH72re29H3b0ndtLZwDIyIi\\\n",
              "ReIQIhERKRIDTAGWLFmCyMhIREdH49FHH0VZWZn03ooVKxAWFoZevXph7969Vmxl89i6dSv69u2L\\\n",
              "du3aGVRt2dt3Fe3Zswe9evVCWFgYVq5cae3mNLu5c+fCz88PUVFR0mulpaUYN24cwsPDMW7cOKhU\\\n",
              "Kiu2sHnl5uZi1KhR6NOnD/r27YvVq1cDsO/vbDVasnl79+7V3r17V6vVarUvvfSS9qWXXtJqtVrt\\\n",
              "+fPntdHR0drbt29rr169qg0NDdXW1NRYs6n3LTMzU3vhwgXtiBEjtKdOnZJet8fvqtVqtTU1NdrQ\\\n",
              "0FDtlStXtHfu3NFGR0drz58/b+1mNavDhw9rT58+re3bt6/02pIlS7QrVqzQarVa7YoVK6T/m7YH\\\n",
              "+fn52tOnT2u1Wq22oqJCGx4erj1//rxdf2drYQ9MAcaPHw8nJ2HXryFDhuD69esAhE2PZ8yYgQ4d\\\n",
              "OiAkJARhYWFIS0uzZlPvW+/evdGrVy+D1+3xuwJAWloawsLCEBoaCmdnZ8yYMUM6XshePPzww/Dy\\\n",
              "8tJ5bfv27ZgzZw4AYM6cOdi2bZs1mtYiAgICMHDgQADAAw88gN69eyMvL8+uv7O1MMAU5vPPP8eE\\\n",
              "CRMAmD7s0x7Z63e11+/VkMLCQulUiS5duqCwsNDKLWoZOTk5OHPmDB566KE2851bk81s5tvWjR07\\\n",
              "Fjdu3DB4ffny5ZgyZYr0u5OTE2bNmtXazWtWlnxXajscHBzg4OBg7WY0u8rKSjz22GP4+9//Dnd3\\\n",
              "d5337PU7tzYGmI1o6LDPjRs3YufOnThw4ID0f/iNOezTllh6sKmcUr9rQ+z1ezXE398fBQUFCAgI\\\n",
              "QEFBAfz8/KzdpGZ19+5dPPbYY5g1axamTZsGwP6/szVwCFEB9uzZg/feew87duyAq6ur9Hp8fDy2\\\n",
              "bNmCO3fuIDs7G1lZWYiNjbViS1uOvX7XwYMHIysrC9nZ2dBoNNiyZQvi4+Ot3awWFx8fj02bNgEA\\\n",
              "Nm3aZFc9b61Wi3nzwMqPigAAATBJREFU5qF37954/vnnpdft+TtbjbWrSKhhPXv21AYFBWn79++v\\\n",
              "7d+/v3b+/PnSe2+//bY2NDRUGxERod29e7cVW9k8UlJStIGBgVpnZ2etn5+fdvz48dJ79vZdRbt2\\\n",
              "7dKGh4drQ0NDtW+//ba1m9PsZsyYoe3SpYvWyclJGxgYqP3000+1xcXF2tGjR2vDwsK0Y8aM0ZaU\\\n",
              "lFi7mc3myJEjWgDafv36Sf8/u2vXLrv+ztbCnTiIiEiROIRIRESKxAAjIiJFYoAREZEiMcCIiEiR\\\n",
              "GGBERKRIDDAiIlIkBhgRESkSA4yIiBSJAUZERIrEACMiIkVigBERkSIxwIiISJEYYEREpEgMMCIi\\\n",
              "UiQGGBERKRIDjIiIFIkBRkREisQAIyIiRWKAERGRIjHAiIhIkf5/r45iRdnulvAAAAAASUVORK5C\\\n",
              "YII=\\\n",
              "\"\n",
              "  frames[1] = \"data:image/png;base64,iVBORw0KGgoAAAANSUhEUgAAAbAAAAEgCAYAAADVKCZpAAAABHNCSVQICAgIfAhkiAAAAAlwSFlz\\\n",
              "AAALEgAACxIB0t1+/AAAADh0RVh0U29mdHdhcmUAbWF0cGxvdGxpYiB2ZXJzaW9uMy4yLjIsIGh0\\\n",
              "dHA6Ly9tYXRwbG90bGliLm9yZy+WH4yJAAAgAElEQVR4nO3de1xVdb7/8TeyAy94AQTkVoKA17AS\\\n",
              "TeuMioplddRoauzojGWTThdzxsYu08yIc1I81lROWUbl5Uxz9JdzHGm0MDW0izZI0+UnZqLCyE1E\\\n",
              "wAt3oXX+QLbcRLxs1l7wej4ePbZ7rbXX/uxl7Xef7/qutV0MwzAEAIDFdDK7AAAALgcBBgCwJAIM\\\n",
              "AGBJBBgAwJIIMACAJRFgAABLIsAAAJZEgAEALIkAAwBYEgEGALAkAgwAYEkEGADAkggwAIAlEWAA\\\n",
              "AEsiwAAAlkSAAQAsiQADAFgSAQYAsCQCDABgSQQYAMCSCDAAgCURYAAASyLAAACWRIABACyJAAMA\\\n",
              "WBIBBgCwJAIMAGBJBBgAwJIIMACAJRFgAABLIsAAAJZEgAEALIkAAwBYEgEGALAkm9kFOErv3r3V\\\n",
              "t29fs8sAAEvJzMzUiRMnzC6jVdptgPXt21epqalmlwEAlhIVFWV2Ca3GECIAwJIIMACAJRFgAABL\\\n",
              "IsAAAJZEgAEALIkAAwBYEgEGOEJpofT58tpHAA5BgAGO8PW70rbf1z4CcIh2eyEzcCkKj6bLO+sD\\\n",
              "6YYZUjfv88sLC+Xt7d3CKy/ghhkNHwFcdXRg6FiaGdqLi4tT5LDhOrj+OWn1bVJBuiTp4MGDirx+\\\n",
              "iOJm3d78UGBLw4TdvKVb5zUIQwBXFwGGjiXlzdqhvf+dJZUWKi4uTosWLVLuiVOK/nOlDn5/QPrw\\\n",
              "1zp48KCio6OVm3dMi1ZvVdzc6ef3URdcKQnnhwk55wW0OQIMHUdpoZSVUvvnIzsVN+duLVq0yL46\\\n",
              "91S1oteWacsnXyl69L8pNzfXvm7R6q2K+81TtU/qzm/JkGL+UDtMWLcsJYEgA9oI58DQcaQkSEeS\\\n",
              "pcARKqww9NbLu5psknvG0F3vZDX78rcSVmruLx6Wd8kJKXSsNOReySe8dmXdua6q0nPhptohRAAO\\\n",
              "Q4Ch/SstrB06PJxc+9xmk3fhbiX/zF3Ra2uUe8a46C4Curso+ReB8j78V2nPn2oXHvxA8jkXUnXn\\\n",
              "vEoLJbduTN4A2gABhvbv63elXf91/nnxUcmtuyK8zyh5poei15a0GGIBXh5KnhOgCFuudPhj6bpb\\\n",
              "pcBhzYdUXZABcDjOgaH9u2FG7ZBfndPZUtUZSVKEt4sS7urc4ssTEhIUETOz9kl2ivSvz6VrujDD\\\n",
              "EDAZAYb2o7mZgKWFtR3YpBcll6b/uh8srNHszRUt7nb2w7N00CWiNgSDRpxb6nLVygZweRhCRPth\\\n",
              "nx2o8zMDq8qkXUtrl/W/Szrwfu2f3brrYN5JRa8tu+g5sNziCkXH/lTJ010VEfsbaeBdnOMCnAAB\\\n",
              "hvaj/t0vUt6sPe91y9zzU91vmCF5+EmHPlLh2a6KXpvbqgkc0rkQW9dD3y64V97XhjvwQwBoLYYQ\\\n",
              "0X40uPvFuSE+49xjWVFtR1aULp38l7xLv9PDN13TZBcBvdy1+Q/3KaB70yHCh++Maj68uIgZMAUB\\\n",
              "hvahcYiMmF3bebl1qR1W/Og3tY9VZVLnXpKkuNhBWjjGzb6LgJ7XKHmGTXdeV6Hk136lAP8+9nUL\\\n",
              "x7gp7oEJzb8fN+4FTMEQItqH+ue/6rqw+tdlRdxRuy79o9rH8InSxCWKG/aBtOmQ3nr7bSXPcFVE\\\n",
              "kI90ZKciYsYpeecuRUdH6+GZ0xV3Z2DD816Nz7fVfwTQJlwMw2jdSQCLiYqKUmpqqtlloK3UdUKN\\\n",
              "7ibfZJuUBEmGNGJO7bJzrync9rK8v361dln4RGnqSqmbd8O70dd/j3qvZTo92hMrfXfSgaF9aM0F\\\n",
              "xN28pehnzz9PXlI70aOqVN4xv5J6dpM93M6FUoOfUmnc5XHBMmAqAgwdmMv5x8bh1hyGCgGnwiQO\\\n",
              "tC+XMiOwbqLHkB+37jX8xhfgVAgwtC+tmRFYF3JSbSAd/IBZhIAFMYSI9qU1w3yNz2UxNAhYEgGG\\\n",
              "9qU1kzkaBxZ3kAcsiQBDx0NgAe0C58AAAJZEgAEALMnpAmzWrFny9fXVkCFD7MuKiooUExOj8PBw\\\n",
              "xcTEqLi42MQKAQDOwOkC7IEHHlBSUlKDZUuXLtX48eOVnp6u8ePHa+nSpSZVh3aPO8sDluF0ATZ6\\\n",
              "9Gh5eXk1WJaYmKiZM2t/0n3mzJnatGmTGaWhI+DO8oBlWGIWYn5+vvz9/SVJffr0UX5+vskVod3i\\\n",
              "mjDAMiwRYPW5uLjIxaXpjw1KUkJCghISEiRJBQUFbVkW2gum2AOW4XRDiM3x8/NTXl6eJCkvL0++\\\n",
              "vr7Nbjd79mylpqYqNTVVPj4+bVkiAKCNWSLAJk+erLVr10qS1q5dqylTpphcEQDAbE4XYPfff79G\\\n",
              "jRql77//XkFBQXrnnXf0zDPPaNu2bQoPD9f27dv1zDPPmF0mAMBkTncObN26dc0u37FjRxtXAgBw\\\n",
              "Zk7XgQEA0BoEGADAkggwAIAlEWAAAEsiwAAAlkSAAQAsiQADAFgSAQYAsCQCDABgSQQYAMCSCDAA\\\n",
              "gCURYAAASyLA2pHiimKt3rdaxRXFZpcCAA5HgLUjmw5t0ktfvqRNhzaZXQoAOBwB1sjV7mLasiua\\\n",
              "GjZV84fN19SwqQ5/LwAwGwHWyNXuYtqyK/Ls7KkHhzwoz86eDn8vADCb0/2gpdnquper1cXU7We0\\\n",
              "5+hm1xcWFsrb2/uqvBcAdCR0YI1czS6muKJYmw5t0oH1BzR6xGgdPHiwwbr4zfG6/vrr9fRvn2by\\\n",
              "BQBcIjqwq6QurKaGTZVnZ09lnMrQvI/n6Yu1X6ggsUCSFB0dreTkZEVERGjl9pX6/U9/r+qT1Vq2\\\n",
              "eJl89vmoPK5cXWxd7PsAAFwYAXaV1J3rkmqHDRuHlyTl5uYqOjpaCQkJenX2q6o+WW1fV5BYoC19\\\n",
              "tujoqKMqr64NsrHBY7UzayeBBgDNIMCuguKKYpVXl+uRoY9obPBYPffZc0rPTdeZT8802TY3N1d3\\\n",
              "3XVXs/v5bONnmjxhssqry/XGN29o77G9+jTnU0nSg0MedOhnAACrIcCugk2HNumNb97QjwJ/JEn6\\\n",
              "NOdTRfeP1j0f3aMf3/FjnTx+8qL7cPdyl9+Tfvq69GvdoBs0f9h8jQ0eq+F9hjMtHgCawSSOq2Bq\\\n",
              "2FT9KPBH9m5p/rD5mhM5R8uPLpfPfB+5ebq1+HpbL5uufepa9QjoIUn282AXGj7kjhsAQIBdFZ6d\\\n",
              "PbX43xZr/rD5mhQySUUVRZqzbY4yTmfIK8hL/jP9W3x94AOBcu/jrsofKhXYLVC3Btyq5z57Ti99\\\n",
              "+ZKe++y5JkHFHTcAQHIxDMMwuwhHiIqKUmpqapu/7+p9q+2TOSTJtcBVaYvTGkzYaMzWy6aQZ0Lk\\\n",
              "3sddkhTYLVA5pTnq4tpF5TXlGtlnpG70u1GTQiZpZ9ZOJncAcBizvjsvB+fArlDGqQy9sPcFLRi+\\\n",
              "QCE9QzQ1bKqKKor0YcaHOnrkqLKWZbUYXpJUfbJaGUsz7CGWU5qj7td015mzZ9TZtbO+OPaFvjj2\\\n",
              "hfad2MekDgA4hwC7Qi/sfcEeKq9PeF2enT31ZNSTmuo/VUMfGaqKoopW7acuxMKeD5PN4/xfS0VN\\\n",
              "hUb6j9SNvrUdWONJHY2vPwOAjoIAu0ILhi9o8CjVhsonxZ/ooZ8/pD/9158abO/u5a7wn4frQMKB\\\n",
              "Jp2Z5xhP2Txs8nT3VHFlsT247h9wvz2cQnqGNHhN/evP6MoAdCQE2BUK6Rmi1ye83mBZXajMnzFf\\\n",
              "T9me0rLFyyRJ3by7KWBBgB657RGt6rNK3/zhG3uI3Tj9Rk3/5XR1sXWxn+tqTVd1te/dCABWQYA5\\\n",
              "QP1Q2TRtk3z2+ejsnrP6aPtH2ueyT1PDpqq8ulynnzmtYy8eU/9J/VUxvkJenb3sXVTjTutC6u7d\\\n",
              "CAAdDQHmAPVDZWrYVOn52rvR9wvsp+EaLkmaNWSWvDp7afSM0fLy9rKfxwIAtA4B5kDNTbCov6x+\\\n",
              "50QXBQCXhguZHai5C465CBkArg46MAdqboJF42VMgweAy0OAOVBzEywaL2MaPABcHgLMZEyDB4DL\\\n",
              "Q4CZjGnwAHB5mMQBALAkywRYUlKS+vfvr7CwMC1dutTscgAAJrNEgNXU1Oixxx7Thx9+qP3792vd\\\n",
              "unXav3+/2WUBAExkiQBLSUlRWFiYQkND5ebmpmnTpikxMdHssgAAJrJEgOXk5Cg4ONj+PCgoSDk5\\\n",
              "OSZWBAAwW7uahZiQkKCEhARJUkFBgcnVAAAcyRIdWGBgoLKysuzPs7OzFRgY2GS72bNnKzU1Vamp\\\n",
              "qfLx8WnLEgEAbcwSATZ8+HClp6crIyNDVVVVWr9+vSZPnmx2WQAAE1liCNFms+m1117Tbbfdppqa\\\n",
              "Gs2aNUuDBw82uywAgIksEWCSdMcdd+iOO+4wuwwAgJOwxBAiAACNEWAAAEsiwAAAlkSAAQAsiQAD\\\n",
              "AFgSAQYAsCQCDABgSQQYAMCSCDAAgCURYAAASyLAAACWRIABACyJAAMAWBIBBgCwJAIMAGBJBBgA\\\n",
              "wJIIMACAJRFgAABLIsAAAJZEgAEALIkAAwBYEgEGALAkAgwAYEkEGADAkggwAIAlEWAAAEsiwABc\\\n",
              "VHlJlf750b9UXlJldimAHQEGtAOODpjvdudpz8bD+m53nkP2D1wOm9kFALhydQEjSTdNvO6q73/g\\\n",
              "Lf4NHgFnQAcGtAMDb/HXqNh+DQLmQl1ZcX6p/v7a1yrOL231/rt4uGngLf76bncew4hwGnRgQDvQ\\\n",
              "xcOtSed1oa7ssw3p2p+aoR+qDQUP8tLAW/zVxcNNklRYWChvb+9m38PRXR5wqejAgHaqrisLGdpb\\\n",
              "//j7EaX8/YjKS6r0WeZ7WrZpjkpdCxqc1zp48KAiIyMVFxdn30f9Lq65Lg8wEwEGtFN1XVnGNyeU\\\n",
              "uiVTe7dk6pePPKVlf4xX0akC/Tr+QQWMcFHI0N7626pkjR0zVrm5uVq0aJGe+83vJDWcvFG3v7pu\\\n",
              "DTAbQ4hAO1FeUqXvduc1GBKUajuxs5U1evPPL2v1htfsy/PycjVnwf2as+c3evV//qBTZYX2dUvi\\\n",
              "n1d+xmm98MoSSbJ3cS6Sro8OIsTgFAgwoJ1o7hxVXagFRnbR33e81+Q1BUX5ev7tec3u76/v/0X3\\\n",
              "3fUzTZw+TP/86F9K3ZJp32d37y5NghJoawwhAu3EwFv8FXVnX1VX1qi8pErlJVXavma/9mw8rNxv\\\n",
              "y/Xkj19Wz67NT9BorGdXbz3x739U5t4S7Vp3QCFDe6uHT2dJUnrqca4Jg1MgwIB2oouHm65xd9Xe\\\n",
              "LZn6bneevtudp6P7itTLr4vKSqrU3aWPnvj3P140xOrCy69XsM5W1GjfrlxlfHNCdz0+VL38uqiy\\\n",
              "tFrXDvFiMgdMR4AB7Uj9mYIDb/HXtUO8dDK/XKfyyyVJfr2Cdf/o+S3u4/7R8+XXK9j+3NXdRV4B\\\n",
              "3bRr3fcKGuCloTHB8ruuh0M/R0dRVFqlN3cdVlEp19ZdDgIMaEfqzxTs4uGmCQ8M0qjYfhoxOUR9\\\n",
              "wnqoqnOh1n/2cov7WPfJS8o/mWV/XlNp6PMN6co5cFL7duXoeMZp7d2SqW+Tsx39cdq9DalZiv/w\\\n",
              "gDakZl18YzThNAG2YcMGDR48WJ06dVJqamqDdfHx8QoLC1P//v21detWkyoErOtoWpG+SU3Torce\\\n",
              "0cmSEy1ue6qsUCs+XCCP0HL5h/fUDTHBGjdzoP0cmFwaPLRrju6Q7o0K1rOTBujeqGC6scvgNAE2\\\n",
              "ZMgQbdy4UaNHj26wfP/+/Vq/fr3S0tKUlJSkRx99VDU1NSZVCVhL3czE06eLteLDBQ2myrek6HSB\\\n",
              "5i2aqe59pFvvCZd/aC/9+OkojYrtp+gZAzQqtp+ujw5ycPXmc3SH5NXNTXPG9JNXNze6scvgNNPo\\\n",
              "Bw4c2OzyxMRETZs2Te7u7goJCVFYWJhSUlI0atSoNq4QsJ66iRYhQ3trws1T9d62txqs7+XRWw9M\\\n",
              "ekprt76g4tMFDdbdMvBO9ejhaX9e/3ZVnhO7ObjyWkWlVdqQmqV7o4Ll1a3tp+zfGxXc4LE5V6vG\\\n",
              "1rwXGnKaDuxCcnJyFBx8/i80KChIOTk5JlYEWEP9C5szvjmh0aHTNGnYz+zrvXr66PUlf9GSVfP0\\\n",
              "xd7PFBAQYF/34L2PK27hQkU26rKu5GdbLue1Zncl9TukC7nSGgsLz3fFZVXVWrs7U0WlVQ2Wo3lt\\\n",
              "2oFNmDBBx44da7J88eLFmjJlyhXvPyEhQQkJCZKkgoKCi2wNtG/1L2weeIu/qitr5B/2hCQpNWOr\\\n",
              "3nxhnXJTDH23O083TYxQcnKyoqOjdde4exXZbbJs7q5NLlS+khv6Xs5rrdCVXEmNcXFxeuutt5Sc\\\n",
              "nKzkPFct33FIknQm/6jefHqmHn74Yfu9Kc3uRp2S4WTGjBlj7N271/58yZIlxpIlS+zPJ06caOze\\\n",
              "vfui+xk2bJhD6gOsouxMpfHl1kyj7Exlk2VZmbnNrj9x4kSzyxu/vuhYyQW3uZR6OpLCkkpj5c5D\\\n",
              "xqHjZ4yVOw8Zc3/9rCHJkGT08Q8wnlmVZCzenGb8KuEDo4e3r33dwoULDcMwjJU7DxnXPb3ZWLnz\\\n",
              "kEPrtNJ3p9MH2L59+4zIyEijoqLCOHLkiBESEmJUV1dfdD9W+ksArObLrZnGa3N2GF9uzTS7FMt4\\\n",
              "6aPvjeue3mxMf+sLo+et99sDqu4fVw8vY/y8PzYIr/ohVheAhSWO/R8AK313Os05sL/97W8KCgrS\\\n",
              "nj17dOedd+q2226TJA0ePFj33XefBg0apNtvv10rVqyQq6urydUC1nQl57Dq46dVLochSSo5VSTj\\\n",
              "wI4ma2tKirRj+ZM6XXi8ybpXVqzUkew85RSXK/b1z/XPfxU7vForcDEMwzC7CEeIiopqcj0Z0BHV\\\n",
              "n8xRdx5qVGw/fpTSQZo7V1VUWqWVuw7ro7RjyiwsU6RHmba9+KgqTrV8TZ4kufXwVu+fLNF1If2U\\\n",
              "e6pCktTPp5t2PDnWIfVb6bvTaabRA3CMxpM56j/i6qublShJc8b0sy9L+OSIJKmvd1d9Wyh53bdY\\\n",
              "+eueVU1J0QX35erhpd4/WaJrvALt4WXr5KLf3TnIwZ/CGggwoJ2rH1r1r+WCYzQ3K/HeqGCVVdWo\\\n",
              "vKpGX2cVK7OwTNd4Bcrr9rkq+OuiC+7L6/a5usYrUJLUzc1VLi5SSWWN3v7siL7KKtbMW0I69IxE\\\n",
              "pzkHBsAx+CXlttX42rHDBSV68r2vNSbCR+nHzygls1g3BveU7w+FKkp6tcV9FSW9qrNFtde9llbV\\\n",
              "qKSyRp5dr9Fnhwq1fMchbUjNUlFplZZ88J2mv/WFDheUOPzzORMCDAAc6PnN+5X8fYEW/PUbJX9f\\\n",
              "oOj+Pnr21l7Kerfl4UOpdmJH/rpn7SEmScVlZ3VziKfmjQ/TvVHB9uHJzw8XamFimqM/jlNhCBEA\\\n",
              "HKBuMsfcceGSpLnjwrU3s0jjQ7rqRyOjdCwvt1X7qQsx/1mvybVL7c/YjAztrV/FREiqHZ78+EC+\\\n",
              "/pFRrEH+3R3zYZwUHRgAOEDdZI69mUVa/eAI3XSdp+aM6aewa/01bOI9Tbbv4e2rn//nm/Lr03SC\\\n",
              "jcfQ2+zhFezZRZNvOH/bL69ubnpjRpSenTRAvxgb5rgP5IQIMAC4DBf7+ZP6P5XS2H+veFF3zpxr\\\n",
              "fx4QEKAnX/mLtpUE6tEX/rvBfSl73nq/Js54XDeH1N5YOau4XNv35zfYX2vu2dgeMYQIAJehueny\\\n",
              "9dWFSnO8urlp85o/Ka6vl/1eiL0D+8ovuPb6sWkjkjVmbLQix9+t23/2hGbe0leStHZ3hiSXNrk7\\\n",
              "vhVwITMAXIZLDYoLbV9YWChvb+8m2x86mqcdGWWXHERv7jqs+A8P6NlJAy4YoC2x0ncnHRgAXIaW\\\n",
              "OqzmXKhjay68JGlHRlmLHd6FWOEO/lcLAQYAbeBSg+VygqgjDR9KBBgAtIlL7dgudXvp4ufl2hsC\\\n",
              "DADaiY40fCgRYADQblxO12ZlXAcGALAkAgwAYEkEGADAkggwAIAlEWAAAEsiwAAAlkSAAQAsiQAD\\\n",
              "AFgSAQYAsCQCDABgSQQYAMCSCDAAgCURYAAASyLAAACWRIABACyJAAMAWBIBBgCwJAIMAGBJBBgA\\\n",
              "wJIIMACAJRFgAABLIsAAAJZEgAEALIkAAwBYktME2IIFCzRgwABFRkbq7rvv1smTJ+3r4uPjFRYW\\\n",
              "pv79+2vr1q0mVgkAcBZOE2AxMTHat2+fvv32W0VERCg+Pl6StH//fq1fv15paWlKSkrSo48+qpqa\\\n",
              "GpOrBQCYzWkCbOLEibLZbJKkkSNHKjs7W5KUmJioadOmyd3dXSEhIQoLC1NKSoqZpQIAnIDTBFh9\\\n",
              "q1at0qRJkyRJOTk5Cg4Otq8LCgpSTk6OWaUBAJyErS3fbMKECTp27FiT5YsXL9aUKVPsf7bZbJo+\\\n",
              "ffol7z8hIUEJCQmSpIKCgisrFgDg1No0wLZv397i+jVr1mjz5s3asWOHXFxcJEmBgYHKysqyb5Od\\\n",
              "na3AwMBmXz979mzNnj1bkhQVFXWVqgYAOCOnGUJMSkrSsmXL9P7776tr16725ZMnT9b69etVWVmp\\\n",
              "jIwMpaena8SIESZWCgBwBm3agbXk8ccfV2VlpWJiYiTVTuRYuXKlBg8erPvuu0+DBg2SzWbTihUr\\\n",
              "5OrqanK1AACzuRiGYZhdhCNERUUpNTXV7DIAwFKs9N3pNEOIAABcCgIMAGBJBBgAwJIIMACAJRFg\\\n",
              "AC5ZdXGxCt95R9XFxWaXgg6MAANwyU5t3KjjL7yoUxs3Srq0QCP8cLU4zXVgAKzDY9w4nd6+XSfe\\\n",
              "fVdVubmy9eqlEytelyR5P/RQi6+tC7/WbAu0hA4MwCUr+fhjVXz1tX7IO6aTf/kfSS6yPfILeYwb\\\n",
              "16S7KiwsbPDanrGx6v3YY/qhrIwuDFeEAANwyXrGxqrX9P9QJz9fufr5aenG/9XY+Hh9/stf6vgL\\\n",
              "Lyr7iSdUXVysgwcPKjIyUnFxcfbX2jw9JRk6seJ1Fb/7rmmfAdZHgAFoUXPnrGyenvL/3e/UObSf\\\n",
              "lqft00s7dyo3P1/3f/CBMquqVL43VSlLlmj0jTcqNzdXixYt0u+ffrreXl0aPQKXjgAD0KLGEzbq\\\n",
              "ezU7S6/XGyI8Xl2tB7KO6hMX6e7ly5VfVmZf95/Llum38+bZg7D3Y4+qx113MqEDl41JHABa1DM2\\\n",
              "tsFjncLCQq1LS2uy/fHqav3iwIFm9/X2m2/qp/4B+mHNGnUdNUqlKXtVvnevfigrl8/cx+3bVRcX\\\n",
              "69TGjeoZG3tuyBFoig4MQItsnp7qGRurUxs3qrq42D6k2LNTJ21LTJRfvZ8/aomvzabVAYHq1amT\\\n",
              "uo4apbI9e1S+d++5tQ3vKd5S1wfUoQMDcFH1p75L0vEXXtQPZeXy2Pf/tdqvjx7IOqrj1dUXfL2v\\\n",
              "zaY1wdeqr5ubyv75T3W96SaV7dmjLsOHq9uI4fKcMaPB9hfq+oD6CDAALaouLtYPZeXq/dijDQLl\\\n",
              "h7Iyle76RKG+vlpUVaVHcrIvuI9Ffn3U19NTKi1Vxddfy+PWW+W74NcNhggbDxtyjRguhiFEAC06\\\n",
              "tXGjTqxYoU5du8rm6WkPF88ZM9RtzGgdOX5cC/OPtbiPhfnHlOkiufr7q9f0/5DnjOkNhiXr3odh\\\n",
              "Q1wKOjAALWo8nFe/Uyr5+c/1wOrVLQ4fSudmJ37zjdYEX6vB2bWdWuM7cjBsiEtFgAFoUePhvLrg\\\n",
              "yf7kE92xbZuOnz3bqv0cr67WAznZ2vRxsrq8+xd5zpgu6XxgMWyIS8UQIoBL0jM2Vt3GjJbbP1I0\\\n",
              "PSqqyXpfm01vBAbJz929ybqfjh6tXq6ukgx7YDFNHpeLAANwSWyengpYulS+C36tJWvXauHChfZ1\\\n",
              "vjab/hw1XGM8PLQ6IFC+tvODPAsXLtTS996T74JfN5l1CFwOhhABtMqFZgnW3efwzZdf1irv3rp+\\\n",
              "0iTZPHvJq6JCfzteoHveStDDc+bYt2OYEFcLAQagVepPuqibQegxbpxKPv5Yv503Tz8xDOn/vadO\\\n",
              "nd3lM3euJMn2zjva6OOriIgIM0tHO0WAAWiV+rME68KsNCVFpbs+kST17u2jE5I6dena4DURYmYh\\\n",
              "HIMAA9Aq9YcN6wLJY9w4lYwYYX/eqWuXBmHFzEI4kothGMbFN7OeqKgopaamml0GAFiKlb47mYUI\\\n",
              "ALAkAgwAYEkEGADAkggwAIAlEWAAAEsiwAAAlkSAAQAsqd1eB9a7d2/17dvX7DIkSQUFBfLx8TG7\\\n",
              "DKfCMWmKY9IUx6QpRx+TzMxMnThxwmH7v5rabYA5EytdGNhWOCZNcUya4pg0xTE5jyFEAIAlEWAA\\\n",
              "AEtyjav7kR441LBhw8wuwelwTJrimDTFMWmKY1KLc2AAAEtiCBEAYEkEmIMsWLBAAwYMUGRkpO6+\\\n",
              "+26dPHnSvi4+Pl5hYWHq37+/tm7damKVbWvDhg0aPHiwOnXq1GQWVUc9JpKUlJSk/v37KywsTEuX\\\n",
              "LjW7HNPMmjVLvr6+GjJkiH1ZUVGRYmJiFB4erpiYGBUXF5tYYdvKyspSdHS0Bg0apMGDB2v58uWS\\\n",
              "OvYxacKAQ2zdutU4e/asYRiG8dRTTxlPPfWUYRiGkZaWZkRGRhoVFRXGkSNHjNDQUKO6utrMUtvM\\\n",
              "/v37jQMHDhhjxowx9u7da1/ekY9JdXW1ERoaahw+fNiorKw0IiMjjbS0NLPLMsWuXbuML7/80hg8\\\n",
              "eLB92YIFC4z4+HjDMAwjPj7e/t9RR5Cbm2t8+eWXhmEYxunTp43w8HAjLS2tQx+TxujAHGTixImy\\\n",
              "2Wp/8HrkyJHKzs6WJCUmJmratGlyd3dXSEiIwsLClJKSYmapbWbgwIHq379/k+Ud+ZikpKQoLCxM\\\n",
              "oaGhcnNz07Rp05SYmGh2WaYYPXq0vLy8GixLTEzUzJkzJUkzZ87Upk2bzCjNFP7+/rrpppskSd27\\\n",
              "d9fAgQOVk5PToY9JYwRYG1i1apUmTZokScrJyVFwcLB9XVBQkHJycswqzSl05GPSkT97a+Tn58vf\\\n",
              "31+S1KdPH+Xn55tckTkyM3JWYvMAAAIxSURBVDP11Vdf6eabb+aY1GMzuwArmzBhgo4dO9Zk+eLF\\\n",
              "izVlyhT7n202m6ZPn97W5ZmiNccEuBwuLi5ycXExu4w2V1JSonvuuUevvPKKevTo0WBdRz0mdQiw\\\n",
              "K7B9+/YW169Zs0abN2/Wjh077P+SBQYGKisry75Ndna2AgMDHVpnW7rYMWlOez8mLenIn701/Pz8\\\n",
              "lJeXJ39/f+Xl5cnX19fsktrU2bNndc8992j69OmKjY2VxDGpjyFEB0lKStKyZcv0/vvvq2vXrvbl\\\n",
              "kydP1vr161VZWamMjAylp6drxIgRJlZqvo58TIYPH6709HRlZGSoqqpK69ev1+TJk80uy2lMnjxZ\\\n",
              "a9eulSStXbu2Q3XxhmHooYce0sCBAzV//nz78o58TJowexZJe9WvXz8jKCjIGDp0qDF06FBjzpw5\\\n",
              "9nXPP/+8ERoaakRERBgffPCBiVW2rY0bNxqBgYGGm5ub4evra0ycONG+rqMeE8MwjC1bthjh4eFG\\\n",
              "aGio8fzzz5tdjmmmTZtm9OnTx7DZbEZgYKDx9ttvGydOnDDGjRtnhIWFGePHjzcKCwvNLrPNfPrp\\\n",
              "p4Yk4/rrr7d/j2zZsqVDH5PGuBMHAMCSGEIEAFgSAQYAsCQCDABgSQQYAMCSCDAAgCURYAAASyLA\\\n",
              "AACWRIABACyJAAMAWBIBBgCwJAIMAGBJBBgAwJIIMACAJRFgAABLIsAAAJZEgAEALIkAAwBYEgEG\\\n",
              "ALAkAgwAYEkEGADAkv4PBWyBmIZI7IAAAAAASUVORK5CYII=\\\n",
              "\"\n",
              "  frames[2] = \"data:image/png;base64,iVBORw0KGgoAAAANSUhEUgAAAbAAAAEgCAYAAADVKCZpAAAABHNCSVQICAgIfAhkiAAAAAlwSFlz\\\n",
              "AAALEgAACxIB0t1+/AAAADh0RVh0U29mdHdhcmUAbWF0cGxvdGxpYiB2ZXJzaW9uMy4yLjIsIGh0\\\n",
              "dHA6Ly9tYXRwbG90bGliLm9yZy+WH4yJAAAZhklEQVR4nO3dcWxT56H38Z8hI7e9aqUXQ2jsoKUh\\\n",
              "OEBSkw6XdVcTzCuBtslCWXc7KiZRpbJLu066Xdeqr666OFJRULcrbe+lEjgbKtof5IqpNFWgoQO5\\\n",
              "a6tbKTNahgjaHNGwQhyoceldV92FFp33D2Q3qZM0gSTneZLv5y/78Ynz42DODz9+fI7HcRxHAABY\\\n",
              "Zp7bAQAAuB4UGADAShQYAMBKFBgAwEoUGADAShQYAMBKFBgAwEoUGADAShQYAMBKFBgAwEoUGADA\\\n",
              "ShQYAMBKFBgAwEoUGADAShQYAMBKFBgAwEoUGADAShQYAMBKFBgAwEoUGADAShQYAMBKFBgAwEoU\\\n",
              "GADAShQYAMBKFBgAwEoUGADAShQYAMBKFBgAwEoUGADAShQYAMBKFBgAwEoUGADAShQYAMBKFBgA\\\n",
              "wEpFbgeYLosWLVJ5ebnbMQDAKmfPntWlS5fcjjEhs7bAysvLlUwm3Y4BAFYJhUJuR5gwo6YQm5qa\\\n",
              "VFJSopqamvxYLBaT3+9XbW2tamtrdeTIERcTAgBMYVSBPfLII+rq6ioYf+qpp9TT06Oenh7df//9\\\n",
              "LiSD7bLZ7KTGAZjPqAJbt26dFi5c6HYMzDKxWEzBYFCpVGrEeCqVUjAYVCwWcycYgBtiVIGNZffu\\\n",
              "3QoGg2pqatLly5fdjgOLxGIxtbS0KJ1OKxwO50sslUopHA4rnU6rpaWFEgMsZHyBPf744zpz5ox6\\\n",
              "enpUWlqqp59+esxt4/G4QqGQQqGQMpnMDKaEiXLllZMrscOHD+fLK4cSA+zjcRzHcTvEcGfPnlVD\\\n",
              "Q4NOnTo1qce+KBQKsQpxDstmswoGgyNK6sv4fD6dPHlSXq93GpMBZrPp2Gn8O7DBwcH87UOHDo1Y\\\n",
              "oQiMxev1KpFIyOfzTWh7n8+nRCJBeQEWMep7YA8//LDefPNNXbp0SWVlZWppadGbb76pnp4eeTwe\\\n",
              "lZeXa+/evW7HhCUCgYASP1yu8K5BpT8ee6IhV16BQGAG0wG4UUYV2IEDBwrGHn30UReSYLYIXPmj\\\n",
              "4g3/pIYD/zvmNvF4nPICLGT8FCJwI1JDpYp2/mPcbaLRaMESewDmo8Awa6VSKYX3/8+404eSCpbY\\\n",
              "A7ADBYZZKZvNXlsqP3hhQtvnSowzcwD2oMAwK3m9XkUikYJxn8+nzs7OUVcnRiIRViECFqHAMGvF\\\n",
              "YjE1Nzfn7+dWG9bX1xcssW9ubuaLzIBljFqFCEy1XCm1tbWNWCofCASUSCQUDocViUQoL8BCxp2J\\\n",
              "Y6rY9G1yTL9sNjvq9OBY48BcZdOxkylEzAljlRTlBdiLAgMAWIkCAwBYiQIDAFiJAgMAWIkCAwBY\\\n",
              "iQIDAFiJAgMAWIkCAwBYiQIDAFjJuAJrampSSUmJampq8mMffvih6urqtHz5ctXV1eny5csuJgQA\\\n",
              "mMC4AnvkkUfU1dU1YmzXrl2655571NfXp3vuuUe7du1yKR0AwBTGFdi6deu0cOHCEWMdHR3avn27\\\n",
              "JGn79u169dVX3YgGADCIcQU2mosXL6q0tFSSdNttt+nixYsuJwIAuM2664F5PB55PJ5RH4vH44rH\\\n",
              "45KkTCYzk7EAADPMindgS5Ys0eDgoCRpcHBQJSUlo24XjUaVTCaVTCa1ePHimYwIAJhhVhRYY2Oj\\\n",
              "9u/fL0nav3+/Nm/e7HIiAIDbjCuwhx9+WN/4xjf0l7/8RWVlZfr1r3+t5557Tr/73e+0fPlyHTt2\\\n",
              "TM8995zbMQEALjPuM7ADBw6MOn78+PEZTgIAMJlx78AAAJgICgwAYCUKDABgJQoMAGAlCgwAYCUK\\\n",
              "DABgJQoMAGAlCgwAYCUKDABgJQoMAGAlCgwAYCUKDABgJQoMAGAlCgwAYCUKDABgJQoMAGAlCgwA\\\n",
              "YCXjrsg8lvLyct1yyy2aP3++ioqKlEwm3Y4EAHCRNQUmSYlEQosWLXI7BgDAAEwhDpPNZic1DgBw\\\n",
              "jzUF5vF4tHHjRq1Zs0bxeHzKnz8WiykYDCqVSo0YT6VSCgaDisViU/47AQDXz5opxHfeeUd+v18f\\\n",
              "fPCB6urqtGLFCq1bt27ENvF4PF9umUxmws8di8XU0tIiSQqHw0okEgoEAkqlUgqHw0qn0/nHKTIA\\\n",
              "MIM178D8fr8kqaSkRFu2bFF3d3fBNtFoVMlkUslkUosXL57Q8w4vL0lKp9MKh8M6fPhwvrxyWlpa\\\n",
              "KDAAMIQVBfbJJ5/o448/zt9+4403VFNTc8PPm81m1dbWVjCeTqfV0NAworxy2tra+EwMAAxgRYFd\\\n",
              "vHhR3/zmN7V69WqtXbtW9fX1uvfee2/4eb1erxKJhHw+34S29/l8SiQS8nq9N/y7AQA3xorPwCoq\\\n",
              "KvSnP/1pWp47EAgokUgUTBd+Ua68AoHAtOQAAEyOFe/AplsgEPjSlY3f//fvU14AYBAKTNeWykej\\\n",
              "0XG3+c9//8+CJfYAAPfM+QIbvlR+PJ999JnC4TAlBgCGmNMFls1mJ1ReObkl9qxCBAD3zekC83q9\\\n",
              "ikQiBeM+n0+dnZ2jrk6MRCKsQgQAA8zpApOufZG5ubk5fz+32rC+vr5giX1zczNfZAYAQ1ixjH66\\\n",
              "5Uqpra1txFL54UvsI5EI5QUABvE4juO4HWI6hEKhSV8zLJvNjjo9ONY4AMw213PsdMucn0IcbqyS\\\n",
              "orwAwDwUGADAShQYAMBKFBgAwEoUGADAShQYAMBKFBgAwEoUGADAShQYAMBK1hRYV1eXqqqqVFlZ\\\n",
              "qV27drkdBwDgMisK7OrVq/rhD3+o119/XadPn9aBAwd0+vRpt2MBAFxkRYF1d3ersrJSFRUVWrBg\\\n",
              "gbZu3aqOjg63YwEAXGRFgQ0MDGjp0qX5+2VlZRoYGHAxEQDAbbPqcirxeFzxeFySlMlkXE4DAJhO\\\n",
              "VrwD8/v9OnfuXP7++fPn5ff7C7aLRqNKJpNKJpNavHjxTEYEAMwwKwrsrrvuUl9fn/r7+3XlyhW1\\\n",
              "t7ersbHR7VgAABdZMYVYVFSk3bt3a9OmTbp69aqamppUXV3tdiwAgIusKDBJuv/++3X//fe7HQMA\\\n",
              "YAgrphABAPgiCgwAYCUKDABgJQoMAGAlCgwAYCUKDABgJQoMAGAlCgwAYCUKDABgJQoMAGAlCgwA\\\n",
              "YCUKDABgJQoMAGAlCgwAYCUKDABgJQoMAGAl4wssFovJ7/ertrZWtbW1OnLkiNuRAAAGsOKKzE89\\\n",
              "9ZR+8pOfuB0DAGAQ49+BAQAwGisKbPfu3QoGg2pqatLly5fdjgMAMIDHcRzH7RAbNmzQhQsXCsZ3\\\n",
              "7typu+++W4sWLZLH49Hzzz+vwcFB7du3b9TnicfjisfjkqRMJqO//vWv05obAGabUCikZDLpdowJ\\\n",
              "MaLAJurs2bNqaGjQqVOnvnRbm/4SAMAUNh07jZ9CHBwczN8+dOiQampqXEwDADCF8asQn332WfX0\\\n",
              "9Mjj8ai8vFx79+51OxIAwADGF9hvfvMbtyMAAAxk/BQiAACjocAAAFaiwAAAVqLAAABWosAAAFai\\\n",
              "wAAAVqLAAABWosAAAFaiwIA5KJvNTmocMBEFBswxsVhMwWBQqVRqxHgqlVIwGFQsFnMnGDBJFBgw\\\n",
              "h8RiMbW0tCidTiscDudLLJVKKRwOK51Oq6WlhRKDFSgwYI7IlVdOrsQOHz6cL68cSgw2oMCAOSCb\\\n",
              "zaqtra1gPJ1Oq6GhYUR55bS1tfGZGIxGgQFzgNfrVSKRkM/nm9D2Pp9PiURCXq93mpMB148CA+aI\\\n",
              "QCAwoRL7P7cu1uudRxUIBGYoGXB9KDBgDgkEAorH4+Nu8/1/+Td9lrmlYPzDT65o7+/P6MNPrkxX\\\n",
              "PGBSKDBgDkmlUopGo+Nu81///QsVLf64YPxg8pxaX/+zDibPTVc8YFKMKbCDBw+qurpa8+bNUzKZ\\\n",
              "HPFYa2urKisrVVVVpaNHj7qUELDb8KXy47n8t4zua9hU8D2xfw0t1f+9b4X+NbR0OmMCE2ZMgdXU\\\n",
              "1OiVV17RunXrRoyfPn1a7e3t6u3tVVdXl5544gldvXrVpZSAnbLZ7ITKKye3xH74KsSF/7xAj61f\\\n",
              "poX/vGC6YgKTYkyBrVy5UlVVVQXjHR0d2rp1q4qLi3X77bersrJS3d3dLiQE7OX1ehWJRArGfT6f\\\n",
              "Ojs7R13YEYlEWIUIoxlTYGMZGBjQ0qWfT1mUlZVpYGDAxUSAnWKxmJqbm/P3c0vl6+vrC1YnNjc3\\\n",
              "80VmGK9oJn/Zhg0bdOHChYLxnTt3avPmzTf8/PF4PL/CKpPJ3PDzAbNNrpTa2tqUSCTyS+VzS+zD\\\n",
              "4bAikQjlZYlsNjvqu+SxxmebGS2wY8eOTfpn/H6/zp37fNXT+fPn5ff7R902Go3mV1iFQqHrCwnM\\\n",
              "crFYTD/60Y8KDnCBQEAnT56cEwe+2SAWixX8R0T6fLHOXPiPiPFTiI2NjWpvb9fQ0JD6+/vV19en\\\n",
              "tWvXuh0LsNpYJUV52YGTMl9jTIEdOnRIZWVlevfdd1VfX69NmzZJkqqrq/XQQw9p1apVuvfee/XS\\\n",
              "Sy9p/vz5LqcFAHdwUubPeRzHcdwOMR1CoVDB98kAwGbZbFbBYHDCX4eQri3WmczUsE3HTmPegQEA\\\n",
              "xsdJmUeiwADAIhM9KXOuvGbzSZkpMACwzEROyvwf/++lWV1eEgUGANaZyEmZd+zYUXA+y9mGAgMA\\\n",
              "i0z0pMz/c+niiCX2sxEFBgCWmIqTMs8mFBgAWIKTMo9EgQGARTgp8+dm9FyIAIAbx0mZr+FMHABg\\\n",
              "qek4G71Nx06mEAHAUnP9pMwUGADAShQYAMBKFBgAwEoUGADAShQYAMBKFBgAwErGFNjBgwdVXV2t\\\n",
              "efPmjfgOwtmzZ3XTTTeptrZWtbW12rFjh4spAQCmMOZMHDU1NXrllVf02GOPFTy2bNky9fT0uJAK\\\n",
              "AGAqYwps5cqVbkcAAFjEmCnE8fT39+vOO+/U+vXr9fbbb7sdBwBggBl9B7ZhwwZduHChYHznzp3a\\\n",
              "vHnzqD9TWlqq999/X16vVydOnNADDzyg3t5e3XrrrQXbxuPx/GW2M5nM1IYHABhlRgvs2LFjk/6Z\\\n",
              "4uJiFRcXS5LWrFmjZcuWKZVKKRQKFWwbjUbzl9ke7XEAwOxh/BRiJpPR1atXJUnvvfee+vr6VFFR\\\n",
              "4XIqAIDbjCmwQ4cOqaysTO+++67q6+u1adMmSdJbb72lYDCo2tpafe9739OePXu0cOFCl9MCANzG\\\n",
              "9cAAAHk2HTuNeQcGAMBkUGAAACtRYAAAK1FgAAArUWAAACtRYAAAK1FgAAArUWAAACtRYAAAK1Fg\\\n",
              "AAArUWAAACtRYAAAK1FgAAArUWAAACtRYAAAK1FgAAArUWAAACsZU2DPPPOMVqxYoWAwqC1btuij\\\n",
              "jz7KP9ba2qrKykpVVVXp6NGjLqYEAJjCmAKrq6vTqVOndPLkSQUCAbW2tkqSTp8+rfb2dvX29qqr\\\n",
              "q0tPPPGErl696nJaAIDbjCmwjRs3qqioSJJ099136/z585Kkjo4Obd26VcXFxbr99ttVWVmp7u5u\\\n",
              "N6MCAAxgTIENt2/fPt13332SpIGBAS1dujT/WFlZmQYGBtyKBgAwRNFM/rINGzbowoULBeM7d+7U\\\n",
              "5s2b87eLioq0bdu2ST9/PB5XPB6XJGUymRsLCwAw2owW2LFjx8Z9/OWXX1ZnZ6eOHz8uj8cjSfL7\\\n",
              "/Tp37lx+m/Pnz8vv94/689FoVNFoVJIUCoWmKDUAwETGTCF2dXXpxRdf1Guvvaabb745P97Y2Kj2\\\n",
              "9nYNDQ2pv79ffX19Wrt2rYtJAQAmmNF3YON58sknNTQ0pLq6OknXFnLs2bNH1dXVeuihh7Rq1SoV\\\n",
              "FRXppZde0vz5811OCwBwm8dxHMftENMhFAopmUy6HQMArGLTsdOYKUQAACaDAgMAWIkCAwBYiQID\\\n",
              "AFiJAgMAWIkCAwBYiQIDAFiJAgMAWIkCAzDlstnspMaB60GBAZhSsVhMwWBQqVRqxHgqlVIwGFQs\\\n",
              "FnMnGGYdCgzAlInFYmppaVE6nVY4HM6XWCqVUjgcVjqdVktLCyWGKUGBAZgSufLKyZXY4cOH8+WV\\\n",
              "Q4lhKlBgAG5YNptVW1tbwXg6nVZDQ8OI8sppa2vjMzHcEAoMwA3zer1KJBLy+XwT2t7n8ymRSMjr\\\n",
              "9U5zMsxmFBiAKREIBCZUYrnyCgQCM5QMsxUFBmDKBAIBxePxcbeJx+OUF6YEBQZgyqRSKUWj0XG3\\\n",
              "iUajBUvsgethTIE988wzWrFihYLBoLZs2aKPPvpIknT27FnddNNNqq2tVW1trXbs2OFyUgCjGb5U\\\n",
              "fjxfXGIPXC9jCqyurk6nTp3SyZMnFQgE1Nramn9s2bJl6unpUU9Pj/bs2eNiSgCjyWazEyqvnFyJ\\\n",
              "sQoRN8KYAtu4caOKiookSXfffbfOnz/vciIAE+X1ehWJRArGfT6fOjs7R13YEYlEWIWIG2JMgQ23\\\n",
              "b98+3Xffffn7/f39uvPOO7V+/Xq9/fbbLiYDMJZYLKbm5ub8/dxqw/r6+oLVic3NzXyRGTesaCZ/\\\n",
              "2YYNG3ThwoWC8Z07d2rz5s3520VFRdq2bZskqbS0VO+//768Xq9OnDihBx54QL29vbr11lsLnice\\\n",
              "j+dXQGUymWn8kwAYTa6U2traRiyVzy2xD4fDikQilBemhMdxHMftEDkvv/yy9u7dq+PHj+vmm28e\\\n",
              "dZtvfetb+vnPf65QKDTuc4VCISWTyemICeBLZLPZUacHxxqHOWw6dhozhdjV1aUXX3xRr7322ojy\\\n",
              "ymQyunr1qiTpvffeU19fnyoqKtyKCWACxiopygtTaUanEMfz5JNPamhoSHV1dZKuLeTYs2eP3nrr\\\n",
              "Lf30pz/VV77yFc2bN0979uzRwoULXU4LAHCbUVOIU2nRokUqLy+f0LaZTEaLFy+e3kDXyeRsktn5\\\n",
              "TM4mmZ3P5GyS2flMziZ9eb6zZ8/q0qVLM5jo+s3aApsMk+d8Tc4mmZ3P5GyS2flMziaZnc/kbJL5\\\n",
              "+SbDmM/AAACYDAoMAGCl+TG+kCFJWrNmjdsRxmRyNsnsfCZnk8zOZ3I2yex8JmeTzM83UXwGBgCw\\\n",
              "ElOIAAArzdkCG+vyLZLU2tqqyspKVVVV6ejRo67kO3jwoKqrqzVv3rwRK4ZMuLzMWNkkM/bdcLFY\\\n",
              "TH6/P7+/jhw54nYkdXV1qaqqSpWVldq1a5fbcQqUl5frjjvuUG1t7Zee8WYmNDU1qaSkRDU1Nfmx\\\n",
              "Dz/8UHV1dVq+fLnq6up0+fJlY7KZ8po7d+6cwuGwVq1aperqav3yl7+UZM6+mxLOHHX06FHn008/\\\n",
              "dRzHcZ599lnn2WefdRzHcXp7e51gMOj84x//cN577z2noqLC+eyzz2Y83+nTp50///nPzvr1650/\\\n",
              "/OEP+fH+/n6nurp6xvMMN1Y2U/bdcM3Nzc7PfvYzVzMM99lnnzkVFRXOmTNnnKGhIScYDDq9vb1u\\\n",
              "xxrhq1/9qpPJZNyOkff73//eOXHixIjX/TPPPOO0trY6juM4ra2t+X+/JmQz5TWXTqedEydOOI7j\\\n",
              "OH/729+c5cuXO729vcbsu6kwZ9+BjXX5lo6ODm3dulXFxcW6/fbbVVlZqe7u7hnPt3LlSlVVVc34\\\n",
              "752IsbKZsu9M1t3drcrKSlVUVGjBggXaunWrOjo63I5ltHXr1hWcfaejo0Pbt2+XJG3fvl2vvvqq\\\n",
              "G9FGzWaK0tJSfe1rX5Mk3XLLLVq5cqUGBgaM2XdTYc4W2HDDL98yMDCgpUuX5h8rKyvTwMCAW9FG\\\n",
              "ZerlZUzdd7t371YwGFRTU5Pr0yWm7qPhPB6PNm7cqDVr1uSv7mCaixcvqrS0VJJ022236eLFiy4n\\\n",
              "Gsmk15x07aOHP/7xj/r6179u/L6bDGPOhTgdrufyLTNpIvm+aDKXl5npbG4ZL+vjjz+u559/Xh6P\\\n",
              "R88//7yefvpp7du3z4WU9njnnXfk9/v1wQcfqK6uTitWrNC6devcjjUmj8cjj8fjdow8015zf//7\\\n",
              "3/Xggw/qF7/4RcFxwrR9N1mzusCOHTs27uMvv/yyOjs7dfz48fxfot/v17lz5/LbnD9/Xn6/35V8\\\n",
              "oykuLlZxcbGka9/lWLZsmVKp1JR/2H492WZy3w030ayRSEQNDQ3TnGZ8bu2jycjlKSkp0ZYtW9Td\\\n",
              "3W1cgS1ZskSDg4MqLS3V4OCgSkpK3I6Ut2TJkvxtt19zn376qR588EFt27ZN3/3udyWZve8ma85O\\\n",
              "IY51+ZbGxka1t7draGhI/f396uvr09q1a11MOpLJl5cxcd8NDg7mbx86dGjEajE33HXXXerr61N/\\\n",
              "f7+uXLmi9vZ2NTY2upppuE8++UQff/xx/vYbb7zh+j4bTWNjo/bv3y9J2r9/v1GzAqa85hzH0aOP\\\n",
              "PqqVK1fqxz/+cX7c5H03aW6vInHLsmXLnLKyMmf16tXO6tWrncceeyz/2AsvvOBUVFQ4gUDAOXLk\\\n",
              "iCv5XnnlFcfv9zsLFixwSkpKnI0bNzqO4zi//e1vnVWrVjmrV6927rzzTue1114zJpvjmLHvhvvB\\\n",
              "D37g1NTUOHfccYfzne98x0mn025Hcg4fPuwsX77cqaiocF544QW344xw5swZJxgMOsFg0Fm1apUR\\\n",
              "+bZu3ercdtttTlFRkeP3+51f/epXzqVLl5xvf/vbTmVlpXPPPfc42WzWmGymvObefvttR5Jzxx13\\\n",
              "5I9zhw8fNmbfTQXOxAEAsNKcnUIEANiNAgMAWIkCAwBYiQIDAFiJAgMAWIkCAwBYiQIDAFiJAgMA\\\n",
              "WIkCAwBYiQIDAFiJAgMAWIkCAwBYiQIDAFiJAgMAWIkCAwBYiQIDAFiJAgMAWIkCAwBYiQIDAFiJ\\\n",
              "AgMAWOn/AyP0pP/iKbSeAAAAAElFTkSuQmCC\\\n",
              "\"\n",
              "  frames[3] = \"data:image/png;base64,iVBORw0KGgoAAAANSUhEUgAAAbAAAAEgCAYAAADVKCZpAAAABHNCSVQICAgIfAhkiAAAAAlwSFlz\\\n",
              "AAALEgAACxIB0t1+/AAAADh0RVh0U29mdHdhcmUAbWF0cGxvdGxpYiB2ZXJzaW9uMy4yLjIsIGh0\\\n",
              "dHA6Ly9tYXRwbG90bGliLm9yZy+WH4yJAAAY10lEQVR4nO3dX2xT9/3/8ZchI2ql9gJDIHHQQggO\\\n",
              "kGDCcBmTJpgHgZZkoaxTRcUkqkx2/6y76DpQb1gcqSio28UmUQmcDYG+F43EBA0CFjpQulKpUma0\\\n",
              "DBG0OYKwQhyocanWVVraRud3wc8uwUmakD/n80mej6vk+MR59+D6KR9/nONxHMcRAACWmeX2AAAA\\\n",
              "PAwCBgCwEgEDAFiJgAEArETAAABWImAAACsRMACAlQgYAMBKBAwAYCUCBgCwEgEDAFiJgAEArETA\\\n",
              "AABWImAAACsRMACAlQgYAMBKBAwAYCUCBgCwEgEDAFiJgAEArETAAABWImAAACsRMACAlQgYAMBK\\\n",
              "BAwAYCUCBgCwEgEDAFiJgAEArETAAABWImAAACsRMACAlQgYAMBKBAwAYCUCBgCwUp7bA0yWefPm\\\n",
              "qaSkxO0xAMAq169f1507d9weY1SmbcBKSkoUj8fdHgMArBIMBt0eYdSMOoVYX1+vgoICVVZWZrdF\\\n",
              "o1H5fD5VVVWpqqpKZ86ccXFC2CqdTo9pOwDzGRWw559/Xm1tbTnbX331VXV2dqqzs1Nbt251YTLY\\\n",
              "LBqNKhAIKJFIDNqeSCQUCAQUjUbdGQzAuBgVsPXr12vu3Lluj4FpJBqNqrGxUclkUqFQKBuxRCKh\\\n",
              "UCikZDKpxsZGIgZYyKiADefAgQMKBAKqr6/X3bt33R4HlsjEKyMTsdOnT2fjlUHEAPsYH7CXXnpJ\\\n",
              "V69eVWdnpwoLC/Xaa68Nu28sFlMwGFQwGFQqlZrCKWGadDqt5ubmnO3JZFK1tbWD4pXR3NzMe2KA\\\n",
              "RYwP2IIFCzR79mzNmjVL4XBYHR0dw+4biUQUj8cVj8c1f/78KZwSpvF6vWpvb1dRUdGo9i8qKlJ7\\\n",
              "e7u8Xu8kTwZgohgfsL6+vuzXJ06cGLRCERiJ3+8fVcQy8fL7/VM0GYCJYNTnwJ577jm99957unPn\\\n",
              "joqLi9XY2Kj33ntPnZ2d8ng8Kikp0aFDh9weExbx+/2Kbbir2reH3ycWixEvwEIex3Ect4eYDMFg\\\n",
              "kA8y495qw+AyJT8b/mHOKzDgazY9dxp/ChF4WNml8iPES1LOEnsAdiBgmJbS6XTOUvmRZCLGKkTA\\\n",
              "HgQM05LX61U4HM7ZXlRUpFOnTg25sCMcDrMKEbAIAcO0FY1G1dDQkP0+815XTU1NzurEhoYGPsgM\\\n",
              "WMaoVYjARMtEqbm5edBCjcwS+1AopHA4TLwAC7EKETNCOp0e8vTgcNuBmcqm505OIWJGGC5SxAuw\\\n",
              "FwEDAFiJgAEArETAAABWImAAACsRMACAlQgYAMBKBAwAYCUCBgCwEgEDAFiJgAEArGRcwOrr61VQ\\\n",
              "UKDKysrstk8++UTV1dVaunSpqqurdffuXRcnBACYwLiAPf/882praxu0bf/+/dq4caO6u7u1ceNG\\\n",
              "7d+/36XpAACmMC5g69ev19y5cwdta21t1a5duyRJu3bt0jvvvOPGaAAAgxgXsKHcvn1bhYWFkqSF\\\n",
              "Cxfq9u3bLk8EAHCbdRe09Hg88ng8Q94Wi8UUi8UkSalUairHAgBMMStegS1YsEB9fX2SpL6+PhUU\\\n",
              "FAy5XyQSUTweVzwe1/z586dyRADAFLMiYHV1dTp69Kgk6ejRo9q2bZvLEwEA3GZcwJ577jl973vf\\\n",
              "07/+9S8VFxfrj3/8o15//XX95S9/0dKlS3Xu3Dm9/vrrbo8JAHCZce+Bvf3220NuP3/+/BRPAgAw\\\n",
              "mXGvwAAAGA0CBgCwEgEDAFiJgAEArETAAABWImAAACsRMACAlQgYAMBKBAwAYCUCBgCwEgEDAFiJ\\\n",
              "gAEArETAAABWImAAACsRMACAlQgYAMBKBAwAYCXjrsg8nJKSEj322GOaPXu28vLyFI/H3R4JAOAi\\\n",
              "awImSe3t7Zo3b57bYwAADMApxP8vnU6PaTsAwF3WBMzj8Wjz5s1as2aNYrHYhN53NBpVIBBQIpEY\\\n",
              "tD2RSCgQCCgajU7o7wMAjJ81pxA/+OAD+Xw+ffzxx6qurtayZcu0fv36QfvEYrFs3FKp1KjuNxqN\\\n",
              "qrGxUZIUCoXU3t4uv9+vRCKhUCikZDKZvZ2QAYA5rHkF5vP5JEkFBQXavn27Ojo6cvaJRCKKx+OK\\\n",
              "x+OaP3/+N97n/fGSpGQyqVAopNOnT2fjldHY2EjAAMAgVgTs888/12effZb9+t1331VlZeW47jOd\\\n",
              "Tqu5uTlnezKZVG1t7aB4ZTQ3N/OeGAAYwoqA3b59W9///ve1atUqrV27VjU1NXryySfHdZ9er1ft\\\n",
              "7e0qKioa1f5FRUVqb2+X1+sd1+8FAEwMK94DKy0t1T/+8Y8Jv1+/36/29vac04UPysTL7/dP+AwA\\\n",
              "gIdjxSuwyeT3+79xVWMsFiNeAGCYGR+wRCKhSCQy4j6RSCRniT0AwF0zOmD3L5UfSWZ1IhEDAHPM\\\n",
              "2ICl0+lRxSsjEzFWIQKAGWZswLxer8LhcM72oqIinTp1asjVieFwmFWIAGCIGRsw6d4HmRsaGrLf\\\n",
              "Z1Yb1tTU5Cyxb2ho4IPMAGAQK5bRT6ZMlJqbmwctlb9/iX04HCZeAGAYj+M4jttDTIZgMDima4al\\\n",
              "0+khTw8Otx0ApqOxPne6aUafQrzfcJEiXgBgJgIGALASAQMAWImAAQCsRMAAAFYiYAAAKxEwAICV\\\n",
              "CBgAwErWBKytrU3l5eUqKyvT/v373R4HAOAyKwI2MDCgn//85/rzn/+sK1eu6O2339aVK1fcHgsA\\\n",
              "4CIrAtbR0aGysjKVlpZqzpw52rFjh1pbW90eCwDgIisC1tvbq0WLFmW/Ly4uVm9vr4sTAQDcNq3+\\\n",
              "Gn0sFlMsFpMkpVIpl6cBAEwmK16B+Xw+3bhxI/v9zZs35fP5cvaLRCKKx+OKx+OaP3/+VI4IAJhi\\\n",
              "VgTsiSeeUHd3t3p6evTFF1+opaVFdXV1bo8FAHCRFacQ8/LydODAAW3ZskUDAwOqr69XRUWF22MB\\\n",
              "AFxkRcAkaevWrdq6davbYwAADGHFKUQAAB5EwAAAViJgAAArETAAgJUIGADASgQMAGAlAgYAsBIB\\\n",
              "AwBYiYABAKxEwAAAViJgAAArETAAgJUIGADASgQMAGAlAgYAsBIBAwBYiYABAKxkfMCi0ah8Pp+q\\\n",
              "qqpUVVWlM2fOuD0SAMAAeW4PMBqvvvqqfvWrX7k9BgDAIMa/AgMAYChWBOzAgQMKBAKqr6/X3bt3\\\n",
              "3R4HAGAAj+M4jttDbNq0Sbdu3crZvm/fPq1bt07z5s2Tx+PR3r171dfXp8OHDw95P7FYTLFYTJKU\\\n",
              "SqX073//e1LnBoDpJhgMKh6Puz3GqBgRsNG6fv26amtrdfny5W/c16Z/BAAwhU3PncafQuzr68t+\\\n",
              "feLECVVWVro4DQDAFMavQtyzZ486Ozvl8XhUUlKiQ4cOuT0SAMAAxgfs//7v/9weAQBgIONPIQIA\\\n",
              "MBQCBgCwEgEDAFiJgAEArETAAABWImAAACsRMACAlQgYAMBKBAyYodLp9Ji2A6YhYMAMFI1GFQgE\\\n",
              "lEgkBm1PJBIKBAKKRqPuDAaMAQEDZphoNKrGxkYlk0mFQqFsxBKJhEKhkJLJpBobG4kYjEfAgBkk\\\n",
              "E6+MTMROnz6djVcGEYPpCBgwQ6TTaTU3N+dsTyaTqq2tHRSvjObmZt4Tg7EIGDBDeL1etbe3q6io\\\n",
              "aFT7FxUVqb29XV6vd5InAx4OAQNmEL/fP6qIZeLl9/unaDJg7AgYMMP4/X7FYrER94nFYsQLxiNg\\\n",
              "wAyTSCQUiURG3CcSieQssQdMY0zAjh07poqKCs2aNUvxeHzQbU1NTSorK1N5ebnOnj3r0oSA/e5f\\\n",
              "Kj+SB5fYAyYyJmCVlZU6fvy41q9fP2j7lStX1NLSoq6uLrW1tenll1/WwMCAS1MC9kqn06OKV0Ym\\\n",
              "YqxChKmMCdjy5ctVXl6es721tVU7duxQfn6+Fi9erLKyMnV0dLgwIWA3r9ercDics72oqEinTp0a\\\n",
              "cmFHOBxmFSKMZUzAhtPb26tFixZlvy8uLlZvb6+LEwH2ikajamhoyH6fWW1YU1OTszqxoaGBDzLD\\\n",
              "aHlT+cs2bdqkW7du5Wzft2+ftm3bNu77j8Vi2dVVqVRq3PcHTEeZKDU3Nw9aKp9ZYh8KhRQOh4kX\\\n",
              "jDelATt37tyYf8bn8+nGjRvZ72/evCmfzzfkvpFIJLu6KhgMPtyQwAwQjUb1i1/8Iuf0oN/v16VL\\\n",
              "lzhtaJF0Oj3kv9dw26cT408h1tXVqaWlRf39/erp6VF3d7fWrl3r9liA9YZ7cpvuT3rTyUy/qoAx\\\n",
              "ATtx4oSKi4v14YcfqqamRlu2bJEkVVRU6Nlnn9WKFSv05JNP6q233tLs2bNdnhYA3MVVBSSP4ziO\\\n",
              "20NMhmAwmPN5MgCYDh68qoB0b0FOLBZTJBLJ+ajEWBbk2PTcacwrMADAN+OqAl8jYABgEa4q8DUC\\\n",
              "BgCW4aoC9xAwALAQVxUgYABgJa4qQMAAwDpcVeAeAgYAFuGqAl8jYABgEa4q8DUCBgCW4aoC90zp\\\n",
              "H/MFAEwMrirAn5ICAKtN9F+jt+m5k1OIAGCxmXxVAQIGALASAQMAWImAAQCsRMAAAFYiYAAAKxkT\\\n",
              "sGPHjqmiokKzZs0atITz+vXreuSRR1RVVaWqqiq9+OKLLk4JADCFMR9krqys1PHjx/XCCy/k3LZk\\\n",
              "yRJ1dna6MBUAwFTGBGz58uVujwAAsIgxpxBH0tPTo9WrV2vDhg26cOGC2+MAAAwwpa/ANm3apFu3\\\n",
              "buVs37dvn7Zt2zbkzxQWFuqjjz6S1+vVxYsX9fTTT6urq0uPP/54zr6xWCx7hdJUKjWxwwMAjDKl\\\n",
              "ATt37tyYfyY/P1/5+fmSpDVr1mjJkiVKJBIKBoM5+0YikewVSoe6HQAwfRh/CjGVSmlgYECSdO3a\\\n",
              "NXV3d6u0tNTlqQAAbjMmYCdOnFBxcbE+/PBD1dTUaMuWLZKk999/X4FAQFVVVfrJT36igwcPau7c\\\n",
              "uS5PCwBwG5dTAQBk2fTcacwrMAAAxoKAAQCsRMAAAFYiYAAAKxEwAICVCBgAwEoEDABgJQIGALAS\\\n",
              "AQMAWImAAQCsRMAAAFYiYAAAKxEwAICVCBgAwEoEDABgJQIGALASAQMAWMmYgO3evVvLli1TIBDQ\\\n",
              "9u3b9emnn2Zva2pqUllZmcrLy3X27FkXpwQAmMKYgFVXV+vy5cu6dOmS/H6/mpqaJElXrlxRS0uL\\\n",
              "urq61NbWppdfflkDAwMuTwsAcJsxAdu8ebPy8vIkSevWrdPNmzclSa2trdqxY4fy8/O1ePFilZWV\\\n",
              "qaOjw81RAQAGMCZg9zt8+LCeeuopSVJvb68WLVqUva24uFi9vb1ujQYAMETeVP6yTZs26datWznb\\\n",
              "9+3bp23btmW/zsvL086dO8d8/7FYTLFYTJKUSqXGNywAwGhTGrBz586NePuRI0d06tQpnT9/Xh6P\\\n",
              "R5Lk8/l048aN7D43b96Uz+cb8ucjkYgikYgkKRgMTtDUAAATGXMKsa2tTW+++aZOnjypRx99NLu9\\\n",
              "rq5OLS0t6u/vV09Pj7q7u7V27VoXJwUAmGBKX4GN5JVXXlF/f7+qq6sl3VvIcfDgQVVUVOjZZ5/V\\\n",
              "ihUrlJeXp7feekuzZ892eVoAgNs8juM4bg8xGYLBoOLxuNtjAIBVbHruNOYUIgAAY0HAAABWImAA\\\n",
              "ACsRMACAlQgYAMBKBAwAYCUCBgCwEgEDAFiJgAGYFOl0ekzbgbEiYAAmXDQaVSAQUCKRGLQ9kUgo\\\n",
              "EAgoGo26MximFQIGYEJFo1E1NjYqmUwqFAplI5ZIJBQKhZRMJtXY2EjEMG4EDMCEycQrIxOx06dP\\\n",
              "Z+OVQcQwXgQMwIRIp9Nqbm7O2Z5MJlVbWzsoXhnNzc28J4aHRsAATAiv16v29nYVFRWNav+ioiK1\\\n",
              "t7fL6/VO8mSYrggYgAnj9/tHFbFMvPx+/xRNhumIgAGYUH6/X7FYbMR9YrEY8cK4ETAAEyqRSCgS\\\n",
              "iYy4TyQSyVliD4yVMQHbvXu3li1bpkAgoO3bt+vTTz+VJF2/fl2PPPKIqqqqVFVVpRdffNHlSQEM\\\n",
              "5/6l8iN5cIk98DCMCVh1dbUuX76sS5cuye/3q6mpKXvbkiVL1NnZqc7OTh08eNDFKQEMJ51Ojype\\\n",
              "GZmIsQoRD8uYgG3evFl5eXmSpHXr1unmzZsuTwRgLLxer8LhcM72oqIinTp1asiFHeFwmFWIeGjG\\\n",
              "BOx+hw8f1lNPPZX9vqenR6tXr9aGDRt04cIFFycDMJJoNKqGhobs95nVhjU1NTmrExsaGvggM8Yl\\\n",
              "byp/2aZNm3Tr1q2c7fv27dO2bduyX+fl5Wnnzp2SpMLCQn300Ufyer26ePGinn76aXV1denxxx/P\\\n",
              "uZ9YLJZd/ZRKpSbxvwTAcDJRam5uHrRUPrPEPhQKKRwOEy+Mm8dxHMftITKOHDmiQ4cO6fz583r0\\\n",
              "0UeH3OcHP/iBfvvb3yoYDI54X8FgUPF4fDLGBDAK6XR6yNODw22HGWx67jTmFGJbW5vefPNNnTx5\\\n",
              "clC8UqmUBgYGJEnXrl1Td3e3SktL3RoTwCgNFynihYkypacQR/LKK6+ov79f1dXVku4t5Dh48KDe\\\n",
              "f/99/frXv9a3vvUtzZo1SwcPHtTcuXNdnhYA4DajTiFOpHnz5qmkpOQb90ulUpo/f/7kD/SQmO/h\\\n",
              "mTybxHzjZfJ8Js8mjTzf9evXdefOnSme6OFM24CNlunne5nv4Zk8m8R842XyfCbPJpk/32gZ8x4Y\\\n",
              "AABjQcAAAFaaHeXDGFqzZo3bI4yI+R6eybNJzDdeJs9n8myS+fONxox/DwwAYCdOIQIArDRjAzbc\\\n",
              "5VskqampSWVlZSovL9fZs2enfLZjx46poqJCs2bNGrRSyJRLyww3n+T+sXtQNBqVz+fLHrMzZ864\\\n",
              "PZKkex/cLy8vV1lZmfbv3+/2OIOUlJRo5cqVqqqq+sa/eDMV6uvrVVBQoMrKyuy2Tz75RNXV1Vq6\\\n",
              "dKmqq6t19+5do+Yz5XF348YNhUIhrVixQhUVFfr9738vyazjNy7ODHX27Fnnyy+/dBzHcfbs2ePs\\\n",
              "2bPHcRzH6erqcgKBgPO///3PuXbtmlNaWup89dVXUzrblStXnH/+85/Ohg0bnL/97W/Z7T09PU5F\\\n",
              "RcWUzjKU4eYz4dg9qKGhwfnNb37j6gwP+uqrr5zS0lLn6tWrTn9/vxMIBJyuri63x8r69re/7aRS\\\n",
              "KbfHyPrrX//qXLx4cdBjf/fu3U5TU5PjOI7T1NSU/f/XDUPNZ8rjLplMOhcvXnQcx3H+85//OEuX\\\n",
              "LnW6urqMOn7jMWNfgQ13+ZbW1lbt2LFD+fn5Wrx4scrKytTR0TGlsy1fvlzl5eVT+jvHYrj5TDh2\\\n",
              "Nujo6FBZWZlKS0s1Z84c7dixQ62trW6PZaz169fn/PWd1tZW7dq1S5K0a9cuvfPOO26MJmno+UxR\\\n",
              "WFio73znO5Kkxx57TMuXL1dvb69Rx288ZmzA7nf/5Vt6e3u1aNGi7G3FxcXq7e11a7QcJl9axtRj\\\n",
              "d+DAAQUCAdXX1xtxqsTU45Th8Xi0efNmrVmzJnt1B9Pcvn1bhYWFkqSFCxfq9u3bLk+Uy7TH3fXr\\\n",
              "1/X3v/9d3/3ud604fqNhzN9CnAwPc/kWk2Z70FguLePGfG4ZadaXXnpJe/fulcfj0d69e/Xaa6/p\\\n",
              "8OHDLkxpjw8++EA+n08ff/yxqqurtWzZMq1fv97tsYbl8Xjk8XjcHmMQ0x53//3vf/XMM8/od7/7\\\n",
              "Xc7zhYnHb7SmdcDOnTs34u1HjhzRqVOndP78+ew/oM/n040bN7L73Lx5Uz6fb8pnG0p+fr7y8/Ml\\\n",
              "3fsMx5IlS5RIJCbljfaHmW+qjt2DRjtrOBxWbW3tJE/zzdw6TqOVmaWgoEDbt29XR0eHcQFbsGCB\\\n",
              "+vr6VFhYqL6+PhUUFLg90iALFizIfu324+7LL7/UM888o507d+rHP/6xJPOP32jN2FOIw12+pa6u\\\n",
              "Ti0tLerv71dPT4+6u7u1du1aFyf9mumXljHx2PX19WW/PnHixKCVYm554okn1N3drZ6eHn3xxRdq\\\n",
              "aWlRXV2d22NJkj7//HN99tln2a/fffddI47Zg+rq6nT06FFJ0tGjR407K2DK485xHP3sZz/T8uXL\\\n",
              "9ctf/jK73fTjN2puryJxy5IlS5zi4mJn1apVzqpVq5wXXnghe9sbb7zhlJaWOn6/3zlz5syUz3b8\\\n",
              "+HHH5/M5c+bMcQoKCpzNmzc7juM4f/rTn5wVK1Y4q1atclavXu2cPHlyymcbaT7Hcf/YPeinP/2p\\\n",
              "U1lZ6axcudL50Y9+5CSTSbdHchzHcU6fPu0sXbrUKS0tdd544w23x8m6evWqEwgEnEAg4KxYscKI\\\n",
              "2Xbs2OEsXLjQycvLc3w+n/OHP/zBuXPnjvPDH/7QKSsrczZu3Oik02mj5jPlcXfhwgVHkrNy5crs\\\n",
              "c93p06eNOn7jwV/iAABYacaeQgQA2I2AAQCsRMAAAFYiYAAAKxEwAICVCBgAwEoEDABgJQIGALAS\\\n",
              "AQMAWImAAQCsRMAAAFYiYAAAKxEwAICVCBgAwEoEDABgJQIGALASAQMAWImAAQCsRMAAAFYiYAAA\\\n",
              "K/0/C9OQU0jbes0AAAAASUVORK5CYII=\\\n",
              "\"\n",
              "  frames[4] = \"data:image/png;base64,iVBORw0KGgoAAAANSUhEUgAAAbAAAAEgCAYAAADVKCZpAAAABHNCSVQICAgIfAhkiAAAAAlwSFlz\\\n",
              "AAALEgAACxIB0t1+/AAAADh0RVh0U29mdHdhcmUAbWF0cGxvdGxpYiB2ZXJzaW9uMy4yLjIsIGh0\\\n",
              "dHA6Ly9tYXRwbG90bGliLm9yZy+WH4yJAAAY2ElEQVR4nO3dX2xT9/3/8ZchI2ql9gJDIHHQQggO\\\n",
              "kGDCcBmTpjAPAi3JQlmniopJVJns/ll30XWg3rA4UlFQt4tNohI4GwJ9LxqJCRoELHSgdKVSpcxo\\\n",
              "GSJocwRhhThQ41KtqzTaRud3wc8uwUmahCTn80mej6vk+MR59+D6KR9/nONxHMcRAACWmeX2AAAA\\\n",
              "jAcBAwBYiYABAKxEwAAAViJgAAArETAAgJUIGADASgQMAGAlAgYAsBIBAwBYiYABAKxEwAAAViJg\\\n",
              "AAArETAAgJUIGADASgQMAGAlAgYAsBIBAwBYiYABAKxEwAAAViJgAAArETAAgJUIGADASgQMAGAl\\\n",
              "AgYAsBIBAwBYiYABAKxEwAAAViJgAAArETAAgJUIGADASgQMAGAlAgYAsBIBAwBYKc/tASbLvHnz\\\n",
              "VFJS4vYYAGCVa9eu6fbt226PMSrTNmAlJSWKx+NujwEAVgkGg26PMGpGnUJsaGhQQUGBKisrs9ui\\\n",
              "0ah8Pp+qqqpUVVWl06dPuzghbJVOp8e0HYD5jArY888/r/b29pztr776qrq6utTV1aUtW7a4MBls\\\n",
              "Fo1GFQgElEgkBm1PJBIKBAKKRqPuDAbgoRgVsOrqas2dO9ftMTCNRKNRNTU1KZlMKhQKZSOWSCQU\\\n",
              "CoWUTCbV1NRExAALGRWw4ezfv1+BQEANDQ26c+eO2+PAEpl4ZWQidurUqWy8MogYYB/jA/bSSy/p\\\n",
              "ypUr6urqUmFhoV577bVh943FYgoGgwoGg0qlUlM4JUyTTqfV0tKSsz2ZTKqurm5QvDJaWlp4Twyw\\\n",
              "iPEBW7BggWbPnq1Zs2YpHA6rs7Nz2H0jkYji8bji8bjmz58/hVPCNF6vVx0dHSoqKhrV/kVFRero\\\n",
              "6JDX653kyQBMFOMD1t/fn/36+PHjg1YoAiPx+/2jilgmXn6/f4omAzARjPoc2HPPPaf33ntPt2/f\\\n",
              "VnFxsZqamvTee++pq6tLHo9HJSUlOnjwoNtjwiJ+v1+x9XdU9/bw+8RiMeIFWMjjOI7j9hCTIRgM\\\n",
              "8kFm3FttGFym5GfDP8x5BQZ8zabnTuNPIQLjlV0qP0K8JOUssQdgBwKGaSmdTucslR9JJmKsQgTs\\\n",
              "QcAwLXm9XoXD4ZztRUVFOnny5JALO8LhMKsQAYsQMExb0WhUjY2N2e8z73XV1tbmrE5sbGzkg8yA\\\n",
              "ZYxahQhMtEyUWlpaBi3UyCyxD4VCCofDxAuwEKsQMSOk0+khTw8Otx2YqWx67uQUImaE4SJFvAB7\\\n",
              "ETAAgJUIGADASgQMAGAlAgYAsBIBAwBYiYABAKxEwAAAViJgAAArETAAgJUIGADASsYFrKGhQQUF\\\n",
              "BaqsrMxu++STT1RTU6OlS5eqpqZGd+7ccXFCAIAJjAvY888/r/b29kHb9u3bpw0bNqinp0cbNmzQ\\\n",
              "vn37XJoOAGAK4wJWXV2tuXPnDtrW1tamnTt3SpJ27typd955x43RAAAGMS5gQ7l165YKCwslSQsX\\\n",
              "LtStW7dcnggA4DbrLmjp8Xjk8XiGvC0WiykWi0mSUqnUVI4FAJhiVrwCW7Bggfr7+yVJ/f39Kigo\\\n",
              "GHK/SCSieDyueDyu+fPnT+WIAIApZkXA6uvrdeTIEUnSkSNHtHXrVpcnAgC4zbiAPffcc/re976n\\\n",
              "f/3rXyouLtYf//hHvf766/rLX/6ipUuX6uzZs3r99dfdHhMA4DLj3gN7++23h9x+7ty5KZ4EAGAy\\\n",
              "416BAQAwGgQMAGAlAgYAsBIBAwBYiYABAKxEwAAAViJgAAArETAAgJUIGADASgQMAGAlAgYAsBIB\\\n",
              "AwBYiYABAKxEwAAAViJgAAArETAAgJUIGADASsZdkXk4JSUleuyxxzR79mzl5eUpHo+7PRIAwEXW\\\n",
              "BEySOjo6NG/ePLfHAAAYgFOI/186nR7TdgCAu6wJmMfj0aZNm7RmzRrFYrEJve9oNKpAIKBEIjFo\\\n",
              "eyKRUCAQUDQandDfBwB4eNacQvzggw/k8/n08ccfq6amRsuWLVN1dfWgfWKxWDZuqVRqVPcbjUbV\\\n",
              "1NQkSQqFQuro6JDf71cikVAoFFIymczeTsgAwBzWvALz+XySpIKCAm3btk2dnZ05+0QiEcXjccXj\\\n",
              "cc2fP/8b7/P+eElSMplUKBTSqVOnsvHKaGpqImAAYBArAvb555/rs88+y3797rvvqrKy8qHuM51O\\\n",
              "q6WlJWd7MplUXV3doHhltLS08J4YABjCioDdunVL3//+97Vq1SqtXbtWtbW1evLJJx/qPr1erzo6\\\n",
              "OlRUVDSq/YuKitTR0SGv1/tQvxcAMDGseA+stLRU//jHPyb8fv1+vzo6OnJOFz4oEy+/3z/hMwAA\\\n",
              "xseKV2CTye/3f+OqxlgsRrwAwDAzPmCJREKRSGTEfSKRSM4SewCAu2Z0wO5fKj+SzOpEIgYA5pix\\\n",
              "AUun06OKV0YmYqxCBAAzzNiAeb1ehcPhnO1FRUU6efLkkKsTw+EwqxABwBAzNmDSvQ8yNzY2Zr/P\\\n",
              "rDasra3NWWLf2NjIB5kBwCBWLKOfTJkotbS0DFoqf/8S+3A4TLwAwDAex3Ect4eYDMFgcEzXDEun\\\n",
              "00OeHhxuOwBMR2N97nTTjD6FeL/hIkW8AMBMBAwAYCUCBgCwEgEDAFiJgAEArETAAABWImAAACsR\\\n",
              "MACAlawJWHt7u8rLy1VWVqZ9+/a5PQ4AwGVWBGxgYEA///nP9ec//1mXL1/W22+/rcuXL7s9FgDA\\\n",
              "RVYErLOzU2VlZSotLdWcOXO0fft2tbW1uT0WAMBFVgSsr69PixYtyn5fXFysvr4+FycCALhtWv01\\\n",
              "+lgsplgsJklKpVIuTwMAmExWvALz+Xy6fv169vsbN27I5/Pl7BeJRBSPxxWPxzV//vypHBEAMMWs\\\n",
              "CNgTTzyhnp4e9fb26osvvlBra6vq6+vdHgsA4CIrTiHm5eVp//792rx5swYGBtTQ0KCKigq3xwIA\\\n",
              "uMiKgEnSli1btGXLFrfHAAAYwopTiAAAPIiAAQCsRMAAAFYiYAAAKxEwAICVCBgAwEoEDABgJQIG\\\n",
              "ALASAQMAWImAAQCsRMAAAFYiYAAAKxEwAICVCBgAwEoEDABgJQIGALASAQMAWMn4gEWjUfl8PlVV\\\n",
              "VamqqkqnT592eyQAgAHy3B5gNF599VX96le/cnsMAIBBjH8FBgDAUKwI2P79+xUIBNTQ0KA7d+64\\\n",
              "PQ4AwAAex3Ect4fYuHGjbt68mbN97969WrdunebNmyePx6M9e/aov79fhw4dGvJ+YrGYYrGYJCmV\\\n",
              "Sunf//73pM4NANNNMBhUPB53e4xRMSJgo3Xt2jXV1dXp0qVL37ivTf8IAGAKm547jT+F2N/fn/36\\\n",
              "+PHjqqysdHEaAIApjF+FuHv3bnV1dcnj8aikpEQHDx50eyQAgAGMD9j//d//uT0CAMBAxp9CBABg\\\n",
              "KAQMAGAlAgYAsBIBAwBYiYABAKxEwAAAViJgAAArETAAgJUIGDBDpdPpMW0HTEPAgBkoGo0qEAgo\\\n",
              "kUgM2p5IJBQIBBSNRt0ZDBgDAgbMMNFoVE1NTUomkwqFQtmIJRIJhUIhJZNJNTU1ETEYj4ABM0gm\\\n",
              "XhmZiJ06dSobrwwiBtMRMGCGSKfTamlpydmeTCZVV1c3KF4ZLS0tvCcGYxEwYIbwer3q6OhQUVHR\\\n",
              "qPYvKipSR0eHvF7vJE8GjA8BA2YQv98/qohl4uX3+6doMmDsCBgww/j9fsVisRH3icVixAvGI2DA\\\n",
              "DJNIJBSJREbcJxKJ5CyxB0xjTMCOHj2qiooKzZo1S/F4fNBtzc3NKisrU3l5uc6cOePShID97l8q\\\n",
              "P5IHl9gDJjImYJWVlTp27Jiqq6sHbb98+bJaW1vV3d2t9vZ2vfzyyxoYGHBpSsBe6XR6VPHKyESM\\\n",
              "VYgwlTEBW758ucrLy3O2t7W1afv27crPz9fixYtVVlamzs5OFyYE7Ob1ehUOh3O2FxUV6eTJk0Mu\\\n",
              "7AiHw6xChLGMCdhw+vr6tGjRouz3xcXF6uvrc3EiwF7RaFSNjY3Z7zOrDWtra3NWJzY2NvJBZhgt\\\n",
              "byp/2caNG3Xz5s2c7Xv37tXWrVsf+v5jsVh2dVUqlXro+wOmo0yUWlpaBi2VzyyxD4VCCofDxAvG\\\n",
              "m9KAnT17dsw/4/P5dP369ez3N27ckM/nG3LfSCSSXV0VDAbHNyQwA0SjUf3iF7/IOT3o9/t18eJF\\\n",
              "ThtaJJ1OD/nvNdz26cT4U4j19fVqbW3V3bt31dvbq56eHq1du9btsQDrDffkNt2f9KaTmX5VAWMC\\\n",
              "dvz4cRUXF+vDDz9UbW2tNm/eLEmqqKjQs88+qxUrVujJJ5/UW2+9pdmzZ7s8LQC4i6sKSB7HcRy3\\\n",
              "h5gMwWAw5/NkADAdPHhVAenegpxYLKZIJJLzUYmxLMix6bnTmFdgAIBvxlUFvkbAAMAiXFXgawQM\\\n",
              "ACzDVQXuIWAAYCGuKkDAAMBKXFWAgAGAdbiqwD0EDAAswlUFvkbAAMAiXFXgawQMACzDVQXumdI/\\\n",
              "5gsAmBhcVYA/JQUAVpvov0Zv03MnpxABwGIz+aoCBAwAYCUCBgCwEgEDAFiJgAEArETAAABWMiZg\\\n",
              "R48eVUVFhWbNmjVoCee1a9f0yCOPqKqqSlVVVXrxxRddnBIAYApjPshcWVmpY8eO6YUXXsi5bcmS\\\n",
              "Jerq6nJhKgCAqYwJ2PLly90eAQBgEWNOIY6kt7dXq1ev1vr163X+/Hm3xwEAGGBKX4Ft3LhRN2/e\\\n",
              "zNm+d+9ebd26dcifKSws1EcffSSv16sLFy7o6aefVnd3tx5//PGcfWOxWPYKpalUamKHBwAYZUoD\\\n",
              "dvbs2TH/TH5+vvLz8yVJa9as0ZIlS5RIJBQMBnP2jUQi2SuUDnU7AGD6MP4UYiqV0sDAgCTp6tWr\\\n",
              "6unpUWlpqctTAQDcZkzAjh8/ruLiYn344Yeqra3V5s2bJUnvv/++AoGAqqqq9JOf/EQHDhzQ3Llz\\\n",
              "XZ4WAOA2LqcCAMiy6bnTmFdgAACMBQEDAFiJgAEArETAAABWImAAACsRMACAlQgYAMBKBAwAYCUC\\\n",
              "BgCwEgEDAFiJgAEArETAAABWImAAACsRMACAlQgYAMBKBAwAYCUCBgCwkjEB27Vrl5YtW6ZAIKBt\\\n",
              "27bp008/zd7W3NyssrIylZeX68yZMy5OCQAwhTEBq6mp0aVLl3Tx4kX5/X41NzdLki5fvqzW1lZ1\\\n",
              "d3ervb1dL7/8sgYGBlyeFgDgNmMCtmnTJuXl5UmS1q1bpxs3bkiS2tratH37duXn52vx4sUqKytT\\\n",
              "Z2enm6MCAAxgTMDud+jQIT311FOSpL6+Pi1atCh7W3Fxsfr6+twaDQBgiLyp/GUbN27UzZs3c7bv\\\n",
              "3btXW7duzX6dl5enHTt2jPn+Y7GYYrGYJCmVSj3csAAAo01pwM6ePTvi7YcPH9bJkyd17tw5eTwe\\\n",
              "SZLP59P169ez+9y4cUM+n2/In49EIopEIpKkYDA4QVMDAExkzCnE9vZ2vfnmmzpx4oQeffTR7Pb6\\\n",
              "+nq1trbq7t276u3tVU9Pj9auXevipAAAE0zpK7CRvPLKK7p7965qamok3VvIceDAAVVUVOjZZ5/V\\\n",
              "ihUrlJeXp7feekuzZ892eVoAgNs8juM4bg8xGYLBoOLxuNtjAIBVbHruNOYUIgAAY0HAAABWImAA\\\n",
              "ACsRMACAlQgYAMBKBAwAYCUCBgCwEgEDAFiJgAGYFOl0ekzbgbEiYAAmXDQaVSAQUCKRGLQ9kUgo\\\n",
              "EAgoGo26MximFQIGYEJFo1E1NTUpmUwqFAplI5ZIJBQKhZRMJtXU1ETE8NAIGIAJk4lXRiZip06d\\\n",
              "ysYrg4jhYREwABMinU6rpaUlZ3symVRdXd2geGW0tLTwnhjGjYABmBBer1cdHR0qKioa1f5FRUXq\\\n",
              "6OiQ1+ud5MkwXREwABPG7/ePKmKZePn9/imaDNMRAQMwofx+v2Kx2Ij7xGIx4oWHRsAATKhEIqFI\\\n",
              "JDLiPpFIJGeJPTBWxgRs165dWrZsmQKBgLZt26ZPP/1UknTt2jU98sgjqqqqUlVVlV588UWXJwUw\\\n",
              "nPuXyo/kwSX2wHgYE7CamhpdunRJFy9elN/vV3Nzc/a2JUuWqKurS11dXTpw4ICLUwIYTjqdHlW8\\\n",
              "MjIRYxUixsuYgG3atEl5eXmSpHXr1unGjRsuTwRgLLxer8LhcM72oqIinTx5csiFHeFwmFWIGDdj\\\n",
              "Ana/Q4cO6amnnsp+39vbq9WrV2v9+vU6f/68i5MBGEk0GlVjY2P2+8xqw9ra2pzViY2NjXyQGQ8l\\\n",
              "byp/2caNG3Xz5s2c7Xv37tXWrVuzX+fl5WnHjh2SpMLCQn300Ufyer26cOGCnn76aXV3d+vxxx/P\\\n",
              "uZ9YLJZd/ZRKpSbxvwTAcDJRamlpGbRUPrPEPhQKKRwOEy88NI/jOI7bQ2QcPnxYBw8e1Llz5/To\\\n",
              "o48Ouc8PfvAD/fa3v1UwGBzxvoLBoOLx+GSMCWAU0un0kKcHh9sOM9j03GnMKcT29na9+eabOnHi\\\n",
              "xKB4pVIpDQwMSJKuXr2qnp4elZaWujUmgFEaLlLECxNlSk8hjuSVV17R3bt3VVNTI+neQo4DBw7o\\\n",
              "/fff169//Wt961vf0qxZs3TgwAHNnTvX5WkBAG4z6hTiRJo3b55KSkq+cb9UKqX58+dP/kDjxHzj\\\n",
              "Z/JsEvM9LJPnM3k2aeT5rl27ptu3b0/xROMzbQM2Wqaf72W+8TN5Non5HpbJ85k8m2T+fKNlzHtg\\\n",
              "AACMBQEDAFhpdpQPY2jNmjVujzAi5hs/k2eTmO9hmTyfybNJ5s83GjP+PTAAgJ04hQgAsNKMDdhw\\\n",
              "l2+RpObmZpWVlam8vFxnzpyZ8tmOHj2qiooKzZo1a9BKIVMuLTPcfJL7x+5B0WhUPp8ve8xOnz7t\\\n",
              "9kiS7n1wv7y8XGVlZdq3b5/b4wxSUlKilStXqqqq6hv/4s1UaGhoUEFBgSorK7PbPvnkE9XU1Gjp\\\n",
              "0qWqqanRnTt3jJrPpMfd9evXFQqFtGLFClVUVOj3v/+9JLOO4bg5M9SZM2ecL7/80nEcx9m9e7ez\\\n",
              "e/dux3Ecp7u72wkEAs7//vc/5+rVq05paanz1VdfTelsly9fdv75z38669evd/72t79lt/f29joV\\\n",
              "FRVTOstQhpvPhGP3oMbGRuc3v/mNqzM86KuvvnJKS0udK1euOHfv3nUCgYDT3d3t9lhZ3/72t51U\\\n",
              "KuX2GFl//etfnQsXLgx67O/atctpbm52HMdxmpubs///umGo+Ux63CWTSefChQuO4zjOf/7zH2fp\\\n",
              "0qVOd3e3UcdwvGbsK7DhLt/S1tam7du3Kz8/X4sXL1ZZWZk6OzundLbly5ervLx8Sn/nWAw3nwnH\\\n",
              "zgadnZ0qKytTaWmp5syZo+3bt6utrc3tsYxVXV2d89d32tratHPnTknSzp079c4777gxmqSh5zNJ\\\n",
              "YWGhvvOd70iSHnvsMS1fvlx9fX1GHcPxmrEBu9/9l2/p6+vTokWLsrcVFxerr6/PrdFymHxpGVOP\\\n",
              "3f79+xUIBNTQ0GDEaRJTj1OGx+PRpk2btGbNmuzVHUxz69YtFRYWSpIWLlyoW7duuTxRLtMed9K9\\\n",
              "tyH+/ve/67vf/a4Vx/CbGPO3ECfDeC7fYtJsDxrLpWXcmM8tI8360ksvac+ePfJ4PNqzZ49ee+01\\\n",
              "HTp0yIUp7fHBBx/I5/Pp448/Vk1NjZYtW6bq6mq3xxqWx+ORx+Nxe4xBTHzc/fe//9Uzzzyj3/3u\\\n",
              "dznPGSYew9GY1gE7e/bsiLcfPnxYJ0+e1Llz57L/eD6fT9evX8/uc+PGDfl8vimfbSj5+fnKz8+X\\\n",
              "dO8zHEuWLFEikZiUN9rHM99UHbsHjXbWcDisurq6SZ7mm7l1nEYrM0tBQYG2bdumzs5O4wK2YMEC\\\n",
              "9ff3q7CwUP39/SooKHB7pEEWLFiQ/dqEx92XX36pZ555Rjt27NCPf/xjSeYfw9GYsacQh7t8S319\\\n",
              "vVpbW3X37l319vaqp6dHa9eudXHSr5l+aRkTj11/f3/26+PHjw9aKeaWJ554Qj09Pert7dUXX3yh\\\n",
              "1tZW1dfXuz2WJOnzzz/XZ599lv363XffNeKYPai+vl5HjhyRJB05csS4swImPe4cx9HPfvYzLV++\\\n",
              "XL/85S+z200/hqPi9ioStyxZssQpLi52Vq1a5axatcp54YUXsre98cYbTmlpqeP3+53Tp09P+WzH\\\n",
              "jh1zfD6fM2fOHKegoMDZtGmT4ziO86c//clZsWKFs2rVKmf16tXOiRMnpny2keZzHPeP3YN++tOf\\\n",
              "OpWVlc7KlSudH/3oR04ymXR7JMdxHOfUqVPO0qVLndLSUueNN95we5ysK1euOIFAwAkEAs6KFSuM\\\n",
              "mG379u3OwoULnby8PMfn8zl/+MMfnNu3bzs//OEPnbKyMmfDhg1OOp02aj6THnfnz593JDkrV67M\\\n",
              "Pt+dOnXKqGM4XvwlDgCAlWbsKUQAgN0IGADASgQMAGAlAgYAsBIBAwBYiYABAKxEwAAAViJgAAAr\\\n",
              "ETAAgJUIGADASgQMAGAlAgYAsBIBAwBYiYABAKxEwAAAViJgAAArETAAgJUIGADASgQMAGAlAgYA\\\n",
              "sNL/A3twkFNa1IJ5AAAAAElFTkSuQmCC\\\n",
              "\"\n",
              "\n",
              "\n",
              "    /* set a timeout to make sure all the above elements are created before\n",
              "       the object is initialized. */\n",
              "    setTimeout(function() {\n",
              "        anime3ade01feedf434c824fcb06ef81312f = new Animation(frames, img_id, slider_id, 1000.0,\n",
              "                                 loop_select_id);\n",
              "    }, 0);\n",
              "  })()\n",
              "</script>\n"
            ]
          },
          "metadata": {},
          "execution_count": 59
        }
      ]
    }
  ]
}