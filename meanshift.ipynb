{
  "nbformat": 4,
  "nbformat_minor": 0,
  "metadata": {
    "colab": {
      "provenance": [],
      "authorship_tag": "ABX9TyMY6PjaIn3B9JlUdw5yl71u",
      "include_colab_link": true
    },
    "kernelspec": {
      "name": "python3",
      "display_name": "Python 3"
    },
    "language_info": {
      "name": "python"
    }
  },
  "cells": [
    {
      "cell_type": "markdown",
      "metadata": {
        "id": "view-in-github",
        "colab_type": "text"
      },
      "source": [
        "<a href=\"https://colab.research.google.com/github/daspartho/fastai-part2/blob/main/meanshift.ipynb\" target=\"_parent\"><img src=\"https://colab.research.google.com/assets/colab-badge.svg\" alt=\"Open In Colab\"/></a>"
      ]
    },
    {
      "cell_type": "markdown",
      "source": [
        "### Create data"
      ],
      "metadata": {
        "id": "4Iadukcb_Ew4"
      }
    },
    {
      "cell_type": "code",
      "execution_count": 157,
      "metadata": {
        "id": "PF94H83YsnAd"
      },
      "outputs": [],
      "source": [
        "n_clusters = 5\n",
        "n_samples = 200"
      ]
    },
    {
      "cell_type": "code",
      "source": [
        "import torch"
      ],
      "metadata": {
        "id": "T3-VlcyaFvl1"
      },
      "execution_count": 158,
      "outputs": []
    },
    {
      "cell_type": "code",
      "source": [
        "torch.manual_seed(32)\n",
        "centroids = (torch.rand(n_clusters, 2)*50)-25 # between -25 and 25\n",
        "centroids"
      ],
      "metadata": {
        "id": "9_97ULb-_V1E",
        "outputId": "9119a96b-58d2-42d0-f441-7937e3e840c4",
        "colab": {
          "base_uri": "https://localhost:8080/"
        }
      },
      "execution_count": 159,
      "outputs": [
        {
          "output_type": "execute_result",
          "data": {
            "text/plain": [
              "tensor([[ 18.7827, -11.3967],\n",
              "        [ -4.2972,  14.2862],\n",
              "        [-19.3516,   3.9671],\n",
              "        [  7.4038, -23.8544],\n",
              "        [  4.3709,  -8.7309]])"
            ]
          },
          "metadata": {},
          "execution_count": 159
        }
      ]
    },
    {
      "cell_type": "code",
      "source": [
        "from torch.distributions.multivariate_normal import MultivariateNormal\n",
        "from torch import tensor"
      ],
      "metadata": {
        "id": "r0q-X7s8_ktC"
      },
      "execution_count": 160,
      "outputs": []
    },
    {
      "cell_type": "code",
      "source": [
        "covariance_matrix = torch.diag(tensor([5.,5.]))\n",
        "def sample(m):\n",
        "    return MultivariateNormal(m, covariance_matrix).sample((n_samples,))"
      ],
      "metadata": {
        "id": "X6b-5Cs2AEEG"
      },
      "execution_count": 161,
      "outputs": []
    },
    {
      "cell_type": "code",
      "source": [
        "slices = [sample(c) for c in centroids]\n",
        "data = torch.cat(slices)\n",
        "data, data.shape"
      ],
      "metadata": {
        "id": "WPFiw74ZAmfR",
        "outputId": "c37bcd84-75aa-49cb-ef3f-625956f28542",
        "colab": {
          "base_uri": "https://localhost:8080/"
        }
      },
      "execution_count": 162,
      "outputs": [
        {
          "output_type": "execute_result",
          "data": {
            "text/plain": [
              "(tensor([[ 17.6842, -11.7857],\n",
              "         [ 14.1956,  -8.1366],\n",
              "         [ 16.4673, -11.2534],\n",
              "         ...,\n",
              "         [  2.3255,  -2.1600],\n",
              "         [  4.2049,  -7.5428],\n",
              "         [  4.0484,  -8.4856]]), torch.Size([1000, 2]))"
            ]
          },
          "metadata": {},
          "execution_count": 162
        }
      ]
    },
    {
      "cell_type": "code",
      "source": [
        "import matplotlib.pyplot as plt"
      ],
      "metadata": {
        "id": "9YGJI6hCBrDI"
      },
      "execution_count": 163,
      "outputs": []
    },
    {
      "cell_type": "code",
      "source": [
        "def plot_data(centroids, data, n_samples, ax=None):\n",
        "    if ax is None:\n",
        "        _,ax = plt.subplots()\n",
        "    for i, centroid in enumerate(centroids):\n",
        "        samples = data[i*n_samples: (i+1)*n_samples]\n",
        "        ax.scatter(samples[:,0], samples[:,1],s=1)\n",
        "        ax.plot(*centroid, markersize=10, marker='x', color='k', mew=5)"
      ],
      "metadata": {
        "id": "1Zm4jEWRAyXB"
      },
      "execution_count": 164,
      "outputs": []
    },
    {
      "cell_type": "code",
      "source": [
        "plot_data(centroids, data, n_samples)"
      ],
      "metadata": {
        "id": "PGfSpw8nDX5q",
        "outputId": "637b74fa-628a-4ef2-a126-3ccbdd63c437",
        "colab": {
          "base_uri": "https://localhost:8080/",
          "height": 265
        }
      },
      "execution_count": 165,
      "outputs": [
        {
          "output_type": "display_data",
          "data": {
            "text/plain": [
              "<Figure size 432x288 with 1 Axes>"
            ],
            "image/png": "[encoded data removed]"
          },
          "metadata": {
            "needs_background": "light"
          }
        }
      ]
    }
  ]
}