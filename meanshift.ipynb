{
  "nbformat": 4,
  "nbformat_minor": 0,
  "metadata": {
    "colab": {
      "provenance": [],
      "authorship_tag": "ABX9TyPbOkL+tg8YvYq/6lgDi02d",
      "include_colab_link": true
    },
    "kernelspec": {
      "name": "python3",
      "display_name": "Python 3"
    },
    "language_info": {
      "name": "python"
    }
  },
  "cells": [
    {
      "cell_type": "markdown",
      "metadata": {
        "id": "view-in-github",
        "colab_type": "text"
      },
      "source": [
        "<a href=\"https://colab.research.google.com/github/daspartho/fastai-part2/blob/main/meanshift.ipynb\" target=\"_parent\"><img src=\"https://colab.research.google.com/assets/colab-badge.svg\" alt=\"Open In Colab\"/></a>"
      ]
    },
    {
      "cell_type": "markdown",
      "source": [
        "### Create data"
      ],
      "metadata": {
        "id": "4Iadukcb_Ew4"
      }
    },
    {
      "cell_type": "code",
      "execution_count": 295,
      "metadata": {
        "id": "PF94H83YsnAd"
      },
      "outputs": [],
      "source": [
        "n_clusters = 5\n",
        "n_samples = 200"
      ]
    },
    {
      "cell_type": "code",
      "source": [
        "import torch\n",
        "torch.set_printoptions(precision=3, linewidth=140, sci_mode=False)"
      ],
      "metadata": {
        "id": "T3-VlcyaFvl1"
      },
      "execution_count": 296,
      "outputs": []
    },
    {
      "cell_type": "code",
      "source": [
        "torch.manual_seed(32)\n",
        "centroids = (torch.rand(n_clusters, 2)*50)-25 # between -25 and 25\n",
        "centroids"
      ],
      "metadata": {
        "colab": {
          "base_uri": "https://localhost:8080/"
        },
        "id": "9_97ULb-_V1E",
        "outputId": "c14d8201-e64d-457e-ab06-bf0cd9d2a48c"
      },
      "execution_count": 297,
      "outputs": [
        {
          "output_type": "execute_result",
          "data": {
            "text/plain": [
              "tensor([[ 18.783, -11.397],\n",
              "        [ -4.297,  14.286],\n",
              "        [-19.352,   3.967],\n",
              "        [  7.404, -23.854],\n",
              "        [  4.371,  -8.731]])"
            ]
          },
          "metadata": {},
          "execution_count": 297
        }
      ]
    },
    {
      "cell_type": "code",
      "source": [
        "from torch.distributions.multivariate_normal import MultivariateNormal\n",
        "from torch import tensor"
      ],
      "metadata": {
        "id": "r0q-X7s8_ktC"
      },
      "execution_count": 298,
      "outputs": []
    },
    {
      "cell_type": "code",
      "source": [
        "covariance_matrix = torch.diag(tensor([5.,5.]))\n",
        "def sample(m):\n",
        "    return MultivariateNormal(m, covariance_matrix).sample((n_samples,))"
      ],
      "metadata": {
        "id": "X6b-5Cs2AEEG"
      },
      "execution_count": 299,
      "outputs": []
    },
    {
      "cell_type": "code",
      "source": [
        "slices = [sample(c) for c in centroids]\n",
        "data = torch.cat(slices)\n",
        "data, data.shape"
      ],
      "metadata": {
        "colab": {
          "base_uri": "https://localhost:8080/"
        },
        "id": "WPFiw74ZAmfR",
        "outputId": "438db0dd-959f-48bc-bad6-a0f8c1a93dd1"
      },
      "execution_count": 300,
      "outputs": [
        {
          "output_type": "execute_result",
          "data": {
            "text/plain": [
              "(tensor([[ 17.684, -11.786],\n",
              "         [ 14.196,  -8.137],\n",
              "         [ 16.467, -11.253],\n",
              "         ...,\n",
              "         [  2.325,  -2.160],\n",
              "         [  4.205,  -7.543],\n",
              "         [  4.048,  -8.486]]), torch.Size([1000, 2]))"
            ]
          },
          "metadata": {},
          "execution_count": 300
        }
      ]
    },
    {
      "cell_type": "code",
      "source": [
        "import matplotlib.pyplot as plt"
      ],
      "metadata": {
        "id": "9YGJI6hCBrDI"
      },
      "execution_count": 301,
      "outputs": []
    },
    {
      "cell_type": "code",
      "source": [
        "def plot_data(centroids, data, n_samples, ax=None):\n",
        "    if ax is None:\n",
        "        _,ax = plt.subplots()\n",
        "    for i, centroid in enumerate(centroids):\n",
        "        samples = data[i*n_samples: (i+1)*n_samples]\n",
        "        ax.scatter(samples[:,0], samples[:,1],s=1)\n",
        "        ax.plot(*centroid, markersize=10, marker='x', color='k', mew=5)"
      ],
      "metadata": {
        "id": "1Zm4jEWRAyXB"
      },
      "execution_count": 302,
      "outputs": []
    },
    {
      "cell_type": "code",
      "source": [
        "plot_data(centroids, data, n_samples)"
      ],
      "metadata": {
        "colab": {
          "base_uri": "https://localhost:8080/",
          "height": 265
        },
        "id": "PGfSpw8nDX5q",
        "outputId": "e8ca064b-319f-468c-9f22-d95d26672284"
      },
      "execution_count": 303,
      "outputs": [
        {
          "output_type": "display_data",
          "data": {
            "text/plain": [
              "<Figure size 432x288 with 1 Axes>"
            ],
            "image/png": "[encoded data removed]"
          },
          "metadata": {
            "needs_background": "light"
          }
        }
      ]
    },
    {
      "cell_type": "markdown",
      "source": [
        "### Mean Shift"
      ],
      "metadata": {
        "id": "28qAnz4GIH88"
      }
    },
    {
      "cell_type": "code",
      "source": [
        "import math"
      ],
      "metadata": {
        "id": "CjPcq2iWRl2E"
      },
      "execution_count": 304,
      "outputs": []
    },
    {
      "cell_type": "code",
      "source": [
        "def gaussian(d, bw): \n",
        "    return torch.exp(-0.5*((d/bw))**2) / (bw*math.sqrt(2*math.pi))"
      ],
      "metadata": {
        "id": "TIkjneJ_RSdZ"
      },
      "execution_count": 305,
      "outputs": []
    },
    {
      "cell_type": "code",
      "source": [
        "def plot_func(f):\n",
        "    x = torch.linspace(0, 10, 100)\n",
        "    plt.plot(x, f(x))"
      ],
      "metadata": {
        "id": "t-NuRyhmRm_Y"
      },
      "execution_count": 306,
      "outputs": []
    },
    {
      "cell_type": "code",
      "source": [
        "from functools import partial"
      ],
      "metadata": {
        "id": "KSkpnyJdRvM3"
      },
      "execution_count": 307,
      "outputs": []
    },
    {
      "cell_type": "code",
      "source": [
        "plot_func(partial(gaussian, bw=2.5))"
      ],
      "metadata": {
        "id": "mMWbk0ivRy27",
        "outputId": "a93a78ef-d786-421d-e950-6db6cd392cc5",
        "colab": {
          "base_uri": "https://localhost:8080/",
          "height": 265
        }
      },
      "execution_count": 308,
      "outputs": [
        {
          "output_type": "display_data",
          "data": {
            "text/plain": [
              "<Figure size 432x288 with 1 Axes>"
            ],
            "image/png": "[encoded data removed]"
          },
          "metadata": {
            "needs_background": "light"
          }
        }
      ]
    },
    {
      "cell_type": "code",
      "source": [
        "X= data.clone()\n",
        "x = X[0]\n",
        "x"
      ],
      "metadata": {
        "id": "3Iq8w4nVR3A3",
        "outputId": "46c95c64-eae8-41c4-92e3-f9f118d79499",
        "colab": {
          "base_uri": "https://localhost:8080/"
        }
      },
      "execution_count": 309,
      "outputs": [
        {
          "output_type": "execute_result",
          "data": {
            "text/plain": [
              "tensor([ 17.684, -11.786])"
            ]
          },
          "metadata": {},
          "execution_count": 309
        }
      ]
    },
    {
      "cell_type": "code",
      "source": [
        "x-X"
      ],
      "metadata": {
        "id": "KeeREqCLR96X",
        "outputId": "4958f65d-5eb2-4c53-f153-18c5d6ad136f",
        "colab": {
          "base_uri": "https://localhost:8080/"
        }
      },
      "execution_count": 310,
      "outputs": [
        {
          "output_type": "execute_result",
          "data": {
            "text/plain": [
              "tensor([[ 0.000,  0.000],\n",
              "        [ 3.489, -3.649],\n",
              "        [ 1.217, -0.532],\n",
              "        ...,\n",
              "        [15.359, -9.626],\n",
              "        [13.479, -4.243],\n",
              "        [13.636, -3.300]])"
            ]
          },
          "metadata": {},
          "execution_count": 310
        }
      ]
    },
    {
      "cell_type": "code",
      "source": [
        "dist = (((x-X)**2).sum(1))**0.5\n",
        "dist[:5], dist[-5:]"
      ],
      "metadata": {
        "id": "fxMDhYsZSSgH",
        "outputId": "4208f603-a956-4c02-d336-12e39d866414",
        "colab": {
          "base_uri": "https://localhost:8080/"
        }
      },
      "execution_count": 311,
      "outputs": [
        {
          "output_type": "execute_result",
          "data": {
            "text/plain": [
              "(tensor([0.000, 5.048, 1.328, 1.591, 4.820]),\n",
              " tensor([13.533,  9.440, 18.126, 14.131, 14.029]))"
            ]
          },
          "metadata": {},
          "execution_count": 311
        }
      ]
    },
    {
      "cell_type": "code",
      "source": [
        "weight = gaussian(dist, 2.5)\n",
        "weight[:5], weight[-5:]"
      ],
      "metadata": {
        "id": "t7Mzg48VWJSI",
        "outputId": "3c47123b-71dc-4966-9aae-63f01e351d6e",
        "colab": {
          "base_uri": "https://localhost:8080/"
        }
      },
      "execution_count": 312,
      "outputs": [
        {
          "output_type": "execute_result",
          "data": {
            "text/plain": [
              "(tensor([0.160, 0.021, 0.139, 0.130, 0.025]),\n",
              " tensor([    0.000,     0.000,     0.000,     0.000,     0.000]))"
            ]
          },
          "metadata": {},
          "execution_count": 312
        }
      ]
    },
    {
      "cell_type": "code",
      "source": [
        "weight.shape, X.shape, weight[:,None].shape"
      ],
      "metadata": {
        "id": "xOFZHx2DWvAi",
        "outputId": "6fdccc54-9163-43c6-93c6-d9d770bcaecc",
        "colab": {
          "base_uri": "https://localhost:8080/"
        }
      },
      "execution_count": 313,
      "outputs": [
        {
          "output_type": "execute_result",
          "data": {
            "text/plain": [
              "(torch.Size([1000]), torch.Size([1000, 2]), torch.Size([1000, 1]))"
            ]
          },
          "metadata": {},
          "execution_count": 313
        }
      ]
    },
    {
      "cell_type": "code",
      "source": [
        "weight[:,None]*X"
      ],
      "metadata": {
        "id": "BOS-OFF1XfTk",
        "outputId": "6261a2e3-8023-42a3-c193-28ef0bb2c312",
        "colab": {
          "base_uri": "https://localhost:8080/"
        }
      },
      "execution_count": 314,
      "outputs": [
        {
          "output_type": "execute_result",
          "data": {
            "text/plain": [
              "tensor([[     2.822,     -1.881],\n",
              "        [     0.295,     -0.169],\n",
              "        [     2.282,     -1.559],\n",
              "        ...,\n",
              "        [     0.000,     -0.000],\n",
              "        [     0.000,     -0.000],\n",
              "        [     0.000,     -0.000]])"
            ]
          },
          "metadata": {},
          "execution_count": 314
        }
      ]
    },
    {
      "cell_type": "code",
      "source": [
        "def one_update(X):\n",
        "    for i, x in enumerate(X):\n",
        "        dist = (((x-X)**2).sum(1))**0.5\n",
        "        weight = gaussian(dist, 2.5)\n",
        "        X[i] = (weight[:,None]*X).sum(0)/weight.sum()"
      ],
      "metadata": {
        "id": "yKo8b6c_XjXM"
      },
      "execution_count": 315,
      "outputs": []
    },
    {
      "cell_type": "code",
      "source": [
        "def meanshift(data):\n",
        "    X = data.clone()\n",
        "    for i in range(5):\n",
        "        one_update(X)\n",
        "    return X"
      ],
      "metadata": {
        "id": "3c9N18zhYTV5"
      },
      "execution_count": 316,
      "outputs": []
    },
    {
      "cell_type": "code",
      "source": [
        "%time X=meanshift(data)"
      ],
      "metadata": {
        "id": "2EpXrV9zYtLu",
        "outputId": "87683ccd-10d5-4595-f01c-6821c1f49b39",
        "colab": {
          "base_uri": "https://localhost:8080/"
        }
      },
      "execution_count": 317,
      "outputs": [
        {
          "output_type": "stream",
          "name": "stdout",
          "text": [
            "CPU times: user 503 ms, sys: 0 ns, total: 503 ms\n",
            "Wall time: 513 ms\n"
          ]
        }
      ]
    },
    {
      "cell_type": "code",
      "source": [
        "plot_data(centroids+2, X, n_samples)"
      ],
      "metadata": {
        "id": "UAAAZuabYuQV",
        "outputId": "16a770cb-d27b-4a6b-8446-4a1b2316fdd3",
        "colab": {
          "base_uri": "https://localhost:8080/",
          "height": 265
        }
      },
      "execution_count": 318,
      "outputs": [
        {
          "output_type": "display_data",
          "data": {
            "text/plain": [
              "<Figure size 432x288 with 1 Axes>"
            ],
            "image/png": "[encoded data removed]"
          },
          "metadata": {
            "needs_background": "light"
          }
        }
      ]
    }
  ]
}