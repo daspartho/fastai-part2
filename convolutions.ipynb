{
 "cells": [
  {
   "cell_type": "markdown",
   "metadata": {},
   "source": [
    "### Setup"
   ]
  },
  {
   "cell_type": "code",
   "execution_count": 1,
   "metadata": {},
   "outputs": [],
   "source": [
    "import pickle,gzip,math,os,time,shutil,torch,matplotlib as mpl, numpy as np\n",
    "import pandas as pd,matplotlib.pyplot as plt\n",
    "from pathlib import Path\n",
    "from torch import tensor\n",
    "from torch import nn\n",
    "\n",
    "from torch.utils.data import DataLoader,default_collate\n",
    "from typing import Mapping\n",
    "\n",
    "from miniai.training import *\n",
    "from miniai.datasets import *\n",
    "\n",
    "mpl.rcParams['image.cmap'] = 'gray'"
   ]
  },
  {
   "cell_type": "markdown",
   "metadata": {},
   "source": [
    "### Get data"
   ]
  },
  {
   "cell_type": "code",
   "execution_count": 2,
   "metadata": {},
   "outputs": [],
   "source": [
    "MNIST_URL='https://github.com/mnielsen/neural-networks-and-deep-learning/blob/master/data/mnist.pkl.gz?raw=true'\n",
    "path_data = Path('data')\n",
    "path_data.mkdir(exist_ok=True)\n",
    "path_gz = path_data/'mnist.pkl.gz'\n",
    "\n",
    "if not path_gz.exists():\n",
    "    urlretrieve(MNIST_URL, path_gz)\n",
    "\n",
    "with gzip.open(path_gz, 'rb') as f: \n",
    "    ((x_train, y_train), (x_valid, y_valid), _) = pickle.load(f, encoding='latin-1')\n",
    "x_train, y_train, x_valid, y_valid = map(tensor, [x_train, y_train, x_valid, y_valid])"
   ]
  },
  {
   "cell_type": "markdown",
   "metadata": {},
   "source": [
    "### Understanding convolutions"
   ]
  },
  {
   "cell_type": "code",
   "execution_count": 3,
   "metadata": {},
   "outputs": [
    {
     "data": {
      "text/plain": [
       "(torch.Size([50000, 28, 28]), torch.Size([10000, 28, 28]))"
      ]
     },
     "execution_count": 3,
     "metadata": {},
     "output_type": "execute_result"
    }
   ],
   "source": [
    "train_imgs = x_train.view(-1, 28, 28)\n",
    "valid_imgs = x_valid.view(-1, 28, 28)\n",
    "\n",
    "train_imgs.shape, valid_imgs.shape"
   ]
  },
  {
   "cell_type": "code",
   "execution_count": 4,
   "metadata": {},
   "outputs": [
    {
     "data": {
      "text/plain": [
       "<AxesSubplot:>"
      ]
     },
     "execution_count": 4,
     "metadata": {},
     "output_type": "execute_result"
    },
    {
     "data": {
      "image/png": "[encoded data removed]",
      "text/plain": [
       "<Figure size 640x480 with 1 Axes>"
      ]
     },
     "metadata": {},
     "output_type": "display_data"
    }
   ],
   "source": [
    "img = train_imgs[0]\n",
    "show_image(img)"
   ]
  },
  {
   "cell_type": "code",
   "execution_count": 5,
   "metadata": {},
   "outputs": [
    {
     "data": {
      "text/plain": [
       "<AxesSubplot:>"
      ]
     },
     "execution_count": 5,
     "metadata": {},
     "output_type": "execute_result"
    },
    {
     "data": {
      "image/png": "[encoded data removed]",
      "text/plain": [
       "<Figure size 640x480 with 1 Axes>"
      ]
     },
     "metadata": {},
     "output_type": "display_data"
    }
   ],
   "source": [
    "top_edge = tensor(\n",
    "    [\n",
    "        [-1,-1,-1],\n",
    "        [ 0, 0, 0],\n",
    "        [ 1, 1, 1]\n",
    "    ]\n",
    ").float()\n",
    "\n",
    "show_image(top_edge)"
   ]
  },
  {
   "cell_type": "code",
   "execution_count": 6,
   "metadata": {},
   "outputs": [
    {
     "data": {
      "text/html": [
       "<style type=\"text/css\">\n",
       "#T_4a916_row0_col0, #T_4a916_row0_col1, #T_4a916_row0_col2, #T_4a916_row0_col3, #T_4a916_row0_col4, #T_4a916_row0_col5, #T_4a916_row0_col6, #T_4a916_row0_col7, #T_4a916_row0_col8, #T_4a916_row0_col9, #T_4a916_row0_col10, #T_4a916_row0_col11, #T_4a916_row0_col12, #T_4a916_row0_col13, #T_4a916_row0_col14, #T_4a916_row0_col15, #T_4a916_row0_col16, #T_4a916_row0_col17, #T_4a916_row0_col18, #T_4a916_row0_col19, #T_4a916_row0_col20, #T_4a916_row0_col21, #T_4a916_row0_col22, #T_4a916_row1_col0, #T_4a916_row1_col1, #T_4a916_row1_col2, #T_4a916_row1_col3, #T_4a916_row1_col4, #T_4a916_row1_col5, #T_4a916_row1_col6, #T_4a916_row1_col7, #T_4a916_row1_col8, #T_4a916_row1_col9, #T_4a916_row1_col10, #T_4a916_row1_col11, #T_4a916_row1_col12, #T_4a916_row1_col13, #T_4a916_row1_col14, #T_4a916_row1_col15, #T_4a916_row1_col16, #T_4a916_row1_col17, #T_4a916_row1_col18, #T_4a916_row1_col19, #T_4a916_row1_col20, #T_4a916_row1_col21, #T_4a916_row1_col22, #T_4a916_row2_col0, #T_4a916_row2_col1, #T_4a916_row2_col2, #T_4a916_row2_col3, #T_4a916_row2_col4, #T_4a916_row2_col5, #T_4a916_row2_col6, #T_4a916_row2_col7, #T_4a916_row2_col8, #T_4a916_row2_col9, #T_4a916_row2_col10, #T_4a916_row2_col11, #T_4a916_row2_col12, #T_4a916_row2_col13, #T_4a916_row2_col14, #T_4a916_row2_col15, #T_4a916_row2_col16, #T_4a916_row2_col17, #T_4a916_row2_col18, #T_4a916_row2_col19, #T_4a916_row2_col20, #T_4a916_row2_col21, #T_4a916_row2_col22, #T_4a916_row3_col0, #T_4a916_row3_col1, #T_4a916_row3_col2, #T_4a916_row3_col3, #T_4a916_row3_col4, #T_4a916_row3_col5, #T_4a916_row3_col6, #T_4a916_row3_col7, #T_4a916_row3_col8, #T_4a916_row3_col9, #T_4a916_row3_col10, #T_4a916_row3_col11, #T_4a916_row3_col12, #T_4a916_row3_col13, #T_4a916_row3_col14, #T_4a916_row3_col15, #T_4a916_row3_col16, #T_4a916_row3_col17, #T_4a916_row3_col18, #T_4a916_row3_col19, #T_4a916_row3_col20, #T_4a916_row3_col21, #T_4a916_row3_col22, #T_4a916_row4_col0, #T_4a916_row4_col1, #T_4a916_row4_col2, #T_4a916_row4_col3, #T_4a916_row4_col4, #T_4a916_row4_col5, #T_4a916_row4_col6, #T_4a916_row4_col7, #T_4a916_row4_col8, #T_4a916_row4_col9, #T_4a916_row4_col10, #T_4a916_row4_col11, #T_4a916_row4_col12, #T_4a916_row4_col13, #T_4a916_row4_col14, #T_4a916_row4_col15, #T_4a916_row4_col16, #T_4a916_row4_col17, #T_4a916_row4_col18, #T_4a916_row4_col19, #T_4a916_row4_col20, #T_4a916_row4_col21, #T_4a916_row4_col22, #T_4a916_row5_col0, #T_4a916_row5_col1, #T_4a916_row5_col2, #T_4a916_row5_col3, #T_4a916_row5_col4, #T_4a916_row5_col5, #T_4a916_row5_col6, #T_4a916_row5_col7, #T_4a916_row5_col8, #T_4a916_row5_col9, #T_4a916_row5_col10, #T_4a916_row5_col11, #T_4a916_row5_col12, #T_4a916_row5_col13, #T_4a916_row5_col14, #T_4a916_row5_col15, #T_4a916_row5_col16, #T_4a916_row5_col17, #T_4a916_row5_col18, #T_4a916_row5_col19, #T_4a916_row5_col20, #T_4a916_row5_col21, #T_4a916_row5_col22, #T_4a916_row6_col0, #T_4a916_row6_col1, #T_4a916_row6_col2, #T_4a916_row6_col3, #T_4a916_row6_col4, #T_4a916_row6_col5, #T_4a916_row6_col6, #T_4a916_row6_col7, #T_4a916_row6_col8, #T_4a916_row6_col9, #T_4a916_row6_col10, #T_4a916_row6_col11, #T_4a916_row6_col12, #T_4a916_row6_col13, #T_4a916_row6_col14, #T_4a916_row6_col15, #T_4a916_row6_col16, #T_4a916_row6_col17, #T_4a916_row6_col18, #T_4a916_row6_col19, #T_4a916_row6_col20, #T_4a916_row6_col21, #T_4a916_row6_col22, #T_4a916_row7_col0, #T_4a916_row7_col1, #T_4a916_row7_col2, #T_4a916_row7_col3, #T_4a916_row7_col4, #T_4a916_row7_col5, #T_4a916_row7_col6, #T_4a916_row7_col7, #T_4a916_row7_col8, #T_4a916_row7_col9, #T_4a916_row7_col10, #T_4a916_row7_col11, #T_4a916_row7_col12, #T_4a916_row7_col13, #T_4a916_row7_col14, #T_4a916_row7_col15, #T_4a916_row7_col16, #T_4a916_row7_col17, #T_4a916_row7_col18, #T_4a916_row7_col19, #T_4a916_row7_col20, #T_4a916_row7_col21, #T_4a916_row7_col22, #T_4a916_row8_col0, #T_4a916_row8_col1, #T_4a916_row8_col2, #T_4a916_row8_col3, #T_4a916_row8_col4, #T_4a916_row8_col5, #T_4a916_row8_col6, #T_4a916_row8_col7, #T_4a916_row8_col8, #T_4a916_row8_col9, #T_4a916_row8_col10, #T_4a916_row8_col11, #T_4a916_row8_col12, #T_4a916_row8_col13, #T_4a916_row8_col14, #T_4a916_row8_col15, #T_4a916_row8_col16, #T_4a916_row8_col17, #T_4a916_row8_col18, #T_4a916_row8_col19, #T_4a916_row8_col20, #T_4a916_row8_col21, #T_4a916_row8_col22, #T_4a916_row9_col0, #T_4a916_row9_col1, #T_4a916_row9_col2, #T_4a916_row9_col3, #T_4a916_row9_col4, #T_4a916_row9_col5, #T_4a916_row9_col6, #T_4a916_row9_col7, #T_4a916_row9_col8, #T_4a916_row9_col9, #T_4a916_row9_col10, #T_4a916_row9_col11, #T_4a916_row9_col12, #T_4a916_row9_col13, #T_4a916_row9_col14, #T_4a916_row9_col15, #T_4a916_row9_col16, #T_4a916_row9_col17, #T_4a916_row9_col18, #T_4a916_row9_col19, #T_4a916_row9_col20, #T_4a916_row9_col21, #T_4a916_row9_col22, #T_4a916_row10_col0, #T_4a916_row10_col1, #T_4a916_row10_col2, #T_4a916_row10_col3, #T_4a916_row10_col4, #T_4a916_row10_col5, #T_4a916_row10_col6, #T_4a916_row10_col7, #T_4a916_row10_col8, #T_4a916_row10_col9, #T_4a916_row10_col10, #T_4a916_row10_col11, #T_4a916_row10_col12, #T_4a916_row10_col13, #T_4a916_row10_col14, #T_4a916_row10_col15, #T_4a916_row10_col16, #T_4a916_row10_col17, #T_4a916_row10_col18, #T_4a916_row10_col19, #T_4a916_row10_col20, #T_4a916_row10_col21, #T_4a916_row10_col22, #T_4a916_row11_col0, #T_4a916_row11_col1, #T_4a916_row11_col2, #T_4a916_row11_col3, #T_4a916_row11_col4, #T_4a916_row11_col5, #T_4a916_row11_col6, #T_4a916_row11_col7, #T_4a916_row11_col8, #T_4a916_row11_col9, #T_4a916_row11_col10, #T_4a916_row11_col11, #T_4a916_row11_col12, #T_4a916_row11_col13, #T_4a916_row11_col14, #T_4a916_row11_col15, #T_4a916_row11_col16, #T_4a916_row11_col17, #T_4a916_row11_col18, #T_4a916_row11_col19, #T_4a916_row11_col20, #T_4a916_row11_col21, #T_4a916_row11_col22, #T_4a916_row12_col0, #T_4a916_row12_col1, #T_4a916_row12_col2, #T_4a916_row12_col3, #T_4a916_row12_col4, #T_4a916_row12_col5, #T_4a916_row12_col6, #T_4a916_row12_col7, #T_4a916_row12_col8, #T_4a916_row12_col9, #T_4a916_row12_col10, #T_4a916_row12_col11, #T_4a916_row12_col12, #T_4a916_row12_col13, #T_4a916_row12_col14, #T_4a916_row12_col15, #T_4a916_row12_col16, #T_4a916_row12_col17, #T_4a916_row12_col18, #T_4a916_row12_col19, #T_4a916_row12_col20, #T_4a916_row12_col21, #T_4a916_row12_col22 {\n",
       "  font-size: 7pt;\n",
       "}\n",
       "</style>\n",
       "<table id=\"T_4a916_\">\n",
       "  <thead>\n",
       "    <tr>\n",
       "      <th class=\"blank level0\" >&nbsp;</th>\n",
       "      <th class=\"col_heading level0 col0\" >0</th>\n",
       "      <th class=\"col_heading level0 col1\" >1</th>\n",
       "      <th class=\"col_heading level0 col2\" >2</th>\n",
       "      <th class=\"col_heading level0 col3\" >3</th>\n",
       "      <th class=\"col_heading level0 col4\" >4</th>\n",
       "      <th class=\"col_heading level0 col5\" >5</th>\n",
       "      <th class=\"col_heading level0 col6\" >6</th>\n",
       "      <th class=\"col_heading level0 col7\" >7</th>\n",
       "      <th class=\"col_heading level0 col8\" >8</th>\n",
       "      <th class=\"col_heading level0 col9\" >9</th>\n",
       "      <th class=\"col_heading level0 col10\" >10</th>\n",
       "      <th class=\"col_heading level0 col11\" >11</th>\n",
       "      <th class=\"col_heading level0 col12\" >12</th>\n",
       "      <th class=\"col_heading level0 col13\" >13</th>\n",
       "      <th class=\"col_heading level0 col14\" >14</th>\n",
       "      <th class=\"col_heading level0 col15\" >15</th>\n",
       "      <th class=\"col_heading level0 col16\" >16</th>\n",
       "      <th class=\"col_heading level0 col17\" >17</th>\n",
       "      <th class=\"col_heading level0 col18\" >18</th>\n",
       "      <th class=\"col_heading level0 col19\" >19</th>\n",
       "      <th class=\"col_heading level0 col20\" >20</th>\n",
       "      <th class=\"col_heading level0 col21\" >21</th>\n",
       "      <th class=\"col_heading level0 col22\" >22</th>\n",
       "    </tr>\n",
       "  </thead>\n",
       "  <tbody>\n",
       "    <tr>\n",
       "      <th id=\"T_4a916_level0_row0\" class=\"row_heading level0 row0\" >0</th>\n",
       "      <td id=\"T_4a916_row0_col0\" class=\"data row0 col0\" >tensor(0.)</td>\n",
       "      <td id=\"T_4a916_row0_col1\" class=\"data row0 col1\" >tensor(0.)</td>\n",
       "      <td id=\"T_4a916_row0_col2\" class=\"data row0 col2\" >tensor(0.)</td>\n",
       "      <td id=\"T_4a916_row0_col3\" class=\"data row0 col3\" >tensor(0.)</td>\n",
       "      <td id=\"T_4a916_row0_col4\" class=\"data row0 col4\" >tensor(0.)</td>\n",
       "      <td id=\"T_4a916_row0_col5\" class=\"data row0 col5\" >tensor(0.)</td>\n",
       "      <td id=\"T_4a916_row0_col6\" class=\"data row0 col6\" >tensor(0.)</td>\n",
       "      <td id=\"T_4a916_row0_col7\" class=\"data row0 col7\" >tensor(0.)</td>\n",
       "      <td id=\"T_4a916_row0_col8\" class=\"data row0 col8\" >tensor(0.)</td>\n",
       "      <td id=\"T_4a916_row0_col9\" class=\"data row0 col9\" >tensor(0.)</td>\n",
       "      <td id=\"T_4a916_row0_col10\" class=\"data row0 col10\" >tensor(0.)</td>\n",
       "      <td id=\"T_4a916_row0_col11\" class=\"data row0 col11\" >tensor(0.)</td>\n",
       "      <td id=\"T_4a916_row0_col12\" class=\"data row0 col12\" >tensor(0.)</td>\n",
       "      <td id=\"T_4a916_row0_col13\" class=\"data row0 col13\" >tensor(0.)</td>\n",
       "      <td id=\"T_4a916_row0_col14\" class=\"data row0 col14\" >tensor(0.)</td>\n",
       "      <td id=\"T_4a916_row0_col15\" class=\"data row0 col15\" >tensor(0.)</td>\n",
       "      <td id=\"T_4a916_row0_col16\" class=\"data row0 col16\" >tensor(0.)</td>\n",
       "      <td id=\"T_4a916_row0_col17\" class=\"data row0 col17\" >tensor(0.)</td>\n",
       "      <td id=\"T_4a916_row0_col18\" class=\"data row0 col18\" >tensor(0.)</td>\n",
       "      <td id=\"T_4a916_row0_col19\" class=\"data row0 col19\" >tensor(0.)</td>\n",
       "      <td id=\"T_4a916_row0_col20\" class=\"data row0 col20\" >tensor(0.)</td>\n",
       "      <td id=\"T_4a916_row0_col21\" class=\"data row0 col21\" >tensor(0.)</td>\n",
       "      <td id=\"T_4a916_row0_col22\" class=\"data row0 col22\" >tensor(0.)</td>\n",
       "    </tr>\n",
       "    <tr>\n",
       "      <th id=\"T_4a916_level0_row1\" class=\"row_heading level0 row1\" >1</th>\n",
       "      <td id=\"T_4a916_row1_col0\" class=\"data row1 col0\" >tensor(0.)</td>\n",
       "      <td id=\"T_4a916_row1_col1\" class=\"data row1 col1\" >tensor(0.)</td>\n",
       "      <td id=\"T_4a916_row1_col2\" class=\"data row1 col2\" >tensor(0.)</td>\n",
       "      <td id=\"T_4a916_row1_col3\" class=\"data row1 col3\" >tensor(0.)</td>\n",
       "      <td id=\"T_4a916_row1_col4\" class=\"data row1 col4\" >tensor(0.)</td>\n",
       "      <td id=\"T_4a916_row1_col5\" class=\"data row1 col5\" >tensor(0.)</td>\n",
       "      <td id=\"T_4a916_row1_col6\" class=\"data row1 col6\" >tensor(0.)</td>\n",
       "      <td id=\"T_4a916_row1_col7\" class=\"data row1 col7\" >tensor(0.)</td>\n",
       "      <td id=\"T_4a916_row1_col8\" class=\"data row1 col8\" >tensor(0.)</td>\n",
       "      <td id=\"T_4a916_row1_col9\" class=\"data row1 col9\" >tensor(0.)</td>\n",
       "      <td id=\"T_4a916_row1_col10\" class=\"data row1 col10\" >tensor(0.)</td>\n",
       "      <td id=\"T_4a916_row1_col11\" class=\"data row1 col11\" >tensor(0.)</td>\n",
       "      <td id=\"T_4a916_row1_col12\" class=\"data row1 col12\" >tensor(0.)</td>\n",
       "      <td id=\"T_4a916_row1_col13\" class=\"data row1 col13\" >tensor(0.)</td>\n",
       "      <td id=\"T_4a916_row1_col14\" class=\"data row1 col14\" >tensor(0.)</td>\n",
       "      <td id=\"T_4a916_row1_col15\" class=\"data row1 col15\" >tensor(0.)</td>\n",
       "      <td id=\"T_4a916_row1_col16\" class=\"data row1 col16\" >tensor(0.)</td>\n",
       "      <td id=\"T_4a916_row1_col17\" class=\"data row1 col17\" >tensor(0.)</td>\n",
       "      <td id=\"T_4a916_row1_col18\" class=\"data row1 col18\" >tensor(0.)</td>\n",
       "      <td id=\"T_4a916_row1_col19\" class=\"data row1 col19\" >tensor(0.)</td>\n",
       "      <td id=\"T_4a916_row1_col20\" class=\"data row1 col20\" >tensor(0.)</td>\n",
       "      <td id=\"T_4a916_row1_col21\" class=\"data row1 col21\" >tensor(0.)</td>\n",
       "      <td id=\"T_4a916_row1_col22\" class=\"data row1 col22\" >tensor(0.)</td>\n",
       "    </tr>\n",
       "    <tr>\n",
       "      <th id=\"T_4a916_level0_row2\" class=\"row_heading level0 row2\" >2</th>\n",
       "      <td id=\"T_4a916_row2_col0\" class=\"data row2 col0\" >tensor(0.)</td>\n",
       "      <td id=\"T_4a916_row2_col1\" class=\"data row2 col1\" >tensor(0.)</td>\n",
       "      <td id=\"T_4a916_row2_col2\" class=\"data row2 col2\" >tensor(0.)</td>\n",
       "      <td id=\"T_4a916_row2_col3\" class=\"data row2 col3\" >tensor(0.)</td>\n",
       "      <td id=\"T_4a916_row2_col4\" class=\"data row2 col4\" >tensor(0.)</td>\n",
       "      <td id=\"T_4a916_row2_col5\" class=\"data row2 col5\" >tensor(0.)</td>\n",
       "      <td id=\"T_4a916_row2_col6\" class=\"data row2 col6\" >tensor(0.)</td>\n",
       "      <td id=\"T_4a916_row2_col7\" class=\"data row2 col7\" >tensor(0.)</td>\n",
       "      <td id=\"T_4a916_row2_col8\" class=\"data row2 col8\" >tensor(0.)</td>\n",
       "      <td id=\"T_4a916_row2_col9\" class=\"data row2 col9\" >tensor(0.)</td>\n",
       "      <td id=\"T_4a916_row2_col10\" class=\"data row2 col10\" >tensor(0.)</td>\n",
       "      <td id=\"T_4a916_row2_col11\" class=\"data row2 col11\" >tensor(0.)</td>\n",
       "      <td id=\"T_4a916_row2_col12\" class=\"data row2 col12\" >tensor(0.)</td>\n",
       "      <td id=\"T_4a916_row2_col13\" class=\"data row2 col13\" >tensor(0.)</td>\n",
       "      <td id=\"T_4a916_row2_col14\" class=\"data row2 col14\" >tensor(0.)</td>\n",
       "      <td id=\"T_4a916_row2_col15\" class=\"data row2 col15\" >tensor(0.)</td>\n",
       "      <td id=\"T_4a916_row2_col16\" class=\"data row2 col16\" >tensor(0.)</td>\n",
       "      <td id=\"T_4a916_row2_col17\" class=\"data row2 col17\" >tensor(0.)</td>\n",
       "      <td id=\"T_4a916_row2_col18\" class=\"data row2 col18\" >tensor(0.)</td>\n",
       "      <td id=\"T_4a916_row2_col19\" class=\"data row2 col19\" >tensor(0.)</td>\n",
       "      <td id=\"T_4a916_row2_col20\" class=\"data row2 col20\" >tensor(0.)</td>\n",
       "      <td id=\"T_4a916_row2_col21\" class=\"data row2 col21\" >tensor(0.)</td>\n",
       "      <td id=\"T_4a916_row2_col22\" class=\"data row2 col22\" >tensor(0.)</td>\n",
       "    </tr>\n",
       "    <tr>\n",
       "      <th id=\"T_4a916_level0_row3\" class=\"row_heading level0 row3\" >3</th>\n",
       "      <td id=\"T_4a916_row3_col0\" class=\"data row3 col0\" >tensor(0.)</td>\n",
       "      <td id=\"T_4a916_row3_col1\" class=\"data row3 col1\" >tensor(0.)</td>\n",
       "      <td id=\"T_4a916_row3_col2\" class=\"data row3 col2\" >tensor(0.)</td>\n",
       "      <td id=\"T_4a916_row3_col3\" class=\"data row3 col3\" >tensor(0.)</td>\n",
       "      <td id=\"T_4a916_row3_col4\" class=\"data row3 col4\" >tensor(0.)</td>\n",
       "      <td id=\"T_4a916_row3_col5\" class=\"data row3 col5\" >tensor(0.)</td>\n",
       "      <td id=\"T_4a916_row3_col6\" class=\"data row3 col6\" >tensor(0.)</td>\n",
       "      <td id=\"T_4a916_row3_col7\" class=\"data row3 col7\" >tensor(0.)</td>\n",
       "      <td id=\"T_4a916_row3_col8\" class=\"data row3 col8\" >tensor(0.)</td>\n",
       "      <td id=\"T_4a916_row3_col9\" class=\"data row3 col9\" >tensor(0.)</td>\n",
       "      <td id=\"T_4a916_row3_col10\" class=\"data row3 col10\" >tensor(0.)</td>\n",
       "      <td id=\"T_4a916_row3_col11\" class=\"data row3 col11\" >tensor(0.)</td>\n",
       "      <td id=\"T_4a916_row3_col12\" class=\"data row3 col12\" >tensor(0.)</td>\n",
       "      <td id=\"T_4a916_row3_col13\" class=\"data row3 col13\" >tensor(0.)</td>\n",
       "      <td id=\"T_4a916_row3_col14\" class=\"data row3 col14\" >tensor(0.)</td>\n",
       "      <td id=\"T_4a916_row3_col15\" class=\"data row3 col15\" >tensor(0.)</td>\n",
       "      <td id=\"T_4a916_row3_col16\" class=\"data row3 col16\" >tensor(0.)</td>\n",
       "      <td id=\"T_4a916_row3_col17\" class=\"data row3 col17\" >tensor(0.)</td>\n",
       "      <td id=\"T_4a916_row3_col18\" class=\"data row3 col18\" >tensor(0.)</td>\n",
       "      <td id=\"T_4a916_row3_col19\" class=\"data row3 col19\" >tensor(0.)</td>\n",
       "      <td id=\"T_4a916_row3_col20\" class=\"data row3 col20\" >tensor(0.)</td>\n",
       "      <td id=\"T_4a916_row3_col21\" class=\"data row3 col21\" >tensor(0.)</td>\n",
       "      <td id=\"T_4a916_row3_col22\" class=\"data row3 col22\" >tensor(0.)</td>\n",
       "    </tr>\n",
       "    <tr>\n",
       "      <th id=\"T_4a916_level0_row4\" class=\"row_heading level0 row4\" >4</th>\n",
       "      <td id=\"T_4a916_row4_col0\" class=\"data row4 col0\" >tensor(0.)</td>\n",
       "      <td id=\"T_4a916_row4_col1\" class=\"data row4 col1\" >tensor(0.)</td>\n",
       "      <td id=\"T_4a916_row4_col2\" class=\"data row4 col2\" >tensor(0.)</td>\n",
       "      <td id=\"T_4a916_row4_col3\" class=\"data row4 col3\" >tensor(0.)</td>\n",
       "      <td id=\"T_4a916_row4_col4\" class=\"data row4 col4\" >tensor(0.)</td>\n",
       "      <td id=\"T_4a916_row4_col5\" class=\"data row4 col5\" >tensor(0.)</td>\n",
       "      <td id=\"T_4a916_row4_col6\" class=\"data row4 col6\" >tensor(0.)</td>\n",
       "      <td id=\"T_4a916_row4_col7\" class=\"data row4 col7\" >tensor(0.)</td>\n",
       "      <td id=\"T_4a916_row4_col8\" class=\"data row4 col8\" >tensor(0.)</td>\n",
       "      <td id=\"T_4a916_row4_col9\" class=\"data row4 col9\" >tensor(0.)</td>\n",
       "      <td id=\"T_4a916_row4_col10\" class=\"data row4 col10\" >tensor(0.)</td>\n",
       "      <td id=\"T_4a916_row4_col11\" class=\"data row4 col11\" >tensor(0.)</td>\n",
       "      <td id=\"T_4a916_row4_col12\" class=\"data row4 col12\" >tensor(0.)</td>\n",
       "      <td id=\"T_4a916_row4_col13\" class=\"data row4 col13\" >tensor(0.)</td>\n",
       "      <td id=\"T_4a916_row4_col14\" class=\"data row4 col14\" >tensor(0.)</td>\n",
       "      <td id=\"T_4a916_row4_col15\" class=\"data row4 col15\" >tensor(0.)</td>\n",
       "      <td id=\"T_4a916_row4_col16\" class=\"data row4 col16\" >tensor(0.)</td>\n",
       "      <td id=\"T_4a916_row4_col17\" class=\"data row4 col17\" >tensor(0.)</td>\n",
       "      <td id=\"T_4a916_row4_col18\" class=\"data row4 col18\" >tensor(0.)</td>\n",
       "      <td id=\"T_4a916_row4_col19\" class=\"data row4 col19\" >tensor(0.)</td>\n",
       "      <td id=\"T_4a916_row4_col20\" class=\"data row4 col20\" >tensor(0.)</td>\n",
       "      <td id=\"T_4a916_row4_col21\" class=\"data row4 col21\" >tensor(0.)</td>\n",
       "      <td id=\"T_4a916_row4_col22\" class=\"data row4 col22\" >tensor(0.)</td>\n",
       "    </tr>\n",
       "    <tr>\n",
       "      <th id=\"T_4a916_level0_row5\" class=\"row_heading level0 row5\" >5</th>\n",
       "      <td id=\"T_4a916_row5_col0\" class=\"data row5 col0\" >tensor(0.)</td>\n",
       "      <td id=\"T_4a916_row5_col1\" class=\"data row5 col1\" >tensor(0.)</td>\n",
       "      <td id=\"T_4a916_row5_col2\" class=\"data row5 col2\" >tensor(0.)</td>\n",
       "      <td id=\"T_4a916_row5_col3\" class=\"data row5 col3\" >tensor(0.)</td>\n",
       "      <td id=\"T_4a916_row5_col4\" class=\"data row5 col4\" >tensor(0.)</td>\n",
       "      <td id=\"T_4a916_row5_col5\" class=\"data row5 col5\" >tensor(0.)</td>\n",
       "      <td id=\"T_4a916_row5_col6\" class=\"data row5 col6\" >tensor(0.)</td>\n",
       "      <td id=\"T_4a916_row5_col7\" class=\"data row5 col7\" >tensor(0.)</td>\n",
       "      <td id=\"T_4a916_row5_col8\" class=\"data row5 col8\" >tensor(0.)</td>\n",
       "      <td id=\"T_4a916_row5_col9\" class=\"data row5 col9\" >tensor(0.)</td>\n",
       "      <td id=\"T_4a916_row5_col10\" class=\"data row5 col10\" >tensor(0.)</td>\n",
       "      <td id=\"T_4a916_row5_col11\" class=\"data row5 col11\" >tensor(0.)</td>\n",
       "      <td id=\"T_4a916_row5_col12\" class=\"data row5 col12\" >tensor(0.0117)</td>\n",
       "      <td id=\"T_4a916_row5_col13\" class=\"data row5 col13\" >tensor(0.0703)</td>\n",
       "      <td id=\"T_4a916_row5_col14\" class=\"data row5 col14\" >tensor(0.0703)</td>\n",
       "      <td id=\"T_4a916_row5_col15\" class=\"data row5 col15\" >tensor(0.0703)</td>\n",
       "      <td id=\"T_4a916_row5_col16\" class=\"data row5 col16\" >tensor(0.4922)</td>\n",
       "      <td id=\"T_4a916_row5_col17\" class=\"data row5 col17\" >tensor(0.5312)</td>\n",
       "      <td id=\"T_4a916_row5_col18\" class=\"data row5 col18\" >tensor(0.6836)</td>\n",
       "      <td id=\"T_4a916_row5_col19\" class=\"data row5 col19\" >tensor(0.1016)</td>\n",
       "      <td id=\"T_4a916_row5_col20\" class=\"data row5 col20\" >tensor(0.6484)</td>\n",
       "      <td id=\"T_4a916_row5_col21\" class=\"data row5 col21\" >tensor(0.9961)</td>\n",
       "      <td id=\"T_4a916_row5_col22\" class=\"data row5 col22\" >tensor(0.9648)</td>\n",
       "    </tr>\n",
       "    <tr>\n",
       "      <th id=\"T_4a916_level0_row6\" class=\"row_heading level0 row6\" >6</th>\n",
       "      <td id=\"T_4a916_row6_col0\" class=\"data row6 col0\" >tensor(0.)</td>\n",
       "      <td id=\"T_4a916_row6_col1\" class=\"data row6 col1\" >tensor(0.)</td>\n",
       "      <td id=\"T_4a916_row6_col2\" class=\"data row6 col2\" >tensor(0.)</td>\n",
       "      <td id=\"T_4a916_row6_col3\" class=\"data row6 col3\" >tensor(0.)</td>\n",
       "      <td id=\"T_4a916_row6_col4\" class=\"data row6 col4\" >tensor(0.)</td>\n",
       "      <td id=\"T_4a916_row6_col5\" class=\"data row6 col5\" >tensor(0.)</td>\n",
       "      <td id=\"T_4a916_row6_col6\" class=\"data row6 col6\" >tensor(0.)</td>\n",
       "      <td id=\"T_4a916_row6_col7\" class=\"data row6 col7\" >tensor(0.)</td>\n",
       "      <td id=\"T_4a916_row6_col8\" class=\"data row6 col8\" >tensor(0.1172)</td>\n",
       "      <td id=\"T_4a916_row6_col9\" class=\"data row6 col9\" >tensor(0.1406)</td>\n",
       "      <td id=\"T_4a916_row6_col10\" class=\"data row6 col10\" >tensor(0.3672)</td>\n",
       "      <td id=\"T_4a916_row6_col11\" class=\"data row6 col11\" >tensor(0.6016)</td>\n",
       "      <td id=\"T_4a916_row6_col12\" class=\"data row6 col12\" >tensor(0.6641)</td>\n",
       "      <td id=\"T_4a916_row6_col13\" class=\"data row6 col13\" >tensor(0.9883)</td>\n",
       "      <td id=\"T_4a916_row6_col14\" class=\"data row6 col14\" >tensor(0.9883)</td>\n",
       "      <td id=\"T_4a916_row6_col15\" class=\"data row6 col15\" >tensor(0.9883)</td>\n",
       "      <td id=\"T_4a916_row6_col16\" class=\"data row6 col16\" >tensor(0.9883)</td>\n",
       "      <td id=\"T_4a916_row6_col17\" class=\"data row6 col17\" >tensor(0.9883)</td>\n",
       "      <td id=\"T_4a916_row6_col18\" class=\"data row6 col18\" >tensor(0.8789)</td>\n",
       "      <td id=\"T_4a916_row6_col19\" class=\"data row6 col19\" >tensor(0.6719)</td>\n",
       "      <td id=\"T_4a916_row6_col20\" class=\"data row6 col20\" >tensor(0.9883)</td>\n",
       "      <td id=\"T_4a916_row6_col21\" class=\"data row6 col21\" >tensor(0.9453)</td>\n",
       "      <td id=\"T_4a916_row6_col22\" class=\"data row6 col22\" >tensor(0.7617)</td>\n",
       "    </tr>\n",
       "    <tr>\n",
       "      <th id=\"T_4a916_level0_row7\" class=\"row_heading level0 row7\" >7</th>\n",
       "      <td id=\"T_4a916_row7_col0\" class=\"data row7 col0\" >tensor(0.)</td>\n",
       "      <td id=\"T_4a916_row7_col1\" class=\"data row7 col1\" >tensor(0.)</td>\n",
       "      <td id=\"T_4a916_row7_col2\" class=\"data row7 col2\" >tensor(0.)</td>\n",
       "      <td id=\"T_4a916_row7_col3\" class=\"data row7 col3\" >tensor(0.)</td>\n",
       "      <td id=\"T_4a916_row7_col4\" class=\"data row7 col4\" >tensor(0.)</td>\n",
       "      <td id=\"T_4a916_row7_col5\" class=\"data row7 col5\" >tensor(0.)</td>\n",
       "      <td id=\"T_4a916_row7_col6\" class=\"data row7 col6\" >tensor(0.)</td>\n",
       "      <td id=\"T_4a916_row7_col7\" class=\"data row7 col7\" >tensor(0.1914)</td>\n",
       "      <td id=\"T_4a916_row7_col8\" class=\"data row7 col8\" >tensor(0.9297)</td>\n",
       "      <td id=\"T_4a916_row7_col9\" class=\"data row7 col9\" >tensor(0.9883)</td>\n",
       "      <td id=\"T_4a916_row7_col10\" class=\"data row7 col10\" >tensor(0.9883)</td>\n",
       "      <td id=\"T_4a916_row7_col11\" class=\"data row7 col11\" >tensor(0.9883)</td>\n",
       "      <td id=\"T_4a916_row7_col12\" class=\"data row7 col12\" >tensor(0.9883)</td>\n",
       "      <td id=\"T_4a916_row7_col13\" class=\"data row7 col13\" >tensor(0.9883)</td>\n",
       "      <td id=\"T_4a916_row7_col14\" class=\"data row7 col14\" >tensor(0.9883)</td>\n",
       "      <td id=\"T_4a916_row7_col15\" class=\"data row7 col15\" >tensor(0.9883)</td>\n",
       "      <td id=\"T_4a916_row7_col16\" class=\"data row7 col16\" >tensor(0.9883)</td>\n",
       "      <td id=\"T_4a916_row7_col17\" class=\"data row7 col17\" >tensor(0.9805)</td>\n",
       "      <td id=\"T_4a916_row7_col18\" class=\"data row7 col18\" >tensor(0.3633)</td>\n",
       "      <td id=\"T_4a916_row7_col19\" class=\"data row7 col19\" >tensor(0.3203)</td>\n",
       "      <td id=\"T_4a916_row7_col20\" class=\"data row7 col20\" >tensor(0.3203)</td>\n",
       "      <td id=\"T_4a916_row7_col21\" class=\"data row7 col21\" >tensor(0.2188)</td>\n",
       "      <td id=\"T_4a916_row7_col22\" class=\"data row7 col22\" >tensor(0.1523)</td>\n",
       "    </tr>\n",
       "    <tr>\n",
       "      <th id=\"T_4a916_level0_row8\" class=\"row_heading level0 row8\" >8</th>\n",
       "      <td id=\"T_4a916_row8_col0\" class=\"data row8 col0\" >tensor(0.)</td>\n",
       "      <td id=\"T_4a916_row8_col1\" class=\"data row8 col1\" >tensor(0.)</td>\n",
       "      <td id=\"T_4a916_row8_col2\" class=\"data row8 col2\" >tensor(0.)</td>\n",
       "      <td id=\"T_4a916_row8_col3\" class=\"data row8 col3\" >tensor(0.)</td>\n",
       "      <td id=\"T_4a916_row8_col4\" class=\"data row8 col4\" >tensor(0.)</td>\n",
       "      <td id=\"T_4a916_row8_col5\" class=\"data row8 col5\" >tensor(0.)</td>\n",
       "      <td id=\"T_4a916_row8_col6\" class=\"data row8 col6\" >tensor(0.)</td>\n",
       "      <td id=\"T_4a916_row8_col7\" class=\"data row8 col7\" >tensor(0.0703)</td>\n",
       "      <td id=\"T_4a916_row8_col8\" class=\"data row8 col8\" >tensor(0.8555)</td>\n",
       "      <td id=\"T_4a916_row8_col9\" class=\"data row8 col9\" >tensor(0.9883)</td>\n",
       "      <td id=\"T_4a916_row8_col10\" class=\"data row8 col10\" >tensor(0.9883)</td>\n",
       "      <td id=\"T_4a916_row8_col11\" class=\"data row8 col11\" >tensor(0.9883)</td>\n",
       "      <td id=\"T_4a916_row8_col12\" class=\"data row8 col12\" >tensor(0.9883)</td>\n",
       "      <td id=\"T_4a916_row8_col13\" class=\"data row8 col13\" >tensor(0.9883)</td>\n",
       "      <td id=\"T_4a916_row8_col14\" class=\"data row8 col14\" >tensor(0.7734)</td>\n",
       "      <td id=\"T_4a916_row8_col15\" class=\"data row8 col15\" >tensor(0.7109)</td>\n",
       "      <td id=\"T_4a916_row8_col16\" class=\"data row8 col16\" >tensor(0.9648)</td>\n",
       "      <td id=\"T_4a916_row8_col17\" class=\"data row8 col17\" >tensor(0.9414)</td>\n",
       "      <td id=\"T_4a916_row8_col18\" class=\"data row8 col18\" >tensor(0.)</td>\n",
       "      <td id=\"T_4a916_row8_col19\" class=\"data row8 col19\" >tensor(0.)</td>\n",
       "      <td id=\"T_4a916_row8_col20\" class=\"data row8 col20\" >tensor(0.)</td>\n",
       "      <td id=\"T_4a916_row8_col21\" class=\"data row8 col21\" >tensor(0.)</td>\n",
       "      <td id=\"T_4a916_row8_col22\" class=\"data row8 col22\" >tensor(0.)</td>\n",
       "    </tr>\n",
       "    <tr>\n",
       "      <th id=\"T_4a916_level0_row9\" class=\"row_heading level0 row9\" >9</th>\n",
       "      <td id=\"T_4a916_row9_col0\" class=\"data row9 col0\" >tensor(0.)</td>\n",
       "      <td id=\"T_4a916_row9_col1\" class=\"data row9 col1\" >tensor(0.)</td>\n",
       "      <td id=\"T_4a916_row9_col2\" class=\"data row9 col2\" >tensor(0.)</td>\n",
       "      <td id=\"T_4a916_row9_col3\" class=\"data row9 col3\" >tensor(0.)</td>\n",
       "      <td id=\"T_4a916_row9_col4\" class=\"data row9 col4\" >tensor(0.)</td>\n",
       "      <td id=\"T_4a916_row9_col5\" class=\"data row9 col5\" >tensor(0.)</td>\n",
       "      <td id=\"T_4a916_row9_col6\" class=\"data row9 col6\" >tensor(0.)</td>\n",
       "      <td id=\"T_4a916_row9_col7\" class=\"data row9 col7\" >tensor(0.)</td>\n",
       "      <td id=\"T_4a916_row9_col8\" class=\"data row9 col8\" >tensor(0.3125)</td>\n",
       "      <td id=\"T_4a916_row9_col9\" class=\"data row9 col9\" >tensor(0.6094)</td>\n",
       "      <td id=\"T_4a916_row9_col10\" class=\"data row9 col10\" >tensor(0.4180)</td>\n",
       "      <td id=\"T_4a916_row9_col11\" class=\"data row9 col11\" >tensor(0.9883)</td>\n",
       "      <td id=\"T_4a916_row9_col12\" class=\"data row9 col12\" >tensor(0.9883)</td>\n",
       "      <td id=\"T_4a916_row9_col13\" class=\"data row9 col13\" >tensor(0.8008)</td>\n",
       "      <td id=\"T_4a916_row9_col14\" class=\"data row9 col14\" >tensor(0.0430)</td>\n",
       "      <td id=\"T_4a916_row9_col15\" class=\"data row9 col15\" >tensor(0.)</td>\n",
       "      <td id=\"T_4a916_row9_col16\" class=\"data row9 col16\" >tensor(0.1680)</td>\n",
       "      <td id=\"T_4a916_row9_col17\" class=\"data row9 col17\" >tensor(0.6016)</td>\n",
       "      <td id=\"T_4a916_row9_col18\" class=\"data row9 col18\" >tensor(0.)</td>\n",
       "      <td id=\"T_4a916_row9_col19\" class=\"data row9 col19\" >tensor(0.)</td>\n",
       "      <td id=\"T_4a916_row9_col20\" class=\"data row9 col20\" >tensor(0.)</td>\n",
       "      <td id=\"T_4a916_row9_col21\" class=\"data row9 col21\" >tensor(0.)</td>\n",
       "      <td id=\"T_4a916_row9_col22\" class=\"data row9 col22\" >tensor(0.)</td>\n",
       "    </tr>\n",
       "    <tr>\n",
       "      <th id=\"T_4a916_level0_row10\" class=\"row_heading level0 row10\" >10</th>\n",
       "      <td id=\"T_4a916_row10_col0\" class=\"data row10 col0\" >tensor(0.)</td>\n",
       "      <td id=\"T_4a916_row10_col1\" class=\"data row10 col1\" >tensor(0.)</td>\n",
       "      <td id=\"T_4a916_row10_col2\" class=\"data row10 col2\" >tensor(0.)</td>\n",
       "      <td id=\"T_4a916_row10_col3\" class=\"data row10 col3\" >tensor(0.)</td>\n",
       "      <td id=\"T_4a916_row10_col4\" class=\"data row10 col4\" >tensor(0.)</td>\n",
       "      <td id=\"T_4a916_row10_col5\" class=\"data row10 col5\" >tensor(0.)</td>\n",
       "      <td id=\"T_4a916_row10_col6\" class=\"data row10 col6\" >tensor(0.)</td>\n",
       "      <td id=\"T_4a916_row10_col7\" class=\"data row10 col7\" >tensor(0.)</td>\n",
       "      <td id=\"T_4a916_row10_col8\" class=\"data row10 col8\" >tensor(0.)</td>\n",
       "      <td id=\"T_4a916_row10_col9\" class=\"data row10 col9\" >tensor(0.0547)</td>\n",
       "      <td id=\"T_4a916_row10_col10\" class=\"data row10 col10\" >tensor(0.0039)</td>\n",
       "      <td id=\"T_4a916_row10_col11\" class=\"data row10 col11\" >tensor(0.6016)</td>\n",
       "      <td id=\"T_4a916_row10_col12\" class=\"data row10 col12\" >tensor(0.9883)</td>\n",
       "      <td id=\"T_4a916_row10_col13\" class=\"data row10 col13\" >tensor(0.3516)</td>\n",
       "      <td id=\"T_4a916_row10_col14\" class=\"data row10 col14\" >tensor(0.)</td>\n",
       "      <td id=\"T_4a916_row10_col15\" class=\"data row10 col15\" >tensor(0.)</td>\n",
       "      <td id=\"T_4a916_row10_col16\" class=\"data row10 col16\" >tensor(0.)</td>\n",
       "      <td id=\"T_4a916_row10_col17\" class=\"data row10 col17\" >tensor(0.)</td>\n",
       "      <td id=\"T_4a916_row10_col18\" class=\"data row10 col18\" >tensor(0.)</td>\n",
       "      <td id=\"T_4a916_row10_col19\" class=\"data row10 col19\" >tensor(0.)</td>\n",
       "      <td id=\"T_4a916_row10_col20\" class=\"data row10 col20\" >tensor(0.)</td>\n",
       "      <td id=\"T_4a916_row10_col21\" class=\"data row10 col21\" >tensor(0.)</td>\n",
       "      <td id=\"T_4a916_row10_col22\" class=\"data row10 col22\" >tensor(0.)</td>\n",
       "    </tr>\n",
       "    <tr>\n",
       "      <th id=\"T_4a916_level0_row11\" class=\"row_heading level0 row11\" >11</th>\n",
       "      <td id=\"T_4a916_row11_col0\" class=\"data row11 col0\" >tensor(0.)</td>\n",
       "      <td id=\"T_4a916_row11_col1\" class=\"data row11 col1\" >tensor(0.)</td>\n",
       "      <td id=\"T_4a916_row11_col2\" class=\"data row11 col2\" >tensor(0.)</td>\n",
       "      <td id=\"T_4a916_row11_col3\" class=\"data row11 col3\" >tensor(0.)</td>\n",
       "      <td id=\"T_4a916_row11_col4\" class=\"data row11 col4\" >tensor(0.)</td>\n",
       "      <td id=\"T_4a916_row11_col5\" class=\"data row11 col5\" >tensor(0.)</td>\n",
       "      <td id=\"T_4a916_row11_col6\" class=\"data row11 col6\" >tensor(0.)</td>\n",
       "      <td id=\"T_4a916_row11_col7\" class=\"data row11 col7\" >tensor(0.)</td>\n",
       "      <td id=\"T_4a916_row11_col8\" class=\"data row11 col8\" >tensor(0.)</td>\n",
       "      <td id=\"T_4a916_row11_col9\" class=\"data row11 col9\" >tensor(0.)</td>\n",
       "      <td id=\"T_4a916_row11_col10\" class=\"data row11 col10\" >tensor(0.)</td>\n",
       "      <td id=\"T_4a916_row11_col11\" class=\"data row11 col11\" >tensor(0.5430)</td>\n",
       "      <td id=\"T_4a916_row11_col12\" class=\"data row11 col12\" >tensor(0.9883)</td>\n",
       "      <td id=\"T_4a916_row11_col13\" class=\"data row11 col13\" >tensor(0.7422)</td>\n",
       "      <td id=\"T_4a916_row11_col14\" class=\"data row11 col14\" >tensor(0.0078)</td>\n",
       "      <td id=\"T_4a916_row11_col15\" class=\"data row11 col15\" >tensor(0.)</td>\n",
       "      <td id=\"T_4a916_row11_col16\" class=\"data row11 col16\" >tensor(0.)</td>\n",
       "      <td id=\"T_4a916_row11_col17\" class=\"data row11 col17\" >tensor(0.)</td>\n",
       "      <td id=\"T_4a916_row11_col18\" class=\"data row11 col18\" >tensor(0.)</td>\n",
       "      <td id=\"T_4a916_row11_col19\" class=\"data row11 col19\" >tensor(0.)</td>\n",
       "      <td id=\"T_4a916_row11_col20\" class=\"data row11 col20\" >tensor(0.)</td>\n",
       "      <td id=\"T_4a916_row11_col21\" class=\"data row11 col21\" >tensor(0.)</td>\n",
       "      <td id=\"T_4a916_row11_col22\" class=\"data row11 col22\" >tensor(0.)</td>\n",
       "    </tr>\n",
       "    <tr>\n",
       "      <th id=\"T_4a916_level0_row12\" class=\"row_heading level0 row12\" >12</th>\n",
       "      <td id=\"T_4a916_row12_col0\" class=\"data row12 col0\" >tensor(0.)</td>\n",
       "      <td id=\"T_4a916_row12_col1\" class=\"data row12 col1\" >tensor(0.)</td>\n",
       "      <td id=\"T_4a916_row12_col2\" class=\"data row12 col2\" >tensor(0.)</td>\n",
       "      <td id=\"T_4a916_row12_col3\" class=\"data row12 col3\" >tensor(0.)</td>\n",
       "      <td id=\"T_4a916_row12_col4\" class=\"data row12 col4\" >tensor(0.)</td>\n",
       "      <td id=\"T_4a916_row12_col5\" class=\"data row12 col5\" >tensor(0.)</td>\n",
       "      <td id=\"T_4a916_row12_col6\" class=\"data row12 col6\" >tensor(0.)</td>\n",
       "      <td id=\"T_4a916_row12_col7\" class=\"data row12 col7\" >tensor(0.)</td>\n",
       "      <td id=\"T_4a916_row12_col8\" class=\"data row12 col8\" >tensor(0.)</td>\n",
       "      <td id=\"T_4a916_row12_col9\" class=\"data row12 col9\" >tensor(0.)</td>\n",
       "      <td id=\"T_4a916_row12_col10\" class=\"data row12 col10\" >tensor(0.)</td>\n",
       "      <td id=\"T_4a916_row12_col11\" class=\"data row12 col11\" >tensor(0.0430)</td>\n",
       "      <td id=\"T_4a916_row12_col12\" class=\"data row12 col12\" >tensor(0.7422)</td>\n",
       "      <td id=\"T_4a916_row12_col13\" class=\"data row12 col13\" >tensor(0.9883)</td>\n",
       "      <td id=\"T_4a916_row12_col14\" class=\"data row12 col14\" >tensor(0.2734)</td>\n",
       "      <td id=\"T_4a916_row12_col15\" class=\"data row12 col15\" >tensor(0.)</td>\n",
       "      <td id=\"T_4a916_row12_col16\" class=\"data row12 col16\" >tensor(0.)</td>\n",
       "      <td id=\"T_4a916_row12_col17\" class=\"data row12 col17\" >tensor(0.)</td>\n",
       "      <td id=\"T_4a916_row12_col18\" class=\"data row12 col18\" >tensor(0.)</td>\n",
       "      <td id=\"T_4a916_row12_col19\" class=\"data row12 col19\" >tensor(0.)</td>\n",
       "      <td id=\"T_4a916_row12_col20\" class=\"data row12 col20\" >tensor(0.)</td>\n",
       "      <td id=\"T_4a916_row12_col21\" class=\"data row12 col21\" >tensor(0.)</td>\n",
       "      <td id=\"T_4a916_row12_col22\" class=\"data row12 col22\" >tensor(0.)</td>\n",
       "    </tr>\n",
       "  </tbody>\n",
       "</table>\n"
      ],
      "text/plain": [
       "<pandas.io.formats.style.Styler at 0x7fd91015e520>"
      ]
     },
     "execution_count": 6,
     "metadata": {},
     "output_type": "execute_result"
    }
   ],
   "source": [
    "df = pd.DataFrame(img[:13,:23])\n",
    "df.style.format(precision=2).set_properties(**{'font-size':'7pt'}).background_gradient('Greys')"
   ]
  },
  {
   "cell_type": "code",
   "execution_count": 7,
   "metadata": {},
   "outputs": [],
   "source": [
    "def apply_kernel(img, row, col, kernel):\n",
    "    return (img[row-1:row+2, col-1:col+2] * kernel).sum()"
   ]
  },
  {
   "cell_type": "code",
   "execution_count": 8,
   "metadata": {},
   "outputs": [
    {
     "data": {
      "text/plain": [
       "tensor(0.6250)"
      ]
     },
     "execution_count": 8,
     "metadata": {},
     "output_type": "execute_result"
    }
   ],
   "source": [
    "apply_kernel(img, 5, 9, top_edge)"
   ]
  },
  {
   "cell_type": "code",
   "execution_count": 9,
   "metadata": {},
   "outputs": [
    {
     "data": {
      "text/plain": [
       "<AxesSubplot:>"
      ]
     },
     "execution_count": 9,
     "metadata": {},
     "output_type": "execute_result"
    },
    {
     "data": {
      "image/png": "[encoded data removed]",
      "text/plain": [
       "<Figure size 640x480 with 1 Axes>"
      ]
     },
     "metadata": {},
     "output_type": "display_data"
    }
   ],
   "source": [
    "rng = range(1, 27)\n",
    "top_edge_img = tensor([[apply_kernel(img, i, j, top_edge)for j in rng] for i in rng])\n",
    "show_image(top_edge_img)"
   ]
  },
  {
   "cell_type": "code",
   "execution_count": 10,
   "metadata": {},
   "outputs": [
    {
     "data": {
      "text/plain": [
       "<AxesSubplot:>"
      ]
     },
     "execution_count": 10,
     "metadata": {},
     "output_type": "execute_result"
    },
    {
     "data": {
      "image/png": "[encoded data removed]",
      "text/plain": [
       "<Figure size 640x480 with 1 Axes>"
      ]
     },
     "metadata": {},
     "output_type": "display_data"
    }
   ],
   "source": [
    "right_edge = tensor(\n",
    "    [\n",
    "        [1, 0, -1],\n",
    "        [1, 0, -1],\n",
    "        [1, 0, -1]\n",
    "    ]\n",
    ").float()\n",
    "\n",
    "show_image(right_edge)"
   ]
  },
  {
   "cell_type": "code",
   "execution_count": 11,
   "metadata": {},
   "outputs": [
    {
     "data": {
      "text/plain": [
       "<AxesSubplot:>"
      ]
     },
     "execution_count": 11,
     "metadata": {},
     "output_type": "execute_result"
    },
    {
     "data": {
      "image/png": "[encoded data removed]",
      "text/plain": [
       "<Figure size 640x480 with 1 Axes>"
      ]
     },
     "metadata": {},
     "output_type": "display_data"
    }
   ],
   "source": [
    "rng = range(1, 27)\n",
    "right_edge_img = tensor([[apply_kernel(img, i, j, right_edge)for j in rng] for i in rng])\n",
    "show_image(right_edge_img)"
   ]
  },
  {
   "cell_type": "markdown",
   "metadata": {},
   "source": [
    "### Convolutions in PyTorch"
   ]
  },
  {
   "cell_type": "code",
   "execution_count": 12,
   "metadata": {},
   "outputs": [],
   "source": [
    "import torch.nn.functional as F\n",
    "import torch"
   ]
  },
  {
   "cell_type": "code",
   "execution_count": 13,
   "metadata": {},
   "outputs": [
    {
     "data": {
      "text/plain": [
       "torch.Size([1, 1, 28, 28])"
      ]
     },
     "execution_count": 13,
     "metadata": {},
     "output_type": "execute_result"
    }
   ],
   "source": [
    "inp = img[None, None, :, :].float()\n",
    "inp.shape"
   ]
  },
  {
   "cell_type": "code",
   "execution_count": 14,
   "metadata": {},
   "outputs": [
    {
     "data": {
      "text/plain": [
       "torch.Size([1, 9, 676])"
      ]
     },
     "execution_count": 14,
     "metadata": {},
     "output_type": "execute_result"
    }
   ],
   "source": [
    "inp_unf = F.unfold(inp, (3,3))\n",
    "inp_unf.shape"
   ]
  },
  {
   "cell_type": "code",
   "execution_count": 15,
   "metadata": {},
   "outputs": [
    {
     "data": {
      "text/plain": [
       "torch.Size([9])"
      ]
     },
     "execution_count": 15,
     "metadata": {},
     "output_type": "execute_result"
    }
   ],
   "source": [
    "w = right_edge.view(-1)\n",
    "w.shape"
   ]
  },
  {
   "cell_type": "code",
   "execution_count": 16,
   "metadata": {},
   "outputs": [],
   "source": [
    "out_unf = w@inp_unf[0]"
   ]
  },
  {
   "cell_type": "code",
   "execution_count": 17,
   "metadata": {},
   "outputs": [
    {
     "data": {
      "text/plain": [
       "<AxesSubplot:>"
      ]
     },
     "execution_count": 17,
     "metadata": {},
     "output_type": "execute_result"
    },
    {
     "data": {
      "image/png": "[encoded data removed]",
      "text/plain": [
       "<Figure size 640x480 with 1 Axes>"
      ]
     },
     "metadata": {},
     "output_type": "display_data"
    }
   ],
   "source": [
    "out = out_unf.view(26,26)\n",
    "show_image(out)"
   ]
  },
  {
   "cell_type": "code",
   "execution_count": 18,
   "metadata": {},
   "outputs": [
    {
     "name": "stdout",
     "output_type": "stream",
     "text": [
      "16.3 ms ± 4.55 ms per loop (mean ± std. dev. of 7 runs, 1 loop each)\n"
     ]
    }
   ],
   "source": [
    "%timeit -n 1 tensor([[apply_kernel(img, i,j,right_edge) for j in rng] for i in rng]);"
   ]
  },
  {
   "cell_type": "code",
   "execution_count": 19,
   "metadata": {},
   "outputs": [
    {
     "name": "stdout",
     "output_type": "stream",
     "text": [
      "83.1 µs ± 15.3 µs per loop (mean ± std. dev. of 7 runs, 100 loops each)\n"
     ]
    }
   ],
   "source": [
    "%timeit -n 100 (w@F.unfold(inp, (3,3))[0]).view(26,26);"
   ]
  },
  {
   "cell_type": "code",
   "execution_count": 20,
   "metadata": {},
   "outputs": [
    {
     "name": "stdout",
     "output_type": "stream",
     "text": [
      "60.5 µs ± 23.6 µs per loop (mean ± std. dev. of 7 runs, 100 loops each)\n"
     ]
    }
   ],
   "source": [
    "%timeit -n 100 F.conv2d(inp, right_edge[None,None])"
   ]
  },
  {
   "cell_type": "code",
   "execution_count": 21,
   "metadata": {},
   "outputs": [
    {
     "data": {
      "text/plain": [
       "<AxesSubplot:>"
      ]
     },
     "execution_count": 21,
     "metadata": {},
     "output_type": "execute_result"
    },
    {
     "data": {
      "image/png": "[encoded data removed]",
      "text/plain": [
       "<Figure size 640x480 with 1 Axes>"
      ]
     },
     "metadata": {},
     "output_type": "display_data"
    }
   ],
   "source": [
    "diag1_edge = tensor(\n",
    "    [\n",
    "        [0, -1, 1],\n",
    "        [-1, 1, 0],\n",
    "        [1, 0, 0]\n",
    "    ]\n",
    ").float()\n",
    "\n",
    "show_image(diag1_edge)"
   ]
  },
  {
   "cell_type": "code",
   "execution_count": 22,
   "metadata": {},
   "outputs": [
    {
     "data": {
      "text/plain": [
       "<AxesSubplot:>"
      ]
     },
     "execution_count": 22,
     "metadata": {},
     "output_type": "execute_result"
    },
    {
     "data": {
      "image/png": "[encoded data removed]",
      "text/plain": [
       "<Figure size 640x480 with 1 Axes>"
      ]
     },
     "metadata": {},
     "output_type": "display_data"
    }
   ],
   "source": [
    "diag2_edge = tensor(\n",
    "    [\n",
    "        [1,-1,0],\n",
    "        [0,1,-1],\n",
    "        [0,0,1]\n",
    "    ]\n",
    ").float()\n",
    "\n",
    "show_image(diag2_edge)"
   ]
  },
  {
   "cell_type": "code",
   "execution_count": 23,
   "metadata": {},
   "outputs": [
    {
     "data": {
      "text/plain": [
       "torch.Size([16, 1, 28, 28])"
      ]
     },
     "execution_count": 23,
     "metadata": {},
     "output_type": "execute_result"
    }
   ],
   "source": [
    "xb = train_imgs[:16][:, None]\n",
    "xb.shape"
   ]
  },
  {
   "cell_type": "code",
   "execution_count": 24,
   "metadata": {},
   "outputs": [
    {
     "data": {
      "text/plain": [
       "torch.Size([4, 1, 3, 3])"
      ]
     },
     "execution_count": 24,
     "metadata": {},
     "output_type": "execute_result"
    }
   ],
   "source": [
    "edge_kernels = torch.stack([right_edge, top_edge, diag1_edge, diag2_edge])[:, None]\n",
    "edge_kernels.shape"
   ]
  },
  {
   "cell_type": "code",
   "execution_count": 25,
   "metadata": {},
   "outputs": [
    {
     "data": {
      "text/plain": [
       "torch.Size([16, 4, 26, 26])"
      ]
     },
     "execution_count": 25,
     "metadata": {},
     "output_type": "execute_result"
    }
   ],
   "source": [
    "batch_features = F.conv2d(xb, edge_kernels)\n",
    "batch_features.shape"
   ]
  },
  {
   "cell_type": "code",
   "execution_count": 26,
   "metadata": {},
   "outputs": [
    {
     "data": {
      "text/plain": [
       "<AxesSubplot:>"
      ]
     },
     "execution_count": 26,
     "metadata": {},
     "output_type": "execute_result"
    },
    {
     "data": {
      "image/png": "[encoded data removed]",
      "text/plain": [
       "<Figure size 640x480 with 1 Axes>"
      ]
     },
     "metadata": {},
     "output_type": "display_data"
    }
   ],
   "source": [
    "img = xb[0,0]\n",
    "show_image(img)"
   ]
  },
  {
   "cell_type": "code",
   "execution_count": 27,
   "metadata": {},
   "outputs": [
    {
     "data": {
      "image/png": "[encoded data removed]",
      "text/plain": [
       "<Figure size 600x600 with 4 Axes>"
      ]
     },
     "metadata": {},
     "output_type": "display_data"
    }
   ],
   "source": [
    "show_images([batch_features[0,i] for i in range(4)])"
   ]
  },
  {
   "cell_type": "markdown",
   "metadata": {},
   "source": [
    "### Creating a CNN"
   ]
  },
  {
   "cell_type": "code",
   "execution_count": 28,
   "metadata": {},
   "outputs": [],
   "source": [
    "def conv(ni, nf, ks=3, stride=2, act=True):\n",
    "    res = nn.Conv2d(ni, nf, stride=stride, kernel_size=ks, padding=ks//2)\n",
    "    if act==True:\n",
    "        res = nn.Sequential(\n",
    "            res,\n",
    "            nn.ReLU()\n",
    "        )\n",
    "    return res"
   ]
  },
  {
   "cell_type": "code",
   "execution_count": 29,
   "metadata": {},
   "outputs": [
    {
     "data": {
      "text/plain": [
       "torch.Size([16, 10])"
      ]
     },
     "execution_count": 29,
     "metadata": {},
     "output_type": "execute_result"
    }
   ],
   "source": [
    "simple_cnn = nn.Sequential(\n",
    "    conv(1, 4),\n",
    "    conv(4, 8),\n",
    "    conv(8, 16),\n",
    "    conv(16, 16),\n",
    "    conv(16, 10, act=False),\n",
    "    nn.Flatten(),\n",
    ")\n",
    "\n",
    "simple_cnn(xb).shape"
   ]
  },
  {
   "cell_type": "code",
   "execution_count": 30,
   "metadata": {},
   "outputs": [],
   "source": [
    "train_imgs = x_train.view(-1, 1, 28, 28)\n",
    "valid_imgs = x_valid.view(-1, 1, 28, 28)\n",
    "train_ds, valid_ds = Dataset(train_imgs, y_train), Dataset(valid_imgs, y_valid)"
   ]
  },
  {
   "cell_type": "code",
   "execution_count": 31,
   "metadata": {},
   "outputs": [],
   "source": [
    "device = 'mps' if torch.backends.mps.is_available() else \"cuda\" if torch.cuda.is_available() else \"cpu\"\n",
    "\n",
    "def to_device(x, device):\n",
    "\n",
    "    if isinstance(x, Mapping):\n",
    "        return {k:v.to(device) for k,v in x.items}\n",
    "    \n",
    "    x_type = type(x)\n",
    "    return x_type(o.to(device) for o in x)\n",
    "\n",
    "def collate_device(b):\n",
    "    return to_device(default_collate(b), device)"
   ]
  },
  {
   "cell_type": "code",
   "execution_count": 32,
   "metadata": {},
   "outputs": [],
   "source": [
    "from torch import optim\n",
    "\n",
    "bs = 256\n",
    "lr = 0.4\n",
    "train_dl, valid_dl = get_dls(train_ds, valid_ds, bs, collate_fn=collate_device)\n",
    "opt = optim.SGD(simple_cnn.parameters(), lr=lr)"
   ]
  },
  {
   "cell_type": "code",
   "execution_count": 33,
   "metadata": {},
   "outputs": [
    {
     "name": "stdout",
     "output_type": "stream",
     "text": [
      "0 1.805612126159668 0.43000000019073487\n",
      "1 0.22894234461784363 0.9289000004768372\n",
      "2 0.15318569631576537 0.9526999992370605\n",
      "3 0.16646970219612123 0.9492999994277954\n",
      "4 0.09780305001735687 0.970099999332428\n"
     ]
    }
   ],
   "source": [
    "los, acc = fit(5, simple_cnn, F.cross_entropy, opt, train_dl, valid_dl)"
   ]
  }
 ],
 "metadata": {
  "kernelspec": {
   "display_name": "Python 3.8.10 64-bit",
   "language": "python",
   "name": "python3"
  },
  "language_info": {
   "codemirror_mode": {
    "name": "ipython",
    "version": 3
   },
   "file_extension": ".py",
   "mimetype": "text/x-python",
   "name": "python",
   "nbconvert_exporter": "python",
   "pygments_lexer": "ipython3",
   "version": "3.8.10"
  },
  "orig_nbformat": 4,
  "vscode": {
   "interpreter": {
    "hash": "916dbcbb3f70747c44a77c7bcd40155683ae19c65e1c03b4aa3499c5328201f1"
   }
  }
 },
 "nbformat": 4,
 "nbformat_minor": 2
}
