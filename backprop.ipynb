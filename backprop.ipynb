{
  "nbformat": 4,
  "nbformat_minor": 0,
  "metadata": {
    "colab": {
      "provenance": [],
      "authorship_tag": "ABX9TyOTTvNtYI0jeSE3UhL/s4yG",
      "include_colab_link": true
    },
    "kernelspec": {
      "name": "python3",
      "display_name": "Python 3"
    },
    "language_info": {
      "name": "python"
    },
    "accelerator": "GPU",
    "gpuClass": "standard"
  },
  "cells": [
    {
      "cell_type": "markdown",
      "metadata": {
        "id": "view-in-github",
        "colab_type": "text"
      },
      "source": [
        "<a href=\"https://colab.research.google.com/github/daspartho/fastai-part2/blob/main/backprop.ipynb\" target=\"_parent\"><img src=\"https://colab.research.google.com/assets/colab-badge.svg\" alt=\"Open In Colab\"/></a>"
      ]
    },
    {
      "cell_type": "markdown",
      "source": [
        "### Setup"
      ],
      "metadata": {
        "id": "1kx7j5OQi2Rd"
      }
    },
    {
      "cell_type": "code",
      "source": [
        "import pickle,gzip,math,os,time,shutil,torch,matplotlib as mpl, numpy as np\n",
        "from pathlib import Path\n",
        "from torch import tensor\n",
        "from urllib.request import urlretrieve\n",
        "from fastcore.test import test_close\n",
        "torch.manual_seed(42)\n",
        "\n",
        "mpl.rcParams['image.cmap'] = 'gray'\n",
        "torch.set_printoptions(precision=2, linewidth=125, sci_mode=False)\n",
        "np.set_printoptions(precision=2, linewidth=125)\n",
        "\n",
        "MNIST_URL='https://github.com/mnielsen/neural-networks-and-deep-learning/blob/master/data/mnist.pkl.gz?raw=true'\n",
        "path_data = Path('data')\n",
        "path_data.mkdir(exist_ok=True)\n",
        "path_gz = path_data/'mnist.pkl.gz'\n",
        "\n",
        "if not path_gz.exists():\n",
        "    urlretrieve(MNIST_URL, path_gz)\n",
        "\n",
        "with gzip.open(path_gz, 'rb') as f: \n",
        "    ((x_train, y_train), (x_valid, y_valid), _) = pickle.load(f, encoding='latin-1')\n",
        "x_train, y_train, x_valid, y_valid = map(tensor, [x_train, y_train, x_valid, y_valid])"
      ],
      "metadata": {
        "id": "jKNGcaALiwQK"
      },
      "execution_count": 1,
      "outputs": []
    },
    {
      "cell_type": "markdown",
      "source": [
        "### Foundations version"
      ],
      "metadata": {
        "id": "gp43mnx4kD_-"
      }
    },
    {
      "cell_type": "markdown",
      "source": [
        "#### Basic architecture"
      ],
      "metadata": {
        "id": "9uOeHsfrkSDT"
      }
    },
    {
      "cell_type": "code",
      "source": [
        "n,m = x_train.shape\n",
        "c = y_train.max()+1\n",
        "n,m,c"
      ],
      "metadata": {
        "colab": {
          "base_uri": "https://localhost:8080/"
        },
        "id": "wlQuzgKXkAc-",
        "outputId": "6d4ee48b-483f-478a-b534-88aae8acd868"
      },
      "execution_count": 2,
      "outputs": [
        {
          "output_type": "execute_result",
          "data": {
            "text/plain": [
              "(50000, 784, tensor(10))"
            ]
          },
          "metadata": {},
          "execution_count": 2
        }
      ]
    },
    {
      "cell_type": "code",
      "source": [
        "nh=50 # number of hidden"
      ],
      "metadata": {
        "id": "txXsCx-Hkjjy"
      },
      "execution_count": 3,
      "outputs": []
    },
    {
      "cell_type": "code",
      "source": [
        "w1 = torch.randn(m, nh)\n",
        "b1 = torch.zeros(nh)\n",
        "w2 = torch.randn(nh, 1)\n",
        "b2 = torch.zeros(1)"
      ],
      "metadata": {
        "id": "QYck0OTXkokl"
      },
      "execution_count": 4,
      "outputs": []
    },
    {
      "cell_type": "code",
      "source": [
        "def lin(x, w, b):\n",
        "    return x@w + b"
      ],
      "metadata": {
        "id": "sWB1pNgWlDUZ"
      },
      "execution_count": 5,
      "outputs": []
    },
    {
      "cell_type": "code",
      "source": [
        "t = lin(x_valid, w1, b1)\n",
        "t, t.shape"
      ],
      "metadata": {
        "colab": {
          "base_uri": "https://localhost:8080/"
        },
        "id": "0Grf4FiolL5N",
        "outputId": "984affc5-07fe-4ea1-c8cb-d9273cb622c3"
      },
      "execution_count": 6,
      "outputs": [
        {
          "output_type": "execute_result",
          "data": {
            "text/plain": [
              "(tensor([[ -0.09,  11.87, -11.39,  ...,   5.48,   2.14,  15.30],\n",
              "         [  5.38,  10.21, -14.49,  ...,   0.88,   0.08,  20.23],\n",
              "         [  3.31,   0.12,   3.10,  ...,  16.89,  -6.05,  24.74],\n",
              "         ...,\n",
              "         [  4.01,  10.35, -11.25,  ...,   0.23,  -5.30,  18.28],\n",
              "         [ 10.62,  -4.27,  10.72,  ...,  -2.87,  -2.87,  18.23],\n",
              "         [  2.84,  -0.22,   1.43,  ...,  -3.91,   5.75,   2.12]]),\n",
              " torch.Size([10000, 50]))"
            ]
          },
          "metadata": {},
          "execution_count": 6
        }
      ]
    },
    {
      "cell_type": "code",
      "source": [
        "def relu(x):\n",
        "    return x.clamp_min(0.)"
      ],
      "metadata": {
        "id": "7Y0SxIdelYI4"
      },
      "execution_count": 7,
      "outputs": []
    },
    {
      "cell_type": "code",
      "source": [
        "t = relu(t)\n",
        "t"
      ],
      "metadata": {
        "colab": {
          "base_uri": "https://localhost:8080/"
        },
        "id": "NXMFGDHZlqoA",
        "outputId": "fa74654f-17df-40e4-fdf8-21570473e996"
      },
      "execution_count": 8,
      "outputs": [
        {
          "output_type": "execute_result",
          "data": {
            "text/plain": [
              "tensor([[ 0.00, 11.87,  0.00,  ...,  5.48,  2.14, 15.30],\n",
              "        [ 5.38, 10.21,  0.00,  ...,  0.88,  0.08, 20.23],\n",
              "        [ 3.31,  0.12,  3.10,  ..., 16.89,  0.00, 24.74],\n",
              "        ...,\n",
              "        [ 4.01, 10.35,  0.00,  ...,  0.23,  0.00, 18.28],\n",
              "        [10.62,  0.00, 10.72,  ...,  0.00,  0.00, 18.23],\n",
              "        [ 2.84,  0.00,  1.43,  ...,  0.00,  5.75,  2.12]])"
            ]
          },
          "metadata": {},
          "execution_count": 8
        }
      ]
    },
    {
      "cell_type": "code",
      "source": [
        "def model(x):\n",
        "    l1 = lin(x, w1, b1)\n",
        "    l2 = relu(l1)\n",
        "    return lin(l2, w2, b2)"
      ],
      "metadata": {
        "id": "7hKrnfG0lt2i"
      },
      "execution_count": 9,
      "outputs": []
    },
    {
      "cell_type": "code",
      "source": [
        "res = model(x_valid)\n",
        "res, res.shape"
      ],
      "metadata": {
        "colab": {
          "base_uri": "https://localhost:8080/"
        },
        "id": "L2w63EsomBrv",
        "outputId": "17d78623-348b-49e9-c65b-cee068b9cfb3"
      },
      "execution_count": 10,
      "outputs": [
        {
          "output_type": "execute_result",
          "data": {
            "text/plain": [
              "(tensor([[  25.75],\n",
              "         [ -13.06],\n",
              "         [-114.79],\n",
              "         ...,\n",
              "         [ -67.44],\n",
              "         [ -74.48],\n",
              "         [ -60.19]]), torch.Size([10000, 1]))"
            ]
          },
          "metadata": {},
          "execution_count": 10
        }
      ]
    },
    {
      "cell_type": "markdown",
      "source": [
        "#### Loss function: MSE"
      ],
      "metadata": {
        "id": "aPLvEF9GmZA9"
      }
    },
    {
      "cell_type": "markdown",
      "source": [
        "(Of course, MSE is not a suitable loss function for multi-class classification; we'll use a better loss function soon. We'll use MSE for now to keep things simple.)"
      ],
      "metadata": {
        "id": "GraaKI9Umdqs"
      }
    },
    {
      "cell_type": "code",
      "source": [
        "res.shape, y_valid.shape"
      ],
      "metadata": {
        "id": "GgW901hymYyc",
        "outputId": "52b59192-1709-4f1a-967b-4659780f42d2",
        "colab": {
          "base_uri": "https://localhost:8080/"
        }
      },
      "execution_count": 11,
      "outputs": [
        {
          "output_type": "execute_result",
          "data": {
            "text/plain": [
              "(torch.Size([10000, 1]), torch.Size([10000]))"
            ]
          },
          "metadata": {},
          "execution_count": 11
        }
      ]
    },
    {
      "cell_type": "code",
      "source": [
        "(res.squeeze()-y_valid).shape"
      ],
      "metadata": {
        "id": "SGl2whbBnBDM",
        "outputId": "8a4daf0d-1423-4ecc-9af5-abbca016b3ed",
        "colab": {
          "base_uri": "https://localhost:8080/"
        }
      },
      "execution_count": 12,
      "outputs": [
        {
          "output_type": "execute_result",
          "data": {
            "text/plain": [
              "torch.Size([10000])"
            ]
          },
          "metadata": {},
          "execution_count": 12
        }
      ]
    },
    {
      "cell_type": "code",
      "source": [
        "def mse(output, targ):\n",
        "    return (output.squeeze()-targ).pow(2).mean()"
      ],
      "metadata": {
        "id": "K-MmdCnJnRvW"
      },
      "execution_count": 13,
      "outputs": []
    },
    {
      "cell_type": "code",
      "source": [
        "mse(res, y_valid)"
      ],
      "metadata": {
        "id": "i5JxG4eynrpq",
        "outputId": "3e838350-f72d-428d-dd4e-3cff4abc025c",
        "colab": {
          "base_uri": "https://localhost:8080/"
        }
      },
      "execution_count": 14,
      "outputs": [
        {
          "output_type": "execute_result",
          "data": {
            "text/plain": [
              "tensor(4154.01)"
            ]
          },
          "metadata": {},
          "execution_count": 14
        }
      ]
    },
    {
      "cell_type": "markdown",
      "source": [
        "### Gradients and backward pass"
      ],
      "metadata": {
        "id": "3-M4JovJYOXi"
      }
    },
    {
      "cell_type": "code",
      "source": [
        "def lin_grad(inp, out, w, b):\n",
        "    inp.g = out.g @ w.t()\n",
        "    w.g = (inp.unsqueeze(-1) * out.g.unsqueeze(1)).sum(0)\n",
        "    b.g = out.g.sum(0)"
      ],
      "metadata": {
        "id": "1voGiQnFZV4s"
      },
      "execution_count": 15,
      "outputs": []
    },
    {
      "cell_type": "code",
      "source": [
        "def forward_backward(inp, targ):\n",
        "    # forward pass\n",
        "    l1 = lin(inp, w1, b1)\n",
        "    l2 = relu(l1)\n",
        "    out = lin(l2, w2, b2)\n",
        "    diff = out.squeeze() - targ\n",
        "    loss = diff.pow(2).mean()\n",
        "\n",
        "    # backward pass\n",
        "    out.g = 2.*diff.unsqueeze(1) / inp.shape[0]\n",
        "    lin_grad(l2, out, w2, b2)\n",
        "    l1.g = (l1>0).float() * l2.g\n",
        "    lin_grad(inp, l1, w1, b1)"
      ],
      "metadata": {
        "id": "8WUYIjebYI2T"
      },
      "execution_count": 16,
      "outputs": []
    },
    {
      "cell_type": "code",
      "source": [
        "forward_backward(x_train, y_train)"
      ],
      "metadata": {
        "id": "IqmitKN_agju"
      },
      "execution_count": 17,
      "outputs": []
    },
    {
      "cell_type": "code",
      "source": [
        "w2.g"
      ],
      "metadata": {
        "colab": {
          "base_uri": "https://localhost:8080/"
        },
        "id": "K66G7rQ_cHIe",
        "outputId": "b50df122-0dd9-4e2f-8c6f-9b9b4e450490"
      },
      "execution_count": 18,
      "outputs": [
        {
          "output_type": "execute_result",
          "data": {
            "text/plain": [
              "tensor([[ -869.79],\n",
              "        [ -622.49],\n",
              "        [ -165.30],\n",
              "        [ -468.34],\n",
              "        [ -837.93],\n",
              "        [ -687.30],\n",
              "        [ -559.73],\n",
              "        [ -637.38],\n",
              "        [ -176.24],\n",
              "        [  -10.81],\n",
              "        [ -993.01],\n",
              "        [ -533.38],\n",
              "        [ -730.86],\n",
              "        [  -54.01],\n",
              "        [ -451.91],\n",
              "        [ -156.28],\n",
              "        [ -567.42],\n",
              "        [  -61.53],\n",
              "        [  -15.62],\n",
              "        [ -463.00],\n",
              "        [  -79.85],\n",
              "        [ -582.16],\n",
              "        [  -11.21],\n",
              "        [-1023.28],\n",
              "        [ -140.96],\n",
              "        [-1357.97],\n",
              "        [-1326.60],\n",
              "        [ -115.92],\n",
              "        [ -125.99],\n",
              "        [   -4.39],\n",
              "        [ -601.42],\n",
              "        [ -508.06],\n",
              "        [ -505.85],\n",
              "        [ -301.20],\n",
              "        [ -549.87],\n",
              "        [  -13.01],\n",
              "        [ -900.70],\n",
              "        [ -179.80],\n",
              "        [ -117.92],\n",
              "        [-1531.71],\n",
              "        [ -295.88],\n",
              "        [ -327.67],\n",
              "        [ -642.84],\n",
              "        [   -7.32],\n",
              "        [-1333.88],\n",
              "        [  -10.38],\n",
              "        [ -198.15],\n",
              "        [ -561.56],\n",
              "        [  -53.83],\n",
              "        [-1659.88]])"
            ]
          },
          "metadata": {},
          "execution_count": 18
        }
      ]
    },
    {
      "cell_type": "markdown",
      "source": [
        "### Refactoring"
      ],
      "metadata": {
        "id": "z-2UOt1ceL8m"
      }
    },
    {
      "cell_type": "markdown",
      "source": [
        "#### layers as classes"
      ],
      "metadata": {
        "id": "gkY8qIRFi7MF"
      }
    },
    {
      "cell_type": "code",
      "source": [
        "class Relu():\n",
        "    def __call__(self, inp):\n",
        "        self.inp = inp\n",
        "        self.out = inp.clamp_min(0.)\n",
        "        return self.out\n",
        "\n",
        "    def backward(self):\n",
        "        self.inp.g = (self.inp>0).float() * self.out.g"
      ],
      "metadata": {
        "id": "ddfm0t0SdACn"
      },
      "execution_count": 19,
      "outputs": []
    },
    {
      "cell_type": "code",
      "source": [
        "class Lin():\n",
        "    def __init__(self, w, b):\n",
        "        self.w = w\n",
        "        self.b = b\n",
        "    \n",
        "    def __call__(self, inp):\n",
        "        self.inp = inp\n",
        "        self.out = lin(inp, self.w, self.b)\n",
        "        return self.out\n",
        "\n",
        "    def backward(self):\n",
        "        self.inp.g = self.out.g @ self.w.t()\n",
        "        self.w.g = self.inp.t() @ self.out.g\n",
        "        self.b.g = self.out.g.sum(0)"
      ],
      "metadata": {
        "id": "9aTIMbHNkKdZ"
      },
      "execution_count": 20,
      "outputs": []
    },
    {
      "cell_type": "code",
      "source": [
        "class MSE():\n",
        "    def __call__(self, inp, targ):\n",
        "        self.inp = inp\n",
        "        self.targ = targ\n",
        "        self.out = mse(inp, targ)\n",
        "        return self.out\n",
        "    \n",
        "    def backward(self):\n",
        "        self.inp.g = 2.* (self.inp.squeeze() - self.targ).unsqueeze(-1) / self.targ.shape[0]"
      ],
      "metadata": {
        "id": "lm3TUTxelE2V"
      },
      "execution_count": 21,
      "outputs": []
    },
    {
      "cell_type": "code",
      "source": [
        "class Model():\n",
        "    def __init__(self, w1,b1,w2,b2):\n",
        "        self.layers = [Lin(w1,b1), Relu(), Lin(w2,b2)]\n",
        "        self.loss = MSE()\n",
        "\n",
        "    def __call__(self, x, targ):\n",
        "        for l in self.layers:\n",
        "            x = l(x)\n",
        "        return self.loss(x, targ)\n",
        "\n",
        "    def backward(self):\n",
        "        self.loss.backward()\n",
        "        for l in reversed(self.layers):\n",
        "            l.backward()"
      ],
      "metadata": {
        "id": "vumVMeBMl1Gd"
      },
      "execution_count": 22,
      "outputs": []
    },
    {
      "cell_type": "code",
      "source": [
        "model = Model(w1, b1, w2, b2)"
      ],
      "metadata": {
        "id": "HKtliXdPmuOh"
      },
      "execution_count": 23,
      "outputs": []
    },
    {
      "cell_type": "code",
      "source": [
        "loss = model(x_train, y_train)"
      ],
      "metadata": {
        "id": "QWc8n1Bamzwn"
      },
      "execution_count": 24,
      "outputs": []
    },
    {
      "cell_type": "code",
      "source": [
        "model.backward()"
      ],
      "metadata": {
        "id": "hYZ4dpmSm25f"
      },
      "execution_count": 25,
      "outputs": []
    },
    {
      "cell_type": "code",
      "source": [
        "w2.g"
      ],
      "metadata": {
        "id": "u8yzJwY_m4Ww",
        "outputId": "1298b80d-7120-47ef-a3bd-7434d40df008",
        "colab": {
          "base_uri": "https://localhost:8080/"
        }
      },
      "execution_count": 26,
      "outputs": [
        {
          "output_type": "execute_result",
          "data": {
            "text/plain": [
              "tensor([[ -869.79],\n",
              "        [ -622.50],\n",
              "        [ -165.30],\n",
              "        [ -468.34],\n",
              "        [ -837.93],\n",
              "        [ -687.30],\n",
              "        [ -559.73],\n",
              "        [ -637.38],\n",
              "        [ -176.24],\n",
              "        [  -10.81],\n",
              "        [ -993.01],\n",
              "        [ -533.38],\n",
              "        [ -730.86],\n",
              "        [  -54.01],\n",
              "        [ -451.91],\n",
              "        [ -156.28],\n",
              "        [ -567.42],\n",
              "        [  -61.53],\n",
              "        [  -15.62],\n",
              "        [ -463.00],\n",
              "        [  -79.85],\n",
              "        [ -582.16],\n",
              "        [  -11.21],\n",
              "        [-1023.27],\n",
              "        [ -140.96],\n",
              "        [-1357.97],\n",
              "        [-1326.60],\n",
              "        [ -115.92],\n",
              "        [ -125.99],\n",
              "        [   -4.39],\n",
              "        [ -601.42],\n",
              "        [ -508.06],\n",
              "        [ -505.85],\n",
              "        [ -301.20],\n",
              "        [ -549.87],\n",
              "        [  -13.01],\n",
              "        [ -900.70],\n",
              "        [ -179.80],\n",
              "        [ -117.92],\n",
              "        [-1531.71],\n",
              "        [ -295.88],\n",
              "        [ -327.67],\n",
              "        [ -642.84],\n",
              "        [   -7.32],\n",
              "        [-1333.88],\n",
              "        [  -10.38],\n",
              "        [ -198.15],\n",
              "        [ -561.56],\n",
              "        [  -53.83],\n",
              "        [-1659.88]])"
            ]
          },
          "metadata": {},
          "execution_count": 26
        }
      ]
    },
    {
      "cell_type": "markdown",
      "source": [
        "#### Module.forward()"
      ],
      "metadata": {
        "id": "BamFmyrOeXyS"
      }
    },
    {
      "cell_type": "code",
      "source": [
        "class Module():\n",
        "    def __call__(self, *args):\n",
        "        self.args = args\n",
        "        self.out = self.forward(*args)\n",
        "        return self.out\n",
        "\n",
        "    def forward(self):\n",
        "        raise Exception('not implemented')\n",
        "\n",
        "    def backward(self):\n",
        "        self.bwd(self.out, *self.args)\n",
        "\n",
        "    def bwd(self):\n",
        "        raise Exception('not implemented')"
      ],
      "metadata": {
        "id": "YbHTsqsKwhHc"
      },
      "execution_count": 27,
      "outputs": []
    },
    {
      "cell_type": "code",
      "source": [
        "class Relu(Module):\n",
        "    def forward(self, inp):\n",
        "        return inp.clamp_min(0.)\n",
        "    def bwd(self, out, inp):\n",
        "        inp.g = (inp>0).float() * out.g"
      ],
      "metadata": {
        "id": "aVqyNXUhhMAv"
      },
      "execution_count": 28,
      "outputs": []
    },
    {
      "cell_type": "code",
      "source": [
        "class Lin(Module):\n",
        "    def __init__(self, w,b):\n",
        "        self.w = w\n",
        "        self.b = b\n",
        "    \n",
        "    def forward(self, inp):\n",
        "        return lin(inp, self.w, self.b)\n",
        "\n",
        "    def bwd(self, out, inp):\n",
        "        inp.g = out.g @ self.w.t()\n",
        "        self.w.g = inp.t() @ out.g\n",
        "        self.b.g = out.g.sum(0)"
      ],
      "metadata": {
        "id": "anQaeABViKhd"
      },
      "execution_count": 29,
      "outputs": []
    },
    {
      "cell_type": "code",
      "source": [
        "class MSE(Module):\n",
        "    def forward(self, inp, targ):\n",
        "        return mse(inp, targ)\n",
        "    def bwd(self, out, inp, targ):\n",
        "        inp.g = 2.* (inp.squeeze() - targ).unsqueeze(-1) / targ.shape[0]"
      ],
      "metadata": {
        "id": "qQQUkWFujuyl"
      },
      "execution_count": 30,
      "outputs": []
    },
    {
      "cell_type": "code",
      "source": [
        "model = Model(w1, b1, w2, b2)"
      ],
      "metadata": {
        "id": "-BG5nqlLklxY"
      },
      "execution_count": 31,
      "outputs": []
    },
    {
      "cell_type": "code",
      "source": [
        "loss = model(x_train, y_train)"
      ],
      "metadata": {
        "id": "QBCduLO6kvUr"
      },
      "execution_count": 32,
      "outputs": []
    },
    {
      "cell_type": "code",
      "source": [
        "model.backward()"
      ],
      "metadata": {
        "id": "-i1ygMOVk3KT"
      },
      "execution_count": 33,
      "outputs": []
    },
    {
      "cell_type": "code",
      "source": [
        "w2.g"
      ],
      "metadata": {
        "colab": {
          "base_uri": "https://localhost:8080/"
        },
        "id": "awOdGR6Gk3vF",
        "outputId": "144f7c17-013e-4796-e167-ed2ae83de96a"
      },
      "execution_count": 34,
      "outputs": [
        {
          "output_type": "execute_result",
          "data": {
            "text/plain": [
              "tensor([[ -869.79],\n",
              "        [ -622.50],\n",
              "        [ -165.30],\n",
              "        [ -468.34],\n",
              "        [ -837.93],\n",
              "        [ -687.30],\n",
              "        [ -559.73],\n",
              "        [ -637.38],\n",
              "        [ -176.24],\n",
              "        [  -10.81],\n",
              "        [ -993.01],\n",
              "        [ -533.38],\n",
              "        [ -730.86],\n",
              "        [  -54.01],\n",
              "        [ -451.91],\n",
              "        [ -156.28],\n",
              "        [ -567.42],\n",
              "        [  -61.53],\n",
              "        [  -15.62],\n",
              "        [ -463.00],\n",
              "        [  -79.85],\n",
              "        [ -582.16],\n",
              "        [  -11.21],\n",
              "        [-1023.27],\n",
              "        [ -140.96],\n",
              "        [-1357.97],\n",
              "        [-1326.60],\n",
              "        [ -115.92],\n",
              "        [ -125.99],\n",
              "        [   -4.39],\n",
              "        [ -601.42],\n",
              "        [ -508.06],\n",
              "        [ -505.85],\n",
              "        [ -301.20],\n",
              "        [ -549.87],\n",
              "        [  -13.01],\n",
              "        [ -900.70],\n",
              "        [ -179.80],\n",
              "        [ -117.92],\n",
              "        [-1531.71],\n",
              "        [ -295.88],\n",
              "        [ -327.67],\n",
              "        [ -642.84],\n",
              "        [   -7.32],\n",
              "        [-1333.88],\n",
              "        [  -10.38],\n",
              "        [ -198.15],\n",
              "        [ -561.56],\n",
              "        [  -53.83],\n",
              "        [-1659.88]])"
            ]
          },
          "metadata": {},
          "execution_count": 34
        }
      ]
    },
    {
      "cell_type": "markdown",
      "source": [
        "#### Autograd"
      ],
      "metadata": {
        "id": "DRcOqkZclztx"
      }
    },
    {
      "cell_type": "code",
      "source": [
        "from torch import nn\n",
        "import torch.nn.functional as F"
      ],
      "metadata": {
        "id": "4h47f9XlnIxE"
      },
      "execution_count": 35,
      "outputs": []
    },
    {
      "cell_type": "code",
      "source": [
        "class Linear(nn.Module):\n",
        "    def __init__(self, n_in, n_out):\n",
        "        super().__init__()\n",
        "        self.w = torch.randn(n_in, n_out).requires_grad_()\n",
        "        self.b = torch.zeros(n_out).requires_grad_()\n",
        "    def forward(self, inp):\n",
        "        return inp @ self.w + self.b"
      ],
      "metadata": {
        "id": "0_bQlB8enQdM"
      },
      "execution_count": 36,
      "outputs": []
    },
    {
      "cell_type": "code",
      "source": [
        "class Model(nn.Module):\n",
        "    def __init__(self, n_in, nh, n_out):\n",
        "        super().__init__()\n",
        "        self.layers = [Linear(n_in,nh), nn.ReLU(), Linear(nh,n_out)]\n",
        "\n",
        "    def __call__(self, x, targ):\n",
        "        for l in self.layers:\n",
        "            x = l(x)\n",
        "        return F.mse_loss(x, targ.unsqueeze(1))"
      ],
      "metadata": {
        "id": "xPOwMuICnw19"
      },
      "execution_count": 37,
      "outputs": []
    },
    {
      "cell_type": "code",
      "source": [
        "model = Model(m, nh, 1)\n",
        "loss = model(x_train, y_train.float())\n",
        "loss.backward()"
      ],
      "metadata": {
        "id": "mHCSkmvkopy5"
      },
      "execution_count": 38,
      "outputs": []
    },
    {
      "cell_type": "code",
      "source": [
        "l0 = model.layers[0]\n",
        "l0.b.grad"
      ],
      "metadata": {
        "id": "-88Zq4h5ozKM",
        "outputId": "ec4b4976-857d-47b2-de63-dc8117a15824",
        "colab": {
          "base_uri": "https://localhost:8080/"
        }
      },
      "execution_count": 39,
      "outputs": [
        {
          "output_type": "execute_result",
          "data": {
            "text/plain": [
              "tensor([-19.60,  -2.40,  -0.12,   1.99,  12.78, -15.32, -18.45,   0.35,   3.75,  14.67,  10.81,  12.20,  -2.95, -28.33,\n",
              "          0.76,  69.15, -21.86,  49.78,  -7.08,   1.45,  25.20,  11.27, -18.15, -13.13, -17.69, -10.42,  -0.13, -18.89,\n",
              "        -34.81,  -0.84,  40.89,   4.45,  62.35,  31.70,  55.15,  45.13,   3.25,  12.75,  12.45,  -1.41,   4.55,  -6.02,\n",
              "        -62.51,  -1.89,  -1.41,   7.00,   0.49,  18.72,  -4.84,  -6.52])"
            ]
          },
          "metadata": {},
          "execution_count": 39
        }
      ]
    }
  ]
}