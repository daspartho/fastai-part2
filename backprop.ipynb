{
  "nbformat": 4,
  "nbformat_minor": 0,
  "metadata": {
    "colab": {
      "provenance": [],
      "authorship_tag": "ABX9TyPJ2icZ/OW5tyIzlOwUfisA",
      "include_colab_link": true
    },
    "kernelspec": {
      "name": "python3",
      "display_name": "Python 3"
    },
    "language_info": {
      "name": "python"
    }
  },
  "cells": [
    {
      "cell_type": "markdown",
      "metadata": {
        "id": "view-in-github",
        "colab_type": "text"
      },
      "source": [
        "<a href=\"https://colab.research.google.com/github/daspartho/fastai-part2/blob/main/backprop.ipynb\" target=\"_parent\"><img src=\"https://colab.research.google.com/assets/colab-badge.svg\" alt=\"Open In Colab\"/></a>"
      ]
    },
    {
      "cell_type": "markdown",
      "source": [
        "### Setup"
      ],
      "metadata": {
        "id": "1kx7j5OQi2Rd"
      }
    },
    {
      "cell_type": "code",
      "source": [
        "import pickle,gzip,math,os,time,shutil,torch,matplotlib as mpl, numpy as np\n",
        "from pathlib import Path\n",
        "from torch import tensor\n",
        "from urllib.request import urlretrieve\n",
        "from fastcore.test import test_close\n",
        "torch.manual_seed(42)\n",
        "\n",
        "mpl.rcParams['image.cmap'] = 'gray'\n",
        "torch.set_printoptions(precision=2, linewidth=125, sci_mode=False)\n",
        "np.set_printoptions(precision=2, linewidth=125)\n",
        "\n",
        "MNIST_URL='https://github.com/mnielsen/neural-networks-and-deep-learning/blob/master/data/mnist.pkl.gz?raw=true'\n",
        "path_data = Path('data')\n",
        "path_data.mkdir(exist_ok=True)\n",
        "path_gz = path_data/'mnist.pkl.gz'\n",
        "\n",
        "if not path_gz.exists():\n",
        "    urlretrieve(MNIST_URL, path_gz)\n",
        "\n",
        "with gzip.open(path_gz, 'rb') as f: \n",
        "    ((x_train, y_train), (x_valid, y_valid), _) = pickle.load(f, encoding='latin-1')\n",
        "x_train, y_train, x_valid, y_valid = map(tensor, [x_train, y_train, x_valid, y_valid])"
      ],
      "metadata": {
        "id": "jKNGcaALiwQK"
      },
      "execution_count": 1,
      "outputs": []
    },
    {
      "cell_type": "markdown",
      "source": [
        "### Foundations version"
      ],
      "metadata": {
        "id": "gp43mnx4kD_-"
      }
    },
    {
      "cell_type": "markdown",
      "source": [
        "#### Basic architecture"
      ],
      "metadata": {
        "id": "9uOeHsfrkSDT"
      }
    },
    {
      "cell_type": "code",
      "source": [
        "n,m = x_train.shape\n",
        "c = y_train.max()+1\n",
        "n,m,c"
      ],
      "metadata": {
        "colab": {
          "base_uri": "https://localhost:8080/"
        },
        "id": "wlQuzgKXkAc-",
        "outputId": "2251c52e-535a-4d12-c5ce-3afc2633f26d"
      },
      "execution_count": 2,
      "outputs": [
        {
          "output_type": "execute_result",
          "data": {
            "text/plain": [
              "(50000, 784, tensor(10))"
            ]
          },
          "metadata": {},
          "execution_count": 2
        }
      ]
    },
    {
      "cell_type": "code",
      "source": [
        "nh=50 # number of hidden"
      ],
      "metadata": {
        "id": "txXsCx-Hkjjy"
      },
      "execution_count": 3,
      "outputs": []
    },
    {
      "cell_type": "code",
      "source": [
        "w1 = torch.randn(m, nh)\n",
        "b1 = torch.zeros(nh)\n",
        "w2 = torch.randn(nh, 1)\n",
        "b2 = torch.zeros(1)"
      ],
      "metadata": {
        "id": "QYck0OTXkokl"
      },
      "execution_count": 4,
      "outputs": []
    },
    {
      "cell_type": "code",
      "source": [
        "def lin(x, w, b):\n",
        "    return x@w + b"
      ],
      "metadata": {
        "id": "sWB1pNgWlDUZ"
      },
      "execution_count": 5,
      "outputs": []
    },
    {
      "cell_type": "code",
      "source": [
        "t = lin(x_valid, w1, b1)\n",
        "t, t.shape"
      ],
      "metadata": {
        "colab": {
          "base_uri": "https://localhost:8080/"
        },
        "id": "0Grf4FiolL5N",
        "outputId": "dbfdff63-e9ed-4c24-ad59-7ae231903d58"
      },
      "execution_count": 6,
      "outputs": [
        {
          "output_type": "execute_result",
          "data": {
            "text/plain": [
              "(tensor([[ -0.09,  11.87, -11.39,  ...,   5.48,   2.14,  15.30],\n",
              "         [  5.38,  10.21, -14.49,  ...,   0.88,   0.08,  20.23],\n",
              "         [  3.31,   0.12,   3.10,  ...,  16.89,  -6.05,  24.74],\n",
              "         ...,\n",
              "         [  4.01,  10.35, -11.25,  ...,   0.23,  -5.30,  18.28],\n",
              "         [ 10.62,  -4.27,  10.72,  ...,  -2.87,  -2.87,  18.23],\n",
              "         [  2.84,  -0.22,   1.43,  ...,  -3.91,   5.75,   2.12]]),\n",
              " torch.Size([10000, 50]))"
            ]
          },
          "metadata": {},
          "execution_count": 6
        }
      ]
    },
    {
      "cell_type": "code",
      "source": [
        "def relu(x):\n",
        "    return x.clamp_min(0.)"
      ],
      "metadata": {
        "id": "7Y0SxIdelYI4"
      },
      "execution_count": 7,
      "outputs": []
    },
    {
      "cell_type": "code",
      "source": [
        "t = relu(t)\n",
        "t"
      ],
      "metadata": {
        "colab": {
          "base_uri": "https://localhost:8080/"
        },
        "id": "NXMFGDHZlqoA",
        "outputId": "276e31d6-62fc-406a-f679-3ef54a0ea50e"
      },
      "execution_count": 8,
      "outputs": [
        {
          "output_type": "execute_result",
          "data": {
            "text/plain": [
              "tensor([[ 0.00, 11.87,  0.00,  ...,  5.48,  2.14, 15.30],\n",
              "        [ 5.38, 10.21,  0.00,  ...,  0.88,  0.08, 20.23],\n",
              "        [ 3.31,  0.12,  3.10,  ..., 16.89,  0.00, 24.74],\n",
              "        ...,\n",
              "        [ 4.01, 10.35,  0.00,  ...,  0.23,  0.00, 18.28],\n",
              "        [10.62,  0.00, 10.72,  ...,  0.00,  0.00, 18.23],\n",
              "        [ 2.84,  0.00,  1.43,  ...,  0.00,  5.75,  2.12]])"
            ]
          },
          "metadata": {},
          "execution_count": 8
        }
      ]
    },
    {
      "cell_type": "code",
      "source": [
        "def model(x):\n",
        "    l1 = lin(x, w1, b1)\n",
        "    l2 = relu(l1)\n",
        "    return lin(l2, w2, b2)"
      ],
      "metadata": {
        "id": "7hKrnfG0lt2i"
      },
      "execution_count": 9,
      "outputs": []
    },
    {
      "cell_type": "code",
      "source": [
        "res = model(x_valid)\n",
        "res, res.shape"
      ],
      "metadata": {
        "colab": {
          "base_uri": "https://localhost:8080/"
        },
        "id": "L2w63EsomBrv",
        "outputId": "66b643d0-0aa9-442e-aacf-3ff092bf44de"
      },
      "execution_count": 10,
      "outputs": [
        {
          "output_type": "execute_result",
          "data": {
            "text/plain": [
              "(tensor([[  25.75],\n",
              "         [ -13.06],\n",
              "         [-114.79],\n",
              "         ...,\n",
              "         [ -67.44],\n",
              "         [ -74.48],\n",
              "         [ -60.19]]), torch.Size([10000, 1]))"
            ]
          },
          "metadata": {},
          "execution_count": 10
        }
      ]
    },
    {
      "cell_type": "markdown",
      "source": [
        "#### Loss function: MSE"
      ],
      "metadata": {
        "id": "aPLvEF9GmZA9"
      }
    },
    {
      "cell_type": "markdown",
      "source": [
        "(Of course, MSE is not a suitable loss function for multi-class classification; we'll use a better loss function soon. We'll use MSE for now to keep things simple.)"
      ],
      "metadata": {
        "id": "GraaKI9Umdqs"
      }
    },
    {
      "cell_type": "code",
      "source": [
        "res.shape, y_valid.shape"
      ],
      "metadata": {
        "id": "GgW901hymYyc",
        "outputId": "ac43363f-0394-44b2-e7ad-669e389faf61",
        "colab": {
          "base_uri": "https://localhost:8080/"
        }
      },
      "execution_count": 11,
      "outputs": [
        {
          "output_type": "execute_result",
          "data": {
            "text/plain": [
              "(torch.Size([10000, 1]), torch.Size([10000]))"
            ]
          },
          "metadata": {},
          "execution_count": 11
        }
      ]
    },
    {
      "cell_type": "code",
      "source": [
        "(res.squeeze()-y_valid).shape"
      ],
      "metadata": {
        "id": "SGl2whbBnBDM",
        "outputId": "371c71e9-7f31-4f30-be01-71d6e1b8069b",
        "colab": {
          "base_uri": "https://localhost:8080/"
        }
      },
      "execution_count": 12,
      "outputs": [
        {
          "output_type": "execute_result",
          "data": {
            "text/plain": [
              "torch.Size([10000])"
            ]
          },
          "metadata": {},
          "execution_count": 12
        }
      ]
    },
    {
      "cell_type": "code",
      "source": [
        "def mse(output, targ):\n",
        "    return (output.squeeze()-targ).pow(2).mean()"
      ],
      "metadata": {
        "id": "K-MmdCnJnRvW"
      },
      "execution_count": 13,
      "outputs": []
    },
    {
      "cell_type": "code",
      "source": [
        "mse(res, y_valid)"
      ],
      "metadata": {
        "id": "i5JxG4eynrpq",
        "outputId": "29861611-e865-4853-cf96-cccba0a9174c",
        "colab": {
          "base_uri": "https://localhost:8080/"
        }
      },
      "execution_count": 14,
      "outputs": [
        {
          "output_type": "execute_result",
          "data": {
            "text/plain": [
              "tensor(4154.01)"
            ]
          },
          "metadata": {},
          "execution_count": 14
        }
      ]
    },
    {
      "cell_type": "markdown",
      "source": [
        "### Gradients and backward pass"
      ],
      "metadata": {
        "id": "3-M4JovJYOXi"
      }
    },
    {
      "cell_type": "code",
      "source": [
        "def lin_grad(inp, out, w, b):\n",
        "    inp.g = out.g @ w.t()\n",
        "    w.g = (inp.unsqueeze(-1) * out.g.unsqueeze(1)).sum(0)\n",
        "    b.g = out.g.sum(0)"
      ],
      "metadata": {
        "id": "1voGiQnFZV4s"
      },
      "execution_count": 15,
      "outputs": []
    },
    {
      "cell_type": "code",
      "source": [
        "def forward_backward(inp, targ):\n",
        "    # forward pass\n",
        "    l1 = lin(inp, w1, b1)\n",
        "    l2 = relu(l1)\n",
        "    out = lin(l2, w2, b2)\n",
        "    diff = out.squeeze() - targ\n",
        "    loss = diff.pow(2).mean()\n",
        "\n",
        "    # backward pass\n",
        "    out.g = 2.*diff.unsqueeze(1) / inp.shape[0]\n",
        "    lin_grad(l2, out, w2, b2)\n",
        "    l1.g = (l1>0).float() * l2.g\n",
        "    lin_grad(inp, l1, w1, b1)"
      ],
      "metadata": {
        "id": "8WUYIjebYI2T"
      },
      "execution_count": 16,
      "outputs": []
    },
    {
      "cell_type": "code",
      "source": [
        "forward_backward(x_train, y_train)"
      ],
      "metadata": {
        "id": "IqmitKN_agju"
      },
      "execution_count": 17,
      "outputs": []
    },
    {
      "cell_type": "code",
      "source": [
        "w2.g"
      ],
      "metadata": {
        "colab": {
          "base_uri": "https://localhost:8080/"
        },
        "id": "K66G7rQ_cHIe",
        "outputId": "52e1c9e4-c254-495c-c15b-8b9dd0b364b9"
      },
      "execution_count": 18,
      "outputs": [
        {
          "output_type": "execute_result",
          "data": {
            "text/plain": [
              "tensor([[ -869.79],\n",
              "        [ -622.49],\n",
              "        [ -165.30],\n",
              "        [ -468.34],\n",
              "        [ -837.93],\n",
              "        [ -687.30],\n",
              "        [ -559.73],\n",
              "        [ -637.38],\n",
              "        [ -176.24],\n",
              "        [  -10.81],\n",
              "        [ -993.01],\n",
              "        [ -533.38],\n",
              "        [ -730.86],\n",
              "        [  -54.01],\n",
              "        [ -451.91],\n",
              "        [ -156.28],\n",
              "        [ -567.42],\n",
              "        [  -61.53],\n",
              "        [  -15.62],\n",
              "        [ -463.00],\n",
              "        [  -79.85],\n",
              "        [ -582.16],\n",
              "        [  -11.21],\n",
              "        [-1023.28],\n",
              "        [ -140.96],\n",
              "        [-1357.97],\n",
              "        [-1326.60],\n",
              "        [ -115.92],\n",
              "        [ -125.99],\n",
              "        [   -4.39],\n",
              "        [ -601.42],\n",
              "        [ -508.06],\n",
              "        [ -505.85],\n",
              "        [ -301.20],\n",
              "        [ -549.87],\n",
              "        [  -13.01],\n",
              "        [ -900.70],\n",
              "        [ -179.80],\n",
              "        [ -117.92],\n",
              "        [-1531.71],\n",
              "        [ -295.88],\n",
              "        [ -327.67],\n",
              "        [ -642.84],\n",
              "        [   -7.32],\n",
              "        [-1333.88],\n",
              "        [  -10.38],\n",
              "        [ -198.15],\n",
              "        [ -561.56],\n",
              "        [  -53.83],\n",
              "        [-1659.88]])"
            ]
          },
          "metadata": {},
          "execution_count": 18
        }
      ]
    },
    {
      "cell_type": "markdown",
      "source": [
        "### Refactoring"
      ],
      "metadata": {
        "id": "z-2UOt1ceL8m"
      }
    },
    {
      "cell_type": "markdown",
      "source": [
        "#### layers as classes"
      ],
      "metadata": {
        "id": "gkY8qIRFi7MF"
      }
    },
    {
      "cell_type": "code",
      "source": [
        "class Relu():\n",
        "    def __call__(self, inp):\n",
        "        self.inp = inp\n",
        "        self.out = inp.clamp_min(0.)\n",
        "        return self.out\n",
        "\n",
        "    def backward(self):\n",
        "        self.inp.g = (self.inp>0).float() * self.out.g"
      ],
      "metadata": {
        "id": "ddfm0t0SdACn"
      },
      "execution_count": 20,
      "outputs": []
    }
  ]
}