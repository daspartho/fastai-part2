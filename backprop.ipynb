{
  "nbformat": 4,
  "nbformat_minor": 0,
  "metadata": {
    "colab": {
      "provenance": [],
      "authorship_tag": "ABX9TyNtj86nw5kuOSe94TK2geeh",
      "include_colab_link": true
    },
    "kernelspec": {
      "name": "python3",
      "display_name": "Python 3"
    },
    "language_info": {
      "name": "python"
    }
  },
  "cells": [
    {
      "cell_type": "markdown",
      "metadata": {
        "id": "view-in-github",
        "colab_type": "text"
      },
      "source": [
        "<a href=\"https://colab.research.google.com/github/daspartho/fastai-part2/blob/main/backprop.ipynb\" target=\"_parent\"><img src=\"https://colab.research.google.com/assets/colab-badge.svg\" alt=\"Open In Colab\"/></a>"
      ]
    },
    {
      "cell_type": "markdown",
      "source": [
        "### Setup"
      ],
      "metadata": {
        "id": "1kx7j5OQi2Rd"
      }
    },
    {
      "cell_type": "code",
      "source": [
        "import pickle,gzip,math,os,time,shutil,torch,matplotlib as mpl, numpy as np\n",
        "from pathlib import Path\n",
        "from torch import tensor\n",
        "from urllib.request import urlretrieve\n",
        "from fastcore.test import test_close\n",
        "torch.manual_seed(42)\n",
        "\n",
        "mpl.rcParams['image.cmap'] = 'gray'\n",
        "torch.set_printoptions(precision=2, linewidth=125, sci_mode=False)\n",
        "np.set_printoptions(precision=2, linewidth=125)\n",
        "\n",
        "MNIST_URL='https://github.com/mnielsen/neural-networks-and-deep-learning/blob/master/data/mnist.pkl.gz?raw=true'\n",
        "path_data = Path('data')\n",
        "path_data.mkdir(exist_ok=True)\n",
        "path_gz = path_data/'mnist.pkl.gz'\n",
        "\n",
        "if not path_gz.exists():\n",
        "    urlretrieve(MNIST_URL, path_gz)\n",
        "\n",
        "with gzip.open(path_gz, 'rb') as f: \n",
        "    ((x_train, y_train), (x_valid, y_valid), _) = pickle.load(f, encoding='latin-1')\n",
        "x_train, y_train, x_valid, y_valid = map(tensor, [x_train, y_train, x_valid, y_valid])"
      ],
      "metadata": {
        "id": "jKNGcaALiwQK"
      },
      "execution_count": 22,
      "outputs": []
    },
    {
      "cell_type": "markdown",
      "source": [
        "### Foundations version"
      ],
      "metadata": {
        "id": "gp43mnx4kD_-"
      }
    },
    {
      "cell_type": "markdown",
      "source": [
        "#### Basic architecture"
      ],
      "metadata": {
        "id": "9uOeHsfrkSDT"
      }
    },
    {
      "cell_type": "code",
      "source": [
        "n,m = x_train.shape\n",
        "c = x_train.max()+1\n",
        "n,m,c"
      ],
      "metadata": {
        "id": "wlQuzgKXkAc-",
        "outputId": "5358d717-8f7b-4d27-955b-a5ef2a7c4be3",
        "colab": {
          "base_uri": "https://localhost:8080/"
        }
      },
      "execution_count": 23,
      "outputs": [
        {
          "output_type": "execute_result",
          "data": {
            "text/plain": [
              "(50000, 784, tensor(2.00))"
            ]
          },
          "metadata": {},
          "execution_count": 23
        }
      ]
    },
    {
      "cell_type": "code",
      "source": [
        "nh=50 # number of hidden"
      ],
      "metadata": {
        "id": "txXsCx-Hkjjy"
      },
      "execution_count": 24,
      "outputs": []
    },
    {
      "cell_type": "code",
      "source": [
        "w1 = torch.randn(m, nh)\n",
        "b1 = torch.zeros(nh)\n",
        "w2 = torch.randn(nh, 1)\n",
        "b2 = torch.zeros(1)"
      ],
      "metadata": {
        "id": "QYck0OTXkokl"
      },
      "execution_count": 25,
      "outputs": []
    },
    {
      "cell_type": "code",
      "source": [
        "def lin(x, w, b):\n",
        "    return x@w + b"
      ],
      "metadata": {
        "id": "sWB1pNgWlDUZ"
      },
      "execution_count": 26,
      "outputs": []
    },
    {
      "cell_type": "code",
      "source": [
        "t = lin(x_valid, w1, b1)\n",
        "t, t.shape"
      ],
      "metadata": {
        "id": "0Grf4FiolL5N",
        "outputId": "89e8d0db-946d-4cac-a777-fe0cc2fcb382",
        "colab": {
          "base_uri": "https://localhost:8080/"
        }
      },
      "execution_count": 27,
      "outputs": [
        {
          "output_type": "execute_result",
          "data": {
            "text/plain": [
              "(tensor([[ -0.09,  11.87, -11.39,  ...,   5.48,   2.14,  15.30],\n",
              "         [  5.38,  10.21, -14.49,  ...,   0.88,   0.08,  20.23],\n",
              "         [  3.31,   0.12,   3.10,  ...,  16.89,  -6.05,  24.74],\n",
              "         ...,\n",
              "         [  4.01,  10.35, -11.25,  ...,   0.23,  -5.30,  18.28],\n",
              "         [ 10.62,  -4.27,  10.72,  ...,  -2.87,  -2.87,  18.23],\n",
              "         [  2.84,  -0.22,   1.43,  ...,  -3.91,   5.75,   2.12]]),\n",
              " torch.Size([10000, 50]))"
            ]
          },
          "metadata": {},
          "execution_count": 27
        }
      ]
    },
    {
      "cell_type": "code",
      "source": [
        "def relu(x):\n",
        "    return x.clamp_min(0.)"
      ],
      "metadata": {
        "id": "7Y0SxIdelYI4"
      },
      "execution_count": 28,
      "outputs": []
    },
    {
      "cell_type": "code",
      "source": [
        "t = relu(t)\n",
        "t"
      ],
      "metadata": {
        "id": "NXMFGDHZlqoA",
        "outputId": "8231eaab-9146-44fe-b154-36f060f65579",
        "colab": {
          "base_uri": "https://localhost:8080/"
        }
      },
      "execution_count": 29,
      "outputs": [
        {
          "output_type": "execute_result",
          "data": {
            "text/plain": [
              "tensor([[ 0.00, 11.87,  0.00,  ...,  5.48,  2.14, 15.30],\n",
              "        [ 5.38, 10.21,  0.00,  ...,  0.88,  0.08, 20.23],\n",
              "        [ 3.31,  0.12,  3.10,  ..., 16.89,  0.00, 24.74],\n",
              "        ...,\n",
              "        [ 4.01, 10.35,  0.00,  ...,  0.23,  0.00, 18.28],\n",
              "        [10.62,  0.00, 10.72,  ...,  0.00,  0.00, 18.23],\n",
              "        [ 2.84,  0.00,  1.43,  ...,  0.00,  5.75,  2.12]])"
            ]
          },
          "metadata": {},
          "execution_count": 29
        }
      ]
    },
    {
      "cell_type": "code",
      "source": [
        "def model(x):\n",
        "    l1 = lin(x, w1, b1)\n",
        "    l2 = relu(l1)\n",
        "    return lin(l2, w2, b2)"
      ],
      "metadata": {
        "id": "7hKrnfG0lt2i"
      },
      "execution_count": 30,
      "outputs": []
    },
    {
      "cell_type": "code",
      "source": [
        "res = model(x_valid)\n",
        "res, res.shape"
      ],
      "metadata": {
        "id": "L2w63EsomBrv",
        "outputId": "79325b34-dfa4-4ed4-c13c-90afe3071ad2",
        "colab": {
          "base_uri": "https://localhost:8080/"
        }
      },
      "execution_count": 31,
      "outputs": [
        {
          "output_type": "execute_result",
          "data": {
            "text/plain": [
              "(tensor([[  25.75],\n",
              "         [ -13.06],\n",
              "         [-114.79],\n",
              "         ...,\n",
              "         [ -67.44],\n",
              "         [ -74.48],\n",
              "         [ -60.19]]), torch.Size([10000, 1]))"
            ]
          },
          "metadata": {},
          "execution_count": 31
        }
      ]
    }
  ]
}