{
  "nbformat": 4,
  "nbformat_minor": 0,
  "metadata": {
    "colab": {
      "provenance": [],
      "authorship_tag": "ABX9TyMg2jYTBp4kuW0EVRqDxDXp",
      "include_colab_link": true
    },
    "kernelspec": {
      "name": "python3",
      "display_name": "Python 3"
    },
    "language_info": {
      "name": "python"
    },
    "gpuClass": "standard",
    "accelerator": "GPU"
  },
  "cells": [
    {
      "cell_type": "markdown",
      "metadata": {
        "id": "view-in-github",
        "colab_type": "text"
      },
      "source": [
        "<a href=\"https://colab.research.google.com/github/daspartho/fastai-part2/blob/main/matmul.ipynb\" target=\"_parent\"><img src=\"https://colab.research.google.com/assets/colab-badge.svg\" alt=\"Open In Colab\"/></a>"
      ]
    },
    {
      "cell_type": "markdown",
      "source": [
        "### Get Data"
      ],
      "metadata": {
        "id": "yh1iiVzeH9Sn"
      }
    },
    {
      "cell_type": "code",
      "execution_count": 467,
      "metadata": {
        "id": "6QiazWAkUlkc"
      },
      "outputs": [],
      "source": [
        "from pathlib import Path\n",
        "import pickle, gzip, os\n",
        "import matplotlib as mpl\n",
        "import matplotlib.pyplot as plt"
      ]
    },
    {
      "cell_type": "code",
      "source": [
        "MNIST_URL='https://github.com/mnielsen/neural-networks-and-deep-learning/blob/master/data/mnist.pkl.gz?raw=true'\n",
        "path_data = Path('data')\n",
        "path_data.mkdir(exist_ok=True)\n",
        "path_gz = path_data/'mnist.pkl.gz'"
      ],
      "metadata": {
        "id": "LP4AxaNXk9xD"
      },
      "execution_count": 468,
      "outputs": []
    },
    {
      "cell_type": "code",
      "source": [
        "from urllib.request import urlretrieve\n",
        "if not path_gz.exists():\n",
        "    urlretrieve(MNIST_URL, path_gz)"
      ],
      "metadata": {
        "id": "dfRDYogOlZfL"
      },
      "execution_count": 469,
      "outputs": []
    },
    {
      "cell_type": "code",
      "source": [
        "!ls -l data"
      ],
      "metadata": {
        "colab": {
          "base_uri": "https://localhost:8080/"
        },
        "id": "gf-cjXLSmlWM",
        "outputId": "04dd5bd5-8138-4b08-8274-9415fda5d05b"
      },
      "execution_count": 470,
      "outputs": [
        {
          "output_type": "stream",
          "name": "stdout",
          "text": [
            "total 16656\n",
            "-rw-r--r-- 1 root root 17051982 Nov  4 17:18 mnist.pkl.gz\n"
          ]
        }
      ]
    },
    {
      "cell_type": "code",
      "source": [
        "with gzip.open(path_gz, 'rb') as f:\n",
        "    (x_train, y_train), (x_valid, y_valid), _ = pickle.load(f, encoding='latin-1')"
      ],
      "metadata": {
        "id": "7ZEgZh91mnb7"
      },
      "execution_count": 471,
      "outputs": []
    },
    {
      "cell_type": "code",
      "source": [
        "type(x_train)"
      ],
      "metadata": {
        "colab": {
          "base_uri": "https://localhost:8080/"
        },
        "id": "IqHnsPfxnLDe",
        "outputId": "8062cb1d-3ca2-4c63-c635-15b5d1c88dd3"
      },
      "execution_count": 472,
      "outputs": [
        {
          "output_type": "execute_result",
          "data": {
            "text/plain": [
              "numpy.ndarray"
            ]
          },
          "metadata": {},
          "execution_count": 472
        }
      ]
    },
    {
      "cell_type": "code",
      "source": [
        "ls1 = list(x_train[0])\n",
        "vals = ls1[200:210]\n",
        "vals"
      ],
      "metadata": {
        "colab": {
          "base_uri": "https://localhost:8080/"
        },
        "id": "8ZYvNSKgnYGw",
        "outputId": "96e8949b-3b76-4c6f-8b4f-74b5cd0ea1c5"
      },
      "execution_count": 473,
      "outputs": [
        {
          "output_type": "execute_result",
          "data": {
            "text/plain": [
              "[0.0,\n",
              " 0.0,\n",
              " 0.0,\n",
              " 0.19140625,\n",
              " 0.9296875,\n",
              " 0.98828125,\n",
              " 0.98828125,\n",
              " 0.98828125,\n",
              " 0.98828125,\n",
              " 0.98828125]"
            ]
          },
          "metadata": {},
          "execution_count": 473
        }
      ]
    },
    {
      "cell_type": "code",
      "source": [
        "def chunks(x, sz):\n",
        "    for i in range(0, len(x), sz):\n",
        "        yield x[i: i+sz]"
      ],
      "metadata": {
        "id": "XYZoCNYHpSx7"
      },
      "execution_count": 474,
      "outputs": []
    },
    {
      "cell_type": "code",
      "source": [
        "type(chunks(vals, 5))"
      ],
      "metadata": {
        "colab": {
          "base_uri": "https://localhost:8080/"
        },
        "id": "mPbwrAzypkk_",
        "outputId": "fbf7572d-4aa0-4324-d8ee-3a37e779cd6f"
      },
      "execution_count": 475,
      "outputs": [
        {
          "output_type": "execute_result",
          "data": {
            "text/plain": [
              "generator"
            ]
          },
          "metadata": {},
          "execution_count": 475
        }
      ]
    },
    {
      "cell_type": "code",
      "source": [
        "list(chunks(vals, 5))"
      ],
      "metadata": {
        "colab": {
          "base_uri": "https://localhost:8080/"
        },
        "id": "qMTJLOmfppGP",
        "outputId": "16afb97a-9430-4c21-ca08-4a30fc4329d0"
      },
      "execution_count": 476,
      "outputs": [
        {
          "output_type": "execute_result",
          "data": {
            "text/plain": [
              "[[0.0, 0.0, 0.0, 0.19140625, 0.9296875],\n",
              " [0.98828125, 0.98828125, 0.98828125, 0.98828125, 0.98828125]]"
            ]
          },
          "metadata": {},
          "execution_count": 476
        }
      ]
    },
    {
      "cell_type": "code",
      "source": [
        "mpl.rcParams['image.cmap'] = 'gray'\n",
        "plt.imshow(list(chunks(ls1, 28)))"
      ],
      "metadata": {
        "colab": {
          "base_uri": "https://localhost:8080/",
          "height": 282
        },
        "id": "Qj02OWKopvFv",
        "outputId": "c7ea7364-4985-4d4d-8d1f-81b60eda5c28"
      },
      "execution_count": 477,
      "outputs": [
        {
          "output_type": "execute_result",
          "data": {
            "text/plain": [
              "<matplotlib.image.AxesImage at 0x7fac3597a8d0>"
            ]
          },
          "metadata": {},
          "execution_count": 477
        },
        {
          "output_type": "display_data",
          "data": {
            "text/plain": [
              "<Figure size 432x288 with 1 Axes>"
            ],
            "image/png": "[encoded data removed]"
          },
          "metadata": {
            "needs_background": "light"
          }
        }
      ]
    },
    {
      "cell_type": "code",
      "source": [
        "from itertools import islice"
      ],
      "metadata": {
        "id": "j_59zbKJE5tK"
      },
      "execution_count": 478,
      "outputs": []
    },
    {
      "cell_type": "code",
      "source": [
        "it = iter(vals)\n",
        "it"
      ],
      "metadata": {
        "id": "lQXlF_orFOXb",
        "outputId": "7e9f6126-8241-47aa-d7a7-1596c60cd697",
        "colab": {
          "base_uri": "https://localhost:8080/"
        }
      },
      "execution_count": 479,
      "outputs": [
        {
          "output_type": "execute_result",
          "data": {
            "text/plain": [
              "<list_iterator at 0x7fac359b37d0>"
            ]
          },
          "metadata": {},
          "execution_count": 479
        }
      ]
    },
    {
      "cell_type": "code",
      "source": [
        "list(islice(it, 5))"
      ],
      "metadata": {
        "id": "uSuSzr1XFnG2",
        "outputId": "071c2f0d-77a6-488f-a6a0-b01eb31c2b60",
        "colab": {
          "base_uri": "https://localhost:8080/"
        }
      },
      "execution_count": 480,
      "outputs": [
        {
          "output_type": "execute_result",
          "data": {
            "text/plain": [
              "[0.0, 0.0, 0.0, 0.19140625, 0.9296875]"
            ]
          },
          "metadata": {},
          "execution_count": 480
        }
      ]
    },
    {
      "cell_type": "code",
      "source": [
        "it = iter(ls1)\n",
        "img = list(iter(lambda: list(islice(it, 28)), []))"
      ],
      "metadata": {
        "id": "R21DN8nmFybu"
      },
      "execution_count": 481,
      "outputs": []
    },
    {
      "cell_type": "code",
      "source": [
        "plt.imshow(img)"
      ],
      "metadata": {
        "id": "ZkbTbm79HBOh",
        "outputId": "2ec16226-a18b-458f-b6e0-1a3541890177",
        "colab": {
          "base_uri": "https://localhost:8080/",
          "height": 282
        }
      },
      "execution_count": 482,
      "outputs": [
        {
          "output_type": "execute_result",
          "data": {
            "text/plain": [
              "<matplotlib.image.AxesImage at 0x7fac35965350>"
            ]
          },
          "metadata": {},
          "execution_count": 482
        },
        {
          "output_type": "display_data",
          "data": {
            "text/plain": [
              "<Figure size 432x288 with 1 Axes>"
            ],
            "image/png": "[encoded data removed]"
          },
          "metadata": {
            "needs_background": "light"
          }
        }
      ]
    },
    {
      "cell_type": "markdown",
      "source": [
        "### Matrix and Tensor"
      ],
      "metadata": {
        "id": "L8AFFYu_IDnS"
      }
    },
    {
      "cell_type": "code",
      "source": [
        "img[20][15]"
      ],
      "metadata": {
        "id": "FNpi-thBHDfx",
        "outputId": "3b8bd57a-d353-43d9-ad3f-12c770fb264e",
        "colab": {
          "base_uri": "https://localhost:8080/"
        }
      },
      "execution_count": 483,
      "outputs": [
        {
          "output_type": "execute_result",
          "data": {
            "text/plain": [
              "0.98828125"
            ]
          },
          "metadata": {},
          "execution_count": 483
        }
      ]
    },
    {
      "cell_type": "code",
      "source": [
        "class Matrix:\n",
        "    def __init__(self, xs):\n",
        "        self.xs = xs\n",
        "    def __getitem__(self, idxs):\n",
        "        return self.xs[idxs[0]][idxs[1]]"
      ],
      "metadata": {
        "id": "-sGbrMexHInq"
      },
      "execution_count": 484,
      "outputs": []
    },
    {
      "cell_type": "code",
      "source": [
        "m = Matrix(img)\n",
        "m[20, 15]"
      ],
      "metadata": {
        "id": "5aeECTiFHo_6",
        "outputId": "8e96d2d4-3fbe-42f0-a3f2-d8dc34a123fd",
        "colab": {
          "base_uri": "https://localhost:8080/"
        }
      },
      "execution_count": 485,
      "outputs": [
        {
          "output_type": "execute_result",
          "data": {
            "text/plain": [
              "0.98828125"
            ]
          },
          "metadata": {},
          "execution_count": 485
        }
      ]
    },
    {
      "cell_type": "code",
      "source": [
        "import torch\n",
        "from torch import tensor"
      ],
      "metadata": {
        "id": "uHUWubIUHtc_"
      },
      "execution_count": 486,
      "outputs": []
    },
    {
      "cell_type": "code",
      "source": [
        "tensor(vals)"
      ],
      "metadata": {
        "id": "GLX6i_YBHxNO",
        "outputId": "b4e22ebd-a80b-4b66-f3db-4d7a47250ea4",
        "colab": {
          "base_uri": "https://localhost:8080/"
        }
      },
      "execution_count": 487,
      "outputs": [
        {
          "output_type": "execute_result",
          "data": {
            "text/plain": [
              "tensor([0.0000, 0.0000, 0.0000, 0.1914, 0.9297, 0.9883, 0.9883, 0.9883, 0.9883,\n",
              "        0.9883])"
            ]
          },
          "metadata": {},
          "execution_count": 487
        }
      ]
    },
    {
      "cell_type": "code",
      "source": [
        "x_train, y_train, x_valid, y_valid = map(tensor, (x_train, y_train, x_valid, y_valid))\n",
        "x_train.shape"
      ],
      "metadata": {
        "id": "jBk7by0-H2Ai",
        "outputId": "d16ae32d-d944-4162-db4c-a45f396f76ee",
        "colab": {
          "base_uri": "https://localhost:8080/"
        }
      },
      "execution_count": 488,
      "outputs": [
        {
          "output_type": "execute_result",
          "data": {
            "text/plain": [
              "torch.Size([50000, 784])"
            ]
          },
          "metadata": {},
          "execution_count": 488
        }
      ]
    },
    {
      "cell_type": "code",
      "source": [
        "x_train.type()"
      ],
      "metadata": {
        "id": "tC7BXdzaIFCm",
        "outputId": "6dfc9e48-a692-46db-a1d6-8f018a9f9406",
        "colab": {
          "base_uri": "https://localhost:8080/",
          "height": 36
        }
      },
      "execution_count": 489,
      "outputs": [
        {
          "output_type": "execute_result",
          "data": {
            "text/plain": [
              "'torch.FloatTensor'"
            ],
            "application/vnd.google.colaboratory.intrinsic+json": {
              "type": "string"
            }
          },
          "metadata": {},
          "execution_count": 489
        }
      ]
    },
    {
      "cell_type": "code",
      "source": [
        "imgs = x_train.reshape(-1, 28, 28)\n",
        "imgs.shape"
      ],
      "metadata": {
        "id": "yGdTW2PZIIdd",
        "outputId": "71b3f222-7eab-456d-b4ba-a038ebc57621",
        "colab": {
          "base_uri": "https://localhost:8080/"
        }
      },
      "execution_count": 490,
      "outputs": [
        {
          "output_type": "execute_result",
          "data": {
            "text/plain": [
              "torch.Size([50000, 28, 28])"
            ]
          },
          "metadata": {},
          "execution_count": 490
        }
      ]
    },
    {
      "cell_type": "code",
      "source": [
        "plt.imshow(imgs[0])"
      ],
      "metadata": {
        "id": "eQtSmDUxIV4N",
        "outputId": "e13757e6-9ebb-41a5-9902-d6e68ba6a9a1",
        "colab": {
          "base_uri": "https://localhost:8080/",
          "height": 282
        }
      },
      "execution_count": 491,
      "outputs": [
        {
          "output_type": "execute_result",
          "data": {
            "text/plain": [
              "<matplotlib.image.AxesImage at 0x7fac358d5610>"
            ]
          },
          "metadata": {},
          "execution_count": 491
        },
        {
          "output_type": "display_data",
          "data": {
            "text/plain": [
              "<Figure size 432x288 with 1 Axes>"
            ],
            "image/png": "[encoded data removed]"
          },
          "metadata": {
            "needs_background": "light"
          }
        }
      ]
    },
    {
      "cell_type": "code",
      "source": [
        "imgs[0,20,15]"
      ],
      "metadata": {
        "id": "-x5lMRGMIZrE",
        "outputId": "a1e35f7e-e7b2-49a9-98c2-10a0f654dd8c",
        "colab": {
          "base_uri": "https://localhost:8080/"
        }
      },
      "execution_count": 492,
      "outputs": [
        {
          "output_type": "execute_result",
          "data": {
            "text/plain": [
              "tensor(0.9883)"
            ]
          },
          "metadata": {},
          "execution_count": 492
        }
      ]
    },
    {
      "cell_type": "code",
      "source": [
        "y_train, y_train.shape"
      ],
      "metadata": {
        "id": "vgiiqxEzIed2",
        "outputId": "a8d1fc9b-4ed8-45b6-b511-c9bdb3a09984",
        "colab": {
          "base_uri": "https://localhost:8080/"
        }
      },
      "execution_count": 493,
      "outputs": [
        {
          "output_type": "execute_result",
          "data": {
            "text/plain": [
              "(tensor([5, 0, 4,  ..., 8, 4, 8]), torch.Size([50000]))"
            ]
          },
          "metadata": {},
          "execution_count": 493
        }
      ]
    },
    {
      "cell_type": "code",
      "source": [
        "y_train.min(), y_train.max()"
      ],
      "metadata": {
        "id": "qgW-nUP_IlRm",
        "outputId": "9cb94ea0-81c7-4e34-b25c-aa76d26bdb4f",
        "colab": {
          "base_uri": "https://localhost:8080/"
        }
      },
      "execution_count": 494,
      "outputs": [
        {
          "output_type": "execute_result",
          "data": {
            "text/plain": [
              "(tensor(0), tensor(9))"
            ]
          },
          "metadata": {},
          "execution_count": 494
        }
      ]
    },
    {
      "cell_type": "markdown",
      "source": [
        "### Random Numbers"
      ],
      "metadata": {
        "id": "5RrUgdt8IKGY"
      }
    },
    {
      "cell_type": "code",
      "source": [
        "rnd_state = None\n",
        "def seed(a):\n",
        "    global rnd_state\n",
        "    a, x = divmod(a, 30268)\n",
        "    a, y = divmod(a, 30306)\n",
        "    a, z = divmod(a, 30322)\n",
        "    rnd_state = int(x)+1, int(y)+1, int(z)+1"
      ],
      "metadata": {
        "id": "C1-XledPM-Xn"
      },
      "execution_count": 495,
      "outputs": []
    },
    {
      "cell_type": "code",
      "source": [
        "seed(457428938475)\n",
        "rnd_state"
      ],
      "metadata": {
        "id": "HkjKKyzENArR",
        "outputId": "f3e4ba4c-f266-49d1-efb2-bae259355af1",
        "colab": {
          "base_uri": "https://localhost:8080/"
        }
      },
      "execution_count": 496,
      "outputs": [
        {
          "output_type": "execute_result",
          "data": {
            "text/plain": [
              "(4976, 20238, 499)"
            ]
          },
          "metadata": {},
          "execution_count": 496
        }
      ]
    },
    {
      "cell_type": "code",
      "source": [
        "def rand():\n",
        "    global rnd_state\n",
        "    x, y, z = rnd_state\n",
        "    x = (171 * x) % 30269\n",
        "    y = (172 * y) % 30307\n",
        "    z = (170 * z) % 30323\n",
        "    rnd_state = x,y,z\n",
        "    return (x/30269 + y/30307 + z/30323) % 1.0"
      ],
      "metadata": {
        "id": "HrlCHrY2NFcJ"
      },
      "execution_count": 497,
      "outputs": []
    },
    {
      "cell_type": "code",
      "source": [
        "rand(),rand(),rand()"
      ],
      "metadata": {
        "id": "fvbINThfNIVg",
        "outputId": "f0884937-8c7f-49ff-d0b8-b688f1b17334",
        "colab": {
          "base_uri": "https://localhost:8080/"
        }
      },
      "execution_count": 498,
      "outputs": [
        {
          "output_type": "execute_result",
          "data": {
            "text/plain": [
              "(0.7645251082582081, 0.7920889799553945, 0.06912886811267205)"
            ]
          },
          "metadata": {},
          "execution_count": 498
        }
      ]
    },
    {
      "cell_type": "code",
      "source": [
        "if os.fork(): \n",
        "    print(f'In parent: {rand()}')\n",
        "else:\n",
        "    print(f'In child: {rand()}')\n",
        "    os._exit(os.EX_OK)"
      ],
      "metadata": {
        "id": "r5_AFq7SNKCg",
        "outputId": "47f34977-f434-4ad6-c046-a4a26a2fc751",
        "colab": {
          "base_uri": "https://localhost:8080/"
        }
      },
      "execution_count": 499,
      "outputs": [
        {
          "output_type": "stream",
          "name": "stdout",
          "text": [
            "In parent: 0.9559050644103264\n",
            "In child: 0.9559050644103264\n"
          ]
        }
      ]
    },
    {
      "cell_type": "code",
      "source": [
        "if os.fork(): \n",
        "    print(f'In parent: {torch.rand(1)}')\n",
        "else:\n",
        "    print(f'In child: {torch.rand(1)}')\n",
        "    os._exit(os.EX_OK)"
      ],
      "metadata": {
        "id": "wWeK5i3zNLbR",
        "outputId": "49361c6c-565e-4397-cf6a-8266e6042e08",
        "colab": {
          "base_uri": "https://localhost:8080/"
        }
      },
      "execution_count": 500,
      "outputs": [
        {
          "output_type": "stream",
          "name": "stdout",
          "text": [
            "In parent: tensor([0.1021])\n",
            "In child: tensor([0.1021])\n"
          ]
        }
      ]
    },
    {
      "cell_type": "code",
      "source": [
        "plt.plot([rand() for _ in range(50)])"
      ],
      "metadata": {
        "id": "Fm18GAArNNMn",
        "outputId": "b04981e1-e69b-4b8e-fc0d-56e984dc24e3",
        "colab": {
          "base_uri": "https://localhost:8080/",
          "height": 282
        }
      },
      "execution_count": 501,
      "outputs": [
        {
          "output_type": "execute_result",
          "data": {
            "text/plain": [
              "[<matplotlib.lines.Line2D at 0x7fac35845e90>]"
            ]
          },
          "metadata": {},
          "execution_count": 501
        },
        {
          "output_type": "display_data",
          "data": {
            "text/plain": [
              "<Figure size 432x288 with 1 Axes>"
            ],
            "image/png": "[encoded data removed]"
          },
          "metadata": {
            "needs_background": "light"
          }
        }
      ]
    },
    {
      "cell_type": "code",
      "source": [
        "plt.hist([rand() for _ in range(10000)])"
      ],
      "metadata": {
        "id": "vl01hqPVNOiy",
        "outputId": "7dc69a4b-dc6e-48b4-b724-19bb79d8c1fb",
        "colab": {
          "base_uri": "https://localhost:8080/",
          "height": 369
        }
      },
      "execution_count": 502,
      "outputs": [
        {
          "output_type": "execute_result",
          "data": {
            "text/plain": [
              "(array([ 959.,  972., 1036., 1019., 1037.,  971.,  997., 1000., 1036.,\n",
              "         973.]),\n",
              " array([6.60514437e-06, 1.00005135e-01, 2.00003666e-01, 3.00002196e-01,\n",
              "        4.00000726e-01, 4.99999256e-01, 5.99997787e-01, 6.99996317e-01,\n",
              "        7.99994847e-01, 8.99993378e-01, 9.99991908e-01]),\n",
              " <a list of 10 Patch objects>)"
            ]
          },
          "metadata": {},
          "execution_count": 502
        },
        {
          "output_type": "display_data",
          "data": {
            "text/plain": [
              "<Figure size 432x288 with 1 Axes>"
            ],
            "image/png": "[encoded data removed]"
          },
          "metadata": {
            "needs_background": "light"
          }
        }
      ]
    },
    {
      "cell_type": "code",
      "source": [
        "%timeit -n 10 list(chunks([rand() for _ in range(7840)], 10))"
      ],
      "metadata": {
        "id": "Oi4crRF4NPwJ",
        "outputId": "1e49b055-e48d-4ab4-ef43-74cd3c6124a0",
        "colab": {
          "base_uri": "https://localhost:8080/"
        }
      },
      "execution_count": 503,
      "outputs": [
        {
          "output_type": "stream",
          "name": "stdout",
          "text": [
            "4.14 ms ± 245 µs per loop (mean ± std. dev. of 7 runs, 10 loops each)\n"
          ]
        }
      ]
    },
    {
      "cell_type": "code",
      "source": [
        "%timeit -n 10 torch.randn(784,10)"
      ],
      "metadata": {
        "id": "x2kPkuLkNSZf",
        "outputId": "1459b599-2559-499e-d70c-3ef1bdefd7cb",
        "colab": {
          "base_uri": "https://localhost:8080/"
        }
      },
      "execution_count": 504,
      "outputs": [
        {
          "output_type": "stream",
          "name": "stdout",
          "text": [
            "The slowest run took 8.87 times longer than the fastest. This could mean that an intermediate result is being cached.\n",
            "109 µs ± 123 µs per loop (mean ± std. dev. of 7 runs, 10 loops each)\n"
          ]
        }
      ]
    },
    {
      "cell_type": "markdown",
      "source": [
        "### Matrix Multiplication"
      ],
      "metadata": {
        "id": "MUW3xAHo-SSH"
      }
    },
    {
      "cell_type": "code",
      "source": [
        "weights = torch.randn(784, 10)\n",
        "bias = torch.randn(10)"
      ],
      "metadata": {
        "id": "CnF3bZBU4xR-"
      },
      "execution_count": 505,
      "outputs": []
    },
    {
      "cell_type": "code",
      "source": [
        "m1 = x_valid[:5]\n",
        "m2 = weights\n",
        "m1.shape, m2.shape"
      ],
      "metadata": {
        "colab": {
          "base_uri": "https://localhost:8080/"
        },
        "id": "xqUHgUxL5s8K",
        "outputId": "395df4dc-c118-4960-933b-2489b6fba7c8"
      },
      "execution_count": 506,
      "outputs": [
        {
          "output_type": "execute_result",
          "data": {
            "text/plain": [
              "(torch.Size([5, 784]), torch.Size([784, 10]))"
            ]
          },
          "metadata": {},
          "execution_count": 506
        }
      ]
    },
    {
      "cell_type": "code",
      "source": [
        "m1r, m1c = m1.shape\n",
        "m2r, m2c = m2.shape"
      ],
      "metadata": {
        "id": "pQNq237t5_Eu"
      },
      "execution_count": 507,
      "outputs": []
    },
    {
      "cell_type": "code",
      "source": [
        "t1=torch.zeros(m1r, m2c)\n",
        "t1.shape"
      ],
      "metadata": {
        "colab": {
          "base_uri": "https://localhost:8080/"
        },
        "id": "Yue7Gft76aBf",
        "outputId": "e445a6ba-395d-4cae-84db-b6635941dbbf"
      },
      "execution_count": 508,
      "outputs": [
        {
          "output_type": "execute_result",
          "data": {
            "text/plain": [
              "torch.Size([5, 10])"
            ]
          },
          "metadata": {},
          "execution_count": 508
        }
      ]
    },
    {
      "cell_type": "code",
      "source": [
        "t1"
      ],
      "metadata": {
        "colab": {
          "base_uri": "https://localhost:8080/"
        },
        "id": "uOy3YJ1I7JmM",
        "outputId": "14e321c5-c0b7-498e-a65e-99a21e20c3e9"
      },
      "execution_count": 509,
      "outputs": [
        {
          "output_type": "execute_result",
          "data": {
            "text/plain": [
              "tensor([[0., 0., 0., 0., 0., 0., 0., 0., 0., 0.],\n",
              "        [0., 0., 0., 0., 0., 0., 0., 0., 0., 0.],\n",
              "        [0., 0., 0., 0., 0., 0., 0., 0., 0., 0.],\n",
              "        [0., 0., 0., 0., 0., 0., 0., 0., 0., 0.],\n",
              "        [0., 0., 0., 0., 0., 0., 0., 0., 0., 0.]])"
            ]
          },
          "metadata": {},
          "execution_count": 509
        }
      ]
    },
    {
      "cell_type": "code",
      "source": [
        "for i in range(m1r):\n",
        "    for j in range(m2c):\n",
        "        for k in range(m1c): # or m2r (both same)\n",
        "            t1[i, j] += m1[i,k] * m2[k, j]"
      ],
      "metadata": {
        "id": "LzVmBQ4p6rat"
      },
      "execution_count": 510,
      "outputs": []
    },
    {
      "cell_type": "code",
      "source": [
        "t1"
      ],
      "metadata": {
        "colab": {
          "base_uri": "https://localhost:8080/"
        },
        "id": "jxyVpvHN7Gtk",
        "outputId": "8fbd47f7-28f1-4299-ecd5-be564741bf18"
      },
      "execution_count": 511,
      "outputs": [
        {
          "output_type": "execute_result",
          "data": {
            "text/plain": [
              "tensor([[ -0.0831,  -4.5006,  14.4418,   3.1894,   4.9615,  -8.9868,   4.2334,\n",
              "           4.2903,  -5.2072, -10.5840],\n",
              "        [ -2.4945,  -1.0273,   6.5773,   1.5589,   8.7855,  -0.8578,  11.9038,\n",
              "           3.1880,   8.5353, -15.5250],\n",
              "        [  5.1811,  -6.9883,  15.7716,   3.2956,  -3.8158,  -0.2620,   1.7106,\n",
              "          11.6672,   1.2099,  13.7941],\n",
              "        [ -2.6846,   1.9858,   1.7038,   6.3272,  -4.6149,  12.0997,  -2.2761,\n",
              "           3.1379,   1.4885,  -3.2497],\n",
              "        [  6.6054,  -2.7104,  11.3775,   7.7875,   3.2351,  12.3507,  -7.4660,\n",
              "          10.4673,  12.1235,   1.0778]])"
            ]
          },
          "metadata": {},
          "execution_count": 511
        }
      ]
    },
    {
      "cell_type": "code",
      "source": [
        "def matmul(a, b):\n",
        "    ar, ac = a.shape\n",
        "    br, bc = b.shape\n",
        "    c = torch.zeros(ar, bc)\n",
        "    for i in range(ar):\n",
        "        for j in range(bc):\n",
        "            for k in range(ac): # or br (both same)\n",
        "                c[i, j] += a[i,k] * b[k, j]\n",
        "    return c"
      ],
      "metadata": {
        "id": "8KWKqdyc7Ib7"
      },
      "execution_count": 512,
      "outputs": []
    },
    {
      "cell_type": "code",
      "source": [
        "matmul(m1, m2)"
      ],
      "metadata": {
        "colab": {
          "base_uri": "https://localhost:8080/"
        },
        "id": "Ql9MATQq90tS",
        "outputId": "316b449e-a748-4eaa-8e0e-8d07a1489a13"
      },
      "execution_count": 513,
      "outputs": [
        {
          "output_type": "execute_result",
          "data": {
            "text/plain": [
              "tensor([[ -0.0831,  -4.5006,  14.4418,   3.1894,   4.9615,  -8.9868,   4.2334,\n",
              "           4.2903,  -5.2072, -10.5840],\n",
              "        [ -2.4945,  -1.0273,   6.5773,   1.5589,   8.7855,  -0.8578,  11.9038,\n",
              "           3.1880,   8.5353, -15.5250],\n",
              "        [  5.1811,  -6.9883,  15.7716,   3.2956,  -3.8158,  -0.2620,   1.7106,\n",
              "          11.6672,   1.2099,  13.7941],\n",
              "        [ -2.6846,   1.9858,   1.7038,   6.3272,  -4.6149,  12.0997,  -2.2761,\n",
              "           3.1379,   1.4885,  -3.2497],\n",
              "        [  6.6054,  -2.7104,  11.3775,   7.7875,   3.2351,  12.3507,  -7.4660,\n",
              "          10.4673,  12.1235,   1.0778]])"
            ]
          },
          "metadata": {},
          "execution_count": 513
        }
      ]
    },
    {
      "cell_type": "code",
      "source": [
        "%time _=matmul(m1, m2)"
      ],
      "metadata": {
        "colab": {
          "base_uri": "https://localhost:8080/"
        },
        "id": "X0jPHW0793kK",
        "outputId": "84163ef1-d081-417c-863c-6b49fb56bdd7"
      },
      "execution_count": 514,
      "outputs": [
        {
          "output_type": "stream",
          "name": "stdout",
          "text": [
            "CPU times: user 654 ms, sys: 675 µs, total: 655 ms\n",
            "Wall time: 654 ms\n"
          ]
        }
      ]
    },
    {
      "cell_type": "markdown",
      "source": [
        "### Numba"
      ],
      "metadata": {
        "id": "oga5Xy5h-X-U"
      }
    },
    {
      "cell_type": "code",
      "source": [
        "from numba import njit"
      ],
      "metadata": {
        "id": "SdYdUFUP-NTM"
      },
      "execution_count": 515,
      "outputs": []
    },
    {
      "cell_type": "code",
      "source": [
        "@njit\n",
        "def dot(a, b):\n",
        "    res = 0\n",
        "    for i in range(len(a)):\n",
        "        res+= a[i]*b[i]\n",
        "    return res"
      ],
      "metadata": {
        "id": "eIfQ916h-cMY"
      },
      "execution_count": 516,
      "outputs": []
    },
    {
      "cell_type": "code",
      "source": [
        "from numpy import array\n",
        "a = array([1,2,3])\n",
        "b = array([1,2,3])"
      ],
      "metadata": {
        "id": "80qZ1gmB-fof"
      },
      "execution_count": 517,
      "outputs": []
    },
    {
      "cell_type": "code",
      "source": [
        "%time dot(a, b)"
      ],
      "metadata": {
        "colab": {
          "base_uri": "https://localhost:8080/"
        },
        "id": "5D-zdFZqFzaD",
        "outputId": "4dd5378c-f9b9-4de9-d581-7cbdc4e5c5b3"
      },
      "execution_count": 518,
      "outputs": [
        {
          "output_type": "stream",
          "name": "stdout",
          "text": [
            "CPU times: user 88.8 ms, sys: 5.05 ms, total: 93.9 ms\n",
            "Wall time: 91.8 ms\n"
          ]
        },
        {
          "output_type": "execute_result",
          "data": {
            "text/plain": [
              "14"
            ]
          },
          "metadata": {},
          "execution_count": 518
        }
      ]
    },
    {
      "cell_type": "code",
      "source": [
        "%time dot(a, b)"
      ],
      "metadata": {
        "colab": {
          "base_uri": "https://localhost:8080/"
        },
        "id": "eR_ow7pLF5FG",
        "outputId": "6d0b366f-0b71-4cf3-c68b-f8dfe9569fb6"
      },
      "execution_count": 519,
      "outputs": [
        {
          "output_type": "stream",
          "name": "stdout",
          "text": [
            "CPU times: user 7 µs, sys: 1 µs, total: 8 µs\n",
            "Wall time: 10.3 µs\n"
          ]
        },
        {
          "output_type": "execute_result",
          "data": {
            "text/plain": [
              "14"
            ]
          },
          "metadata": {},
          "execution_count": 519
        }
      ]
    },
    {
      "cell_type": "code",
      "source": [
        "def matmul(a, b):\n",
        "    ar, ac = a.shape\n",
        "    br, bc = b.shape\n",
        "    c = torch.zeros(ar, bc)\n",
        "    for i in range(ar):\n",
        "        for j in range(bc):\n",
        "            c[i, j] = dot(a[i,:],b[:,j])\n",
        "    return c"
      ],
      "metadata": {
        "id": "mLXIwZWLF_sN"
      },
      "execution_count": 520,
      "outputs": []
    },
    {
      "cell_type": "code",
      "source": [
        "m1a, m2a = m1.numpy(), m2.numpy()"
      ],
      "metadata": {
        "id": "GDyo51jZGiWV"
      },
      "execution_count": 521,
      "outputs": []
    },
    {
      "cell_type": "code",
      "source": [
        "from fastcore.test import *"
      ],
      "metadata": {
        "id": "Pg45ul0UGy1o"
      },
      "execution_count": 522,
      "outputs": []
    },
    {
      "cell_type": "code",
      "source": [
        "test_close(t1, matmul(m1a, m2a))"
      ],
      "metadata": {
        "id": "5XUN3iOgG3f3"
      },
      "execution_count": 523,
      "outputs": []
    },
    {
      "cell_type": "code",
      "source": [
        "%timeit -n 10 matmul(m1a, m2a)"
      ],
      "metadata": {
        "colab": {
          "base_uri": "https://localhost:8080/"
        },
        "id": "WkmCgpuyG-W_",
        "outputId": "4467f102-310e-4ce2-c556-a77e65b282b0"
      },
      "execution_count": 524,
      "outputs": [
        {
          "output_type": "stream",
          "name": "stdout",
          "text": [
            "591 µs ± 104 µs per loop (mean ± std. dev. of 7 runs, 10 loops each)\n"
          ]
        }
      ]
    },
    {
      "cell_type": "markdown",
      "source": [
        "### Elementwise Operations"
      ],
      "metadata": {
        "id": "bylh_w87Ibho"
      }
    },
    {
      "cell_type": "code",
      "source": [
        "a = tensor([10, 8, 6])\n",
        "b = tensor([7, 8, 9])\n",
        "a,b"
      ],
      "metadata": {
        "colab": {
          "base_uri": "https://localhost:8080/"
        },
        "id": "OlVvIpzAIZBE",
        "outputId": "d6a614c4-c17f-466b-8cac-920f0cce1625"
      },
      "execution_count": 525,
      "outputs": [
        {
          "output_type": "execute_result",
          "data": {
            "text/plain": [
              "(tensor([10,  8,  6]), tensor([7, 8, 9]))"
            ]
          },
          "metadata": {},
          "execution_count": 525
        }
      ]
    },
    {
      "cell_type": "code",
      "source": [
        "a+b"
      ],
      "metadata": {
        "colab": {
          "base_uri": "https://localhost:8080/"
        },
        "id": "SSAKlwVHI3Zg",
        "outputId": "d62ead50-dcc7-4967-c8d1-03722e7e4522"
      },
      "execution_count": 526,
      "outputs": [
        {
          "output_type": "execute_result",
          "data": {
            "text/plain": [
              "tensor([17, 16, 15])"
            ]
          },
          "metadata": {},
          "execution_count": 526
        }
      ]
    },
    {
      "cell_type": "code",
      "source": [
        "a*b"
      ],
      "metadata": {
        "colab": {
          "base_uri": "https://localhost:8080/"
        },
        "id": "Po7rMrKrJjvM",
        "outputId": "acaaa591-eaf5-48cd-a975-6f7d6887e053"
      },
      "execution_count": 527,
      "outputs": [
        {
          "output_type": "execute_result",
          "data": {
            "text/plain": [
              "tensor([70, 64, 54])"
            ]
          },
          "metadata": {},
          "execution_count": 527
        }
      ]
    },
    {
      "cell_type": "code",
      "source": [
        "(a<b)"
      ],
      "metadata": {
        "colab": {
          "base_uri": "https://localhost:8080/"
        },
        "id": "EsUAO5jGI4BG",
        "outputId": "cd125e25-169d-485b-ab82-7c4dc20f3607"
      },
      "execution_count": 528,
      "outputs": [
        {
          "output_type": "execute_result",
          "data": {
            "text/plain": [
              "tensor([False, False,  True])"
            ]
          },
          "metadata": {},
          "execution_count": 528
        }
      ]
    },
    {
      "cell_type": "code",
      "source": [
        "(a<b).float().mean()"
      ],
      "metadata": {
        "colab": {
          "base_uri": "https://localhost:8080/"
        },
        "id": "gnElzVQZJQkj",
        "outputId": "ff42045d-ff14-4e20-a1db-af8b41c4fe93"
      },
      "execution_count": 529,
      "outputs": [
        {
          "output_type": "execute_result",
          "data": {
            "text/plain": [
              "tensor(0.3333)"
            ]
          },
          "metadata": {},
          "execution_count": 529
        }
      ]
    },
    {
      "cell_type": "code",
      "source": [
        "m = tensor([\n",
        "    [1,2,3],\n",
        "    [4,5,6],\n",
        "    [7,8,9]\n",
        "])"
      ],
      "metadata": {
        "id": "DazcZTj2JY7Y"
      },
      "execution_count": 530,
      "outputs": []
    },
    {
      "cell_type": "code",
      "source": [
        "fnorm = (m*m).sum().sqrt()\n",
        "fnorm"
      ],
      "metadata": {
        "colab": {
          "base_uri": "https://localhost:8080/"
        },
        "id": "8bzC5K1PKz1Z",
        "outputId": "7ee5e6ee-91b6-4d51-9ae4-5f78dcc5d167"
      },
      "execution_count": 531,
      "outputs": [
        {
          "output_type": "execute_result",
          "data": {
            "text/plain": [
              "tensor(16.8819)"
            ]
          },
          "metadata": {},
          "execution_count": 531
        }
      ]
    },
    {
      "cell_type": "code",
      "source": [
        "def matmul(a, b):\n",
        "    ar, ac = a.shape\n",
        "    br, bc = b.shape\n",
        "    c = torch.zeros(ar, bc)\n",
        "    for i in range(ar):\n",
        "        for j in range(bc):\n",
        "            c[i, j] = (a[i,:]*b[:,j]).sum()\n",
        "    return c"
      ],
      "metadata": {
        "id": "IUHAhSekMAz0"
      },
      "execution_count": 532,
      "outputs": []
    },
    {
      "cell_type": "code",
      "source": [
        "test_close(t1, matmul(m1, m2))"
      ],
      "metadata": {
        "id": "NX8wFnnlMCAM"
      },
      "execution_count": 533,
      "outputs": []
    },
    {
      "cell_type": "code",
      "source": [
        "%timeit -n 10 matmul(m1, m2)"
      ],
      "metadata": {
        "colab": {
          "base_uri": "https://localhost:8080/"
        },
        "id": "tdo218JdMDJd",
        "outputId": "5f184896-84b3-42a7-b1f3-cc4a8ecaca0e"
      },
      "execution_count": 534,
      "outputs": [
        {
          "output_type": "stream",
          "name": "stdout",
          "text": [
            "1.09 ms ± 377 µs per loop (mean ± std. dev. of 7 runs, 10 loops each)\n"
          ]
        }
      ]
    },
    {
      "cell_type": "code",
      "source": [
        "def matmul(a, b):\n",
        "    ar, ac = a.shape\n",
        "    br, bc = b.shape\n",
        "    c = torch.zeros(ar, bc)\n",
        "    for i in range(ar):\n",
        "        for j in range(bc):\n",
        "            c[i, j] = torch.dot(a[i,:],b[:,j])\n",
        "    return c"
      ],
      "metadata": {
        "id": "8q0tKkxzLDFG"
      },
      "execution_count": 535,
      "outputs": []
    },
    {
      "cell_type": "code",
      "source": [
        "test_close(t1, matmul(m1, m2))"
      ],
      "metadata": {
        "id": "nU4ZUS57LpHg"
      },
      "execution_count": 536,
      "outputs": []
    },
    {
      "cell_type": "code",
      "source": [
        "%timeit -n 10 matmul(m1, m2)"
      ],
      "metadata": {
        "colab": {
          "base_uri": "https://localhost:8080/"
        },
        "id": "jZkroU7eLsZy",
        "outputId": "dbdf68e2-2a9d-48ba-c302-bf1e0db5ce8f"
      },
      "execution_count": 537,
      "outputs": [
        {
          "output_type": "stream",
          "name": "stdout",
          "text": [
            "789 µs ± 185 µs per loop (mean ± std. dev. of 7 runs, 10 loops each)\n"
          ]
        }
      ]
    },
    {
      "cell_type": "markdown",
      "source": [
        "### Broadcasting"
      ],
      "metadata": {
        "id": "aXfO4zMAMW1f"
      }
    },
    {
      "cell_type": "code",
      "source": [
        "a"
      ],
      "metadata": {
        "id": "iz4Na23qMWAn",
        "outputId": "59382014-4a9c-48b0-fab2-043bdc25c766",
        "colab": {
          "base_uri": "https://localhost:8080/"
        }
      },
      "execution_count": 538,
      "outputs": [
        {
          "output_type": "execute_result",
          "data": {
            "text/plain": [
              "tensor([10,  8,  6])"
            ]
          },
          "metadata": {},
          "execution_count": 538
        }
      ]
    },
    {
      "cell_type": "code",
      "source": [
        "a>0"
      ],
      "metadata": {
        "id": "TkAXG9juMhz0",
        "outputId": "a7734115-1756-420b-a809-c20ffd9a4332",
        "colab": {
          "base_uri": "https://localhost:8080/"
        }
      },
      "execution_count": 539,
      "outputs": [
        {
          "output_type": "execute_result",
          "data": {
            "text/plain": [
              "tensor([True, True, True])"
            ]
          },
          "metadata": {},
          "execution_count": 539
        }
      ]
    },
    {
      "cell_type": "code",
      "source": [
        "a+1"
      ],
      "metadata": {
        "id": "qkyAXPbDMi36",
        "outputId": "b6c3704f-c840-40d3-ab27-239447d625f1",
        "colab": {
          "base_uri": "https://localhost:8080/"
        }
      },
      "execution_count": 540,
      "outputs": [
        {
          "output_type": "execute_result",
          "data": {
            "text/plain": [
              "tensor([11,  9,  7])"
            ]
          },
          "metadata": {},
          "execution_count": 540
        }
      ]
    },
    {
      "cell_type": "code",
      "source": [
        "m"
      ],
      "metadata": {
        "id": "MVbnB6JbM7J1",
        "outputId": "07da5d90-2e5b-4288-bc4b-1e4e1b6603f0",
        "colab": {
          "base_uri": "https://localhost:8080/"
        }
      },
      "execution_count": 541,
      "outputs": [
        {
          "output_type": "execute_result",
          "data": {
            "text/plain": [
              "tensor([[1, 2, 3],\n",
              "        [4, 5, 6],\n",
              "        [7, 8, 9]])"
            ]
          },
          "metadata": {},
          "execution_count": 541
        }
      ]
    },
    {
      "cell_type": "code",
      "source": [
        "m*3"
      ],
      "metadata": {
        "id": "HWRpXN18NH5c",
        "outputId": "3e812988-73db-4bb7-bf78-0904a572587b",
        "colab": {
          "base_uri": "https://localhost:8080/"
        }
      },
      "execution_count": 542,
      "outputs": [
        {
          "output_type": "execute_result",
          "data": {
            "text/plain": [
              "tensor([[ 3,  6,  9],\n",
              "        [12, 15, 18],\n",
              "        [21, 24, 27]])"
            ]
          },
          "metadata": {},
          "execution_count": 542
        }
      ]
    },
    {
      "cell_type": "code",
      "source": [
        "a+m"
      ],
      "metadata": {
        "id": "LkFUBr7aNJFy",
        "outputId": "c2cb0188-1bb3-47d8-ba45-940a802562a4",
        "colab": {
          "base_uri": "https://localhost:8080/"
        }
      },
      "execution_count": 543,
      "outputs": [
        {
          "output_type": "execute_result",
          "data": {
            "text/plain": [
              "tensor([[11, 10,  9],\n",
              "        [14, 13, 12],\n",
              "        [17, 16, 15]])"
            ]
          },
          "metadata": {},
          "execution_count": 543
        }
      ]
    },
    {
      "cell_type": "code",
      "source": [
        "t = a.expand_as(m)\n",
        "t"
      ],
      "metadata": {
        "id": "ILInrURsNWls",
        "outputId": "3de07b9b-1c1b-417e-db4d-a8a89da0ac82",
        "colab": {
          "base_uri": "https://localhost:8080/"
        }
      },
      "execution_count": 544,
      "outputs": [
        {
          "output_type": "execute_result",
          "data": {
            "text/plain": [
              "tensor([[10,  8,  6],\n",
              "        [10,  8,  6],\n",
              "        [10,  8,  6]])"
            ]
          },
          "metadata": {},
          "execution_count": 544
        }
      ]
    },
    {
      "cell_type": "code",
      "source": [
        "m+t"
      ],
      "metadata": {
        "id": "rnWfDtOZNrgi",
        "outputId": "a9e9987e-b142-453d-e536-1db5bca57cda",
        "colab": {
          "base_uri": "https://localhost:8080/"
        }
      },
      "execution_count": 545,
      "outputs": [
        {
          "output_type": "execute_result",
          "data": {
            "text/plain": [
              "tensor([[11, 10,  9],\n",
              "        [14, 13, 12],\n",
              "        [17, 16, 15]])"
            ]
          },
          "metadata": {},
          "execution_count": 545
        }
      ]
    },
    {
      "cell_type": "code",
      "source": [
        "t.storage()"
      ],
      "metadata": {
        "id": "-lqihSWpNsmx",
        "outputId": "1040cda0-b167-4441-9b33-653ed5235344",
        "colab": {
          "base_uri": "https://localhost:8080/"
        }
      },
      "execution_count": 546,
      "outputs": [
        {
          "output_type": "execute_result",
          "data": {
            "text/plain": [
              " 10\n",
              " 8\n",
              " 6\n",
              "[torch.storage._TypedStorage(dtype=torch.int64, device=cpu) of size 3]"
            ]
          },
          "metadata": {},
          "execution_count": 546
        }
      ]
    },
    {
      "cell_type": "code",
      "source": [
        "a.unsqueeze(0)"
      ],
      "metadata": {
        "id": "DAGSLfqRNzP5",
        "outputId": "5e074fbc-ebda-4dec-ab09-f6c3e4255829",
        "colab": {
          "base_uri": "https://localhost:8080/"
        }
      },
      "execution_count": 547,
      "outputs": [
        {
          "output_type": "execute_result",
          "data": {
            "text/plain": [
              "tensor([[10,  8,  6]])"
            ]
          },
          "metadata": {},
          "execution_count": 547
        }
      ]
    },
    {
      "cell_type": "code",
      "source": [
        "a[None,:]"
      ],
      "metadata": {
        "id": "JMF_yVMnQen_",
        "outputId": "1d41676e-160c-4691-f754-b5a9ac53fadd",
        "colab": {
          "base_uri": "https://localhost:8080/"
        }
      },
      "execution_count": 548,
      "outputs": [
        {
          "output_type": "execute_result",
          "data": {
            "text/plain": [
              "tensor([[10,  8,  6]])"
            ]
          },
          "metadata": {},
          "execution_count": 548
        }
      ]
    },
    {
      "cell_type": "code",
      "source": [
        "a.unsqueeze(1)"
      ],
      "metadata": {
        "id": "GZJem9o-OMBr",
        "outputId": "cc976dd2-aaaa-47ff-a3d4-bcdd58eb3ec3",
        "colab": {
          "base_uri": "https://localhost:8080/"
        }
      },
      "execution_count": 549,
      "outputs": [
        {
          "output_type": "execute_result",
          "data": {
            "text/plain": [
              "tensor([[10],\n",
              "        [ 8],\n",
              "        [ 6]])"
            ]
          },
          "metadata": {},
          "execution_count": 549
        }
      ]
    },
    {
      "cell_type": "code",
      "source": [
        "a[:, None]"
      ],
      "metadata": {
        "id": "6HPPoRzoOPeb",
        "outputId": "6c187234-bf25-444d-fb47-b76cee622864",
        "colab": {
          "base_uri": "https://localhost:8080/"
        }
      },
      "execution_count": 550,
      "outputs": [
        {
          "output_type": "execute_result",
          "data": {
            "text/plain": [
              "tensor([[10],\n",
              "        [ 8],\n",
              "        [ 6]])"
            ]
          },
          "metadata": {},
          "execution_count": 550
        }
      ]
    },
    {
      "cell_type": "code",
      "source": [
        "a[:, None].expand_as(m)"
      ],
      "metadata": {
        "id": "rZoGUkusQiyO",
        "outputId": "192f6987-7f5f-48fa-a0b8-a5317648f427",
        "colab": {
          "base_uri": "https://localhost:8080/"
        }
      },
      "execution_count": 551,
      "outputs": [
        {
          "output_type": "execute_result",
          "data": {
            "text/plain": [
              "tensor([[10, 10, 10],\n",
              "        [ 8,  8,  8],\n",
              "        [ 6,  6,  6]])"
            ]
          },
          "metadata": {},
          "execution_count": 551
        }
      ]
    },
    {
      "cell_type": "code",
      "source": [
        "m + a[:, None]"
      ],
      "metadata": {
        "id": "R4fQ0RtAQ2IZ",
        "outputId": "bd52343a-752a-477c-ff9b-1fd87635a95a",
        "colab": {
          "base_uri": "https://localhost:8080/"
        }
      },
      "execution_count": 552,
      "outputs": [
        {
          "output_type": "execute_result",
          "data": {
            "text/plain": [
              "tensor([[11, 12, 13],\n",
              "        [12, 13, 14],\n",
              "        [13, 14, 15]])"
            ]
          },
          "metadata": {},
          "execution_count": 552
        }
      ]
    },
    {
      "cell_type": "code",
      "source": [
        "a[:,None] * a[None, :]"
      ],
      "metadata": {
        "id": "mMH8RiebQ6Jo",
        "outputId": "487592a5-70ff-49e8-9b51-9e97afdb440e",
        "colab": {
          "base_uri": "https://localhost:8080/"
        }
      },
      "execution_count": 553,
      "outputs": [
        {
          "output_type": "execute_result",
          "data": {
            "text/plain": [
              "tensor([[100,  80,  60],\n",
              "        [ 80,  64,  48],\n",
              "        [ 60,  48,  36]])"
            ]
          },
          "metadata": {},
          "execution_count": 553
        }
      ]
    },
    {
      "cell_type": "code",
      "source": [
        "digit = m1[0]\n",
        "digit.shape, m2.shape"
      ],
      "metadata": {
        "id": "7YSQGRWXRXRj",
        "outputId": "1bf1b6ed-91e3-4995-8b2c-ca1d9723ba4b",
        "colab": {
          "base_uri": "https://localhost:8080/"
        }
      },
      "execution_count": 554,
      "outputs": [
        {
          "output_type": "execute_result",
          "data": {
            "text/plain": [
              "(torch.Size([784]), torch.Size([784, 10]))"
            ]
          },
          "metadata": {},
          "execution_count": 554
        }
      ]
    },
    {
      "cell_type": "code",
      "source": [
        "def matmul(a, b):\n",
        "    ar, ac = a.shape\n",
        "    br, bc = b.shape\n",
        "    c = torch.zeros(ar, bc)\n",
        "    for i in range(ar):\n",
        "        c[i] = (a[i,:,None] * b).sum(dim=0)\n",
        "    return c"
      ],
      "metadata": {
        "id": "FsALosVHSfJq"
      },
      "execution_count": 555,
      "outputs": []
    },
    {
      "cell_type": "code",
      "source": [
        "test_close(t1,matmul(m1, m2))"
      ],
      "metadata": {
        "id": "I6vJeBAQTdIw"
      },
      "execution_count": 556,
      "outputs": []
    },
    {
      "cell_type": "code",
      "source": [
        "%timeit -n 10 _=matmul(m1, m2)"
      ],
      "metadata": {
        "id": "64GhqN47TgIe",
        "outputId": "d6b10261-1122-4a62-8272-84f974735f5f",
        "colab": {
          "base_uri": "https://localhost:8080/"
        }
      },
      "execution_count": 557,
      "outputs": [
        {
          "output_type": "stream",
          "name": "stdout",
          "text": [
            "305 µs ± 182 µs per loop (mean ± std. dev. of 7 runs, 10 loops each)\n"
          ]
        }
      ]
    },
    {
      "cell_type": "code",
      "source": [
        "pred = matmul(x_train, weights)\n",
        "pred.shape"
      ],
      "metadata": {
        "id": "7slF6hR_Thq7",
        "outputId": "cdc4019f-c331-487b-c22b-28ab6b553970",
        "colab": {
          "base_uri": "https://localhost:8080/"
        }
      },
      "execution_count": 558,
      "outputs": [
        {
          "output_type": "execute_result",
          "data": {
            "text/plain": [
              "torch.Size([50000, 10])"
            ]
          },
          "metadata": {},
          "execution_count": 558
        }
      ]
    },
    {
      "cell_type": "code",
      "source": [
        "%time _=matmul(x_train, weights)"
      ],
      "metadata": {
        "id": "sciFyXosTo-m",
        "outputId": "638b6d85-9049-4272-f59b-24b76ccdc862",
        "colab": {
          "base_uri": "https://localhost:8080/"
        }
      },
      "execution_count": 559,
      "outputs": [
        {
          "output_type": "stream",
          "name": "stdout",
          "text": [
            "CPU times: user 1.11 s, sys: 10.1 ms, total: 1.12 s\n",
            "Wall time: 1.13 s\n"
          ]
        }
      ]
    },
    {
      "cell_type": "markdown",
      "source": [
        "### Einstein summation"
      ],
      "metadata": {
        "id": "SjqCEriic6r6"
      }
    },
    {
      "cell_type": "code",
      "source": [
        "m1.shape, m2.shape"
      ],
      "metadata": {
        "id": "BQ6gnqzCc2A4",
        "outputId": "931bcf97-8c7f-4e23-b1a9-2a935dcdc7ae",
        "colab": {
          "base_uri": "https://localhost:8080/"
        }
      },
      "execution_count": 560,
      "outputs": [
        {
          "output_type": "execute_result",
          "data": {
            "text/plain": [
              "(torch.Size([5, 784]), torch.Size([784, 10]))"
            ]
          },
          "metadata": {},
          "execution_count": 560
        }
      ]
    },
    {
      "cell_type": "code",
      "source": [
        "mr = torch.einsum('ik,kj->ikj', m1, m2)\n",
        "mr.shape"
      ],
      "metadata": {
        "id": "JY0UhQYgdSuv",
        "outputId": "5f494b2f-79b8-47b9-a466-090bb9936d19",
        "colab": {
          "base_uri": "https://localhost:8080/"
        }
      },
      "execution_count": 561,
      "outputs": [
        {
          "output_type": "execute_result",
          "data": {
            "text/plain": [
              "torch.Size([5, 784, 10])"
            ]
          },
          "metadata": {},
          "execution_count": 561
        }
      ]
    },
    {
      "cell_type": "code",
      "source": [
        "mr.sum(dim=1)"
      ],
      "metadata": {
        "id": "hJJ8aR5udxgx",
        "outputId": "82b82542-5ff1-49e2-e1b2-4e9b1e180c03",
        "colab": {
          "base_uri": "https://localhost:8080/"
        }
      },
      "execution_count": 562,
      "outputs": [
        {
          "output_type": "execute_result",
          "data": {
            "text/plain": [
              "tensor([[ -0.0831,  -4.5006,  14.4418,   3.1894,   4.9615,  -8.9868,   4.2334,\n",
              "           4.2903,  -5.2072, -10.5840],\n",
              "        [ -2.4945,  -1.0273,   6.5773,   1.5589,   8.7855,  -0.8578,  11.9038,\n",
              "           3.1880,   8.5353, -15.5250],\n",
              "        [  5.1811,  -6.9883,  15.7716,   3.2956,  -3.8158,  -0.2620,   1.7106,\n",
              "          11.6672,   1.2099,  13.7941],\n",
              "        [ -2.6846,   1.9858,   1.7038,   6.3272,  -4.6149,  12.0997,  -2.2761,\n",
              "           3.1379,   1.4885,  -3.2497],\n",
              "        [  6.6054,  -2.7104,  11.3775,   7.7875,   3.2351,  12.3507,  -7.4660,\n",
              "          10.4673,  12.1235,   1.0778]])"
            ]
          },
          "metadata": {},
          "execution_count": 562
        }
      ]
    },
    {
      "cell_type": "code",
      "source": [
        "torch.einsum('ik,kj->ij', m1, m2)"
      ],
      "metadata": {
        "id": "BdJp_2rDdeRw",
        "outputId": "d12a2d12-5c37-4a8c-91f6-a24ae84aa3e0",
        "colab": {
          "base_uri": "https://localhost:8080/"
        }
      },
      "execution_count": 563,
      "outputs": [
        {
          "output_type": "execute_result",
          "data": {
            "text/plain": [
              "tensor([[ -0.0831,  -4.5006,  14.4418,   3.1894,   4.9615,  -8.9868,   4.2334,\n",
              "           4.2903,  -5.2072, -10.5840],\n",
              "        [ -2.4945,  -1.0273,   6.5773,   1.5589,   8.7855,  -0.8578,  11.9038,\n",
              "           3.1880,   8.5353, -15.5250],\n",
              "        [  5.1811,  -6.9883,  15.7716,   3.2956,  -3.8158,  -0.2620,   1.7106,\n",
              "          11.6672,   1.2099,  13.7941],\n",
              "        [ -2.6846,   1.9858,   1.7038,   6.3272,  -4.6149,  12.0997,  -2.2761,\n",
              "           3.1379,   1.4885,  -3.2497],\n",
              "        [  6.6054,  -2.7104,  11.3775,   7.7875,   3.2351,  12.3507,  -7.4660,\n",
              "          10.4673,  12.1235,   1.0778]])"
            ]
          },
          "metadata": {},
          "execution_count": 563
        }
      ]
    },
    {
      "cell_type": "code",
      "source": [
        "def matmul(a, b):\n",
        "    return torch.einsum('ik,kj->ij', a, b)"
      ],
      "metadata": {
        "id": "JsN2MTJxdqJb"
      },
      "execution_count": 564,
      "outputs": []
    },
    {
      "cell_type": "code",
      "source": [
        "test_close(pred, matmul(x_train, weights),eps=1e-3)"
      ],
      "metadata": {
        "id": "TXNand5ueHPg"
      },
      "execution_count": 565,
      "outputs": []
    },
    {
      "cell_type": "code",
      "source": [
        "%timeit -n 5 _=matmul(x_train, weights)"
      ],
      "metadata": {
        "id": "h0dxoKIneJxC",
        "outputId": "b1232e3a-38b0-4d41-a7c0-e1495a6396cd",
        "colab": {
          "base_uri": "https://localhost:8080/"
        }
      },
      "execution_count": 566,
      "outputs": [
        {
          "output_type": "stream",
          "name": "stdout",
          "text": [
            "24.7 ms ± 1.16 ms per loop (mean ± std. dev. of 7 runs, 5 loops each)\n"
          ]
        }
      ]
    },
    {
      "cell_type": "markdown",
      "source": [
        "### PyTorch matmul"
      ],
      "metadata": {
        "id": "CkzGipFeg6KS"
      }
    },
    {
      "cell_type": "code",
      "source": [
        "test_close(pred, x_train@weights, eps=1e-3)"
      ],
      "metadata": {
        "id": "rRGQVF1OeRXu"
      },
      "execution_count": 567,
      "outputs": []
    },
    {
      "cell_type": "code",
      "source": [
        "%timeit -n 5 _=torch.matmul(x_train, weights)"
      ],
      "metadata": {
        "id": "b_DAFFsVeuGd",
        "outputId": "5c05a703-c04e-4a34-92e8-d88ba66707aa",
        "colab": {
          "base_uri": "https://localhost:8080/"
        }
      },
      "execution_count": 568,
      "outputs": [
        {
          "output_type": "stream",
          "name": "stdout",
          "text": [
            "23.6 ms ± 793 µs per loop (mean ± std. dev. of 7 runs, 5 loops each)\n"
          ]
        }
      ]
    },
    {
      "cell_type": "markdown",
      "source": [
        "### CUDA"
      ],
      "metadata": {
        "id": "DDpUOI32hChZ"
      }
    },
    {
      "cell_type": "code",
      "source": [
        "def matmul(grid, a, b, c):\n",
        "    i, j=grid\n",
        "    tmp = 0\n",
        "    for k in range(a.shape[1]): \n",
        "        tmp += a[i,k] * b[k,j]\n",
        "    c[i,j] = tmp"
      ],
      "metadata": {
        "id": "rAu1tYbkfLFs"
      },
      "execution_count": 569,
      "outputs": []
    },
    {
      "cell_type": "code",
      "source": [
        "res = torch.zeros(5, 10)\n",
        "matmul((0,0), m1, m2, res)\n",
        "res"
      ],
      "metadata": {
        "id": "p8q2mKhcj_ob",
        "outputId": "e7c00ad1-c54f-4fdf-d47e-04150949edf0",
        "colab": {
          "base_uri": "https://localhost:8080/"
        }
      },
      "execution_count": 570,
      "outputs": [
        {
          "output_type": "execute_result",
          "data": {
            "text/plain": [
              "tensor([[-0.0831,  0.0000,  0.0000,  0.0000,  0.0000,  0.0000,  0.0000,  0.0000,\n",
              "          0.0000,  0.0000],\n",
              "        [ 0.0000,  0.0000,  0.0000,  0.0000,  0.0000,  0.0000,  0.0000,  0.0000,\n",
              "          0.0000,  0.0000],\n",
              "        [ 0.0000,  0.0000,  0.0000,  0.0000,  0.0000,  0.0000,  0.0000,  0.0000,\n",
              "          0.0000,  0.0000],\n",
              "        [ 0.0000,  0.0000,  0.0000,  0.0000,  0.0000,  0.0000,  0.0000,  0.0000,\n",
              "          0.0000,  0.0000],\n",
              "        [ 0.0000,  0.0000,  0.0000,  0.0000,  0.0000,  0.0000,  0.0000,  0.0000,\n",
              "          0.0000,  0.0000]])"
            ]
          },
          "metadata": {},
          "execution_count": 570
        }
      ]
    },
    {
      "cell_type": "code",
      "source": [
        "def launch_kernel(kernel, grid_x, grid_y, *args, **kwargs):\n",
        "    for i in range(grid_x):\n",
        "        for j in range(grid_y):\n",
        "            kernel((i,j), *args, **kwargs)"
      ],
      "metadata": {
        "id": "yJNtqT13krJA"
      },
      "execution_count": 571,
      "outputs": []
    },
    {
      "cell_type": "code",
      "source": [
        "res = torch.zeros(5, 10)\n",
        "launch_kernel(matmul, 5,10, m1,m2, res)\n",
        "res"
      ],
      "metadata": {
        "id": "SyBGu8JsnIi4",
        "outputId": "24a44f67-4e7c-4031-98ed-cb175b6078be",
        "colab": {
          "base_uri": "https://localhost:8080/"
        }
      },
      "execution_count": 572,
      "outputs": [
        {
          "output_type": "execute_result",
          "data": {
            "text/plain": [
              "tensor([[ -0.0831,  -4.5006,  14.4418,   3.1894,   4.9615,  -8.9868,   4.2334,\n",
              "           4.2903,  -5.2072, -10.5840],\n",
              "        [ -2.4945,  -1.0273,   6.5773,   1.5589,   8.7855,  -0.8578,  11.9038,\n",
              "           3.1880,   8.5353, -15.5250],\n",
              "        [  5.1811,  -6.9883,  15.7716,   3.2956,  -3.8158,  -0.2620,   1.7106,\n",
              "          11.6672,   1.2099,  13.7941],\n",
              "        [ -2.6846,   1.9858,   1.7038,   6.3272,  -4.6149,  12.0997,  -2.2761,\n",
              "           3.1379,   1.4885,  -3.2497],\n",
              "        [  6.6054,  -2.7104,  11.3775,   7.7875,   3.2351,  12.3507,  -7.4660,\n",
              "          10.4673,  12.1235,   1.0778]])"
            ]
          },
          "metadata": {},
          "execution_count": 572
        }
      ]
    },
    {
      "cell_type": "code",
      "source": [
        "from numba import cuda"
      ],
      "metadata": {
        "id": "OVRiAu6QnWPl"
      },
      "execution_count": 573,
      "outputs": []
    },
    {
      "cell_type": "code",
      "source": [
        "@cuda.jit\n",
        "def matmul(a,b,c):\n",
        "    i, j = cuda.grid(2)\n",
        "    if i < c.shape[0] and j < c.shape[1]:\n",
        "        tmp = 0\n",
        "        for k in range(a.shape[1]): \n",
        "            tmp += a[i,k] * b[k,j]\n",
        "        c[i,j] = tmp"
      ],
      "metadata": {
        "id": "jLylMBJEovvO"
      },
      "execution_count": 574,
      "outputs": []
    },
    {
      "cell_type": "code",
      "source": [
        "import numpy as np\n",
        "r = np.zeros(pred.shape)\n",
        "m1g, m2g, rg = map(cuda.to_device, (x_train, weights, r))"
      ],
      "metadata": {
        "id": "wK35GfespFO7"
      },
      "execution_count": 575,
      "outputs": []
    },
    {
      "cell_type": "code",
      "source": [
        "import math\n",
        "TPB = 16\n",
        "rr,rc = r.shape\n",
        "blockspergrid = (math.ceil(rr / TPB), math.ceil(rc / TPB))\n",
        "blockspergrid"
      ],
      "metadata": {
        "id": "EMSX50DzpgeH",
        "outputId": "57649431-7dc9-4a67-e813-320f9eeed7ca",
        "colab": {
          "base_uri": "https://localhost:8080/"
        }
      },
      "execution_count": 576,
      "outputs": [
        {
          "output_type": "execute_result",
          "data": {
            "text/plain": [
              "(3125, 1)"
            ]
          },
          "metadata": {},
          "execution_count": 576
        }
      ]
    },
    {
      "cell_type": "code",
      "source": [
        "matmul[blockspergrid, (TPB,TPB)](m1g,m2g,rg)\n",
        "r = rg.copy_to_host()\n",
        "test_close(pred, r, eps=1e-3)"
      ],
      "metadata": {
        "id": "rgu4IrjHpoaX"
      },
      "execution_count": 577,
      "outputs": []
    },
    {
      "cell_type": "code",
      "source": [
        "%%timeit -n 10\n",
        "matmul[blockspergrid, (TPB,TPB)](m1g,m2g,rg)\n",
        "r = rg.copy_to_host()"
      ],
      "metadata": {
        "id": "PI64YqoOp0pm",
        "outputId": "8443e85f-de57-42a0-e6c1-a8050d49da77",
        "colab": {
          "base_uri": "https://localhost:8080/"
        }
      },
      "execution_count": 578,
      "outputs": [
        {
          "output_type": "stream",
          "name": "stdout",
          "text": [
            "11.5 ms ± 3.89 ms per loop (mean ± std. dev. of 7 runs, 10 loops each)\n"
          ]
        }
      ]
    },
    {
      "cell_type": "code",
      "source": [
        "m1c, m2c = x_train.cuda(), weights.cuda()"
      ],
      "metadata": {
        "id": "dTlA2EqHp8Yw"
      },
      "execution_count": 579,
      "outputs": []
    },
    {
      "cell_type": "code",
      "source": [
        "r = (m1c@m2c).cpu()"
      ],
      "metadata": {
        "id": "o4Qf-gYWqRyQ"
      },
      "execution_count": 580,
      "outputs": []
    },
    {
      "cell_type": "code",
      "source": [
        "%timeit -n 10 r=(m1c@m2c).cpu()"
      ],
      "metadata": {
        "id": "tX9clWsxqaGY",
        "outputId": "14f78e72-ab67-41d0-e187-a817a5193842",
        "colab": {
          "base_uri": "https://localhost:8080/"
        }
      },
      "execution_count": 581,
      "outputs": [
        {
          "output_type": "stream",
          "name": "stdout",
          "text": [
            "2.03 ms ± 37.2 µs per loop (mean ± std. dev. of 7 runs, 10 loops each)\n"
          ]
        }
      ]
    },
    {
      "cell_type": "markdown",
      "source": [
        "and now i know how to do matrix multiplication :)"
      ],
      "metadata": {
        "id": "jovdVa8oq4cy"
      }
    }
  ]
}