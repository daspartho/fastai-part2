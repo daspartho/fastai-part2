{
  "nbformat": 4,
  "nbformat_minor": 0,
  "metadata": {
    "colab": {
      "provenance": [],
      "authorship_tag": "ABX9TyMCPMT2sppHeI4Wv0GMxvm9",
      "include_colab_link": true
    },
    "kernelspec": {
      "name": "python3",
      "display_name": "Python 3"
    },
    "language_info": {
      "name": "python"
    }
  },
  "cells": [
    {
      "cell_type": "markdown",
      "metadata": {
        "id": "view-in-github",
        "colab_type": "text"
      },
      "source": [
        "<a href=\"https://colab.research.google.com/github/daspartho/fastai-part2/blob/main/matmul.ipynb\" target=\"_parent\"><img src=\"https://colab.research.google.com/assets/colab-badge.svg\" alt=\"Open In Colab\"/></a>"
      ]
    },
    {
      "cell_type": "markdown",
      "source": [
        "### Get Data"
      ],
      "metadata": {
        "id": "yh1iiVzeH9Sn"
      }
    },
    {
      "cell_type": "code",
      "execution_count": 188,
      "metadata": {
        "id": "6QiazWAkUlkc"
      },
      "outputs": [],
      "source": [
        "from pathlib import Path\n",
        "import pickle, gzip, os\n",
        "import matplotlib as mpl\n",
        "import matplotlib.pyplot as plt"
      ]
    },
    {
      "cell_type": "code",
      "source": [
        "MNIST_URL='https://github.com/mnielsen/neural-networks-and-deep-learning/blob/master/data/mnist.pkl.gz?raw=true'\n",
        "path_data = Path('data')\n",
        "path_data.mkdir(exist_ok=True)\n",
        "path_gz = path_data/'mnist.pkl.gz'"
      ],
      "metadata": {
        "id": "LP4AxaNXk9xD"
      },
      "execution_count": 189,
      "outputs": []
    },
    {
      "cell_type": "code",
      "source": [
        "from urllib.request import urlretrieve\n",
        "if not path_gz.exists():\n",
        "    urlretrieve(MNIST_URL, path_gz)"
      ],
      "metadata": {
        "id": "dfRDYogOlZfL"
      },
      "execution_count": 190,
      "outputs": []
    },
    {
      "cell_type": "code",
      "source": [
        "!ls -l data"
      ],
      "metadata": {
        "colab": {
          "base_uri": "https://localhost:8080/"
        },
        "id": "gf-cjXLSmlWM",
        "outputId": "c85322e1-538a-4600-dcba-0d857fededca"
      },
      "execution_count": 191,
      "outputs": [
        {
          "output_type": "stream",
          "name": "stdout",
          "text": [
            "total 16656\n",
            "-rw-r--r-- 1 root root 17051982 Oct 28 18:39 mnist.pkl.gz\n"
          ]
        }
      ]
    },
    {
      "cell_type": "code",
      "source": [
        "with gzip.open(path_gz, 'rb') as f:\n",
        "    (x_train, y_train), (x_valid, y_valid), _ = pickle.load(f, encoding='latin-1')"
      ],
      "metadata": {
        "id": "7ZEgZh91mnb7"
      },
      "execution_count": 192,
      "outputs": []
    },
    {
      "cell_type": "code",
      "source": [
        "type(x_train)"
      ],
      "metadata": {
        "colab": {
          "base_uri": "https://localhost:8080/"
        },
        "id": "IqHnsPfxnLDe",
        "outputId": "755e0b33-6fa5-449d-aa23-358279ec97a8"
      },
      "execution_count": 193,
      "outputs": [
        {
          "output_type": "execute_result",
          "data": {
            "text/plain": [
              "numpy.ndarray"
            ]
          },
          "metadata": {},
          "execution_count": 193
        }
      ]
    },
    {
      "cell_type": "code",
      "source": [
        "ls1 = list(x_train[0])\n",
        "vals = ls1[200:210]\n",
        "vals"
      ],
      "metadata": {
        "colab": {
          "base_uri": "https://localhost:8080/"
        },
        "id": "8ZYvNSKgnYGw",
        "outputId": "10cc5dfc-d1f7-4b07-f07d-0bc630805206"
      },
      "execution_count": 194,
      "outputs": [
        {
          "output_type": "execute_result",
          "data": {
            "text/plain": [
              "[0.0,\n",
              " 0.0,\n",
              " 0.0,\n",
              " 0.19140625,\n",
              " 0.9296875,\n",
              " 0.98828125,\n",
              " 0.98828125,\n",
              " 0.98828125,\n",
              " 0.98828125,\n",
              " 0.98828125]"
            ]
          },
          "metadata": {},
          "execution_count": 194
        }
      ]
    },
    {
      "cell_type": "code",
      "source": [
        "def chunks(x, sz):\n",
        "    for i in range(0, len(x), sz):\n",
        "        yield x[i: i+sz]"
      ],
      "metadata": {
        "id": "XYZoCNYHpSx7"
      },
      "execution_count": 195,
      "outputs": []
    },
    {
      "cell_type": "code",
      "source": [
        "type(chunks(vals, 5))"
      ],
      "metadata": {
        "colab": {
          "base_uri": "https://localhost:8080/"
        },
        "id": "mPbwrAzypkk_",
        "outputId": "4993c9f2-8905-497d-e3c4-9c8b53d938da"
      },
      "execution_count": 196,
      "outputs": [
        {
          "output_type": "execute_result",
          "data": {
            "text/plain": [
              "generator"
            ]
          },
          "metadata": {},
          "execution_count": 196
        }
      ]
    },
    {
      "cell_type": "code",
      "source": [
        "list(chunks(vals, 5))"
      ],
      "metadata": {
        "colab": {
          "base_uri": "https://localhost:8080/"
        },
        "id": "qMTJLOmfppGP",
        "outputId": "0998f1d7-ecca-417d-d5d4-6fe814ef058a"
      },
      "execution_count": 197,
      "outputs": [
        {
          "output_type": "execute_result",
          "data": {
            "text/plain": [
              "[[0.0, 0.0, 0.0, 0.19140625, 0.9296875],\n",
              " [0.98828125, 0.98828125, 0.98828125, 0.98828125, 0.98828125]]"
            ]
          },
          "metadata": {},
          "execution_count": 197
        }
      ]
    },
    {
      "cell_type": "code",
      "source": [
        "mpl.rcParams['image.cmap'] = 'gray'\n",
        "plt.imshow(list(chunks(ls1, 28)))"
      ],
      "metadata": {
        "colab": {
          "base_uri": "https://localhost:8080/",
          "height": 282
        },
        "id": "Qj02OWKopvFv",
        "outputId": "e2b83a9f-fa38-4b1c-8724-6fd4a1dd96ff"
      },
      "execution_count": 198,
      "outputs": [
        {
          "output_type": "execute_result",
          "data": {
            "text/plain": [
              "<matplotlib.image.AxesImage at 0x7f9bb74f6ed0>"
            ]
          },
          "metadata": {},
          "execution_count": 198
        },
        {
          "output_type": "display_data",
          "data": {
            "text/plain": [
              "<Figure size 432x288 with 1 Axes>"
            ],
            "image/png": "[encoded data removed]"
          },
          "metadata": {
            "needs_background": "light"
          }
        }
      ]
    },
    {
      "cell_type": "code",
      "source": [
        "from itertools import islice"
      ],
      "metadata": {
        "id": "j_59zbKJE5tK"
      },
      "execution_count": 199,
      "outputs": []
    },
    {
      "cell_type": "code",
      "source": [
        "it = iter(vals)\n",
        "it"
      ],
      "metadata": {
        "id": "lQXlF_orFOXb",
        "outputId": "d43efe46-b9fe-4033-b7c1-caaec155ae81",
        "colab": {
          "base_uri": "https://localhost:8080/"
        }
      },
      "execution_count": 200,
      "outputs": [
        {
          "output_type": "execute_result",
          "data": {
            "text/plain": [
              "<list_iterator at 0x7f9bb7592150>"
            ]
          },
          "metadata": {},
          "execution_count": 200
        }
      ]
    },
    {
      "cell_type": "code",
      "source": [
        "list(islice(it, 5))"
      ],
      "metadata": {
        "id": "uSuSzr1XFnG2",
        "outputId": "edb719f6-82ac-4e5d-c9e2-1cb3ebd9ae7d",
        "colab": {
          "base_uri": "https://localhost:8080/"
        }
      },
      "execution_count": 201,
      "outputs": [
        {
          "output_type": "execute_result",
          "data": {
            "text/plain": [
              "[0.0, 0.0, 0.0, 0.19140625, 0.9296875]"
            ]
          },
          "metadata": {},
          "execution_count": 201
        }
      ]
    },
    {
      "cell_type": "code",
      "source": [
        "it = iter(ls1)\n",
        "img = list(iter(lambda: list(islice(it, 28)), []))"
      ],
      "metadata": {
        "id": "R21DN8nmFybu"
      },
      "execution_count": 202,
      "outputs": []
    },
    {
      "cell_type": "code",
      "source": [
        "plt.imshow(img)"
      ],
      "metadata": {
        "id": "ZkbTbm79HBOh",
        "outputId": "67704850-bdc2-4f67-8dc2-ed06103154b3",
        "colab": {
          "base_uri": "https://localhost:8080/",
          "height": 282
        }
      },
      "execution_count": 203,
      "outputs": [
        {
          "output_type": "execute_result",
          "data": {
            "text/plain": [
              "<matplotlib.image.AxesImage at 0x7f9bb75a0150>"
            ]
          },
          "metadata": {},
          "execution_count": 203
        },
        {
          "output_type": "display_data",
          "data": {
            "text/plain": [
              "<Figure size 432x288 with 1 Axes>"
            ],
            "image/png": "[encoded data removed]"
          },
          "metadata": {
            "needs_background": "light"
          }
        }
      ]
    },
    {
      "cell_type": "markdown",
      "source": [
        "### Matrix and Tensor"
      ],
      "metadata": {
        "id": "L8AFFYu_IDnS"
      }
    },
    {
      "cell_type": "code",
      "source": [
        "img[20][15]"
      ],
      "metadata": {
        "id": "FNpi-thBHDfx",
        "outputId": "9f80b1d1-a9f4-46a6-bf8f-334c2e73c493",
        "colab": {
          "base_uri": "https://localhost:8080/"
        }
      },
      "execution_count": 204,
      "outputs": [
        {
          "output_type": "execute_result",
          "data": {
            "text/plain": [
              "0.98828125"
            ]
          },
          "metadata": {},
          "execution_count": 204
        }
      ]
    },
    {
      "cell_type": "code",
      "source": [
        "class Matrix:\n",
        "    def __init__(self, xs):\n",
        "        self.xs = xs\n",
        "    def __getitem__(self, idxs):\n",
        "        return self.xs[idxs[0]][idxs[1]]"
      ],
      "metadata": {
        "id": "-sGbrMexHInq"
      },
      "execution_count": 205,
      "outputs": []
    },
    {
      "cell_type": "code",
      "source": [
        "m = Matrix(img)\n",
        "m[20, 15]"
      ],
      "metadata": {
        "id": "5aeECTiFHo_6",
        "outputId": "b3f938fd-7f27-4ccb-f6d3-347cf5957514",
        "colab": {
          "base_uri": "https://localhost:8080/"
        }
      },
      "execution_count": 206,
      "outputs": [
        {
          "output_type": "execute_result",
          "data": {
            "text/plain": [
              "0.98828125"
            ]
          },
          "metadata": {},
          "execution_count": 206
        }
      ]
    },
    {
      "cell_type": "code",
      "source": [
        "import torch\n",
        "from torch import tensor"
      ],
      "metadata": {
        "id": "uHUWubIUHtc_"
      },
      "execution_count": 207,
      "outputs": []
    },
    {
      "cell_type": "code",
      "source": [
        "tensor(vals)"
      ],
      "metadata": {
        "id": "GLX6i_YBHxNO",
        "outputId": "41f78ccc-21b5-43c0-d3ea-831dacd32f8f",
        "colab": {
          "base_uri": "https://localhost:8080/"
        }
      },
      "execution_count": 208,
      "outputs": [
        {
          "output_type": "execute_result",
          "data": {
            "text/plain": [
              "tensor([0.0000, 0.0000, 0.0000, 0.1914, 0.9297, 0.9883, 0.9883, 0.9883, 0.9883,\n",
              "        0.9883])"
            ]
          },
          "metadata": {},
          "execution_count": 208
        }
      ]
    },
    {
      "cell_type": "code",
      "source": [
        "x_train, y_train, x_valid, y_valid = map(tensor, (x_train, y_train, x_valid, y_valid))\n",
        "x_train.shape"
      ],
      "metadata": {
        "id": "jBk7by0-H2Ai",
        "outputId": "72e4d6e1-5bae-47a0-d464-7877a106ace4",
        "colab": {
          "base_uri": "https://localhost:8080/"
        }
      },
      "execution_count": 209,
      "outputs": [
        {
          "output_type": "execute_result",
          "data": {
            "text/plain": [
              "torch.Size([50000, 784])"
            ]
          },
          "metadata": {},
          "execution_count": 209
        }
      ]
    },
    {
      "cell_type": "code",
      "source": [
        "x_train.type()"
      ],
      "metadata": {
        "id": "tC7BXdzaIFCm",
        "outputId": "ad9cdcaf-e02f-411c-942a-623646ad4e27",
        "colab": {
          "base_uri": "https://localhost:8080/",
          "height": 36
        }
      },
      "execution_count": 210,
      "outputs": [
        {
          "output_type": "execute_result",
          "data": {
            "text/plain": [
              "'torch.FloatTensor'"
            ],
            "application/vnd.google.colaboratory.intrinsic+json": {
              "type": "string"
            }
          },
          "metadata": {},
          "execution_count": 210
        }
      ]
    },
    {
      "cell_type": "code",
      "source": [
        "imgs = x_train.reshape(-1, 28, 28)\n",
        "imgs.shape"
      ],
      "metadata": {
        "id": "yGdTW2PZIIdd",
        "outputId": "31ea9142-de6d-4cbf-934c-5506d0c03ee3",
        "colab": {
          "base_uri": "https://localhost:8080/"
        }
      },
      "execution_count": 211,
      "outputs": [
        {
          "output_type": "execute_result",
          "data": {
            "text/plain": [
              "torch.Size([50000, 28, 28])"
            ]
          },
          "metadata": {},
          "execution_count": 211
        }
      ]
    },
    {
      "cell_type": "code",
      "source": [
        "plt.imshow(imgs[0])"
      ],
      "metadata": {
        "id": "eQtSmDUxIV4N",
        "outputId": "159788a4-12b3-43a9-b7c8-a81ae9ffac52",
        "colab": {
          "base_uri": "https://localhost:8080/",
          "height": 282
        }
      },
      "execution_count": 212,
      "outputs": [
        {
          "output_type": "execute_result",
          "data": {
            "text/plain": [
              "<matplotlib.image.AxesImage at 0x7f9bb74f1b10>"
            ]
          },
          "metadata": {},
          "execution_count": 212
        },
        {
          "output_type": "display_data",
          "data": {
            "text/plain": [
              "<Figure size 432x288 with 1 Axes>"
            ],
            "image/png": "[encoded data removed]"
          },
          "metadata": {
            "needs_background": "light"
          }
        }
      ]
    },
    {
      "cell_type": "code",
      "source": [
        "imgs[0,20,15]"
      ],
      "metadata": {
        "id": "-x5lMRGMIZrE",
        "outputId": "5461ecfc-0165-4e33-9f81-779af6452283",
        "colab": {
          "base_uri": "https://localhost:8080/"
        }
      },
      "execution_count": 213,
      "outputs": [
        {
          "output_type": "execute_result",
          "data": {
            "text/plain": [
              "tensor(0.9883)"
            ]
          },
          "metadata": {},
          "execution_count": 213
        }
      ]
    },
    {
      "cell_type": "code",
      "source": [
        "y_train, y_train.shape"
      ],
      "metadata": {
        "id": "vgiiqxEzIed2",
        "outputId": "2bb89e80-e08a-4232-be84-4edd4b0a398e",
        "colab": {
          "base_uri": "https://localhost:8080/"
        }
      },
      "execution_count": 214,
      "outputs": [
        {
          "output_type": "execute_result",
          "data": {
            "text/plain": [
              "(tensor([5, 0, 4,  ..., 8, 4, 8]), torch.Size([50000]))"
            ]
          },
          "metadata": {},
          "execution_count": 214
        }
      ]
    },
    {
      "cell_type": "code",
      "source": [
        "y_train.min(), y_train.max()"
      ],
      "metadata": {
        "id": "qgW-nUP_IlRm",
        "outputId": "c831bb3e-3a0f-4e0e-a1b2-5df6e425fac4",
        "colab": {
          "base_uri": "https://localhost:8080/"
        }
      },
      "execution_count": 215,
      "outputs": [
        {
          "output_type": "execute_result",
          "data": {
            "text/plain": [
              "(tensor(0), tensor(9))"
            ]
          },
          "metadata": {},
          "execution_count": 215
        }
      ]
    },
    {
      "cell_type": "markdown",
      "source": [
        "### Random Numbers"
      ],
      "metadata": {
        "id": "5RrUgdt8IKGY"
      }
    },
    {
      "cell_type": "code",
      "source": [
        "rnd_state = None\n",
        "def seed(a):\n",
        "    global rnd_state\n",
        "    a, x = divmod(a, 30268)\n",
        "    a, y = divmod(a, 30306)\n",
        "    a, z = divmod(a, 30322)\n",
        "    rnd_state = int(x)+1, int(y)+1, int(z)+1"
      ],
      "metadata": {
        "id": "C1-XledPM-Xn"
      },
      "execution_count": 216,
      "outputs": []
    },
    {
      "cell_type": "code",
      "source": [
        "seed(457428938475)\n",
        "rnd_state"
      ],
      "metadata": {
        "id": "HkjKKyzENArR",
        "outputId": "5e35aa60-f291-4b47-d63a-63bd9a2b5f17",
        "colab": {
          "base_uri": "https://localhost:8080/"
        }
      },
      "execution_count": 217,
      "outputs": [
        {
          "output_type": "execute_result",
          "data": {
            "text/plain": [
              "(4976, 20238, 499)"
            ]
          },
          "metadata": {},
          "execution_count": 217
        }
      ]
    },
    {
      "cell_type": "code",
      "source": [
        "def rand():\n",
        "    global rnd_state\n",
        "    x, y, z = rnd_state\n",
        "    x = (171 * x) % 30269\n",
        "    y = (172 * y) % 30307\n",
        "    z = (170 * z) % 30323\n",
        "    rnd_state = x,y,z\n",
        "    return (x/30269 + y/30307 + z/30323) % 1.0"
      ],
      "metadata": {
        "id": "HrlCHrY2NFcJ"
      },
      "execution_count": 218,
      "outputs": []
    },
    {
      "cell_type": "code",
      "source": [
        "rand(),rand(),rand()"
      ],
      "metadata": {
        "id": "fvbINThfNIVg",
        "outputId": "5aaa6f0e-94ef-4393-cb3a-90996161ac5f",
        "colab": {
          "base_uri": "https://localhost:8080/"
        }
      },
      "execution_count": 219,
      "outputs": [
        {
          "output_type": "execute_result",
          "data": {
            "text/plain": [
              "(0.7645251082582081, 0.7920889799553945, 0.06912886811267205)"
            ]
          },
          "metadata": {},
          "execution_count": 219
        }
      ]
    },
    {
      "cell_type": "code",
      "source": [
        "if os.fork(): \n",
        "    print(f'In parent: {rand()}')\n",
        "else:\n",
        "    print(f'In child: {rand()}')\n",
        "    os._exit(os.EX_OK)"
      ],
      "metadata": {
        "id": "r5_AFq7SNKCg",
        "outputId": "e09562e6-1cbd-414d-bd06-821b76864b8b",
        "colab": {
          "base_uri": "https://localhost:8080/"
        }
      },
      "execution_count": 220,
      "outputs": [
        {
          "output_type": "stream",
          "name": "stdout",
          "text": [
            "In parent: 0.9559050644103264\n",
            "In child: 0.9559050644103264\n"
          ]
        }
      ]
    },
    {
      "cell_type": "code",
      "source": [
        "if os.fork(): \n",
        "    print(f'In parent: {torch.rand(1)}')\n",
        "else:\n",
        "    print(f'In child: {torch.rand(1)}')\n",
        "    os._exit(os.EX_OK)"
      ],
      "metadata": {
        "id": "wWeK5i3zNLbR",
        "outputId": "311621b2-ed3f-45aa-ecda-62f534c0cf7b",
        "colab": {
          "base_uri": "https://localhost:8080/"
        }
      },
      "execution_count": 221,
      "outputs": [
        {
          "output_type": "stream",
          "name": "stdout",
          "text": [
            "In parent: tensor([0.1269])\n",
            "In child: tensor([0.1269])\n"
          ]
        }
      ]
    },
    {
      "cell_type": "code",
      "source": [
        "plt.plot([rand() for _ in range(50)])"
      ],
      "metadata": {
        "id": "Fm18GAArNNMn",
        "outputId": "32a4e960-c0d1-4bf1-c57b-a3f26e9794aa",
        "colab": {
          "base_uri": "https://localhost:8080/",
          "height": 282
        }
      },
      "execution_count": 222,
      "outputs": [
        {
          "output_type": "execute_result",
          "data": {
            "text/plain": [
              "[<matplotlib.lines.Line2D at 0x7f9bb7453c90>]"
            ]
          },
          "metadata": {},
          "execution_count": 222
        },
        {
          "output_type": "display_data",
          "data": {
            "text/plain": [
              "<Figure size 432x288 with 1 Axes>"
            ],
            "image/png": "[encoded data removed]"
          },
          "metadata": {
            "needs_background": "light"
          }
        }
      ]
    },
    {
      "cell_type": "code",
      "source": [
        "plt.hist([rand() for _ in range(10000)])"
      ],
      "metadata": {
        "id": "vl01hqPVNOiy",
        "outputId": "50d96ae3-84e6-40d5-dda6-3206d08706aa",
        "colab": {
          "base_uri": "https://localhost:8080/",
          "height": 369
        }
      },
      "execution_count": 223,
      "outputs": [
        {
          "output_type": "execute_result",
          "data": {
            "text/plain": [
              "(array([ 959.,  972., 1036., 1019., 1037.,  971.,  997., 1000., 1036.,\n",
              "         973.]),\n",
              " array([6.60514437e-06, 1.00005135e-01, 2.00003666e-01, 3.00002196e-01,\n",
              "        4.00000726e-01, 4.99999256e-01, 5.99997787e-01, 6.99996317e-01,\n",
              "        7.99994847e-01, 8.99993378e-01, 9.99991908e-01]),\n",
              " <a list of 10 Patch objects>)"
            ]
          },
          "metadata": {},
          "execution_count": 223
        },
        {
          "output_type": "display_data",
          "data": {
            "text/plain": [
              "<Figure size 432x288 with 1 Axes>"
            ],
            "image/png": "[encoded data removed]"
          },
          "metadata": {
            "needs_background": "light"
          }
        }
      ]
    },
    {
      "cell_type": "code",
      "source": [
        "%timeit -n 10 list(chunks([rand() for _ in range(7840)], 10))"
      ],
      "metadata": {
        "id": "Oi4crRF4NPwJ",
        "outputId": "1bb55dfc-218e-458d-e7c1-83d54e4b7ffa",
        "colab": {
          "base_uri": "https://localhost:8080/"
        }
      },
      "execution_count": 224,
      "outputs": [
        {
          "output_type": "stream",
          "name": "stdout",
          "text": [
            "5.09 ms ± 304 µs per loop (mean ± std. dev. of 7 runs, 10 loops each)\n"
          ]
        }
      ]
    },
    {
      "cell_type": "code",
      "source": [
        "%timeit -n 10 torch.randn(784,10)"
      ],
      "metadata": {
        "id": "x2kPkuLkNSZf",
        "outputId": "ebebb644-229e-4678-9207-5bf920b0f3d5",
        "colab": {
          "base_uri": "https://localhost:8080/"
        }
      },
      "execution_count": 225,
      "outputs": [
        {
          "output_type": "stream",
          "name": "stdout",
          "text": [
            "66.8 µs ± 10.6 µs per loop (mean ± std. dev. of 7 runs, 10 loops each)\n"
          ]
        }
      ]
    },
    {
      "cell_type": "markdown",
      "source": [
        "### Matrix Multiplication"
      ],
      "metadata": {
        "id": "MUW3xAHo-SSH"
      }
    },
    {
      "cell_type": "code",
      "source": [
        "weights = torch.randn(784, 10)\n",
        "bias = torch.randn(10)"
      ],
      "metadata": {
        "id": "CnF3bZBU4xR-"
      },
      "execution_count": 226,
      "outputs": []
    },
    {
      "cell_type": "code",
      "source": [
        "m1 = x_valid[:5]\n",
        "m2 = weights\n",
        "m1.shape, m2.shape"
      ],
      "metadata": {
        "colab": {
          "base_uri": "https://localhost:8080/"
        },
        "id": "xqUHgUxL5s8K",
        "outputId": "7ad3dda2-a3bc-4876-ae27-060629783aa8"
      },
      "execution_count": 227,
      "outputs": [
        {
          "output_type": "execute_result",
          "data": {
            "text/plain": [
              "(torch.Size([5, 784]), torch.Size([784, 10]))"
            ]
          },
          "metadata": {},
          "execution_count": 227
        }
      ]
    },
    {
      "cell_type": "code",
      "source": [
        "m1r, m1c = m1.shape\n",
        "m2r, m2c = m2.shape"
      ],
      "metadata": {
        "id": "pQNq237t5_Eu"
      },
      "execution_count": 228,
      "outputs": []
    },
    {
      "cell_type": "code",
      "source": [
        "t1=torch.zeros(m1r, m2c)\n",
        "t1.shape"
      ],
      "metadata": {
        "colab": {
          "base_uri": "https://localhost:8080/"
        },
        "id": "Yue7Gft76aBf",
        "outputId": "9e5bb410-c3c3-4d80-9506-b0aa26a6e00d"
      },
      "execution_count": 229,
      "outputs": [
        {
          "output_type": "execute_result",
          "data": {
            "text/plain": [
              "torch.Size([5, 10])"
            ]
          },
          "metadata": {},
          "execution_count": 229
        }
      ]
    },
    {
      "cell_type": "code",
      "source": [
        "t1"
      ],
      "metadata": {
        "colab": {
          "base_uri": "https://localhost:8080/"
        },
        "id": "uOy3YJ1I7JmM",
        "outputId": "bd05df6d-fbdd-447b-bd33-b331819e7248"
      },
      "execution_count": 230,
      "outputs": [
        {
          "output_type": "execute_result",
          "data": {
            "text/plain": [
              "tensor([[0., 0., 0., 0., 0., 0., 0., 0., 0., 0.],\n",
              "        [0., 0., 0., 0., 0., 0., 0., 0., 0., 0.],\n",
              "        [0., 0., 0., 0., 0., 0., 0., 0., 0., 0.],\n",
              "        [0., 0., 0., 0., 0., 0., 0., 0., 0., 0.],\n",
              "        [0., 0., 0., 0., 0., 0., 0., 0., 0., 0.]])"
            ]
          },
          "metadata": {},
          "execution_count": 230
        }
      ]
    },
    {
      "cell_type": "code",
      "source": [
        "for i in range(m1r):\n",
        "    for j in range(m2c):\n",
        "        for k in range(m1c): # or m2r (both same)\n",
        "            t1[i, j] += m1[i,k] * m2[k, j]"
      ],
      "metadata": {
        "id": "LzVmBQ4p6rat"
      },
      "execution_count": 231,
      "outputs": []
    },
    {
      "cell_type": "code",
      "source": [
        "t1"
      ],
      "metadata": {
        "colab": {
          "base_uri": "https://localhost:8080/"
        },
        "id": "jxyVpvHN7Gtk",
        "outputId": "6f1c6057-e87b-4f3f-ec10-98082278b3eb"
      },
      "execution_count": 232,
      "outputs": [
        {
          "output_type": "execute_result",
          "data": {
            "text/plain": [
              "tensor([[  1.7348,   2.4407,  10.9940,  -5.2744, -12.4304,  -8.8594,  -6.6233,\n",
              "         -10.5295,  -1.8992,  -0.6338],\n",
              "        [ 13.2959,   8.4160,   5.3741,  -0.8135, -17.4465,  -3.4685,   6.3011,\n",
              "         -14.2091,  -9.3500, -17.4759],\n",
              "        [  3.7037,   1.0089,  -1.6472,   9.4463,  -1.0321,  -0.4922,  -2.3505,\n",
              "         -10.7572, -11.1882,   4.9924],\n",
              "        [  6.6864,  13.2665, -11.2224,  -6.2310, -20.3358,   0.9853,  14.0568,\n",
              "         -13.8845, -15.5842,  -5.6582],\n",
              "        [  8.0917,   9.7304,   1.3109,  -8.0870,   5.7689,   2.1246, -11.9962,\n",
              "          -5.7320,  -4.1243,  -4.8981]])"
            ]
          },
          "metadata": {},
          "execution_count": 232
        }
      ]
    },
    {
      "cell_type": "code",
      "source": [
        "def matmul(a, b):\n",
        "    ar, ac = a.shape\n",
        "    br, bc = b.shape\n",
        "    c = torch.zeros(ar, bc)\n",
        "    for i in range(ar):\n",
        "        for j in range(bc):\n",
        "            for k in range(ac): # or br (both same)\n",
        "                c[i, j] += a[i,k] * b[k, j]\n",
        "    return c"
      ],
      "metadata": {
        "id": "8KWKqdyc7Ib7"
      },
      "execution_count": 233,
      "outputs": []
    },
    {
      "cell_type": "code",
      "source": [
        "matmul(m1, m2)"
      ],
      "metadata": {
        "colab": {
          "base_uri": "https://localhost:8080/"
        },
        "id": "Ql9MATQq90tS",
        "outputId": "dda8d21d-b87d-4f6f-a2cb-d350d41f32c6"
      },
      "execution_count": 234,
      "outputs": [
        {
          "output_type": "execute_result",
          "data": {
            "text/plain": [
              "tensor([[  1.7348,   2.4407,  10.9940,  -5.2744, -12.4304,  -8.8594,  -6.6233,\n",
              "         -10.5295,  -1.8992,  -0.6338],\n",
              "        [ 13.2959,   8.4160,   5.3741,  -0.8135, -17.4465,  -3.4685,   6.3011,\n",
              "         -14.2091,  -9.3500, -17.4759],\n",
              "        [  3.7037,   1.0089,  -1.6472,   9.4463,  -1.0321,  -0.4922,  -2.3505,\n",
              "         -10.7572, -11.1882,   4.9924],\n",
              "        [  6.6864,  13.2665, -11.2224,  -6.2310, -20.3358,   0.9853,  14.0568,\n",
              "         -13.8845, -15.5842,  -5.6582],\n",
              "        [  8.0917,   9.7304,   1.3109,  -8.0870,   5.7689,   2.1246, -11.9962,\n",
              "          -5.7320,  -4.1243,  -4.8981]])"
            ]
          },
          "metadata": {},
          "execution_count": 234
        }
      ]
    },
    {
      "cell_type": "code",
      "source": [
        "%time _=matmul(m1, m2)"
      ],
      "metadata": {
        "colab": {
          "base_uri": "https://localhost:8080/"
        },
        "id": "X0jPHW0793kK",
        "outputId": "c64b1e43-759b-48e8-efc2-8047a47f46c4"
      },
      "execution_count": 235,
      "outputs": [
        {
          "output_type": "stream",
          "name": "stdout",
          "text": [
            "CPU times: user 730 ms, sys: 3.32 ms, total: 733 ms\n",
            "Wall time: 740 ms\n"
          ]
        }
      ]
    },
    {
      "cell_type": "markdown",
      "source": [
        "### Numba"
      ],
      "metadata": {
        "id": "oga5Xy5h-X-U"
      }
    },
    {
      "cell_type": "code",
      "source": [
        "from numba import njit"
      ],
      "metadata": {
        "id": "SdYdUFUP-NTM"
      },
      "execution_count": 236,
      "outputs": []
    },
    {
      "cell_type": "code",
      "source": [
        "@njit\n",
        "def dot(a, b):\n",
        "    res = 0\n",
        "    for i in range(len(a)):\n",
        "        res+= a[i]*b[i]\n",
        "    return res"
      ],
      "metadata": {
        "id": "eIfQ916h-cMY"
      },
      "execution_count": 237,
      "outputs": []
    },
    {
      "cell_type": "code",
      "source": [
        "from numpy import array\n",
        "a = array([1,2,3])\n",
        "b = array([1,2,3])"
      ],
      "metadata": {
        "id": "80qZ1gmB-fof"
      },
      "execution_count": 238,
      "outputs": []
    },
    {
      "cell_type": "code",
      "source": [
        "%time dot(a, b)"
      ],
      "metadata": {
        "colab": {
          "base_uri": "https://localhost:8080/"
        },
        "id": "5D-zdFZqFzaD",
        "outputId": "7a2c64e5-1a5b-438c-c95c-839aa8ce7388"
      },
      "execution_count": 239,
      "outputs": [
        {
          "output_type": "stream",
          "name": "stdout",
          "text": [
            "CPU times: user 105 ms, sys: 1.88 ms, total: 107 ms\n",
            "Wall time: 109 ms\n"
          ]
        },
        {
          "output_type": "execute_result",
          "data": {
            "text/plain": [
              "14"
            ]
          },
          "metadata": {},
          "execution_count": 239
        }
      ]
    },
    {
      "cell_type": "code",
      "source": [
        "%time dot(a, b)"
      ],
      "metadata": {
        "colab": {
          "base_uri": "https://localhost:8080/"
        },
        "id": "eR_ow7pLF5FG",
        "outputId": "7bec3be4-150d-4fea-a69b-da9c8ed7a883"
      },
      "execution_count": 240,
      "outputs": [
        {
          "output_type": "stream",
          "name": "stdout",
          "text": [
            "CPU times: user 13 µs, sys: 1 µs, total: 14 µs\n",
            "Wall time: 16.7 µs\n"
          ]
        },
        {
          "output_type": "execute_result",
          "data": {
            "text/plain": [
              "14"
            ]
          },
          "metadata": {},
          "execution_count": 240
        }
      ]
    },
    {
      "cell_type": "code",
      "source": [
        "def matmul(a, b):\n",
        "    ar, ac = a.shape\n",
        "    br, bc = b.shape\n",
        "    c = torch.zeros(ar, bc)\n",
        "    for i in range(ar):\n",
        "        for j in range(bc):\n",
        "            c[i, j] = dot(a[i,:],b[:,j])\n",
        "    return c"
      ],
      "metadata": {
        "id": "mLXIwZWLF_sN"
      },
      "execution_count": 241,
      "outputs": []
    },
    {
      "cell_type": "code",
      "source": [
        "m1a, m2a = m1.numpy(), m2.numpy()"
      ],
      "metadata": {
        "id": "GDyo51jZGiWV"
      },
      "execution_count": 242,
      "outputs": []
    },
    {
      "cell_type": "code",
      "source": [
        "from fastcore.test import *"
      ],
      "metadata": {
        "id": "Pg45ul0UGy1o"
      },
      "execution_count": 243,
      "outputs": []
    },
    {
      "cell_type": "code",
      "source": [
        "test_close(t1, matmul(m1a, m2a))"
      ],
      "metadata": {
        "id": "5XUN3iOgG3f3"
      },
      "execution_count": 244,
      "outputs": []
    },
    {
      "cell_type": "code",
      "source": [
        "%timeit -n 10 matmul(m1a, m2a)"
      ],
      "metadata": {
        "colab": {
          "base_uri": "https://localhost:8080/"
        },
        "id": "WkmCgpuyG-W_",
        "outputId": "82a8949b-c719-4bbc-a9ac-1c5e9c3d824b"
      },
      "execution_count": 245,
      "outputs": [
        {
          "output_type": "stream",
          "name": "stdout",
          "text": [
            "429 µs ± 144 µs per loop (mean ± std. dev. of 7 runs, 10 loops each)\n"
          ]
        }
      ]
    }
  ]
}