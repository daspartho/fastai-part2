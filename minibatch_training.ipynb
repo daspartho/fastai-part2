{
  "cells": [
    {
      "cell_type": "markdown",
      "metadata": {
        "id": "view-in-github",
        "colab_type": "text"
      },
      "source": [
        "<a href=\"https://colab.research.google.com/github/daspartho/fastai-part2/blob/main/minibatch_training.ipynb\" target=\"_parent\"><img src=\"https://colab.research.google.com/assets/colab-badge.svg\" alt=\"Open In Colab\"/></a>"
      ]
    },
    {
      "cell_type": "markdown",
      "metadata": {
        "id": "h8dxO-bwAUYW"
      },
      "source": [
        "### Get the data"
      ]
    },
    {
      "cell_type": "code",
      "execution_count": 1,
      "metadata": {
        "id": "z9WEckAbtJbQ"
      },
      "outputs": [],
      "source": [
        "import pickle,gzip,math,os,time,shutil,torch,matplotlib as mpl, numpy as np\n",
        "from pathlib import Path\n",
        "from torch import tensor\n",
        "from urllib.request import urlretrieve\n",
        "from fastcore.test import test_close\n",
        "torch.manual_seed(42)\n",
        "\n",
        "mpl.rcParams['image.cmap'] = 'gray'\n",
        "torch.set_printoptions(precision=2, linewidth=125, sci_mode=False)\n",
        "np.set_printoptions(precision=2, linewidth=125)\n",
        "\n",
        "MNIST_URL='https://github.com/mnielsen/neural-networks-and-deep-learning/blob/master/data/mnist.pkl.gz?raw=true'\n",
        "path_data = Path('data')\n",
        "path_data.mkdir(exist_ok=True)\n",
        "path_gz = path_data/'mnist.pkl.gz'\n",
        "\n",
        "if not path_gz.exists():\n",
        "    urlretrieve(MNIST_URL, path_gz)\n",
        "\n",
        "with gzip.open(path_gz, 'rb') as f: \n",
        "    ((x_train, y_train), (x_valid, y_valid), _) = pickle.load(f, encoding='latin-1')\n",
        "x_train, y_train, x_valid, y_valid = map(tensor, [x_train, y_train, x_valid, y_valid])"
      ]
    },
    {
      "cell_type": "markdown",
      "metadata": {
        "id": "C3Jbxn9-AUYc"
      },
      "source": [
        "### Initial Setup"
      ]
    },
    {
      "cell_type": "markdown",
      "metadata": {
        "id": "XolN3ALGAUYd"
      },
      "source": [
        "#### Data"
      ]
    },
    {
      "cell_type": "code",
      "execution_count": 2,
      "metadata": {
        "id": "1b6wLSz4AUYd",
        "outputId": "f3a7f15a-1d3c-40a2-d43c-e8566d1ce1ba",
        "colab": {
          "base_uri": "https://localhost:8080/"
        }
      },
      "outputs": [
        {
          "output_type": "execute_result",
          "data": {
            "text/plain": [
              "(50000, 784, tensor(10))"
            ]
          },
          "metadata": {},
          "execution_count": 2
        }
      ],
      "source": [
        "n,m = x_train.shape\n",
        "c = y_train.max()+1\n",
        "nh=50\n",
        "n,m,c"
      ]
    },
    {
      "cell_type": "code",
      "execution_count": 3,
      "metadata": {
        "id": "WgKRGKUnAUYe"
      },
      "outputs": [],
      "source": [
        "from torch import nn\n",
        "\n",
        "class Model(nn.Module):\n",
        "    def __init__(self, n_in, nh, n_out):\n",
        "        super().__init__()\n",
        "        self.layers = [\n",
        "            nn.Linear(n_in, nh), \n",
        "            nn.ReLU(),\n",
        "            nn.Linear(nh, n_out),\n",
        "        ]\n",
        "    def __call__(self, x):\n",
        "        for l in self.layers:\n",
        "            x = l(x)\n",
        "        return x"
      ]
    },
    {
      "cell_type": "code",
      "execution_count": 4,
      "metadata": {
        "id": "RTgeJW5_AUYf",
        "outputId": "dfddab6f-25ef-4fe6-a5d7-ba5ae6afc853",
        "colab": {
          "base_uri": "https://localhost:8080/"
        }
      },
      "outputs": [
        {
          "output_type": "execute_result",
          "data": {
            "text/plain": [
              "torch.Size([50000, 10])"
            ]
          },
          "metadata": {},
          "execution_count": 4
        }
      ],
      "source": [
        "model = Model(m, nh, 10)\n",
        "pred = model(x_train)\n",
        "pred.shape"
      ]
    },
    {
      "cell_type": "markdown",
      "metadata": {
        "id": "vZA-oBR2AUYg"
      },
      "source": [
        "#### Cross entrophy loss"
      ]
    },
    {
      "cell_type": "code",
      "execution_count": 5,
      "metadata": {
        "id": "CU1snwhhAUYg"
      },
      "outputs": [],
      "source": [
        "def log_softmax(x):\n",
        "    return x - x.exp().sum(-1, keepdim=True).log()"
      ]
    },
    {
      "cell_type": "code",
      "execution_count": 6,
      "metadata": {
        "id": "8ba52ECGAUYh",
        "outputId": "5ac8d4ad-6008-4ee1-e39c-a7555ee50fbc",
        "colab": {
          "base_uri": "https://localhost:8080/"
        }
      },
      "outputs": [
        {
          "output_type": "execute_result",
          "data": {
            "text/plain": [
              "tensor([[-2.36, -2.28, -2.09,  ..., -2.43, -2.47, -2.11],\n",
              "        [-2.37, -2.25, -2.09,  ..., -2.46, -2.43, -2.11],\n",
              "        [-2.34, -2.31, -2.14,  ..., -2.44, -2.48, -2.14],\n",
              "        ...,\n",
              "        [-2.26, -2.25, -2.13,  ..., -2.36, -2.53, -2.17],\n",
              "        [-2.39, -2.30, -2.18,  ..., -2.38, -2.42, -2.11],\n",
              "        [-2.40, -2.25, -2.14,  ..., -2.38, -2.45, -2.23]], grad_fn=<SubBackward0>)"
            ]
          },
          "metadata": {},
          "execution_count": 6
        }
      ],
      "source": [
        "log_softmax(pred)"
      ]
    },
    {
      "cell_type": "code",
      "execution_count": 7,
      "metadata": {
        "id": "CJG92HerAUYi"
      },
      "outputs": [],
      "source": [
        "def logsumexp(x):\n",
        "    a = x.max(-1)[0]\n",
        "    return a + (x-a.unsqueeze(dim=1)).exp().sum(-1).log()"
      ]
    },
    {
      "cell_type": "code",
      "execution_count": 8,
      "metadata": {
        "id": "tkeTGXKPAUYi"
      },
      "outputs": [],
      "source": [
        "from fastcore.test import test_close\n",
        "test_close(logsumexp(pred), pred.logsumexp(-1)) # comparing with pytorch's implementation"
      ]
    },
    {
      "cell_type": "code",
      "execution_count": 9,
      "metadata": {
        "id": "K2RnR2HqAUYj"
      },
      "outputs": [],
      "source": [
        "def log_softmax(x): return x - logsumexp(x).unsqueeze(dim=-1)"
      ]
    },
    {
      "cell_type": "code",
      "execution_count": 10,
      "metadata": {
        "id": "L22p6C57AUYj",
        "outputId": "0542f794-fede-4295-8cc4-a962c5c434ab",
        "colab": {
          "base_uri": "https://localhost:8080/"
        }
      },
      "outputs": [
        {
          "output_type": "execute_result",
          "data": {
            "text/plain": [
              "tensor([[-2.36, -2.28, -2.09,  ..., -2.43, -2.47, -2.11],\n",
              "        [-2.37, -2.25, -2.09,  ..., -2.46, -2.43, -2.11],\n",
              "        [-2.34, -2.31, -2.14,  ..., -2.44, -2.48, -2.14],\n",
              "        ...,\n",
              "        [-2.26, -2.25, -2.13,  ..., -2.36, -2.53, -2.17],\n",
              "        [-2.39, -2.30, -2.18,  ..., -2.38, -2.42, -2.11],\n",
              "        [-2.40, -2.25, -2.14,  ..., -2.38, -2.45, -2.23]], grad_fn=<SubBackward0>)"
            ]
          },
          "metadata": {},
          "execution_count": 10
        }
      ],
      "source": [
        "sm_pred = log_softmax(pred)\n",
        "sm_pred"
      ]
    },
    {
      "cell_type": "code",
      "execution_count": 11,
      "metadata": {
        "id": "VxXNshuVAUYj",
        "outputId": "2ba9a1a3-9ea2-417a-9c49-62f610ec8e35",
        "colab": {
          "base_uri": "https://localhost:8080/"
        }
      },
      "outputs": [
        {
          "output_type": "execute_result",
          "data": {
            "text/plain": [
              "tensor([5, 0, 4])"
            ]
          },
          "metadata": {},
          "execution_count": 11
        }
      ],
      "source": [
        "y_train[:3]"
      ]
    },
    {
      "cell_type": "code",
      "execution_count": 12,
      "metadata": {
        "id": "ILghErMXAUYk",
        "outputId": "61493da2-e895-4071-f2a7-ab42cfa58fa0",
        "colab": {
          "base_uri": "https://localhost:8080/"
        }
      },
      "outputs": [
        {
          "output_type": "execute_result",
          "data": {
            "text/plain": [
              "(tensor(-2.40, grad_fn=<SelectBackward0>),\n",
              " tensor(-2.37, grad_fn=<SelectBackward0>),\n",
              " tensor(-2.14, grad_fn=<SelectBackward0>))"
            ]
          },
          "metadata": {},
          "execution_count": 12
        }
      ],
      "source": [
        "sm_pred[0,5],sm_pred[1,0],sm_pred[2,4]"
      ]
    },
    {
      "cell_type": "code",
      "execution_count": 13,
      "metadata": {
        "id": "egV1kKzuAUYk",
        "outputId": "679859ba-dbd0-40f3-a3eb-c696ba7cf0e7",
        "colab": {
          "base_uri": "https://localhost:8080/"
        }
      },
      "outputs": [
        {
          "output_type": "execute_result",
          "data": {
            "text/plain": [
              "tensor([-2.40, -2.37, -2.14], grad_fn=<IndexBackward0>)"
            ]
          },
          "metadata": {},
          "execution_count": 13
        }
      ],
      "source": [
        "sm_pred[[0,1,2],y_train[:3]]"
      ]
    },
    {
      "cell_type": "code",
      "execution_count": 14,
      "metadata": {
        "id": "Ud4qkiS9AUYk"
      },
      "outputs": [],
      "source": [
        "def nll(inp, targ):\n",
        "    return - inp[range(targ.shape[0]), targ].mean()"
      ]
    },
    {
      "cell_type": "code",
      "execution_count": 15,
      "metadata": {
        "id": "NvXHvlVVAUYl",
        "outputId": "5512f73e-7310-4145-bbad-cee88daf25e3",
        "colab": {
          "base_uri": "https://localhost:8080/"
        }
      },
      "outputs": [
        {
          "output_type": "execute_result",
          "data": {
            "text/plain": [
              "tensor(2.30, grad_fn=<NegBackward0>)"
            ]
          },
          "metadata": {},
          "execution_count": 15
        }
      ],
      "source": [
        "loss = nll(sm_pred, y_train)\n",
        "loss"
      ]
    },
    {
      "cell_type": "code",
      "execution_count": 16,
      "metadata": {
        "id": "-7LlcdelAUYl"
      },
      "outputs": [],
      "source": [
        "from torch.nn import functional as F\n",
        "test_close(F.nll_loss(F.log_softmax(pred, -1), y_train), loss, 1e-3)"
      ]
    },
    {
      "cell_type": "code",
      "execution_count": 17,
      "metadata": {
        "id": "GYJNuanTAUYm"
      },
      "outputs": [],
      "source": [
        "test_close(F.cross_entropy(pred, y_train), loss, 1e-3)"
      ]
    },
    {
      "cell_type": "markdown",
      "metadata": {
        "id": "0_Ul_hPqAUYm"
      },
      "source": [
        "### Basic training loop"
      ]
    },
    {
      "cell_type": "code",
      "execution_count": 18,
      "metadata": {
        "id": "M68ni7lzAUYm",
        "outputId": "bb66fc30-b24b-4850-d428-e69ae6ef0a9c",
        "colab": {
          "base_uri": "https://localhost:8080/"
        }
      },
      "outputs": [
        {
          "output_type": "execute_result",
          "data": {
            "text/plain": [
              "torch.Size([50, 10])"
            ]
          },
          "metadata": {},
          "execution_count": 18
        }
      ],
      "source": [
        "bs = 50\n",
        "\n",
        "xb = x_train[:bs]\n",
        "yb = y_train[:bs]\n",
        "preds = model(xb)\n",
        "preds.shape"
      ]
    },
    {
      "cell_type": "code",
      "execution_count": 19,
      "metadata": {
        "id": "D36BgqrcAUYn",
        "outputId": "5b260b89-f479-4f91-9262-b436ab5f3a00",
        "colab": {
          "base_uri": "https://localhost:8080/"
        }
      },
      "outputs": [
        {
          "output_type": "execute_result",
          "data": {
            "text/plain": [
              "tensor(2.28, grad_fn=<NllLossBackward0>)"
            ]
          },
          "metadata": {},
          "execution_count": 19
        }
      ],
      "source": [
        "loss_fn = F.cross_entropy\n",
        "loss_fn(preds, yb)"
      ]
    },
    {
      "cell_type": "code",
      "execution_count": 20,
      "metadata": {
        "id": "OvreEIqXAUYn",
        "outputId": "3f60e85e-0df2-4edc-fa7c-c984c15a2991",
        "colab": {
          "base_uri": "https://localhost:8080/"
        }
      },
      "outputs": [
        {
          "output_type": "execute_result",
          "data": {
            "text/plain": [
              "tensor(0.16)"
            ]
          },
          "metadata": {},
          "execution_count": 20
        }
      ],
      "source": [
        "def acc(out, y):\n",
        "    return (out.argmax(dim=1)==y).float().mean()\n",
        "acc(preds, yb)"
      ]
    },
    {
      "cell_type": "code",
      "execution_count": 21,
      "metadata": {
        "id": "h11d7aYlAUYn"
      },
      "outputs": [],
      "source": [
        "def report(loss, accuracy):\n",
        "    print(f'loss: {loss:.2f}, accuracy: {accuracy:.2f}')"
      ]
    },
    {
      "cell_type": "code",
      "execution_count": 22,
      "metadata": {
        "id": "iSe0bX2cAUYo"
      },
      "outputs": [],
      "source": [
        "lr = 0.5\n",
        "epochs = 3"
      ]
    },
    {
      "cell_type": "code",
      "execution_count": 23,
      "metadata": {
        "id": "53ggNjOLAUYo",
        "outputId": "e5d2e37c-2382-4af4-b0f5-541ce978f100",
        "colab": {
          "base_uri": "https://localhost:8080/"
        }
      },
      "outputs": [
        {
          "output_type": "stream",
          "name": "stdout",
          "text": [
            "loss: 0.08, accuracy: 0.96\n",
            "loss: 0.05, accuracy: 0.98\n",
            "loss: 0.07, accuracy: 0.96\n"
          ]
        }
      ],
      "source": [
        "# basic training loop\n",
        "for epoch in range(epochs):\n",
        "    for i in range(0, n, bs):\n",
        "        s = slice(i, min(n, bs+i))\n",
        "        xb, yb = x_train[s], y_train[s]\n",
        "        preds = model(xb)\n",
        "        loss = loss_fn(preds, yb)\n",
        "        loss.backward()\n",
        "        with torch.inference_mode():\n",
        "            for l in model.layers:\n",
        "                if hasattr(l, 'weight'):\n",
        "                    l.weight -= l.weight.grad*lr\n",
        "                    l.bias -= l.bias.grad*lr\n",
        "                    l.weight.grad.zero_()\n",
        "                    l.bias.grad.zero_()\n",
        "    accuracy = acc(preds, yb)\n",
        "    report(loss, accuracy)"
      ]
    },
    {
      "cell_type": "markdown",
      "metadata": {
        "id": "yVzeIQu8AUYo"
      },
      "source": [
        "### Using parameters and optim"
      ]
    },
    {
      "cell_type": "markdown",
      "metadata": {
        "id": "jD7BAHcoAUYo"
      },
      "source": [
        "#### Parameters"
      ]
    },
    {
      "cell_type": "code",
      "execution_count": 24,
      "metadata": {
        "id": "RiKQAXmBAUYp"
      },
      "outputs": [],
      "source": [
        "class MLP(nn.Module):\n",
        "    def __init__(self, n_in, nh, n_out):\n",
        "        super().__init__()\n",
        "        self.l1 = nn.Linear(n_in, nh)\n",
        "        self.l2 = nn.Linear(nh, n_out)\n",
        "        self.relu = nn.ReLU()\n",
        "    \n",
        "    def forward(self, x):\n",
        "        return self.l2(self.relu(self.l1(x)))"
      ]
    },
    {
      "cell_type": "code",
      "execution_count": 25,
      "metadata": {
        "id": "WFmKF0G6AUYp",
        "outputId": "aae3d10a-9ecc-4470-878d-95da014aa58d",
        "colab": {
          "base_uri": "https://localhost:8080/"
        }
      },
      "outputs": [
        {
          "output_type": "execute_result",
          "data": {
            "text/plain": [
              "MLP(\n",
              "  (l1): Linear(in_features=784, out_features=50, bias=True)\n",
              "  (l2): Linear(in_features=50, out_features=10, bias=True)\n",
              "  (relu): ReLU()\n",
              ")"
            ]
          },
          "metadata": {},
          "execution_count": 25
        }
      ],
      "source": [
        "model = MLP(m, nh, 10)\n",
        "model"
      ]
    },
    {
      "cell_type": "code",
      "execution_count": 26,
      "metadata": {
        "id": "-wWlqO_FAUYp",
        "outputId": "bfa4558d-143b-4d55-f534-eccaf52216f5",
        "colab": {
          "base_uri": "https://localhost:8080/"
        }
      },
      "outputs": [
        {
          "output_type": "execute_result",
          "data": {
            "text/plain": [
              "Linear(in_features=784, out_features=50, bias=True)"
            ]
          },
          "metadata": {},
          "execution_count": 26
        }
      ],
      "source": [
        "model.l1"
      ]
    },
    {
      "cell_type": "code",
      "execution_count": 27,
      "metadata": {
        "id": "tdYndt_FAUYp",
        "outputId": "a8f3db2d-7b02-4e03-83e3-6977e1418e34",
        "colab": {
          "base_uri": "https://localhost:8080/"
        }
      },
      "outputs": [
        {
          "output_type": "stream",
          "name": "stdout",
          "text": [
            "l1: Linear(in_features=784, out_features=50, bias=True)\n",
            "l2: Linear(in_features=50, out_features=10, bias=True)\n",
            "relu: ReLU()\n"
          ]
        }
      ],
      "source": [
        "for name,l in model.named_children():\n",
        "    print(f\"{name}: {l}\")"
      ]
    },
    {
      "cell_type": "code",
      "execution_count": 28,
      "metadata": {
        "id": "IqunUrRKAUYq",
        "outputId": "d29a64c2-1172-47f4-8f3f-40ec869bb1df",
        "colab": {
          "base_uri": "https://localhost:8080/"
        }
      },
      "outputs": [
        {
          "output_type": "stream",
          "name": "stdout",
          "text": [
            "torch.Size([50, 784])\n",
            "torch.Size([50])\n",
            "torch.Size([10, 50])\n",
            "torch.Size([10])\n"
          ]
        }
      ],
      "source": [
        "for p in model.parameters():\n",
        "    print(p.shape)"
      ]
    },
    {
      "cell_type": "code",
      "execution_count": 29,
      "metadata": {
        "id": "K6nhK-sOAUYq"
      },
      "outputs": [],
      "source": [
        "def fit():\n",
        "    for epoch in range(epochs):\n",
        "        for i in range(0, n, bs):\n",
        "            s = slice(i, min(n, bs+i))\n",
        "            xb, yb = x_train[s], y_train[s]\n",
        "            preds = model(xb)\n",
        "            loss = loss_fn(preds, yb)\n",
        "            loss.backward()\n",
        "            with torch.no_grad():\n",
        "                for p in model.parameters():\n",
        "                    p -= p.grad * lr   \n",
        "                model.zero_grad()                 \n",
        "        accuracy = acc(preds, yb)\n",
        "        report(loss, accuracy)"
      ]
    },
    {
      "cell_type": "code",
      "execution_count": 30,
      "metadata": {
        "id": "p8l0n3LdAUYq",
        "outputId": "15415238-7db6-4069-fb57-6f3b5330b65f",
        "colab": {
          "base_uri": "https://localhost:8080/"
        }
      },
      "outputs": [
        {
          "output_type": "stream",
          "name": "stdout",
          "text": [
            "loss: 0.12, accuracy: 0.96\n",
            "loss: 0.09, accuracy: 0.96\n",
            "loss: 0.10, accuracy: 0.94\n"
          ]
        }
      ],
      "source": [
        "fit()"
      ]
    },
    {
      "cell_type": "code",
      "execution_count": 31,
      "metadata": {
        "id": "ZD4V44J1AUYr"
      },
      "outputs": [],
      "source": [
        "class MyModule():\n",
        "    def __init__(self, n_in, nh, n_out):\n",
        "        super().__init__()\n",
        "        self._modules = {}\n",
        "        self.l1 = nn.Linear(n_in, nh)\n",
        "        self.l2 = nn.Linear(nh, n_out)\n",
        "        self.relu = nn.ReLU()\n",
        "\n",
        "    def __setattr__(self, k, v):\n",
        "        if not k.startswith('_'):\n",
        "            self._modules[k] = v\n",
        "        super().__setattr__(k, v)\n",
        "\n",
        "    def __repr__(self):\n",
        "        return f\"{self._modules}\"\n",
        "\n",
        "    def parameters(self):\n",
        "        for l in self._modules.values():\n",
        "            yield from l.parameters()"
      ]
    },
    {
      "cell_type": "code",
      "execution_count": 32,
      "metadata": {
        "id": "vYiUW98KAUYr",
        "outputId": "d04a40bd-0925-428b-fdcf-68961df72ec5",
        "colab": {
          "base_uri": "https://localhost:8080/"
        }
      },
      "outputs": [
        {
          "output_type": "execute_result",
          "data": {
            "text/plain": [
              "{'l1': Linear(in_features=784, out_features=50, bias=True), 'l2': Linear(in_features=50, out_features=10, bias=True), 'relu': ReLU()}"
            ]
          },
          "metadata": {},
          "execution_count": 32
        }
      ],
      "source": [
        "module = MyModule(m, nh, 10)\n",
        "module"
      ]
    },
    {
      "cell_type": "code",
      "execution_count": 33,
      "metadata": {
        "id": "Dh8lyNLJAUYr",
        "outputId": "16139fe3-4189-4440-bf21-e4f6b9997080",
        "colab": {
          "base_uri": "https://localhost:8080/"
        }
      },
      "outputs": [
        {
          "output_type": "stream",
          "name": "stdout",
          "text": [
            "torch.Size([50, 784])\n",
            "torch.Size([50])\n",
            "torch.Size([10, 50])\n",
            "torch.Size([10])\n"
          ]
        }
      ],
      "source": [
        "for p in module.parameters():\n",
        "    print(p.shape)"
      ]
    },
    {
      "cell_type": "markdown",
      "metadata": {
        "id": "6n2kC_D5AUYr"
      },
      "source": [
        "#### Registering modules"
      ]
    },
    {
      "cell_type": "code",
      "execution_count": 34,
      "metadata": {
        "id": "VxVSbI6uAUYs"
      },
      "outputs": [],
      "source": [
        "from functools import reduce"
      ]
    },
    {
      "cell_type": "code",
      "execution_count": 35,
      "metadata": {
        "id": "wtNuItz8AUYs"
      },
      "outputs": [],
      "source": [
        "class Model(nn.Module):\n",
        "    def __init__(self, layers):\n",
        "        super().__init__()\n",
        "        self.layers=layers\n",
        "        for i, l in enumerate(self.layers):\n",
        "            self.add_module(f\"layer_{i}\", l)\n",
        "    def forward(self, x):\n",
        "        return reduce(lambda val, layer: layer(val), self.layers, x)"
      ]
    },
    {
      "cell_type": "code",
      "execution_count": 36,
      "metadata": {
        "id": "Go3yU2w2AUYs",
        "outputId": "b1aba1c4-ceaa-40f7-9b92-2b3a6d0963b8",
        "colab": {
          "base_uri": "https://localhost:8080/"
        }
      },
      "outputs": [
        {
          "output_type": "execute_result",
          "data": {
            "text/plain": [
              "Model(\n",
              "  (layer_0): Linear(in_features=784, out_features=50, bias=True)\n",
              "  (layer_1): ReLU()\n",
              "  (layer_2): Linear(in_features=50, out_features=10, bias=True)\n",
              ")"
            ]
          },
          "metadata": {},
          "execution_count": 36
        }
      ],
      "source": [
        "layers = [nn.Linear(m, nh), nn.ReLU(), nn.Linear(nh, 10)]\n",
        "model = Model(layers)\n",
        "model"
      ]
    },
    {
      "cell_type": "code",
      "execution_count": 37,
      "metadata": {
        "id": "CPqgK9kMAUYs",
        "outputId": "389e79a1-3529-4828-c9f1-8a215278758f",
        "colab": {
          "base_uri": "https://localhost:8080/"
        }
      },
      "outputs": [
        {
          "output_type": "execute_result",
          "data": {
            "text/plain": [
              "torch.Size([50, 10])"
            ]
          },
          "metadata": {},
          "execution_count": 37
        }
      ],
      "source": [
        "model(xb).shape"
      ]
    },
    {
      "cell_type": "markdown",
      "metadata": {
        "id": "6-pdsdHRAUYs"
      },
      "source": [
        "#### nn.ModuleList"
      ]
    },
    {
      "cell_type": "code",
      "execution_count": 38,
      "metadata": {
        "id": "46otUfc8AUYt"
      },
      "outputs": [],
      "source": [
        "class SequentialModel(nn.Module):\n",
        "    def __init__(self, layers):\n",
        "        super().__init__()\n",
        "        self.layers = nn.ModuleList(layers)\n",
        "    def forward(self, x):\n",
        "        for l in self.layers:\n",
        "            x = l(x)\n",
        "        return x"
      ]
    },
    {
      "cell_type": "code",
      "execution_count": 39,
      "metadata": {
        "id": "4wMOMUORAUYt",
        "outputId": "9206508c-f661-4f1a-d7f6-29875b6db285",
        "colab": {
          "base_uri": "https://localhost:8080/"
        }
      },
      "outputs": [
        {
          "output_type": "execute_result",
          "data": {
            "text/plain": [
              "SequentialModel(\n",
              "  (layers): ModuleList(\n",
              "    (0): Linear(in_features=784, out_features=50, bias=True)\n",
              "    (1): ReLU()\n",
              "    (2): Linear(in_features=50, out_features=10, bias=True)\n",
              "  )\n",
              ")"
            ]
          },
          "metadata": {},
          "execution_count": 39
        }
      ],
      "source": [
        "model = SequentialModel(layers)\n",
        "model"
      ]
    },
    {
      "cell_type": "code",
      "execution_count": 40,
      "metadata": {
        "id": "ckksUOYuAUYt",
        "outputId": "1371fb5f-8d7a-4358-bf76-329d31af9f9f",
        "colab": {
          "base_uri": "https://localhost:8080/"
        }
      },
      "outputs": [
        {
          "output_type": "stream",
          "name": "stdout",
          "text": [
            "loss: 0.13, accuracy: 0.96\n",
            "loss: 0.10, accuracy: 0.96\n",
            "loss: 0.05, accuracy: 0.98\n"
          ]
        }
      ],
      "source": [
        "fit()"
      ]
    },
    {
      "cell_type": "markdown",
      "metadata": {
        "id": "t-UapvopAUYt"
      },
      "source": [
        "#### nn.Sequential"
      ]
    },
    {
      "cell_type": "code",
      "execution_count": 41,
      "metadata": {
        "id": "XWXQalbcAUYt",
        "outputId": "a4faa828-8730-4456-dc3b-384f96fed3e1",
        "colab": {
          "base_uri": "https://localhost:8080/"
        }
      },
      "outputs": [
        {
          "output_type": "execute_result",
          "data": {
            "text/plain": [
              "Sequential(\n",
              "  (0): Linear(in_features=784, out_features=50, bias=True)\n",
              "  (1): ReLU()\n",
              "  (2): Linear(in_features=50, out_features=10, bias=True)\n",
              ")"
            ]
          },
          "metadata": {},
          "execution_count": 41
        }
      ],
      "source": [
        "model = nn.Sequential(nn.Linear(m, nh), nn.ReLU(), nn.Linear(nh, 10))\n",
        "model"
      ]
    },
    {
      "cell_type": "code",
      "execution_count": 42,
      "metadata": {
        "id": "jAm3ExQ9AUYu",
        "outputId": "d1bd13e7-9a27-46c9-dd70-6b87cb4f163e",
        "colab": {
          "base_uri": "https://localhost:8080/"
        }
      },
      "outputs": [
        {
          "output_type": "stream",
          "name": "stdout",
          "text": [
            "loss: 0.11, accuracy: 0.96\n",
            "loss: 0.08, accuracy: 0.98\n",
            "loss: 0.06, accuracy: 0.98\n"
          ]
        }
      ],
      "source": [
        "fit()"
      ]
    },
    {
      "cell_type": "markdown",
      "metadata": {
        "id": "cG5Jd-iGAUYu"
      },
      "source": [
        "#### Optim"
      ]
    },
    {
      "cell_type": "code",
      "execution_count": 43,
      "metadata": {
        "id": "rwjSPS5vAUYu"
      },
      "outputs": [],
      "source": [
        "class Optimizer():\n",
        "    def __init__(self, params, lr=0.5):\n",
        "        self. params = list(params)\n",
        "        self.lr = lr\n",
        "\n",
        "    def step(self):\n",
        "        with torch.no_grad():\n",
        "            for p in self.params:\n",
        "                p -= p.grad * self.lr   \n",
        "    \n",
        "    def zero_grad(self):\n",
        "        for p in self.params:\n",
        "            p.grad.zero_()   "
      ]
    },
    {
      "cell_type": "code",
      "execution_count": 44,
      "metadata": {
        "id": "b5h9AUMpAUYu",
        "outputId": "a8212054-8470-4492-ea37-a37f369f6b8e",
        "colab": {
          "base_uri": "https://localhost:8080/"
        }
      },
      "outputs": [
        {
          "output_type": "execute_result",
          "data": {
            "text/plain": [
              "tensor(2.29, grad_fn=<NllLossBackward0>)"
            ]
          },
          "metadata": {},
          "execution_count": 44
        }
      ],
      "source": [
        "model = nn.Sequential(nn.Linear(m, nh), nn.ReLU(), nn.Linear(nh, 10))\n",
        "opt = Optimizer(model.parameters())\n",
        "loss_fn(model(xb), yb)"
      ]
    },
    {
      "cell_type": "code",
      "execution_count": 45,
      "metadata": {
        "id": "hsTIJlzJAUYv",
        "outputId": "56f621e7-80ee-4d59-e888-5ebd54480d56",
        "colab": {
          "base_uri": "https://localhost:8080/"
        }
      },
      "outputs": [
        {
          "output_type": "stream",
          "name": "stdout",
          "text": [
            "loss: 0.15, accuracy: 0.94\n",
            "loss: 0.08, accuracy: 0.96\n",
            "loss: 0.08, accuracy: 0.96\n"
          ]
        }
      ],
      "source": [
        "for epoch in range(epochs):\n",
        "    for i in range(0, n, bs):\n",
        "        s = slice(i, min(n, bs+i))\n",
        "        xb, yb = x_train[s], y_train[s]\n",
        "        preds = model(xb)\n",
        "        loss = loss_fn(preds, yb)\n",
        "        loss.backward()\n",
        "        opt.step()\n",
        "        opt.zero_grad()               \n",
        "    accuracy = acc(preds, yb)\n",
        "    report(loss, accuracy)"
      ]
    },
    {
      "cell_type": "code",
      "execution_count": 46,
      "metadata": {
        "id": "pLGICJnaAUYv"
      },
      "outputs": [],
      "source": [
        "from torch import optim"
      ]
    },
    {
      "cell_type": "code",
      "execution_count": 47,
      "metadata": {
        "id": "tQsuds6YAUYv",
        "outputId": "fb4c15b9-9636-45fc-8900-54acc6fdbca9",
        "colab": {
          "base_uri": "https://localhost:8080/"
        }
      },
      "outputs": [
        {
          "output_type": "execute_result",
          "data": {
            "text/plain": [
              "tensor(2.28, grad_fn=<NllLossBackward0>)"
            ]
          },
          "metadata": {},
          "execution_count": 47
        }
      ],
      "source": [
        "model = nn.Sequential(nn.Linear(m, nh), nn.ReLU(), nn.Linear(nh, 10))\n",
        "opt = optim.SGD(model.parameters(), lr=lr) \n",
        "loss_fn(model(xb), yb)"
      ]
    },
    {
      "cell_type": "code",
      "execution_count": 48,
      "metadata": {
        "id": "jt_pRO-8AUYv",
        "outputId": "c25c4eff-6234-4153-ce44-9d81a37f9642",
        "colab": {
          "base_uri": "https://localhost:8080/"
        }
      },
      "outputs": [
        {
          "output_type": "stream",
          "name": "stdout",
          "text": [
            "loss: 0.16, accuracy: 0.96\n",
            "loss: 0.11, accuracy: 0.96\n",
            "loss: 0.05, accuracy: 0.98\n"
          ]
        }
      ],
      "source": [
        "for epoch in range(epochs):\n",
        "    for i in range(0, n, bs):\n",
        "        s = slice(i, min(n, bs+i))\n",
        "        xb, yb = x_train[s], y_train[s]\n",
        "        preds = model(xb)\n",
        "        loss = loss_fn(preds, yb)\n",
        "        loss.backward()\n",
        "        opt.step()\n",
        "        opt.zero_grad()               \n",
        "    accuracy = acc(preds, yb)\n",
        "    report(loss, accuracy)"
      ]
    },
    {
      "cell_type": "markdown",
      "metadata": {
        "id": "IdmRbn_BAUYw"
      },
      "source": [
        "### Dataset and DataLoader"
      ]
    },
    {
      "cell_type": "markdown",
      "metadata": {
        "id": "ENx32GVaAUYw"
      },
      "source": [
        "#### Dataset"
      ]
    },
    {
      "cell_type": "code",
      "execution_count": 49,
      "metadata": {
        "id": "NYhVSX4iAUYw"
      },
      "outputs": [],
      "source": [
        "class Dataset():\n",
        "    def __init__(self, x, y):\n",
        "        self.x = x\n",
        "        self.y = y\n",
        "    def __len__(self):\n",
        "        return len(self.x)\n",
        "    def __getitem__(self, idx):\n",
        "        return self.x[idx], self.y[idx]"
      ]
    },
    {
      "cell_type": "code",
      "execution_count": 50,
      "metadata": {
        "id": "O1aFM1DKAUYw",
        "outputId": "111435dd-c493-4fac-c63c-8c27950b156f",
        "colab": {
          "base_uri": "https://localhost:8080/"
        }
      },
      "outputs": [
        {
          "output_type": "execute_result",
          "data": {
            "text/plain": [
              "(torch.Size([5, 784]), torch.Size([5]))"
            ]
          },
          "metadata": {},
          "execution_count": 50
        }
      ],
      "source": [
        "train_ds = Dataset(x_train, y_train)\n",
        "valid_ds = Dataset(x_valid, y_valid)\n",
        "xb, yb = train_ds[:5]\n",
        "xb.shape, yb.shape"
      ]
    },
    {
      "cell_type": "code",
      "execution_count": 51,
      "metadata": {
        "id": "3MNIyKxeAUYw"
      },
      "outputs": [],
      "source": [
        "model = nn.Sequential(nn.Linear(m, nh), nn.ReLU(), nn.Linear(nh, 10))\n",
        "opt = optim.SGD(model.parameters(), lr=lr)"
      ]
    },
    {
      "cell_type": "code",
      "execution_count": 52,
      "metadata": {
        "id": "KJEcntZZAUYx",
        "outputId": "4c18b4a8-ec1b-4edf-a978-8830a3d7ef92",
        "colab": {
          "base_uri": "https://localhost:8080/"
        }
      },
      "outputs": [
        {
          "output_type": "stream",
          "name": "stdout",
          "text": [
            "loss: 0.14, accuracy: 0.92\n",
            "loss: 0.11, accuracy: 0.96\n",
            "loss: 0.07, accuracy: 0.98\n"
          ]
        }
      ],
      "source": [
        "for epoch in range(epochs):\n",
        "    for i in range(0, n, bs):\n",
        "        s = slice(i, min(n, bs+i))\n",
        "        xb, yb = train_ds[s]\n",
        "        preds = model(xb)\n",
        "        loss = loss_fn(preds, yb)\n",
        "        loss.backward()\n",
        "        opt.step()\n",
        "        opt.zero_grad()               \n",
        "    accuracy = acc(preds, yb)\n",
        "    report(loss, accuracy)"
      ]
    },
    {
      "cell_type": "markdown",
      "metadata": {
        "id": "8uAp6UIjAUYx"
      },
      "source": [
        "#### DataLoader"
      ]
    },
    {
      "cell_type": "code",
      "execution_count": 53,
      "metadata": {
        "id": "c2lJoBLLAUYx"
      },
      "outputs": [],
      "source": [
        "class DataLoader():\n",
        "    def __init__(self, ds, bs):\n",
        "        self.ds = ds\n",
        "        self.bs = bs\n",
        "    def __iter__(self):\n",
        "        for i in range(0, len(self.ds), self.bs):\n",
        "            s = slice(i, min(len(self.ds), self.bs+i))\n",
        "            yield self.ds[s]"
      ]
    },
    {
      "cell_type": "code",
      "execution_count": 54,
      "metadata": {
        "id": "SB4ptESQAUYx"
      },
      "outputs": [],
      "source": [
        "train_dl = DataLoader(train_ds, bs)\n",
        "valid_dl = DataLoader(valid_ds, bs)"
      ]
    },
    {
      "cell_type": "code",
      "execution_count": 55,
      "metadata": {
        "id": "2rHWEidLAUYx",
        "outputId": "4b186f82-741c-4a75-da8b-5f1a9e9539b3",
        "colab": {
          "base_uri": "https://localhost:8080/"
        }
      },
      "outputs": [
        {
          "output_type": "execute_result",
          "data": {
            "text/plain": [
              "(torch.Size([50, 784]), torch.Size([50]))"
            ]
          },
          "metadata": {},
          "execution_count": 55
        }
      ],
      "source": [
        "xb, yb = next(iter(train_dl))\n",
        "xb.shape, yb.shape"
      ]
    },
    {
      "cell_type": "code",
      "execution_count": 56,
      "metadata": {
        "id": "keUaMxcOAUYx"
      },
      "outputs": [],
      "source": [
        "def get_model():\n",
        "    model = nn.Sequential(nn.Linear(m, nh), nn.ReLU(), nn.Linear(nh, 10))\n",
        "    opt = optim.SGD(model.parameters(), lr=lr)\n",
        "    return model, opt\n",
        "\n",
        "def fit():\n",
        "    for epoch in range(epochs):\n",
        "        for xb, yb in train_dl:\n",
        "            preds = model(xb)\n",
        "            loss = loss_fn(preds, yb)\n",
        "            loss.backward()\n",
        "            opt.step()\n",
        "            opt.zero_grad()               \n",
        "        accuracy = acc(preds, yb)\n",
        "        report(loss, accuracy)"
      ]
    },
    {
      "cell_type": "code",
      "execution_count": 57,
      "metadata": {
        "id": "caxTe8o6AUYy",
        "outputId": "898e428e-c7f7-4c04-92d9-a70fccbbe13b",
        "colab": {
          "base_uri": "https://localhost:8080/"
        }
      },
      "outputs": [
        {
          "output_type": "stream",
          "name": "stdout",
          "text": [
            "loss: 0.10, accuracy: 0.98\n",
            "loss: 0.08, accuracy: 0.96\n",
            "loss: 0.07, accuracy: 0.98\n"
          ]
        }
      ],
      "source": [
        "model, opt = get_model()\n",
        "fit()"
      ]
    },
    {
      "cell_type": "markdown",
      "metadata": {
        "id": "xM6VNOw-AUYy"
      },
      "source": [
        "### Random sampling"
      ]
    },
    {
      "cell_type": "code",
      "execution_count": 58,
      "metadata": {
        "id": "aBIx5yGmAUYy"
      },
      "outputs": [],
      "source": [
        "import random"
      ]
    },
    {
      "cell_type": "code",
      "execution_count": 59,
      "metadata": {
        "id": "8MzWNTiPAUYy"
      },
      "outputs": [],
      "source": [
        "class Sampler():\n",
        "    def __init__(self, ds, shuffle=False):\n",
        "        self.n = len(ds)\n",
        "        self.shuffle = shuffle\n",
        "    def __iter__(self):\n",
        "        res = list(range(self.n))\n",
        "        if self.shuffle:\n",
        "            random.shuffle(res)\n",
        "        return iter(res)"
      ]
    },
    {
      "cell_type": "code",
      "execution_count": 60,
      "metadata": {
        "id": "lgHOtaNkAUYy",
        "outputId": "98fcb4b2-9709-46da-bfe5-86a83c0f3be7",
        "colab": {
          "base_uri": "https://localhost:8080/"
        }
      },
      "outputs": [
        {
          "output_type": "stream",
          "name": "stdout",
          "text": [
            "0\n",
            "1\n",
            "2\n",
            "3\n",
            "4\n"
          ]
        }
      ],
      "source": [
        "ss = Sampler(train_ds)\n",
        "it = iter(ss)\n",
        "for o in range(5):\n",
        "    print(next(it))"
      ]
    },
    {
      "cell_type": "code",
      "execution_count": 61,
      "metadata": {
        "id": "HwsMZU_fAUYz",
        "outputId": "149e78b0-01f3-4e6b-99fb-86d7914df54d",
        "colab": {
          "base_uri": "https://localhost:8080/"
        }
      },
      "outputs": [
        {
          "output_type": "stream",
          "name": "stdout",
          "text": [
            "11456\n",
            "19852\n",
            "31134\n",
            "20566\n",
            "4760\n"
          ]
        }
      ],
      "source": [
        "ss = Sampler(train_ds, shuffle=True)\n",
        "it = iter(ss)\n",
        "for o in range(5):\n",
        "    print(next(it))"
      ]
    },
    {
      "cell_type": "code",
      "execution_count": 62,
      "metadata": {
        "id": "ayyZGUghAUYz"
      },
      "outputs": [],
      "source": [
        "import fastcore.all as fc"
      ]
    },
    {
      "cell_type": "code",
      "execution_count": 63,
      "metadata": {
        "id": "GDPXpKrWAUYz"
      },
      "outputs": [],
      "source": [
        "class BatchSampler():\n",
        "    def __init__(self, sampler, bs, drop_last=False):\n",
        "        fc.store_attr()\n",
        "    def __iter__(self):\n",
        "        yield from fc.chunked(iter(self.sampler), self.bs, drop_last=self.drop_last)"
      ]
    },
    {
      "cell_type": "code",
      "execution_count": 64,
      "metadata": {
        "id": "1oTwLqPdAUYz",
        "outputId": "a949a21f-5569-4659-bbe0-9dd46242aa26",
        "colab": {
          "base_uri": "https://localhost:8080/"
        }
      },
      "outputs": [
        {
          "output_type": "stream",
          "name": "stdout",
          "text": [
            "[46618, 42582, 14713, 39372]\n",
            "[24961, 39588, 39233, 19438]\n",
            "[25573, 19300, 31789, 45526]\n",
            "[31469, 24219, 9126, 11370]\n",
            "[5340, 13704, 35446, 11529]\n"
          ]
        }
      ],
      "source": [
        "batchs = BatchSampler(ss, 4)\n",
        "it = iter(batchs)\n",
        "for o in range(5):\n",
        "    print(next(it))"
      ]
    },
    {
      "cell_type": "code",
      "execution_count": 65,
      "metadata": {
        "id": "9_zWzDQFAUYz"
      },
      "outputs": [],
      "source": [
        "def collate(b):\n",
        "    xs, ys = zip(*b)\n",
        "    return torch.stack(xs), torch.stack(ys)"
      ]
    },
    {
      "cell_type": "code",
      "execution_count": 66,
      "metadata": {
        "id": "zFQKYGEmAUY0"
      },
      "outputs": [],
      "source": [
        "class DataLoader():\n",
        "    def __init__(self, ds, batchs, collate_fn=collate):\n",
        "        fc.store_attr()\n",
        "    def __iter__(self):\n",
        "            yield from (self.collate_fn(self.ds[i] for i in b) for b in self.batchs)"
      ]
    },
    {
      "cell_type": "code",
      "execution_count": 67,
      "metadata": {
        "id": "620fB27hAUY0"
      },
      "outputs": [],
      "source": [
        "train_samp = BatchSampler(Sampler(train_ds, shuffle=True), bs)\n",
        "valid_samp = BatchSampler(Sampler(valid_ds, shuffle=False), bs)"
      ]
    },
    {
      "cell_type": "code",
      "execution_count": 68,
      "metadata": {
        "id": "WrfSpuYDAUY0"
      },
      "outputs": [],
      "source": [
        "train_dl = DataLoader(train_ds, train_samp)\n",
        "valid_dl = DataLoader(valid_ds, valid_samp)"
      ]
    },
    {
      "cell_type": "code",
      "execution_count": 69,
      "metadata": {
        "id": "bMM1VOM3AUY0",
        "outputId": "1090bf81-86b9-4509-8d81-b144e00e408b",
        "colab": {
          "base_uri": "https://localhost:8080/",
          "height": 282
        }
      },
      "outputs": [
        {
          "output_type": "execute_result",
          "data": {
            "text/plain": [
              "tensor(4)"
            ]
          },
          "metadata": {},
          "execution_count": 69
        },
        {
          "output_type": "display_data",
          "data": {
            "text/plain": [
              "<Figure size 432x288 with 1 Axes>"
            ],
            "image/png": "[encoded data removed]"
          },
          "metadata": {
            "needs_background": "light"
          }
        }
      ],
      "source": [
        "import matplotlib.pyplot as plt\n",
        "\n",
        "xb, yb = next(iter(train_dl))\n",
        "plt.imshow(xb[0].view(28,28))\n",
        "yb[0]"
      ]
    },
    {
      "cell_type": "code",
      "execution_count": 70,
      "metadata": {
        "id": "dHqJHDC8AUY0",
        "outputId": "1d8cb3f3-3a3c-41a2-f05f-9eb57bf5725f",
        "colab": {
          "base_uri": "https://localhost:8080/"
        }
      },
      "outputs": [
        {
          "output_type": "execute_result",
          "data": {
            "text/plain": [
              "(torch.Size([50, 784]), torch.Size([50]))"
            ]
          },
          "metadata": {},
          "execution_count": 70
        }
      ],
      "source": [
        "xb.shape, yb.shape"
      ]
    },
    {
      "cell_type": "code",
      "execution_count": 71,
      "metadata": {
        "id": "pTz_ir8BAUY1",
        "outputId": "814aae28-4385-45a2-db37-768f811231a2",
        "colab": {
          "base_uri": "https://localhost:8080/"
        }
      },
      "outputs": [
        {
          "output_type": "stream",
          "name": "stdout",
          "text": [
            "loss: 0.20, accuracy: 0.96\n",
            "loss: 0.12, accuracy: 0.96\n",
            "loss: 0.05, accuracy: 0.98\n"
          ]
        }
      ],
      "source": [
        "model, opt = get_model()\n",
        "fit()"
      ]
    },
    {
      "cell_type": "markdown",
      "metadata": {
        "id": "ugEeHSOQAUY1"
      },
      "source": [
        "### Multiprocessing DataLoader"
      ]
    },
    {
      "cell_type": "code",
      "execution_count": 72,
      "metadata": {
        "id": "naLgSrlqAUY1"
      },
      "outputs": [],
      "source": [
        "import torch.multiprocessing as mp"
      ]
    },
    {
      "cell_type": "code",
      "execution_count": 73,
      "metadata": {
        "id": "Kmh0vihCAUY1",
        "outputId": "fbc41828-932b-4837-a9f2-109d98f16b27",
        "colab": {
          "base_uri": "https://localhost:8080/"
        }
      },
      "outputs": [
        {
          "output_type": "execute_result",
          "data": {
            "text/plain": [
              "(tensor([[0., 0., 0.,  ..., 0., 0., 0.],\n",
              "         [0., 0., 0.,  ..., 0., 0., 0.],\n",
              "         [0., 0., 0.,  ..., 0., 0., 0.],\n",
              "         [0., 0., 0.,  ..., 0., 0., 0.]]), tensor([9, 2, 1, 3]))"
            ]
          },
          "metadata": {},
          "execution_count": 73
        }
      ],
      "source": [
        "train_ds[[4,5,6,7]]"
      ]
    },
    {
      "cell_type": "code",
      "execution_count": 74,
      "metadata": {
        "id": "vPgmPOOQAUY1",
        "outputId": "55ae8b9b-95fe-4761-d0ff-aa54ed8201a7",
        "colab": {
          "base_uri": "https://localhost:8080/"
        }
      },
      "outputs": [
        {
          "output_type": "execute_result",
          "data": {
            "text/plain": [
              "(tensor([[0., 0., 0.,  ..., 0., 0., 0.],\n",
              "         [0., 0., 0.,  ..., 0., 0., 0.],\n",
              "         [0., 0., 0.,  ..., 0., 0., 0.],\n",
              "         [0., 0., 0.,  ..., 0., 0., 0.]]), tensor([9, 2, 1, 3]))"
            ]
          },
          "metadata": {},
          "execution_count": 74
        }
      ],
      "source": [
        "train_ds.__getitem__([4,5,6,7])"
      ]
    },
    {
      "cell_type": "code",
      "execution_count": 75,
      "metadata": {
        "id": "zD6C0Df7AUY1",
        "outputId": "eba32f2f-c13e-47f0-90ca-8146f5bf17da",
        "colab": {
          "base_uri": "https://localhost:8080/"
        }
      },
      "outputs": [
        {
          "output_type": "stream",
          "name": "stdout",
          "text": [
            "(tensor([[0., 0., 0.,  ..., 0., 0., 0.],\n",
            "        [0., 0., 0.,  ..., 0., 0., 0.]]), tensor([9, 2]))\n",
            "(tensor([[0., 0., 0.,  ..., 0., 0., 0.],\n",
            "        [0., 0., 0.,  ..., 0., 0., 0.]]), tensor([1, 3]))\n"
          ]
        }
      ],
      "source": [
        "for o in map(train_ds.__getitem__, ([4,5],[6,7])):\n",
        "    print(o)"
      ]
    },
    {
      "cell_type": "code",
      "execution_count": 76,
      "metadata": {
        "id": "mw0c0IF-AUY2"
      },
      "outputs": [],
      "source": [
        "class DataLoader():\n",
        "    def __init__(self, ds, batchs, n_workers=1, collate_fn=collate):\n",
        "        fc.store_attr()\n",
        "    def __iter__(self):\n",
        "        with mp.Pool(self.n_workers) as ex:\n",
        "            yield from ex.map(self.ds.__getitem__, iter(self.batchs))"
      ]
    },
    {
      "cell_type": "code",
      "execution_count": 77,
      "metadata": {
        "id": "Y1wDewybAUY2"
      },
      "outputs": [],
      "source": [
        "train_dl = DataLoader(train_ds, batchs=train_samp, n_workers=2)\n",
        "it = iter(train_dl)"
      ]
    },
    {
      "cell_type": "code",
      "execution_count": 78,
      "metadata": {
        "id": "IYMMFabPAUY2",
        "outputId": "4cc09662-a84f-4f69-ee8e-0befb04154af",
        "colab": {
          "base_uri": "https://localhost:8080/"
        }
      },
      "outputs": [
        {
          "output_type": "execute_result",
          "data": {
            "text/plain": [
              "(torch.Size([50, 784]), torch.Size([50]))"
            ]
          },
          "metadata": {},
          "execution_count": 78
        }
      ],
      "source": [
        "xb, yb = next(it)\n",
        "xb.shape, yb.shape"
      ]
    }
  ],
  "metadata": {
    "colab": {
      "provenance": [],
      "include_colab_link": true
    },
    "kernelspec": {
      "display_name": "Python 3 (ipykernel)",
      "language": "python",
      "name": "python3"
    },
    "language_info": {
      "codemirror_mode": {
        "name": "ipython",
        "version": 3
      },
      "file_extension": ".py",
      "mimetype": "text/x-python",
      "name": "python",
      "nbconvert_exporter": "python",
      "pygments_lexer": "ipython3",
      "version": "3.8.10"
    },
    "vscode": {
      "interpreter": {
        "hash": "916dbcbb3f70747c44a77c7bcd40155683ae19c65e1c03b4aa3499c5328201f1"
      }
    }
  },
  "nbformat": 4,
  "nbformat_minor": 0
}